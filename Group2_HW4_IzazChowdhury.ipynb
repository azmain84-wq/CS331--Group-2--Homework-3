{
    "metadata": {
        "kernelspec": {
            "name": "SQL",
            "display_name": "SQL",
            "language": "sql"
        },
        "language_info": {
            "name": "sql",
            "version": ""
        }
    },
    "nbformat_minor": 2,
    "nbformat": 4,
    "cells": [
        {
            "cell_type": "markdown",
            "source": [
                "<span style=\"caret-color: rgb(0, 0, 0); color: rgb(0, 0, 0); font-family: -webkit-standard; font-size: medium;\">1. Find customers who have placed more orders than the average customer.</span>"
            ],
            "metadata": {
                "azdata_cell_guid": "310fc26a-a905-4ad6-b8a7-42b864da030d"
            },
            "attachments": {}
        },
        {
            "cell_type": "code",
            "source": [
                "SELECT c.CustomerName, COUNT(o.OrderID) AS TotalOrders\n",
                "FROM Sales.Customers AS c\n",
                "JOIN Sales.Orders AS o\n",
                "    ON c.CustomerID = o.CustomerID\n",
                "GROUP BY c.CustomerName\n",
                "HAVING COUNT(o.OrderID) > (\n",
                "    SELECT AVG(OrderCount)\n",
                "    FROM (\n",
                "        SELECT COUNT(o2.OrderID) AS OrderCount\n",
                "        FROM Sales.Orders AS o2\n",
                "        GROUP BY o2.CustomerID\n",
                "    ) AS Sub\n",
                ");\n",
                ""
            ],
            "metadata": {
                "azdata_cell_guid": "1d4cef0c-3e1d-4792-be25-066e53cb6cb4",
                "language": "sql"
            },
            "outputs": [],
            "execution_count": null
        },
        {
            "cell_type": "markdown",
            "source": [
                "2. <span style=\"caret-color: rgb(0, 0, 0); color: rgb(0, 0, 0); font-family: -webkit-standard; font-size: medium;\">List the top 10 most expensive products, along with the average price of all products for comparison.</span>"
            ],
            "metadata": {
                "azdata_cell_guid": "3eb46f40-3b5f-48bb-bada-2f6ec1649234"
            },
            "attachments": {}
        },
        {
            "cell_type": "code",
            "source": [
                "SELECT TOP 10 \n",
                "    si.StockItemName, \n",
                "    si.UnitPrice, \n",
                "    (SELECT AVG(UnitPrice) FROM Warehouse.StockItems) AS AvgPrice\n",
                "FROM Warehouse.StockItems AS si\n",
                "ORDER BY si.UnitPrice DESC;\n",
                ""
            ],
            "metadata": {
                "azdata_cell_guid": "eb5a6cdb-2b16-4a1b-a556-59a0cda43072",
                "language": "sql"
            },
            "outputs": [],
            "execution_count": null
        },
        {
            "cell_type": "markdown",
            "source": [
                "3. <span style=\"caret-color: rgb(0, 0, 0); color: rgb(0, 0, 0); font-family: -webkit-standard; font-size: medium;\">Find all customers who have ordered at least one product with a price higher than $100.</span>"
            ],
            "metadata": {
                "azdata_cell_guid": "9125cb4e-70c4-42d7-a53b-c791a2524a07"
            },
            "attachments": {}
        },
        {
            "cell_type": "code",
            "source": [
                "SELECT DISTINCT c.CustomerName\n",
                "FROM Sales.Customers AS c\n",
                "WHERE c.CustomerID IN (\n",
                "    SELECT o.CustomerID\n",
                "    FROM Sales.Orders AS o\n",
                "    JOIN Sales.OrderLines AS ol\n",
                "        ON o.OrderID = ol.OrderID\n",
                "    WHERE ol.UnitPrice > 100\n",
                ");\n",
                ""
            ],
            "metadata": {
                "azdata_cell_guid": "ba49040d-ca38-4dd4-9ec9-c1fede6bc510",
                "language": "sql"
            },
            "outputs": [],
            "execution_count": null
        },
        {
            "cell_type": "markdown",
            "source": [
                "4. <span style=\"caret-color: rgb(0, 0, 0); color: rgb(0, 0, 0); font-family: -webkit-standard; font-size: medium;\">Show suppliers who provide more than the average number of products.</span>"
            ],
            "metadata": {
                "azdata_cell_guid": "df2b82cb-6a2f-4547-a338-db48cf7a8a2f"
            },
            "attachments": {}
        },
        {
            "cell_type": "code",
            "source": [
                "SELECT s.SupplierName, COUNT(si.StockItemID) AS TotalProducts\n",
                "FROM Purchasing.Suppliers AS s\n",
                "JOIN Warehouse.StockItems AS si\n",
                "    ON s.SupplierID = si.SupplierID\n",
                "GROUP BY s.SupplierName\n",
                "HAVING COUNT(si.StockItemID) > (\n",
                "    SELECT AVG(ProductCount)\n",
                "    FROM (\n",
                "        SELECT COUNT(si2.StockItemID) AS ProductCount\n",
                "        FROM Warehouse.StockItems AS si2\n",
                "        GROUP BY si2.SupplierID\n",
                "    ) AS Sub\n",
                ");\n",
                ""
            ],
            "metadata": {
                "azdata_cell_guid": "dbb91fb4-39b7-4fd0-89b2-6bd264c1ecc7",
                "language": "sql"
            },
            "outputs": [],
            "execution_count": null
        },
        {
            "cell_type": "markdown",
            "source": [
                "5. <span style=\"caret-color: rgb(0, 0, 0); color: rgb(0, 0, 0); font-family: -webkit-standard; font-size: medium;\">List the top 10 customers who spent the most money in total.</span>"
            ],
            "metadata": {
                "azdata_cell_guid": "582e17e5-f6a7-4372-a8c6-f4325503f9b8"
            },
            "attachments": {}
        },
        {
            "cell_type": "code",
            "source": [
                "SELECT TOP 10 \n",
                "    c.CustomerName, \n",
                "    SUM(ol.UnitPrice * ol.Quantity) AS TotalSpent\n",
                "FROM Sales.Customers AS c\n",
                "JOIN Sales.Orders AS o\n",
                "    ON c.CustomerID = o.CustomerID\n",
                "JOIN Sales.OrderLines AS ol\n",
                "    ON o.OrderID = ol.OrderID\n",
                "GROUP BY c.CustomerName\n",
                "ORDER BY TotalSpent DESC;\n",
                ""
            ],
            "metadata": {
                "azdata_cell_guid": "1d060213-db63-4635-93cc-1bdbe11a4a09",
                "language": "sql"
            },
            "outputs": [],
            "execution_count": null
        },
        {
            "cell_type": "markdown",
            "source": [
                "6. **Find employees who handled more orders than the company-wide average.**"
            ],
            "metadata": {
                "azdata_cell_guid": "c378bbca-8098-445a-928e-ec98820a178f"
            },
            "attachments": {}
        },
        {
            "cell_type": "code",
            "source": [
                "SELECT e.FullName, COUNT(o.OrderID) AS OrdersHandled\n",
                "FROM Application.People AS e\n",
                "JOIN Sales.Orders AS o\n",
                "    ON e.PersonID = o.SalespersonPersonID\n",
                "GROUP BY e.FullName\n",
                "HAVING COUNT(o.OrderID) > (\n",
                "    SELECT AVG(OrderCount)\n",
                "    FROM (\n",
                "        SELECT COUNT(o2.OrderID) AS OrderCount\n",
                "        FROM Sales.Orders AS o2\n",
                "        GROUP BY o2.SalespersonPersonID\n",
                "    ) AS Sub\n",
                ");\n",
                ""
            ],
            "metadata": {
                "azdata_cell_guid": "16747d76-bd72-4e9b-adb0-ce8d1ab4f2af",
                "language": "sql"
            },
            "outputs": [],
            "execution_count": null
        },
        {
            "cell_type": "markdown",
            "source": [
                "7. <span style=\"caret-color: rgb(0, 0, 0); color: rgb(0, 0, 0); font-family: -webkit-standard; font-size: medium;\">List the top 5 suppliers by the total value of goods they’ve supplied.</span>"
            ],
            "metadata": {
                "azdata_cell_guid": "ca21be89-9ade-4c16-a372-17f208281cc5"
            },
            "attachments": {}
        },
        {
            "cell_type": "code",
            "source": [
                "SELECT TOP 5 \n",
                "    s.SupplierName, \n",
                "    SUM(pol.Quantity * pol.UnitPrice) AS TotalSuppliedValue\n",
                "FROM Purchasing.Suppliers AS s\n",
                "JOIN Purchasing.PurchaseOrders AS po\n",
                "    ON s.SupplierID = po.SupplierID\n",
                "JOIN Purchasing.PurchaseOrderLines AS pol\n",
                "    ON po.PurchaseOrderID = pol.PurchaseOrderID\n",
                "GROUP BY s.SupplierName\n",
                "ORDER BY TotalSuppliedValue DESC;\n",
                ""
            ],
            "metadata": {
                "azdata_cell_guid": "312f049c-838e-47ce-b124-ed33a2b0b939",
                "language": "sql"
            },
            "outputs": [],
            "execution_count": null
        },
        {
            "cell_type": "markdown",
            "source": [
                "8. <span style=\"caret-color: rgb(0, 0, 0); color: rgb(0, 0, 0); font-family: -webkit-standard; font-size: medium;\">Show the top 10 stock items that generated the most sales revenue.</span>"
            ],
            "metadata": {
                "azdata_cell_guid": "998e1434-1b2f-47af-a0cf-0a9c998d795f"
            },
            "attachments": {}
        },
        {
            "cell_type": "code",
            "source": [
                "SELECT TOP 10 \n",
                "    si.StockItemName, \n",
                "    SUM(ol.Quantity * ol.UnitPrice) AS TotalRevenue\n",
                "FROM Warehouse.StockItems AS si\n",
                "JOIN Sales.OrderLines AS ol\n",
                "    ON si.StockItemID = ol.StockItemID\n",
                "GROUP BY si.StockItemName\n",
                "ORDER BY TotalRevenue DESC;\n",
                ""
            ],
            "metadata": {
                "azdata_cell_guid": "d1c4bec9-956a-4058-a137-7af8aaba2b16",
                "language": "sql"
            },
            "outputs": [],
            "execution_count": null
        },
        {
            "cell_type": "markdown",
            "source": [
                "9. <span style=\"caret-color: rgb(0, 0, 0); color: rgb(0, 0, 0); font-family: -webkit-standard; font-size: medium;\">Find customers who placed more orders than the average customer.</span>"
            ],
            "metadata": {
                "azdata_cell_guid": "7e72b736-4d67-4655-8b7f-93f7fefea6df"
            },
            "attachments": {}
        },
        {
            "cell_type": "code",
            "source": [
                "SELECT c.CustomerName, COUNT(o.OrderID) AS TotalOrders\n",
                "FROM Sales.Customers AS c\n",
                "JOIN Sales.Orders AS o\n",
                "    ON c.CustomerID = o.CustomerID\n",
                "GROUP BY c.CustomerName\n",
                "HAVING COUNT(o.OrderID) > (\n",
                "    SELECT AVG(OrderCount)\n",
                "    FROM (\n",
                "        SELECT COUNT(o2.OrderID) AS OrderCount\n",
                "        FROM Sales.Orders AS o2\n",
                "        GROUP BY o2.CustomerID\n",
                "    ) AS Sub\n",
                ")\n",
                "ORDER BY TotalOrders DESC;\n",
                ""
            ],
            "metadata": {
                "azdata_cell_guid": "aa4a5298-89a6-41ff-87c3-2d6e1df868dc",
                "language": "sql"
            },
            "outputs": [],
            "execution_count": null
        },
        {
            "cell_type": "markdown",
            "source": [
                "10. <span style=\"caret-color: rgb(0, 0, 0); color: rgb(0, 0, 0); font-family: -webkit-standard; font-size: medium;\">Show the first 20 invoices along with their customer names and total amounts.</span>"
            ],
            "metadata": {
                "azdata_cell_guid": "60b8d88b-7e9e-41b7-81d3-87f4a091ab65"
            },
            "attachments": {}
        },
        {
            "cell_type": "code",
            "source": [
                "SELECT TOP 20 \n",
                "    i.InvoiceID, \n",
                "    c.CustomerName, \n",
                "    SUM(il.Quantity * il.UnitPrice) AS InvoiceTotal\n",
                "FROM Sales.Invoices AS i\n",
                "JOIN Sales.Customers AS c\n",
                "    ON i.CustomerID = c.CustomerID\n",
                "JOIN Sales.InvoiceLines AS il\n",
                "    ON i.InvoiceID = il.InvoiceID\n",
                "GROUP BY i.InvoiceID, c.CustomerName\n",
                "ORDER BY i.InvoiceID;\n",
                ""
            ],
            "metadata": {
                "azdata_cell_guid": "fe071aa1-5335-47bc-9116-eea508dd19a6",
                "language": "sql"
            },
            "outputs": [],
            "execution_count": null
        }
    ]
}