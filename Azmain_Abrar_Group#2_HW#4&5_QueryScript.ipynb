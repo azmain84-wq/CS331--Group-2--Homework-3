{
    "metadata": {
        "kernelspec": {
            "name": "SQL",
            "display_name": "SQL",
            "language": "sql"
        },
        "language_info": {
            "name": "sql",
            "version": ""
        }
    },
    "nbformat_minor": 2,
    "nbformat": 4,
    "cells": [
        {
            "cell_type": "code",
            "source": [
                "-- Select all stock items priced higher than the company-wide average\r\n",
                "-- 1) ITEMS PRICED ABOVE AVERAGE\r\n",
                "\r\n",
                "SELECT\r\n",
                "    si.StockItemID,         -- show the item ID\r\n",
                "    si.StockItemName,       -- show the item name\r\n",
                "    si.UnitPrice            -- show the item price\r\n",
                "FROM Warehouse.StockItems AS si   -- from the StockItems table\r\n",
                "WHERE si.UnitPrice >              -- keep only items whose price is greater than\r\n",
                "      (SELECT AVG(UnitPrice)      -- the average UnitPrice across all items\r\n",
                "       FROM Warehouse.StockItems) -- subquery computes that overall average\r\n",
                "ORDER BY si.UnitPrice DESC;       -- order results from most to least expensive"
            ],
            "metadata": {
                "azdata_cell_guid": "3f0616c7-a2a7-4575-b989-8c56dac8f46b",
                "language": "sql"
            },
            "outputs": [
                {
                    "output_type": "display_data",
                    "data": {
                        "text/html": "(27 rows affected)"
                    },
                    "metadata": {}
                },
                {
                    "output_type": "display_data",
                    "data": {
                        "text/html": "Total execution time: 00:00:00.022"
                    },
                    "metadata": {}
                },
                {
                    "output_type": "execute_result",
                    "metadata": {},
                    "execution_count": 2,
                    "data": {
                        "application/vnd.dataresource+json": {
                            "schema": {
                                "fields": [
                                    {
                                        "name": "StockItemID"
                                    },
                                    {
                                        "name": "StockItemName"
                                    },
                                    {
                                        "name": "UnitPrice"
                                    }
                                ]
                            },
                            "data": [
                                {
                                    "StockItemID": "215",
                                    "StockItemName": "Air cushion machine (Blue)",
                                    "UnitPrice": "1899.00"
                                },
                                {
                                    "StockItemID": "75",
                                    "StockItemName": "Ride on big wheel monster truck (Black) 1/12 scale",
                                    "UnitPrice": "345.00"
                                },
                                {
                                    "StockItemID": "73",
                                    "StockItemName": "Ride on vintage American toy coupe (Red) 1/12 scale",
                                    "UnitPrice": "285.00"
                                },
                                {
                                    "StockItemID": "74",
                                    "StockItemName": "Ride on vintage American toy coupe (Black) 1/12 scale",
                                    "UnitPrice": "285.00"
                                },
                                {
                                    "StockItemID": "8",
                                    "StockItemName": "USB food flash drive - dim sum 10 drive variety pack",
                                    "UnitPrice": "240.00"
                                },
                                {
                                    "StockItemID": "15",
                                    "StockItemName": "USB food flash drive - dessert 10 drive variety pack",
                                    "UnitPrice": "240.00"
                                },
                                {
                                    "StockItemID": "174",
                                    "StockItemName": "Bubblewrap dispenser (Black) 1.5m",
                                    "UnitPrice": "240.00"
                                },
                                {
                                    "StockItemID": "175",
                                    "StockItemName": "Bubblewrap dispenser (Blue) 1.5m",
                                    "UnitPrice": "240.00"
                                },
                                {
                                    "StockItemID": "176",
                                    "StockItemName": "Bubblewrap dispenser (Red) 1.5m",
                                    "UnitPrice": "240.00"
                                },
                                {
                                    "StockItemID": "67",
                                    "StockItemName": "Ride on toy sedan car (Black) 1/12 scale",
                                    "UnitPrice": "230.00"
                                },
                                {
                                    "StockItemID": "68",
                                    "StockItemName": "Ride on toy sedan car (Red) 1/12 scale",
                                    "UnitPrice": "230.00"
                                },
                                {
                                    "StockItemID": "69",
                                    "StockItemName": "Ride on toy sedan car (Blue) 1/12 scale",
                                    "UnitPrice": "230.00"
                                },
                                {
                                    "StockItemID": "70",
                                    "StockItemName": "Ride on toy sedan car (Green) 1/12 scale",
                                    "UnitPrice": "230.00"
                                },
                                {
                                    "StockItemID": "71",
                                    "StockItemName": "Ride on toy sedan car (Yellow) 1/12 scale",
                                    "UnitPrice": "230.00"
                                },
                                {
                                    "StockItemID": "72",
                                    "StockItemName": "Ride on toy sedan car (Pink) 1/12 scale",
                                    "UnitPrice": "230.00"
                                },
                                {
                                    "StockItemID": "164",
                                    "StockItemName": "32 mm Double sided bubble wrap 50m",
                                    "UnitPrice": "112.00"
                                },
                                {
                                    "StockItemID": "161",
                                    "StockItemName": "20 mm Double sided bubble wrap 50m",
                                    "UnitPrice": "108.00"
                                },
                                {
                                    "StockItemID": "173",
                                    "StockItemName": "32 mm Anti static bubble wrap (Blue) 50m",
                                    "UnitPrice": "105.00"
                                },
                                {
                                    "StockItemID": "158",
                                    "StockItemName": "10 mm Double sided bubble wrap 50m",
                                    "UnitPrice": "105.00"
                                },
                                {
                                    "StockItemID": "170",
                                    "StockItemName": "20 mm Anti static bubble wrap (Blue) 50m",
                                    "UnitPrice": "102.00"
                                },
                                {
                                    "StockItemID": "167",
                                    "StockItemName": "10 mm Anti static bubble wrap (Blue) 50m",
                                    "UnitPrice": "99.00"
                                },
                                {
                                    "StockItemID": "214",
                                    "StockItemName": "Air cushion film 200mmx200mm 325m",
                                    "UnitPrice": "90.00"
                                },
                                {
                                    "StockItemID": "213",
                                    "StockItemName": "Air cushion film 200mmx100mm 325m",
                                    "UnitPrice": "87.00"
                                },
                                {
                                    "StockItemID": "219",
                                    "StockItemName": "Void fill 400 L bag (White) 400L",
                                    "UnitPrice": "50.00"
                                },
                                {
                                    "StockItemID": "172",
                                    "StockItemName": "32 mm Anti static bubble wrap (Blue) 20m",
                                    "UnitPrice": "48.00"
                                },
                                {
                                    "StockItemID": "169",
                                    "StockItemName": "20 mm Anti static bubble wrap (Blue) 20m",
                                    "UnitPrice": "45.00"
                                },
                                {
                                    "StockItemID": "66",
                                    "StockItemName": "RC big wheel monster truck with remote control (Black) 1/50 scale",
                                    "UnitPrice": "45.00"
                                }
                            ]
                        },
                        "text/html": [
                            "<table>",
                            "<tr><th>StockItemID</th><th>StockItemName</th><th>UnitPrice</th></tr>",
                            "<tr><td>215</td><td>Air cushion machine (Blue)</td><td>1899.00</td></tr>",
                            "<tr><td>75</td><td>Ride on big wheel monster truck (Black) 1/12 scale</td><td>345.00</td></tr>",
                            "<tr><td>73</td><td>Ride on vintage American toy coupe (Red) 1/12 scale</td><td>285.00</td></tr>",
                            "<tr><td>74</td><td>Ride on vintage American toy coupe (Black) 1/12 scale</td><td>285.00</td></tr>",
                            "<tr><td>8</td><td>USB food flash drive - dim sum 10 drive variety pack</td><td>240.00</td></tr>",
                            "<tr><td>15</td><td>USB food flash drive - dessert 10 drive variety pack</td><td>240.00</td></tr>",
                            "<tr><td>174</td><td>Bubblewrap dispenser (Black) 1.5m</td><td>240.00</td></tr>",
                            "<tr><td>175</td><td>Bubblewrap dispenser (Blue) 1.5m</td><td>240.00</td></tr>",
                            "<tr><td>176</td><td>Bubblewrap dispenser (Red) 1.5m</td><td>240.00</td></tr>",
                            "<tr><td>67</td><td>Ride on toy sedan car (Black) 1/12 scale</td><td>230.00</td></tr>",
                            "<tr><td>68</td><td>Ride on toy sedan car (Red) 1/12 scale</td><td>230.00</td></tr>",
                            "<tr><td>69</td><td>Ride on toy sedan car (Blue) 1/12 scale</td><td>230.00</td></tr>",
                            "<tr><td>70</td><td>Ride on toy sedan car (Green) 1/12 scale</td><td>230.00</td></tr>",
                            "<tr><td>71</td><td>Ride on toy sedan car (Yellow) 1/12 scale</td><td>230.00</td></tr>",
                            "<tr><td>72</td><td>Ride on toy sedan car (Pink) 1/12 scale</td><td>230.00</td></tr>",
                            "<tr><td>164</td><td>32 mm Double sided bubble wrap 50m</td><td>112.00</td></tr>",
                            "<tr><td>161</td><td>20 mm Double sided bubble wrap 50m</td><td>108.00</td></tr>",
                            "<tr><td>173</td><td>32 mm Anti static bubble wrap (Blue) 50m</td><td>105.00</td></tr>",
                            "<tr><td>158</td><td>10 mm Double sided bubble wrap 50m</td><td>105.00</td></tr>",
                            "<tr><td>170</td><td>20 mm Anti static bubble wrap (Blue) 50m</td><td>102.00</td></tr>",
                            "<tr><td>167</td><td>10 mm Anti static bubble wrap (Blue) 50m</td><td>99.00</td></tr>",
                            "<tr><td>214</td><td>Air cushion film 200mmx200mm 325m</td><td>90.00</td></tr>",
                            "<tr><td>213</td><td>Air cushion film 200mmx100mm 325m</td><td>87.00</td></tr>",
                            "<tr><td>219</td><td>Void fill 400 L bag (White) 400L</td><td>50.00</td></tr>",
                            "<tr><td>172</td><td>32 mm Anti static bubble wrap (Blue) 20m</td><td>48.00</td></tr>",
                            "<tr><td>169</td><td>20 mm Anti static bubble wrap (Blue) 20m</td><td>45.00</td></tr>",
                            "<tr><td>66</td><td>RC big wheel monster truck with remote control (Black) 1/50 scale</td><td>45.00</td></tr>",
                            "</table>"
                        ]
                    }
                }
            ],
            "execution_count": 2
        },
        {
            "cell_type": "code",
            "source": [
                "-- Find customers whose delivery city is located in the United Kingdom\r\n",
                "-- 2) Customers located in the United Kingdom\r\n",
                "\r\n",
                "SELECT\r\n",
                "    c.CustomerID,            -- show the customer ID\r\n",
                "    c.CustomerName,          -- show the customer name\r\n",
                "    c.DeliveryCityID         -- show where they receive goods\r\n",
                "FROM Sales.Customers AS c    -- from the Customers table\r\n",
                "WHERE c.DeliveryCityID IN (  -- keep only customers whose city ID is in this list:\r\n",
                "    SELECT ci.CityID         -- get city IDs\r\n",
                "    FROM Application.Cities AS ci\r\n",
                "    JOIN Application.StateProvinces AS sp\r\n",
                "        ON sp.StateProvinceID = ci.StateProvinceID   -- connect cities to their state/province\r\n",
                "    WHERE sp.CountryID = (    -- filter by the United Kingdom\r\n",
                "        SELECT CountryID\r\n",
                "        FROM Application.Countries\r\n",
                "        WHERE CountryName = N'United Kingdom'\r\n",
                "    )\r\n",
                ")\r\n",
                "ORDER BY c.CustomerName;      -- sort alphabetically by customer\r\n",
                ""
            ],
            "metadata": {
                "language": "sql",
                "azdata_cell_guid": "14312dbe-6ac9-4d8b-b7f9-8328da8998ee",
                "tags": []
            },
            "outputs": [
                {
                    "output_type": "display_data",
                    "data": {
                        "text/html": "(0 rows affected)"
                    },
                    "metadata": {}
                },
                {
                    "output_type": "display_data",
                    "data": {
                        "text/html": "Total execution time: 00:00:00.003"
                    },
                    "metadata": {}
                },
                {
                    "output_type": "execute_result",
                    "metadata": {},
                    "execution_count": 4,
                    "data": {
                        "application/vnd.dataresource+json": {
                            "schema": {
                                "fields": [
                                    {
                                        "name": "CustomerID"
                                    },
                                    {
                                        "name": "CustomerName"
                                    },
                                    {
                                        "name": "DeliveryCityID"
                                    }
                                ]
                            },
                            "data": []
                        },
                        "text/html": [
                            "<table>",
                            "<tr><th>CustomerID</th><th>CustomerName</th><th>DeliveryCityID</th></tr>",
                            "</table>"
                        ]
                    }
                }
            ],
            "execution_count": 4
        },
        {
            "cell_type": "code",
            "source": [
                "-- For each customer, calculate their total order value using a correlated subquery\r\n",
                "-- 3) Customers whose lifetime spend exceeds 10,000\r\n",
                "\r\n",
                "SELECT TOP (30)\r\n",
                "    c.CustomerID,   -- customer ID\r\n",
                "    c.CustomerName, -- customer name\r\n",
                "    (SELECT SUM(ol.Quantity * ol.UnitPrice)       -- total $ spent by this customer\r\n",
                "     FROM Sales.Orders AS o\r\n",
                "     JOIN Sales.OrderLines AS ol ON ol.OrderID = o.OrderID\r\n",
                "     WHERE o.CustomerID = c.CustomerID) AS LifetimeSpend  -- connect subquery to outer row\r\n",
                "FROM Sales.Customers AS c\r\n",
                "WHERE (SELECT SUM(ol.Quantity * ol.UnitPrice)    -- filter: only customers with >10k total\r\n",
                "       FROM Sales.Orders AS o\r\n",
                "       JOIN Sales.OrderLines AS ol ON ol.OrderID = o.OrderID\r\n",
                "       WHERE o.CustomerID = c.CustomerID) > 10000\r\n",
                "ORDER BY LifetimeSpend DESC;  -- show biggest spenders first\r\n",
                ""
            ],
            "metadata": {
                "language": "sql",
                "azdata_cell_guid": "83ab57f6-4c2d-4505-937a-df21d4cb62e5"
            },
            "outputs": [
                {
                    "output_type": "display_data",
                    "data": {
                        "text/html": "(30 rows affected)"
                    },
                    "metadata": {}
                },
                {
                    "output_type": "display_data",
                    "data": {
                        "text/html": "Total execution time: 00:00:00.054"
                    },
                    "metadata": {}
                },
                {
                    "output_type": "execute_result",
                    "metadata": {},
                    "execution_count": 6,
                    "data": {
                        "application/vnd.dataresource+json": {
                            "schema": {
                                "fields": [
                                    {
                                        "name": "CustomerID"
                                    },
                                    {
                                        "name": "CustomerName"
                                    },
                                    {
                                        "name": "LifetimeSpend"
                                    }
                                ]
                            },
                            "data": [
                                {
                                    "CustomerID": "149",
                                    "CustomerName": "Tailspin Toys (Inguadona, MN)",
                                    "LifetimeSpend": "384393.35"
                                },
                                {
                                    "CustomerID": "132",
                                    "CustomerName": "Tailspin Toys (Minidoka, ID)",
                                    "LifetimeSpend": "379660.70"
                                },
                                {
                                    "CustomerID": "977",
                                    "CustomerName": "Mauno Laurila",
                                    "LifetimeSpend": "377189.80"
                                },
                                {
                                    "CustomerID": "580",
                                    "CustomerName": "Wingtip Toys (Sarversville, PA)",
                                    "LifetimeSpend": "372350.00"
                                },
                                {
                                    "CustomerID": "964",
                                    "CustomerName": "Ingrida Zeltina",
                                    "LifetimeSpend": "368067.45"
                                },
                                {
                                    "CustomerID": "14",
                                    "CustomerName": "Tailspin Toys (Long Meadow, MD)",
                                    "LifetimeSpend": "367258.50"
                                },
                                {
                                    "CustomerID": "954",
                                    "CustomerName": "Nasrin Omidzadeh",
                                    "LifetimeSpend": "366883.75"
                                },
                                {
                                    "CustomerID": "593",
                                    "CustomerName": "Wingtip Toys (Cuyamungue, NM)",
                                    "LifetimeSpend": "365915.45"
                                },
                                {
                                    "CustomerID": "472",
                                    "CustomerName": "Wingtip Toys (San Jacinto, CA)",
                                    "LifetimeSpend": "365330.95"
                                },
                                {
                                    "CustomerID": "550",
                                    "CustomerName": "Wingtip Toys (Morrison Bluff, AR)",
                                    "LifetimeSpend": "360652.80"
                                },
                                {
                                    "CustomerID": "569",
                                    "CustomerName": "Wingtip Toys (West Frostproof, FL)",
                                    "LifetimeSpend": "360387.05"
                                },
                                {
                                    "CustomerID": "510",
                                    "CustomerName": "Wingtip Toys (Grabill, IN)",
                                    "LifetimeSpend": "359443.95"
                                },
                                {
                                    "CustomerID": "841",
                                    "CustomerName": "Camille Authier",
                                    "LifetimeSpend": "358675.15"
                                },
                                {
                                    "CustomerID": "874",
                                    "CustomerName": "Daniel Martensson",
                                    "LifetimeSpend": "358590.20"
                                },
                                {
                                    "CustomerID": "996",
                                    "CustomerName": "Laszlo Gardenier",
                                    "LifetimeSpend": "357499.80"
                                },
                                {
                                    "CustomerID": "1001",
                                    "CustomerName": "Dinh Mai",
                                    "LifetimeSpend": "357216.95"
                                },
                                {
                                    "CustomerID": "480",
                                    "CustomerName": "Wingtip Toys (Wapinitia, OR)",
                                    "LifetimeSpend": "356055.60"
                                },
                                {
                                    "CustomerID": "856",
                                    "CustomerName": "Satish Mittal",
                                    "LifetimeSpend": "354974.10"
                                },
                                {
                                    "CustomerID": "102",
                                    "CustomerName": "Tailspin Toys (Fieldbrook, CA)",
                                    "LifetimeSpend": "351196.05"
                                },
                                {
                                    "CustomerID": "949",
                                    "CustomerName": "Seo-yun Paik",
                                    "LifetimeSpend": "350658.85"
                                },
                                {
                                    "CustomerID": "185",
                                    "CustomerName": "Tailspin Toys (Vidrine, LA)",
                                    "LifetimeSpend": "349528.60"
                                },
                                {
                                    "CustomerID": "861",
                                    "CustomerName": "Amarasimha Vinjamuri",
                                    "LifetimeSpend": "349068.15"
                                },
                                {
                                    "CustomerID": "546",
                                    "CustomerName": "Wingtip Toys (Key Biscayne, FL)",
                                    "LifetimeSpend": "348397.55"
                                },
                                {
                                    "CustomerID": "71",
                                    "CustomerName": "Tailspin Toys (Good Hart, MI)",
                                    "LifetimeSpend": "347975.05"
                                },
                                {
                                    "CustomerID": "32",
                                    "CustomerName": "Tailspin Toys (Maypearl, TX)",
                                    "LifetimeSpend": "347065.90"
                                },
                                {
                                    "CustomerID": "67",
                                    "CustomerName": "Tailspin Toys (Sentinel Butte, ND)",
                                    "LifetimeSpend": "346391.60"
                                },
                                {
                                    "CustomerID": "81",
                                    "CustomerName": "Tailspin Toys (Big Moose, NY)",
                                    "LifetimeSpend": "345819.15"
                                },
                                {
                                    "CustomerID": "558",
                                    "CustomerName": "Wingtip Toys (Bourneville, OH)",
                                    "LifetimeSpend": "345187.15"
                                },
                                {
                                    "CustomerID": "565",
                                    "CustomerName": "Wingtip Toys (Wapiti, WY)",
                                    "LifetimeSpend": "344835.00"
                                },
                                {
                                    "CustomerID": "541",
                                    "CustomerName": "Wingtip Toys (Mickleton, NJ)",
                                    "LifetimeSpend": "343067.15"
                                }
                            ]
                        },
                        "text/html": [
                            "<table>",
                            "<tr><th>CustomerID</th><th>CustomerName</th><th>LifetimeSpend</th></tr>",
                            "<tr><td>149</td><td>Tailspin Toys (Inguadona, MN)</td><td>384393.35</td></tr>",
                            "<tr><td>132</td><td>Tailspin Toys (Minidoka, ID)</td><td>379660.70</td></tr>",
                            "<tr><td>977</td><td>Mauno Laurila</td><td>377189.80</td></tr>",
                            "<tr><td>580</td><td>Wingtip Toys (Sarversville, PA)</td><td>372350.00</td></tr>",
                            "<tr><td>964</td><td>Ingrida Zeltina</td><td>368067.45</td></tr>",
                            "<tr><td>14</td><td>Tailspin Toys (Long Meadow, MD)</td><td>367258.50</td></tr>",
                            "<tr><td>954</td><td>Nasrin Omidzadeh</td><td>366883.75</td></tr>",
                            "<tr><td>593</td><td>Wingtip Toys (Cuyamungue, NM)</td><td>365915.45</td></tr>",
                            "<tr><td>472</td><td>Wingtip Toys (San Jacinto, CA)</td><td>365330.95</td></tr>",
                            "<tr><td>550</td><td>Wingtip Toys (Morrison Bluff, AR)</td><td>360652.80</td></tr>",
                            "<tr><td>569</td><td>Wingtip Toys (West Frostproof, FL)</td><td>360387.05</td></tr>",
                            "<tr><td>510</td><td>Wingtip Toys (Grabill, IN)</td><td>359443.95</td></tr>",
                            "<tr><td>841</td><td>Camille Authier</td><td>358675.15</td></tr>",
                            "<tr><td>874</td><td>Daniel Martensson</td><td>358590.20</td></tr>",
                            "<tr><td>996</td><td>Laszlo Gardenier</td><td>357499.80</td></tr>",
                            "<tr><td>1001</td><td>Dinh Mai</td><td>357216.95</td></tr>",
                            "<tr><td>480</td><td>Wingtip Toys (Wapinitia, OR)</td><td>356055.60</td></tr>",
                            "<tr><td>856</td><td>Satish Mittal</td><td>354974.10</td></tr>",
                            "<tr><td>102</td><td>Tailspin Toys (Fieldbrook, CA)</td><td>351196.05</td></tr>",
                            "<tr><td>949</td><td>Seo-yun Paik</td><td>350658.85</td></tr>",
                            "<tr><td>185</td><td>Tailspin Toys (Vidrine, LA)</td><td>349528.60</td></tr>",
                            "<tr><td>861</td><td>Amarasimha Vinjamuri</td><td>349068.15</td></tr>",
                            "<tr><td>546</td><td>Wingtip Toys (Key Biscayne, FL)</td><td>348397.55</td></tr>",
                            "<tr><td>71</td><td>Tailspin Toys (Good Hart, MI)</td><td>347975.05</td></tr>",
                            "<tr><td>32</td><td>Tailspin Toys (Maypearl, TX)</td><td>347065.90</td></tr>",
                            "<tr><td>67</td><td>Tailspin Toys (Sentinel Butte, ND)</td><td>346391.60</td></tr>",
                            "<tr><td>81</td><td>Tailspin Toys (Big Moose, NY)</td><td>345819.15</td></tr>",
                            "<tr><td>558</td><td>Wingtip Toys (Bourneville, OH)</td><td>345187.15</td></tr>",
                            "<tr><td>565</td><td>Wingtip Toys (Wapiti, WY)</td><td>344835.00</td></tr>",
                            "<tr><td>541</td><td>Wingtip Toys (Mickleton, NJ)</td><td>343067.15</td></tr>",
                            "</table>"
                        ]
                    }
                }
            ],
            "execution_count": 6
        },
        {
            "cell_type": "code",
            "source": [
                "-- Use EXISTS to test if a customer has any orders during 2016\r\n",
                "-- 4) Customers who placed orders in 2016\r\n",
                "\r\n",
                "SELECT TOP (30)\r\n",
                "    c.CustomerID,        -- show ID\r\n",
                "    c.CustomerName       -- show name\r\n",
                "FROM Sales.Customers AS c\r\n",
                "WHERE EXISTS (           -- TRUE if the inner query finds at least one match\r\n",
                "    SELECT 1             -- any constant works, since we only care about existence\r\n",
                "    FROM Sales.Orders AS o\r\n",
                "    WHERE o.CustomerID = c.CustomerID       -- link to outer customer\r\n",
                "      AND o.OrderDate >= '2016-01-01'       -- starting Jan 1, 2016\r\n",
                "      AND o.OrderDate <  '2017-01-01'       -- up to but not including 2017\r\n",
                ")\r\n",
                "ORDER BY c.CustomerName;  -- alphabetical order\r\n",
                ""
            ],
            "metadata": {
                "language": "sql",
                "azdata_cell_guid": "4695d2a2-df63-4e34-9794-e1df6e5ad76e"
            },
            "outputs": [
                {
                    "output_type": "display_data",
                    "data": {
                        "text/html": "(30 rows affected)"
                    },
                    "metadata": {}
                },
                {
                    "output_type": "display_data",
                    "data": {
                        "text/html": "Total execution time: 00:00:00.026"
                    },
                    "metadata": {}
                },
                {
                    "output_type": "execute_result",
                    "metadata": {},
                    "execution_count": 8,
                    "data": {
                        "application/vnd.dataresource+json": {
                            "schema": {
                                "fields": [
                                    {
                                        "name": "CustomerID"
                                    },
                                    {
                                        "name": "CustomerName"
                                    }
                                ]
                            },
                            "data": [
                                {
                                    "CustomerID": "832",
                                    "CustomerName": "Aakriti Byrraju"
                                },
                                {
                                    "CustomerID": "836",
                                    "CustomerName": "Abel Spirlea"
                                },
                                {
                                    "CustomerID": "869",
                                    "CustomerName": "Abel Tatarescu"
                                },
                                {
                                    "CustomerID": "1048",
                                    "CustomerName": "Abhra Ganguly"
                                },
                                {
                                    "CustomerID": "901",
                                    "CustomerName": "Adrian Andreasson"
                                },
                                {
                                    "CustomerID": "1055",
                                    "CustomerName": "Adriana Pena"
                                },
                                {
                                    "CustomerID": "1061",
                                    "CustomerName": "Agrita Abele"
                                },
                                {
                                    "CustomerID": "817",
                                    "CustomerName": "Agrita Kanepa"
                                },
                                {
                                    "CustomerID": "1034",
                                    "CustomerName": "Aishwarya Dantuluri"
                                },
                                {
                                    "CustomerID": "1016",
                                    "CustomerName": "Aive Petrov"
                                },
                                {
                                    "CustomerID": "906",
                                    "CustomerName": "Ajitaab Pakalapati"
                                },
                                {
                                    "CustomerID": "987",
                                    "CustomerName": "Akhil Nadar"
                                },
                                {
                                    "CustomerID": "804",
                                    "CustomerName": "Aleksandrs Riekstins"
                                },
                                {
                                    "CustomerID": "810",
                                    "CustomerName": "Alena Kellnerova"
                                },
                                {
                                    "CustomerID": "976",
                                    "CustomerName": "Alinne Matos"
                                },
                                {
                                    "CustomerID": "897",
                                    "CustomerName": "Allan Mannik"
                                },
                                {
                                    "CustomerID": "848",
                                    "CustomerName": "Alvin Bollinger"
                                },
                                {
                                    "CustomerID": "992",
                                    "CustomerName": "Amarakumaar Gadiyaram"
                                },
                                {
                                    "CustomerID": "861",
                                    "CustomerName": "Amarasimha Vinjamuri"
                                },
                                {
                                    "CustomerID": "1049",
                                    "CustomerName": "Amet Shergill"
                                },
                                {
                                    "CustomerID": "1050",
                                    "CustomerName": "Amrita Ganguly"
                                },
                                {
                                    "CustomerID": "915",
                                    "CustomerName": "Ana Florea"
                                },
                                {
                                    "CustomerID": "1060",
                                    "CustomerName": "Anand Mudaliyar"
                                },
                                {
                                    "CustomerID": "968",
                                    "CustomerName": "Anca Gogean"
                                },
                                {
                                    "CustomerID": "990",
                                    "CustomerName": "Andris Saulitis"
                                },
                                {
                                    "CustomerID": "837",
                                    "CustomerName": "Anil Sarkar"
                                },
                                {
                                    "CustomerID": "884",
                                    "CustomerName": "Anindya Ghatak"
                                },
                                {
                                    "CustomerID": "938",
                                    "CustomerName": "Anna Gyarmathi"
                                },
                                {
                                    "CustomerID": "855",
                                    "CustomerName": "Anna Mazzanti"
                                },
                                {
                                    "CustomerID": "1013",
                                    "CustomerName": "Annette  Hetu"
                                }
                            ]
                        },
                        "text/html": [
                            "<table>",
                            "<tr><th>CustomerID</th><th>CustomerName</th></tr>",
                            "<tr><td>832</td><td>Aakriti Byrraju</td></tr>",
                            "<tr><td>836</td><td>Abel Spirlea</td></tr>",
                            "<tr><td>869</td><td>Abel Tatarescu</td></tr>",
                            "<tr><td>1048</td><td>Abhra Ganguly</td></tr>",
                            "<tr><td>901</td><td>Adrian Andreasson</td></tr>",
                            "<tr><td>1055</td><td>Adriana Pena</td></tr>",
                            "<tr><td>1061</td><td>Agrita Abele</td></tr>",
                            "<tr><td>817</td><td>Agrita Kanepa</td></tr>",
                            "<tr><td>1034</td><td>Aishwarya Dantuluri</td></tr>",
                            "<tr><td>1016</td><td>Aive Petrov</td></tr>",
                            "<tr><td>906</td><td>Ajitaab Pakalapati</td></tr>",
                            "<tr><td>987</td><td>Akhil Nadar</td></tr>",
                            "<tr><td>804</td><td>Aleksandrs Riekstins</td></tr>",
                            "<tr><td>810</td><td>Alena Kellnerova</td></tr>",
                            "<tr><td>976</td><td>Alinne Matos</td></tr>",
                            "<tr><td>897</td><td>Allan Mannik</td></tr>",
                            "<tr><td>848</td><td>Alvin Bollinger</td></tr>",
                            "<tr><td>992</td><td>Amarakumaar Gadiyaram</td></tr>",
                            "<tr><td>861</td><td>Amarasimha Vinjamuri</td></tr>",
                            "<tr><td>1049</td><td>Amet Shergill</td></tr>",
                            "<tr><td>1050</td><td>Amrita Ganguly</td></tr>",
                            "<tr><td>915</td><td>Ana Florea</td></tr>",
                            "<tr><td>1060</td><td>Anand Mudaliyar</td></tr>",
                            "<tr><td>968</td><td>Anca Gogean</td></tr>",
                            "<tr><td>990</td><td>Andris Saulitis</td></tr>",
                            "<tr><td>837</td><td>Anil Sarkar</td></tr>",
                            "<tr><td>884</td><td>Anindya Ghatak</td></tr>",
                            "<tr><td>938</td><td>Anna Gyarmathi</td></tr>",
                            "<tr><td>855</td><td>Anna Mazzanti</td></tr>",
                            "<tr><td>1013</td><td>Annette  Hetu</td></tr>",
                            "</table>"
                        ]
                    }
                }
            ],
            "execution_count": 8
        },
        {
            "cell_type": "code",
            "source": [
                "-- Use a derived table to first compute each order's total, then filter by 5000+\r\n",
                "-- 5) Derived table to find large orders\r\n",
                "\r\n",
                "SELECT TOP (30)\r\n",
                "    t.OrderID,          -- show order ID\r\n",
                "    t.OrderTotal        -- show computed total\r\n",
                "FROM (\r\n",
                "    SELECT\r\n",
                "        ol.OrderID,                             -- inner query groups by order\r\n",
                "        SUM(ol.Quantity * ol.UnitPrice) AS OrderTotal  -- compute total value per order\r\n",
                "    FROM Sales.OrderLines AS ol\r\n",
                "    GROUP BY ol.OrderID                         -- needed when using SUM\r\n",
                ") AS t                                            -- derived table alias\r\n",
                "WHERE t.OrderTotal >= 5000                       -- keep only orders >= $5,000\r\n",
                "ORDER BY t.OrderTotal DESC;                      -- sort from largest to smallest\r\n",
                ""
            ],
            "metadata": {
                "language": "sql",
                "azdata_cell_guid": "877eecf9-5b9d-453c-9dbd-a9498bf562e8"
            },
            "outputs": [
                {
                    "output_type": "display_data",
                    "data": {
                        "text/html": "(30 rows affected)"
                    },
                    "metadata": {}
                },
                {
                    "output_type": "display_data",
                    "data": {
                        "text/html": "Total execution time: 00:00:00.036"
                    },
                    "metadata": {}
                },
                {
                    "output_type": "execute_result",
                    "metadata": {},
                    "execution_count": 10,
                    "data": {
                        "application/vnd.dataresource+json": {
                            "schema": {
                                "fields": [
                                    {
                                        "name": "OrderID"
                                    },
                                    {
                                        "name": "OrderTotal"
                                    }
                                ]
                            },
                            "data": [
                                {
                                    "OrderID": "30269",
                                    "OrderTotal": "32026.00"
                                },
                                {
                                    "OrderID": "66991",
                                    "OrderTotal": "29536.00"
                                },
                                {
                                    "OrderID": "49943",
                                    "OrderTotal": "28688.60"
                                },
                                {
                                    "OrderID": "47596",
                                    "OrderTotal": "27640.00"
                                },
                                {
                                    "OrderID": "69920",
                                    "OrderTotal": "27382.00"
                                },
                                {
                                    "OrderID": "72045",
                                    "OrderTotal": "27366.00"
                                },
                                {
                                    "OrderID": "40366",
                                    "OrderTotal": "27306.00"
                                },
                                {
                                    "OrderID": "61568",
                                    "OrderTotal": "27161.00"
                                },
                                {
                                    "OrderID": "17103",
                                    "OrderTotal": "26787.00"
                                },
                                {
                                    "OrderID": "17181",
                                    "OrderTotal": "26645.00"
                                },
                                {
                                    "OrderID": "38260",
                                    "OrderTotal": "25893.00"
                                },
                                {
                                    "OrderID": "37820",
                                    "OrderTotal": "25586.00"
                                },
                                {
                                    "OrderID": "32293",
                                    "OrderTotal": "25487.00"
                                },
                                {
                                    "OrderID": "45279",
                                    "OrderTotal": "25145.00"
                                },
                                {
                                    "OrderID": "51078",
                                    "OrderTotal": "24892.50"
                                },
                                {
                                    "OrderID": "16439",
                                    "OrderTotal": "24777.80"
                                },
                                {
                                    "OrderID": "48640",
                                    "OrderTotal": "24749.50"
                                },
                                {
                                    "OrderID": "73521",
                                    "OrderTotal": "24592.00"
                                },
                                {
                                    "OrderID": "12044",
                                    "OrderTotal": "24054.60"
                                },
                                {
                                    "OrderID": "9039",
                                    "OrderTotal": "24021.00"
                                },
                                {
                                    "OrderID": "34616",
                                    "OrderTotal": "23695.00"
                                },
                                {
                                    "OrderID": "68735",
                                    "OrderTotal": "23668.80"
                                },
                                {
                                    "OrderID": "54178",
                                    "OrderTotal": "23418.40"
                                },
                                {
                                    "OrderID": "13797",
                                    "OrderTotal": "23013.00"
                                },
                                {
                                    "OrderID": "19248",
                                    "OrderTotal": "22950.00"
                                },
                                {
                                    "OrderID": "37037",
                                    "OrderTotal": "22878.00"
                                },
                                {
                                    "OrderID": "54850",
                                    "OrderTotal": "22819.50"
                                },
                                {
                                    "OrderID": "56490",
                                    "OrderTotal": "22771.00"
                                },
                                {
                                    "OrderID": "62844",
                                    "OrderTotal": "22592.00"
                                },
                                {
                                    "OrderID": "18604",
                                    "OrderTotal": "22542.00"
                                }
                            ]
                        },
                        "text/html": [
                            "<table>",
                            "<tr><th>OrderID</th><th>OrderTotal</th></tr>",
                            "<tr><td>30269</td><td>32026.00</td></tr>",
                            "<tr><td>66991</td><td>29536.00</td></tr>",
                            "<tr><td>49943</td><td>28688.60</td></tr>",
                            "<tr><td>47596</td><td>27640.00</td></tr>",
                            "<tr><td>69920</td><td>27382.00</td></tr>",
                            "<tr><td>72045</td><td>27366.00</td></tr>",
                            "<tr><td>40366</td><td>27306.00</td></tr>",
                            "<tr><td>61568</td><td>27161.00</td></tr>",
                            "<tr><td>17103</td><td>26787.00</td></tr>",
                            "<tr><td>17181</td><td>26645.00</td></tr>",
                            "<tr><td>38260</td><td>25893.00</td></tr>",
                            "<tr><td>37820</td><td>25586.00</td></tr>",
                            "<tr><td>32293</td><td>25487.00</td></tr>",
                            "<tr><td>45279</td><td>25145.00</td></tr>",
                            "<tr><td>51078</td><td>24892.50</td></tr>",
                            "<tr><td>16439</td><td>24777.80</td></tr>",
                            "<tr><td>48640</td><td>24749.50</td></tr>",
                            "<tr><td>73521</td><td>24592.00</td></tr>",
                            "<tr><td>12044</td><td>24054.60</td></tr>",
                            "<tr><td>9039</td><td>24021.00</td></tr>",
                            "<tr><td>34616</td><td>23695.00</td></tr>",
                            "<tr><td>68735</td><td>23668.80</td></tr>",
                            "<tr><td>54178</td><td>23418.40</td></tr>",
                            "<tr><td>13797</td><td>23013.00</td></tr>",
                            "<tr><td>19248</td><td>22950.00</td></tr>",
                            "<tr><td>37037</td><td>22878.00</td></tr>",
                            "<tr><td>54850</td><td>22819.50</td></tr>",
                            "<tr><td>56490</td><td>22771.00</td></tr>",
                            "<tr><td>62844</td><td>22592.00</td></tr>",
                            "<tr><td>18604</td><td>22542.00</td></tr>",
                            "</table>"
                        ]
                    }
                }
            ],
            "execution_count": 10
        },
        {
            "cell_type": "code",
            "source": [
                "-- Use a Common Table Expression (CTE) to compute order totals, then summarize by month\r\n",
                "-- 6) Monthly sales totals using a CTE\r\n",
                "\r\n",
                "WITH OrderTotals AS (                    -- name the CTE \"OrderTotals\"\r\n",
                "    SELECT\r\n",
                "        o.OrderID,                       -- each order ID\r\n",
                "        o.OrderDate,                     -- when the order was made\r\n",
                "        SUM(ol.Quantity * ol.UnitPrice) AS OrderTotal  -- calculate the total per order\r\n",
                "    FROM Sales.Orders AS o\r\n",
                "    JOIN Sales.OrderLines AS ol ON ol.OrderID = o.OrderID  -- join to get prices/qty\r\n",
                "    WHERE o.OrderDate >= '2016-01-01' AND o.OrderDate < '2017-01-01'  -- only 2016 orders\r\n",
                "    GROUP BY o.OrderID, o.OrderDate       -- group by order for SUM\r\n",
                ")\r\n",
                "SELECT\r\n",
                "    DATEFROMPARTS(YEAR(OrderDate), MONTH(OrderDate), 1) AS SalesMonth,  -- extract month\r\n",
                "    SUM(OrderTotal) AS MonthTotal        -- sum all orders per month\r\n",
                "FROM OrderTotals\r\n",
                "GROUP BY YEAR(OrderDate), MONTH(OrderDate)  -- one total per month\r\n",
                "ORDER BY SalesMonth;                        -- show months in order\r\n",
                ""
            ],
            "metadata": {
                "language": "sql",
                "azdata_cell_guid": "1d4a4d72-312a-419d-9487-7af9248358c7"
            },
            "outputs": [
                {
                    "output_type": "display_data",
                    "data": {
                        "text/html": "(5 rows affected)"
                    },
                    "metadata": {}
                },
                {
                    "output_type": "display_data",
                    "data": {
                        "text/html": "Total execution time: 00:00:00.029"
                    },
                    "metadata": {}
                },
                {
                    "output_type": "execute_result",
                    "metadata": {},
                    "execution_count": 11,
                    "data": {
                        "application/vnd.dataresource+json": {
                            "schema": {
                                "fields": [
                                    {
                                        "name": "SalesMonth"
                                    },
                                    {
                                        "name": "MonthTotal"
                                    }
                                ]
                            },
                            "data": [
                                {
                                    "SalesMonth": "2016-01-01",
                                    "MonthTotal": "4612140.45"
                                },
                                {
                                    "SalesMonth": "2016-02-01",
                                    "MonthTotal": "4099480.35"
                                },
                                {
                                    "SalesMonth": "2016-03-01",
                                    "MonthTotal": "4807110.70"
                                },
                                {
                                    "SalesMonth": "2016-04-01",
                                    "MonthTotal": "4739058.60"
                                },
                                {
                                    "SalesMonth": "2016-05-01",
                                    "MonthTotal": "5138002.65"
                                }
                            ]
                        },
                        "text/html": [
                            "<table>",
                            "<tr><th>SalesMonth</th><th>MonthTotal</th></tr>",
                            "<tr><td>2016-01-01</td><td>4612140.45</td></tr>",
                            "<tr><td>2016-02-01</td><td>4099480.35</td></tr>",
                            "<tr><td>2016-03-01</td><td>4807110.70</td></tr>",
                            "<tr><td>2016-04-01</td><td>4739058.60</td></tr>",
                            "<tr><td>2016-05-01</td><td>5138002.65</td></tr>",
                            "</table>"
                        ]
                    }
                }
            ],
            "execution_count": 11
        },
        {
            "cell_type": "code",
            "source": [
                "-- Use multiple CTEs: one to get order totals, another for average per customer\r\n",
                "-- 7) CTE to find customers with above-average order values\r\n",
                "\r\n",
                "WITH OrderTotals AS (                          -- first CTE: order totals\r\n",
                "    SELECT \r\n",
                "        o.OrderID,\r\n",
                "        o.CustomerID,\r\n",
                "        SUM(ol.Quantity * ol.UnitPrice) AS OrderTotal\r\n",
                "    FROM Sales.Orders AS o\r\n",
                "    JOIN Sales.OrderLines AS ol ON ol.OrderID = o.OrderID\r\n",
                "    GROUP BY o.OrderID, o.CustomerID\r\n",
                "),\r\n",
                "CustomerAOV AS (                               -- second CTE: average order value per customer\r\n",
                "    SELECT \r\n",
                "        CustomerID,\r\n",
                "        AVG(OrderTotal) AS AvgOrderValue\r\n",
                "    FROM OrderTotals\r\n",
                "    GROUP BY CustomerID\r\n",
                ")\r\n",
                "SELECT TOP (20)\r\n",
                "    c.CustomerID,          -- show customer ID\r\n",
                "    c.CustomerName,        -- show name\r\n",
                "    ca.AvgOrderValue       -- show their average order value\r\n",
                "FROM CustomerAOV AS ca\r\n",
                "JOIN Sales.Customers AS c ON c.CustomerID = ca.CustomerID  -- connect back to names\r\n",
                "WHERE ca.AvgOrderValue > (SELECT AVG(OrderTotal) FROM OrderTotals)  -- above company avg\r\n",
                "ORDER BY ca.AvgOrderValue DESC;   -- highest spenders first\r\n",
                ""
            ],
            "metadata": {
                "language": "sql",
                "azdata_cell_guid": "2af97213-a6f9-478b-a1ef-ccb2abeb969d"
            },
            "outputs": [
                {
                    "output_type": "display_data",
                    "data": {
                        "text/html": "(20 rows affected)"
                    },
                    "metadata": {}
                },
                {
                    "output_type": "display_data",
                    "data": {
                        "text/html": "Total execution time: 00:00:00.087"
                    },
                    "metadata": {}
                },
                {
                    "output_type": "execute_result",
                    "metadata": {},
                    "execution_count": 13,
                    "data": {
                        "application/vnd.dataresource+json": {
                            "schema": {
                                "fields": [
                                    {
                                        "name": "CustomerID"
                                    },
                                    {
                                        "name": "CustomerName"
                                    },
                                    {
                                        "name": "AvgOrderValue"
                                    }
                                ]
                            },
                            "data": [
                                {
                                    "CustomerID": "1058",
                                    "CustomerName": "Jaroslav Fisar",
                                    "AvgOrderValue": "3896.600000"
                                },
                                {
                                    "CustomerID": "1056",
                                    "CustomerName": "Kalyani Benjaree",
                                    "AvgOrderValue": "3446.803846"
                                },
                                {
                                    "CustomerID": "109",
                                    "CustomerName": "Tailspin Toys (South Laguna, CA)",
                                    "AvgOrderValue": "3358.154736"
                                },
                                {
                                    "CustomerID": "1036",
                                    "CustomerName": "Erik Malk",
                                    "AvgOrderValue": "3322.660000"
                                },
                                {
                                    "CustomerID": "996",
                                    "CustomerName": "Laszlo Gardenier",
                                    "AvgOrderValue": "3249.998181"
                                },
                                {
                                    "CustomerID": "945",
                                    "CustomerName": "Hoc Tran",
                                    "AvgOrderValue": "3249.642708"
                                },
                                {
                                    "CustomerID": "40",
                                    "CustomerName": "Tailspin Toys (Impact, TX)",
                                    "AvgOrderValue": "3200.582038"
                                },
                                {
                                    "CustomerID": "977",
                                    "CustomerName": "Mauno Laurila",
                                    "AvgOrderValue": "3143.248333"
                                },
                                {
                                    "CustomerID": "480",
                                    "CustomerName": "Wingtip Toys (Wapinitia, OR)",
                                    "AvgOrderValue": "3096.135652"
                                },
                                {
                                    "CustomerID": "1006",
                                    "CustomerName": "Taj Syme",
                                    "AvgOrderValue": "3065.933009"
                                },
                                {
                                    "CustomerID": "550",
                                    "CustomerName": "Wingtip Toys (Morrison Bluff, AR)",
                                    "AvgOrderValue": "3056.379661"
                                },
                                {
                                    "CustomerID": "533",
                                    "CustomerName": "Wingtip Toys (Nichols Hills, OK)",
                                    "AvgOrderValue": "3032.721052"
                                },
                                {
                                    "CustomerID": "1003",
                                    "CustomerName": "Hue Ton",
                                    "AvgOrderValue": "3014.064285"
                                },
                                {
                                    "CustomerID": "14",
                                    "CustomerName": "Tailspin Toys (Long Meadow, MD)",
                                    "AvgOrderValue": "3010.315573"
                                },
                                {
                                    "CustomerID": "149",
                                    "CustomerName": "Tailspin Toys (Inguadona, MN)",
                                    "AvgOrderValue": "3003.073046"
                                },
                                {
                                    "CustomerID": "478",
                                    "CustomerName": "Wingtip Toys (Stoneboro, PA)",
                                    "AvgOrderValue": "2950.604385"
                                },
                                {
                                    "CustomerID": "870",
                                    "CustomerName": "In-Su Bae",
                                    "AvgOrderValue": "2949.498672"
                                },
                                {
                                    "CustomerID": "949",
                                    "CustomerName": "Seo-yun Paik",
                                    "AvgOrderValue": "2946.713025"
                                },
                                {
                                    "CustomerID": "182",
                                    "CustomerName": "Tailspin Toys (Hayes Center, NE)",
                                    "AvgOrderValue": "2943.115454"
                                },
                                {
                                    "CustomerID": "887",
                                    "CustomerName": "Baran Jonsson",
                                    "AvgOrderValue": "2925.200531"
                                }
                            ]
                        },
                        "text/html": [
                            "<table>",
                            "<tr><th>CustomerID</th><th>CustomerName</th><th>AvgOrderValue</th></tr>",
                            "<tr><td>1058</td><td>Jaroslav Fisar</td><td>3896.600000</td></tr>",
                            "<tr><td>1056</td><td>Kalyani Benjaree</td><td>3446.803846</td></tr>",
                            "<tr><td>109</td><td>Tailspin Toys (South Laguna, CA)</td><td>3358.154736</td></tr>",
                            "<tr><td>1036</td><td>Erik Malk</td><td>3322.660000</td></tr>",
                            "<tr><td>996</td><td>Laszlo Gardenier</td><td>3249.998181</td></tr>",
                            "<tr><td>945</td><td>Hoc Tran</td><td>3249.642708</td></tr>",
                            "<tr><td>40</td><td>Tailspin Toys (Impact, TX)</td><td>3200.582038</td></tr>",
                            "<tr><td>977</td><td>Mauno Laurila</td><td>3143.248333</td></tr>",
                            "<tr><td>480</td><td>Wingtip Toys (Wapinitia, OR)</td><td>3096.135652</td></tr>",
                            "<tr><td>1006</td><td>Taj Syme</td><td>3065.933009</td></tr>",
                            "<tr><td>550</td><td>Wingtip Toys (Morrison Bluff, AR)</td><td>3056.379661</td></tr>",
                            "<tr><td>533</td><td>Wingtip Toys (Nichols Hills, OK)</td><td>3032.721052</td></tr>",
                            "<tr><td>1003</td><td>Hue Ton</td><td>3014.064285</td></tr>",
                            "<tr><td>14</td><td>Tailspin Toys (Long Meadow, MD)</td><td>3010.315573</td></tr>",
                            "<tr><td>149</td><td>Tailspin Toys (Inguadona, MN)</td><td>3003.073046</td></tr>",
                            "<tr><td>478</td><td>Wingtip Toys (Stoneboro, PA)</td><td>2950.604385</td></tr>",
                            "<tr><td>870</td><td>In-Su Bae</td><td>2949.498672</td></tr>",
                            "<tr><td>949</td><td>Seo-yun Paik</td><td>2946.713025</td></tr>",
                            "<tr><td>182</td><td>Tailspin Toys (Hayes Center, NE)</td><td>2943.115454</td></tr>",
                            "<tr><td>887</td><td>Baran Jonsson</td><td>2925.200531</td></tr>",
                            "</table>"
                        ]
                    }
                }
            ],
            "execution_count": 13
        },
        {
            "cell_type": "code",
            "source": [
                "-- CROSS APPLY runs a subquery per row and keeps only those with results\r\n",
                "-- 8) CROSS APPLY — customers with their latest order only\r\n",
                "\r\n",
                "SELECT\r\n",
                "    c.CustomerID,               -- show customer ID\r\n",
                "    c.CustomerName,             -- show name\r\n",
                "    a.LastOrderID,              -- show most recent order ID\r\n",
                "    a.LastOrderDate             -- show date of that order\r\n",
                "FROM Sales.Customers AS c\r\n",
                "CROSS APPLY (                   -- apply a per-customer subquery\r\n",
                "    SELECT TOP (1)\r\n",
                "        o.OrderID AS LastOrderID,     -- get one (latest) order\r\n",
                "        o.OrderDate AS LastOrderDate\r\n",
                "    FROM Sales.Orders AS o\r\n",
                "    WHERE o.CustomerID = c.CustomerID  -- link subquery to current customer\r\n",
                "    ORDER BY o.OrderDate DESC           -- sort so newest order is first\r\n",
                ") AS a\r\n",
                "ORDER BY a.LastOrderDate DESC;          -- list most recent customers first\r\n",
                "\r\n",
                "SELECT TOP (30)\r\n",
                "    c.CustomerID,               -- show customer ID\r\n",
                "    c.CustomerName,             -- show name\r\n",
                "    a.LastOrderID,              -- show most recent order ID\r\n",
                "    a.LastOrderDate             -- show date of that order\r\n",
                "FROM Sales.Customers AS c\r\n",
                "CROSS APPLY (                   -- apply a per-customer subquery\r\n",
                "    SELECT TOP (1)\r\n",
                "        o.OrderID AS LastOrderID,     -- get one (latest) order\r\n",
                "        o.OrderDate AS LastOrderDate\r\n",
                "    FROM Sales.Orders AS o\r\n",
                "    WHERE o.CustomerID = c.CustomerID  -- link subquery to current customer\r\n",
                "    ORDER BY o.OrderDate DESC           -- sort so newest order is first\r\n",
                ") AS a\r\n",
                "ORDER BY a.LastOrderDate DESC;          -- list most recent customers first\r\n",
                ""
            ],
            "metadata": {
                "language": "sql",
                "azdata_cell_guid": "09ccf8c1-ce15-4f67-aad0-4d41fdb4b463"
            },
            "outputs": [
                {
                    "output_type": "display_data",
                    "data": {
                        "text/html": "(30 rows affected)"
                    },
                    "metadata": {}
                },
                {
                    "output_type": "display_data",
                    "data": {
                        "text/html": "Total execution time: 00:00:00.143"
                    },
                    "metadata": {}
                },
                {
                    "output_type": "execute_result",
                    "metadata": {},
                    "execution_count": 15,
                    "data": {
                        "application/vnd.dataresource+json": {
                            "schema": {
                                "fields": [
                                    {
                                        "name": "CustomerID"
                                    },
                                    {
                                        "name": "CustomerName"
                                    },
                                    {
                                        "name": "LastOrderID"
                                    },
                                    {
                                        "name": "LastOrderDate"
                                    }
                                ]
                            },
                            "data": [
                                {
                                    "CustomerID": "29",
                                    "CustomerName": "Tailspin Toys (Eulaton, AL)",
                                    "LastOrderID": "73557",
                                    "LastOrderDate": "2016-05-31"
                                },
                                {
                                    "CustomerID": "28",
                                    "CustomerName": "Tailspin Toys (North Ridge, NY)",
                                    "LastOrderID": "73519",
                                    "LastOrderDate": "2016-05-31"
                                },
                                {
                                    "CustomerID": "11",
                                    "CustomerName": "Tailspin Toys (Devault, PA)",
                                    "LastOrderID": "73573",
                                    "LastOrderDate": "2016-05-31"
                                },
                                {
                                    "CustomerID": "6",
                                    "CustomerName": "Tailspin Toys (Jessie, ND)",
                                    "LastOrderID": "73547",
                                    "LastOrderDate": "2016-05-31"
                                },
                                {
                                    "CustomerID": "35",
                                    "CustomerName": "Tailspin Toys (Slanesville, WV)",
                                    "LastOrderID": "73507",
                                    "LastOrderDate": "2016-05-31"
                                },
                                {
                                    "CustomerID": "64",
                                    "CustomerName": "Tailspin Toys (Hodgdon, ME)",
                                    "LastOrderID": "73561",
                                    "LastOrderDate": "2016-05-31"
                                },
                                {
                                    "CustomerID": "76",
                                    "CustomerName": "Tailspin Toys (Yewed, OK)",
                                    "LastOrderID": "73513",
                                    "LastOrderDate": "2016-05-31"
                                },
                                {
                                    "CustomerID": "82",
                                    "CustomerName": "Tailspin Toys (La Cueva, NM)",
                                    "LastOrderID": "73538",
                                    "LastOrderDate": "2016-05-31"
                                },
                                {
                                    "CustomerID": "87",
                                    "CustomerName": "Tailspin Toys (Sauquoit, NY)",
                                    "LastOrderID": "73522",
                                    "LastOrderDate": "2016-05-31"
                                },
                                {
                                    "CustomerID": "90",
                                    "CustomerName": "Tailspin Toys (Tolna, ND)",
                                    "LastOrderID": "73565",
                                    "LastOrderDate": "2016-05-31"
                                },
                                {
                                    "CustomerID": "109",
                                    "CustomerName": "Tailspin Toys (South Laguna, CA)",
                                    "LastOrderID": "73530",
                                    "LastOrderDate": "2016-05-31"
                                },
                                {
                                    "CustomerID": "119",
                                    "CustomerName": "Tailspin Toys (Statenville, GA)",
                                    "LastOrderID": "73542",
                                    "LastOrderDate": "2016-05-31"
                                },
                                {
                                    "CustomerID": "150",
                                    "CustomerName": "Tailspin Toys (Corfu, NY)",
                                    "LastOrderID": "73543",
                                    "LastOrderDate": "2016-05-31"
                                },
                                {
                                    "CustomerID": "151",
                                    "CustomerName": "Tailspin Toys (Antares, AZ)",
                                    "LastOrderID": "73585",
                                    "LastOrderDate": "2016-05-31"
                                },
                                {
                                    "CustomerID": "162",
                                    "CustomerName": "Tailspin Toys (Glen Park, NY)",
                                    "LastOrderID": "73577",
                                    "LastOrderDate": "2016-05-31"
                                },
                                {
                                    "CustomerID": "166",
                                    "CustomerName": "Tailspin Toys (McCamey, TX)",
                                    "LastOrderID": "73516",
                                    "LastOrderDate": "2016-05-31"
                                },
                                {
                                    "CustomerID": "169",
                                    "CustomerName": "Tailspin Toys (Sinclair, WY)",
                                    "LastOrderID": "73515",
                                    "LastOrderDate": "2016-05-31"
                                },
                                {
                                    "CustomerID": "198",
                                    "CustomerName": "Tailspin Toys (Buell, MO)",
                                    "LastOrderID": "73535",
                                    "LastOrderDate": "2016-05-31"
                                },
                                {
                                    "CustomerID": "404",
                                    "CustomerName": "Wingtip Toys (Penns Creek, PA)",
                                    "LastOrderID": "73586",
                                    "LastOrderDate": "2016-05-31"
                                },
                                {
                                    "CustomerID": "406",
                                    "CustomerName": "Wingtip Toys (Tuscaloosa, AL)",
                                    "LastOrderID": "73531",
                                    "LastOrderDate": "2016-05-31"
                                },
                                {
                                    "CustomerID": "417",
                                    "CustomerName": "Wingtip Toys (Chetek, WI)",
                                    "LastOrderID": "73568",
                                    "LastOrderDate": "2016-05-31"
                                },
                                {
                                    "CustomerID": "437",
                                    "CustomerName": "Wingtip Toys (Cadogan, PA)",
                                    "LastOrderID": "73534",
                                    "LastOrderDate": "2016-05-31"
                                },
                                {
                                    "CustomerID": "466",
                                    "CustomerName": "Wingtip Toys (Lytle, TX)",
                                    "LastOrderID": "73529",
                                    "LastOrderDate": "2016-05-31"
                                },
                                {
                                    "CustomerID": "468",
                                    "CustomerName": "Wingtip Toys (Sunburg, MN)",
                                    "LastOrderID": "73528",
                                    "LastOrderDate": "2016-05-31"
                                },
                                {
                                    "CustomerID": "488",
                                    "CustomerName": "Wingtip Toys (Isabela, PR)",
                                    "LastOrderID": "73558",
                                    "LastOrderDate": "2016-05-31"
                                },
                                {
                                    "CustomerID": "490",
                                    "CustomerName": "Wingtip Toys (Beals, ME)",
                                    "LastOrderID": "73512",
                                    "LastOrderDate": "2016-05-31"
                                },
                                {
                                    "CustomerID": "492",
                                    "CustomerName": "Wingtip Toys (Birds, IL)",
                                    "LastOrderID": "73521",
                                    "LastOrderDate": "2016-05-31"
                                },
                                {
                                    "CustomerID": "498",
                                    "CustomerName": "Wingtip Toys (Obetz, OH)",
                                    "LastOrderID": "73582",
                                    "LastOrderDate": "2016-05-31"
                                },
                                {
                                    "CustomerID": "502",
                                    "CustomerName": "Wingtip Toys (Miesville, MN)",
                                    "LastOrderID": "73584",
                                    "LastOrderDate": "2016-05-31"
                                },
                                {
                                    "CustomerID": "532",
                                    "CustomerName": "Wingtip Toys (Waycross, GA)",
                                    "LastOrderID": "73533",
                                    "LastOrderDate": "2016-05-31"
                                }
                            ]
                        },
                        "text/html": [
                            "<table>",
                            "<tr><th>CustomerID</th><th>CustomerName</th><th>LastOrderID</th><th>LastOrderDate</th></tr>",
                            "<tr><td>29</td><td>Tailspin Toys (Eulaton, AL)</td><td>73557</td><td>2016-05-31</td></tr>",
                            "<tr><td>28</td><td>Tailspin Toys (North Ridge, NY)</td><td>73519</td><td>2016-05-31</td></tr>",
                            "<tr><td>11</td><td>Tailspin Toys (Devault, PA)</td><td>73573</td><td>2016-05-31</td></tr>",
                            "<tr><td>6</td><td>Tailspin Toys (Jessie, ND)</td><td>73547</td><td>2016-05-31</td></tr>",
                            "<tr><td>35</td><td>Tailspin Toys (Slanesville, WV)</td><td>73507</td><td>2016-05-31</td></tr>",
                            "<tr><td>64</td><td>Tailspin Toys (Hodgdon, ME)</td><td>73561</td><td>2016-05-31</td></tr>",
                            "<tr><td>76</td><td>Tailspin Toys (Yewed, OK)</td><td>73513</td><td>2016-05-31</td></tr>",
                            "<tr><td>82</td><td>Tailspin Toys (La Cueva, NM)</td><td>73538</td><td>2016-05-31</td></tr>",
                            "<tr><td>87</td><td>Tailspin Toys (Sauquoit, NY)</td><td>73522</td><td>2016-05-31</td></tr>",
                            "<tr><td>90</td><td>Tailspin Toys (Tolna, ND)</td><td>73565</td><td>2016-05-31</td></tr>",
                            "<tr><td>109</td><td>Tailspin Toys (South Laguna, CA)</td><td>73530</td><td>2016-05-31</td></tr>",
                            "<tr><td>119</td><td>Tailspin Toys (Statenville, GA)</td><td>73542</td><td>2016-05-31</td></tr>",
                            "<tr><td>150</td><td>Tailspin Toys (Corfu, NY)</td><td>73543</td><td>2016-05-31</td></tr>",
                            "<tr><td>151</td><td>Tailspin Toys (Antares, AZ)</td><td>73585</td><td>2016-05-31</td></tr>",
                            "<tr><td>162</td><td>Tailspin Toys (Glen Park, NY)</td><td>73577</td><td>2016-05-31</td></tr>",
                            "<tr><td>166</td><td>Tailspin Toys (McCamey, TX)</td><td>73516</td><td>2016-05-31</td></tr>",
                            "<tr><td>169</td><td>Tailspin Toys (Sinclair, WY)</td><td>73515</td><td>2016-05-31</td></tr>",
                            "<tr><td>198</td><td>Tailspin Toys (Buell, MO)</td><td>73535</td><td>2016-05-31</td></tr>",
                            "<tr><td>404</td><td>Wingtip Toys (Penns Creek, PA)</td><td>73586</td><td>2016-05-31</td></tr>",
                            "<tr><td>406</td><td>Wingtip Toys (Tuscaloosa, AL)</td><td>73531</td><td>2016-05-31</td></tr>",
                            "<tr><td>417</td><td>Wingtip Toys (Chetek, WI)</td><td>73568</td><td>2016-05-31</td></tr>",
                            "<tr><td>437</td><td>Wingtip Toys (Cadogan, PA)</td><td>73534</td><td>2016-05-31</td></tr>",
                            "<tr><td>466</td><td>Wingtip Toys (Lytle, TX)</td><td>73529</td><td>2016-05-31</td></tr>",
                            "<tr><td>468</td><td>Wingtip Toys (Sunburg, MN)</td><td>73528</td><td>2016-05-31</td></tr>",
                            "<tr><td>488</td><td>Wingtip Toys (Isabela, PR)</td><td>73558</td><td>2016-05-31</td></tr>",
                            "<tr><td>490</td><td>Wingtip Toys (Beals, ME)</td><td>73512</td><td>2016-05-31</td></tr>",
                            "<tr><td>492</td><td>Wingtip Toys (Birds, IL)</td><td>73521</td><td>2016-05-31</td></tr>",
                            "<tr><td>498</td><td>Wingtip Toys (Obetz, OH)</td><td>73582</td><td>2016-05-31</td></tr>",
                            "<tr><td>502</td><td>Wingtip Toys (Miesville, MN)</td><td>73584</td><td>2016-05-31</td></tr>",
                            "<tr><td>532</td><td>Wingtip Toys (Waycross, GA)</td><td>73533</td><td>2016-05-31</td></tr>",
                            "</table>"
                        ]
                    }
                }
            ],
            "execution_count": 15
        },
        {
            "cell_type": "code",
            "source": [
                "-- OUTER APPLY is like a LEFT JOIN: still shows customers without any orders\r\n",
                "-- 9) OUTER APPLY — show all customers even if no orders\r\n",
                "\r\n",
                "SELECT TOP (30)\r\n",
                "    c.CustomerID,               -- show customer ID\r\n",
                "    c.CustomerName,             -- show name\r\n",
                "    a.LastOrderID,              -- may be NULL if no order exists\r\n",
                "    a.LastOrderDate\r\n",
                "FROM Sales.Customers AS c\r\n",
                "OUTER APPLY (                   -- same logic as above, but keeps unmatched rows\r\n",
                "    SELECT TOP (1)\r\n",
                "        o.OrderID AS LastOrderID,\r\n",
                "        o.OrderDate AS LastOrderDate\r\n",
                "    FROM Sales.Orders AS o\r\n",
                "    WHERE o.CustomerID = c.CustomerID\r\n",
                "    ORDER BY o.OrderDate DESC\r\n",
                ") AS a\r\n",
                "ORDER BY c.CustomerName;         -- sort alphabetically\r\n",
                ""
            ],
            "metadata": {
                "language": "sql",
                "azdata_cell_guid": "9941b456-0cf8-460c-bb97-d2a69608d46b"
            },
            "outputs": [
                {
                    "output_type": "display_data",
                    "data": {
                        "text/html": "(30 rows affected)"
                    },
                    "metadata": {}
                },
                {
                    "output_type": "display_data",
                    "data": {
                        "text/html": "Total execution time: 00:00:00.127"
                    },
                    "metadata": {}
                },
                {
                    "output_type": "execute_result",
                    "metadata": {},
                    "execution_count": 17,
                    "data": {
                        "application/vnd.dataresource+json": {
                            "schema": {
                                "fields": [
                                    {
                                        "name": "CustomerID"
                                    },
                                    {
                                        "name": "CustomerName"
                                    },
                                    {
                                        "name": "LastOrderID"
                                    },
                                    {
                                        "name": "LastOrderDate"
                                    }
                                ]
                            },
                            "data": [
                                {
                                    "CustomerID": "832",
                                    "CustomerName": "Aakriti Byrraju",
                                    "LastOrderID": "73293",
                                    "LastOrderDate": "2016-05-27"
                                },
                                {
                                    "CustomerID": "836",
                                    "CustomerName": "Abel Spirlea",
                                    "LastOrderID": "73243",
                                    "LastOrderDate": "2016-05-26"
                                },
                                {
                                    "CustomerID": "869",
                                    "CustomerName": "Abel Tatarescu",
                                    "LastOrderID": "72420",
                                    "LastOrderDate": "2016-05-13"
                                },
                                {
                                    "CustomerID": "1048",
                                    "CustomerName": "Abhra Ganguly",
                                    "LastOrderID": "73312",
                                    "LastOrderDate": "2016-05-27"
                                },
                                {
                                    "CustomerID": "901",
                                    "CustomerName": "Adrian Andreasson",
                                    "LastOrderID": "73422",
                                    "LastOrderDate": "2016-05-28"
                                },
                                {
                                    "CustomerID": "1055",
                                    "CustomerName": "Adriana Pena",
                                    "LastOrderID": "73318",
                                    "LastOrderDate": "2016-05-27"
                                },
                                {
                                    "CustomerID": "1061",
                                    "CustomerName": "Agrita Abele",
                                    "LastOrderID": "73340",
                                    "LastOrderDate": "2016-05-27"
                                },
                                {
                                    "CustomerID": "817",
                                    "CustomerName": "Agrita Kanepa",
                                    "LastOrderID": "73300",
                                    "LastOrderDate": "2016-05-27"
                                },
                                {
                                    "CustomerID": "1034",
                                    "CustomerName": "Aishwarya Dantuluri",
                                    "LastOrderID": "73175",
                                    "LastOrderDate": "2016-05-26"
                                },
                                {
                                    "CustomerID": "1016",
                                    "CustomerName": "Aive Petrov",
                                    "LastOrderID": "73310",
                                    "LastOrderDate": "2016-05-27"
                                },
                                {
                                    "CustomerID": "906",
                                    "CustomerName": "Ajitaab Pakalapati",
                                    "LastOrderID": "73070",
                                    "LastOrderDate": "2016-05-24"
                                },
                                {
                                    "CustomerID": "987",
                                    "CustomerName": "Akhil Nadar",
                                    "LastOrderID": "73488",
                                    "LastOrderDate": "2016-05-30"
                                },
                                {
                                    "CustomerID": "804",
                                    "CustomerName": "Aleksandrs Riekstins",
                                    "LastOrderID": "73264",
                                    "LastOrderDate": "2016-05-26"
                                },
                                {
                                    "CustomerID": "810",
                                    "CustomerName": "Alena Kellnerova",
                                    "LastOrderID": "73546",
                                    "LastOrderDate": "2016-05-31"
                                },
                                {
                                    "CustomerID": "976",
                                    "CustomerName": "Alinne Matos",
                                    "LastOrderID": "72951",
                                    "LastOrderDate": "2016-05-21"
                                },
                                {
                                    "CustomerID": "897",
                                    "CustomerName": "Allan Mannik",
                                    "LastOrderID": "73325",
                                    "LastOrderDate": "2016-05-27"
                                },
                                {
                                    "CustomerID": "848",
                                    "CustomerName": "Alvin Bollinger",
                                    "LastOrderID": "73493",
                                    "LastOrderDate": "2016-05-30"
                                },
                                {
                                    "CustomerID": "992",
                                    "CustomerName": "Amarakumaar Gadiyaram",
                                    "LastOrderID": "72771",
                                    "LastOrderDate": "2016-05-19"
                                },
                                {
                                    "CustomerID": "861",
                                    "CustomerName": "Amarasimha Vinjamuri",
                                    "LastOrderID": "73038",
                                    "LastOrderDate": "2016-05-24"
                                },
                                {
                                    "CustomerID": "1049",
                                    "CustomerName": "Amet Shergill",
                                    "LastOrderID": "72260",
                                    "LastOrderDate": "2016-05-11"
                                },
                                {
                                    "CustomerID": "1050",
                                    "CustomerName": "Amrita Ganguly",
                                    "LastOrderID": "72492",
                                    "LastOrderDate": "2016-05-14"
                                },
                                {
                                    "CustomerID": "915",
                                    "CustomerName": "Ana Florea",
                                    "LastOrderID": "73520",
                                    "LastOrderDate": "2016-05-31"
                                },
                                {
                                    "CustomerID": "1060",
                                    "CustomerName": "Anand Mudaliyar",
                                    "LastOrderID": "73081",
                                    "LastOrderDate": "2016-05-24"
                                },
                                {
                                    "CustomerID": "968",
                                    "CustomerName": "Anca Gogean",
                                    "LastOrderID": "72824",
                                    "LastOrderDate": "2016-05-19"
                                },
                                {
                                    "CustomerID": "990",
                                    "CustomerName": "Andris Saulitis",
                                    "LastOrderID": "73153",
                                    "LastOrderDate": "2016-05-25"
                                },
                                {
                                    "CustomerID": "837",
                                    "CustomerName": "Anil Sarkar",
                                    "LastOrderID": "73253",
                                    "LastOrderDate": "2016-05-26"
                                },
                                {
                                    "CustomerID": "884",
                                    "CustomerName": "Anindya Ghatak",
                                    "LastOrderID": "73150",
                                    "LastOrderDate": "2016-05-25"
                                },
                                {
                                    "CustomerID": "938",
                                    "CustomerName": "Anna Gyarmathi",
                                    "LastOrderID": "72520",
                                    "LastOrderDate": "2016-05-16"
                                },
                                {
                                    "CustomerID": "855",
                                    "CustomerName": "Anna Mazzanti",
                                    "LastOrderID": "72036",
                                    "LastOrderDate": "2016-05-07"
                                },
                                {
                                    "CustomerID": "1013",
                                    "CustomerName": "Annette  Hetu",
                                    "LastOrderID": "73130",
                                    "LastOrderDate": "2016-05-25"
                                }
                            ]
                        },
                        "text/html": [
                            "<table>",
                            "<tr><th>CustomerID</th><th>CustomerName</th><th>LastOrderID</th><th>LastOrderDate</th></tr>",
                            "<tr><td>832</td><td>Aakriti Byrraju</td><td>73293</td><td>2016-05-27</td></tr>",
                            "<tr><td>836</td><td>Abel Spirlea</td><td>73243</td><td>2016-05-26</td></tr>",
                            "<tr><td>869</td><td>Abel Tatarescu</td><td>72420</td><td>2016-05-13</td></tr>",
                            "<tr><td>1048</td><td>Abhra Ganguly</td><td>73312</td><td>2016-05-27</td></tr>",
                            "<tr><td>901</td><td>Adrian Andreasson</td><td>73422</td><td>2016-05-28</td></tr>",
                            "<tr><td>1055</td><td>Adriana Pena</td><td>73318</td><td>2016-05-27</td></tr>",
                            "<tr><td>1061</td><td>Agrita Abele</td><td>73340</td><td>2016-05-27</td></tr>",
                            "<tr><td>817</td><td>Agrita Kanepa</td><td>73300</td><td>2016-05-27</td></tr>",
                            "<tr><td>1034</td><td>Aishwarya Dantuluri</td><td>73175</td><td>2016-05-26</td></tr>",
                            "<tr><td>1016</td><td>Aive Petrov</td><td>73310</td><td>2016-05-27</td></tr>",
                            "<tr><td>906</td><td>Ajitaab Pakalapati</td><td>73070</td><td>2016-05-24</td></tr>",
                            "<tr><td>987</td><td>Akhil Nadar</td><td>73488</td><td>2016-05-30</td></tr>",
                            "<tr><td>804</td><td>Aleksandrs Riekstins</td><td>73264</td><td>2016-05-26</td></tr>",
                            "<tr><td>810</td><td>Alena Kellnerova</td><td>73546</td><td>2016-05-31</td></tr>",
                            "<tr><td>976</td><td>Alinne Matos</td><td>72951</td><td>2016-05-21</td></tr>",
                            "<tr><td>897</td><td>Allan Mannik</td><td>73325</td><td>2016-05-27</td></tr>",
                            "<tr><td>848</td><td>Alvin Bollinger</td><td>73493</td><td>2016-05-30</td></tr>",
                            "<tr><td>992</td><td>Amarakumaar Gadiyaram</td><td>72771</td><td>2016-05-19</td></tr>",
                            "<tr><td>861</td><td>Amarasimha Vinjamuri</td><td>73038</td><td>2016-05-24</td></tr>",
                            "<tr><td>1049</td><td>Amet Shergill</td><td>72260</td><td>2016-05-11</td></tr>",
                            "<tr><td>1050</td><td>Amrita Ganguly</td><td>72492</td><td>2016-05-14</td></tr>",
                            "<tr><td>915</td><td>Ana Florea</td><td>73520</td><td>2016-05-31</td></tr>",
                            "<tr><td>1060</td><td>Anand Mudaliyar</td><td>73081</td><td>2016-05-24</td></tr>",
                            "<tr><td>968</td><td>Anca Gogean</td><td>72824</td><td>2016-05-19</td></tr>",
                            "<tr><td>990</td><td>Andris Saulitis</td><td>73153</td><td>2016-05-25</td></tr>",
                            "<tr><td>837</td><td>Anil Sarkar</td><td>73253</td><td>2016-05-26</td></tr>",
                            "<tr><td>884</td><td>Anindya Ghatak</td><td>73150</td><td>2016-05-25</td></tr>",
                            "<tr><td>938</td><td>Anna Gyarmathi</td><td>72520</td><td>2016-05-16</td></tr>",
                            "<tr><td>855</td><td>Anna Mazzanti</td><td>72036</td><td>2016-05-07</td></tr>",
                            "<tr><td>1013</td><td>Annette  Hetu</td><td>73130</td><td>2016-05-25</td></tr>",
                            "</table>"
                        ]
                    }
                }
            ],
            "execution_count": 17
        },
        {
            "cell_type": "code",
            "source": [
                "-- Show the top 10 items by total sales revenue using a nested derived table\r\n",
                "-- 10) Derived table — Top 10 best-selling stock items\r\n",
                "\r\n",
                "SELECT TOP (10)\r\n",
                "    x.StockItemID,              -- show item ID\r\n",
                "    x.StockItemName,            -- show item name\r\n",
                "    x.TotalSales                -- show total revenue\r\n",
                "FROM (\r\n",
                "    SELECT\r\n",
                "        si.StockItemID,                          -- inner query aggregates by item\r\n",
                "        si.StockItemName,\r\n",
                "        SUM(ol.Quantity * ol.UnitPrice) AS TotalSales  -- compute total $ per item\r\n",
                "    FROM Sales.OrderLines AS ol\r\n",
                "    JOIN Warehouse.StockItems AS si ON si.StockItemID = ol.StockItemID\r\n",
                "    GROUP BY si.StockItemID, si.StockItemName\r\n",
                ") AS x                                        -- name derived table \"x\"\r\n",
                "ORDER BY x.TotalSales DESC;                   -- show highest-selling items first\r\n",
                ""
            ],
            "metadata": {
                "language": "sql",
                "azdata_cell_guid": "4706338d-b49e-46a5-8c38-f032718d7c8c"
            },
            "outputs": [
                {
                    "output_type": "display_data",
                    "data": {
                        "text/html": "(10 rows affected)"
                    },
                    "metadata": {}
                },
                {
                    "output_type": "display_data",
                    "data": {
                        "text/html": "Total execution time: 00:00:00.010"
                    },
                    "metadata": {}
                },
                {
                    "output_type": "execute_result",
                    "metadata": {},
                    "execution_count": 18,
                    "data": {
                        "application/vnd.dataresource+json": {
                            "schema": {
                                "fields": [
                                    {
                                        "name": "StockItemID"
                                    },
                                    {
                                        "name": "StockItemName"
                                    },
                                    {
                                        "name": "TotalSales"
                                    }
                                ]
                            },
                            "data": [
                                {
                                    "StockItemID": "215",
                                    "StockItemName": "Air cushion machine (Blue)",
                                    "TotalSales": "11107251.00"
                                },
                                {
                                    "StockItemID": "173",
                                    "StockItemName": "32 mm Anti static bubble wrap (Blue) 50m",
                                    "TotalSales": "6384000.00"
                                },
                                {
                                    "StockItemID": "167",
                                    "StockItemName": "10 mm Anti static bubble wrap (Blue) 50m",
                                    "TotalSales": "6329070.00"
                                },
                                {
                                    "StockItemID": "161",
                                    "StockItemName": "20 mm Double sided bubble wrap 50m",
                                    "TotalSales": "6214320.00"
                                },
                                {
                                    "StockItemID": "164",
                                    "StockItemName": "32 mm Double sided bubble wrap 50m",
                                    "TotalSales": "6190240.00"
                                },
                                {
                                    "StockItemID": "158",
                                    "StockItemName": "10 mm Double sided bubble wrap 50m",
                                    "TotalSales": "5943000.00"
                                },
                                {
                                    "StockItemID": "170",
                                    "StockItemName": "20 mm Anti static bubble wrap (Blue) 50m",
                                    "TotalSales": "5795640.00"
                                },
                                {
                                    "StockItemID": "172",
                                    "StockItemName": "32 mm Anti static bubble wrap (Blue) 20m",
                                    "TotalSales": "2900160.00"
                                },
                                {
                                    "StockItemID": "219",
                                    "StockItemName": "Void fill 400 L bag (White) 400L",
                                    "TotalSales": "2871500.00"
                                },
                                {
                                    "StockItemID": "169",
                                    "StockItemName": "20 mm Anti static bubble wrap (Blue) 20m",
                                    "TotalSales": "2468700.00"
                                }
                            ]
                        },
                        "text/html": [
                            "<table>",
                            "<tr><th>StockItemID</th><th>StockItemName</th><th>TotalSales</th></tr>",
                            "<tr><td>215</td><td>Air cushion machine (Blue)</td><td>11107251.00</td></tr>",
                            "<tr><td>173</td><td>32 mm Anti static bubble wrap (Blue) 50m</td><td>6384000.00</td></tr>",
                            "<tr><td>167</td><td>10 mm Anti static bubble wrap (Blue) 50m</td><td>6329070.00</td></tr>",
                            "<tr><td>161</td><td>20 mm Double sided bubble wrap 50m</td><td>6214320.00</td></tr>",
                            "<tr><td>164</td><td>32 mm Double sided bubble wrap 50m</td><td>6190240.00</td></tr>",
                            "<tr><td>158</td><td>10 mm Double sided bubble wrap 50m</td><td>5943000.00</td></tr>",
                            "<tr><td>170</td><td>20 mm Anti static bubble wrap (Blue) 50m</td><td>5795640.00</td></tr>",
                            "<tr><td>172</td><td>32 mm Anti static bubble wrap (Blue) 20m</td><td>2900160.00</td></tr>",
                            "<tr><td>219</td><td>Void fill 400 L bag (White) 400L</td><td>2871500.00</td></tr>",
                            "<tr><td>169</td><td>20 mm Anti static bubble wrap (Blue) 20m</td><td>2468700.00</td></tr>",
                            "</table>"
                        ]
                    }
                }
            ],
            "execution_count": 18
        }
    ]
}