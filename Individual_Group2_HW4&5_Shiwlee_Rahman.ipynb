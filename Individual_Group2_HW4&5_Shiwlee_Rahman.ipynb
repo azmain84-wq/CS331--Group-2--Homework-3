{
    "metadata": {
        "kernelspec": {
            "name": "SQL",
            "display_name": "SQL",
            "language": "sql"
        },
        "language_info": {
            "name": "sql",
            "version": ""
        }
    },
    "nbformat_minor": 2,
    "nbformat": 4,
    "cells": [
        {
            "cell_type": "markdown",
            "source": [
                "\\-- Shiwlee Rahman  \n",
                "\\-- Professor: Petter Heller  \n",
                "\\-- Group #2 Hw # 4\n",
                "\n",
                "<span style=\"color: var(--vscode-foreground);\">--I used ChatGPT primarily as a study aid to help me understand the material and guide my learning process. While I received some assistance with forming certain queries, the majority of the --work and ideas presented here are my own.</span>"
            ],
            "metadata": {
                "azdata_cell_guid": "ffcffe9a-645a-43b4-9d0e-cbdce58f1dbd"
            },
            "attachments": {}
        },
        {
            "cell_type": "code",
            "source": [
                "--1: List all orders whose total value is above the overall average order value across the company.\n",
                "\n",
                "-- Orders whose total is above the overall average (scalar self-contained)\n",
                "\n",
                "USE WideWorldImporters;\n",
                "\n",
                "SELECT TOP (15)\n",
                "       ol.OrderID,\n",
                "       SUM(ol.Quantity * ol.UnitPrice) AS order_total\n",
                "FROM Sales.OrderLines AS ol\n",
                "GROUP BY ol.OrderID\n",
                "HAVING SUM(ol.Quantity * ol.UnitPrice) >\n",
                "       (SELECT AVG(x.order_total)\n",
                "        FROM (\n",
                "             SELECT SUM(Quantity * UnitPrice) AS order_total\n",
                "             FROM Sales.OrderLines\n",
                "             GROUP BY OrderID\n",
                "        ) AS x)\n",
                "ORDER BY order_total DESC;"
            ],
            "metadata": {
                "azdata_cell_guid": "5a0d5f36-9399-4e2c-80d3-0238f35954ea",
                "language": "sql"
            },
            "outputs": [
                {
                    "output_type": "display_data",
                    "data": {
                        "text/html": "(15 rows affected)"
                    },
                    "metadata": {}
                },
                {
                    "output_type": "display_data",
                    "data": {
                        "text/html": "Total execution time: 00:00:00.818"
                    },
                    "metadata": {}
                },
                {
                    "output_type": "execute_result",
                    "metadata": {},
                    "execution_count": 1,
                    "data": {
                        "application/vnd.dataresource+json": {
                            "schema": {
                                "fields": [
                                    {
                                        "name": "OrderID"
                                    },
                                    {
                                        "name": "order_total"
                                    }
                                ]
                            },
                            "data": [
                                {
                                    "OrderID": "30269",
                                    "order_total": "32026.00"
                                },
                                {
                                    "OrderID": "66991",
                                    "order_total": "29536.00"
                                },
                                {
                                    "OrderID": "49943",
                                    "order_total": "28688.60"
                                },
                                {
                                    "OrderID": "47596",
                                    "order_total": "27640.00"
                                },
                                {
                                    "OrderID": "69920",
                                    "order_total": "27382.00"
                                },
                                {
                                    "OrderID": "72045",
                                    "order_total": "27366.00"
                                },
                                {
                                    "OrderID": "40366",
                                    "order_total": "27306.00"
                                },
                                {
                                    "OrderID": "61568",
                                    "order_total": "27161.00"
                                },
                                {
                                    "OrderID": "17103",
                                    "order_total": "26787.00"
                                },
                                {
                                    "OrderID": "17181",
                                    "order_total": "26645.00"
                                },
                                {
                                    "OrderID": "38260",
                                    "order_total": "25893.00"
                                },
                                {
                                    "OrderID": "37820",
                                    "order_total": "25586.00"
                                },
                                {
                                    "OrderID": "32293",
                                    "order_total": "25487.00"
                                },
                                {
                                    "OrderID": "45279",
                                    "order_total": "25145.00"
                                },
                                {
                                    "OrderID": "51078",
                                    "order_total": "24892.50"
                                }
                            ]
                        },
                        "text/html": [
                            "<table>",
                            "<tr><th>OrderID</th><th>order_total</th></tr>",
                            "<tr><td>30269</td><td>32026.00</td></tr>",
                            "<tr><td>66991</td><td>29536.00</td></tr>",
                            "<tr><td>49943</td><td>28688.60</td></tr>",
                            "<tr><td>47596</td><td>27640.00</td></tr>",
                            "<tr><td>69920</td><td>27382.00</td></tr>",
                            "<tr><td>72045</td><td>27366.00</td></tr>",
                            "<tr><td>40366</td><td>27306.00</td></tr>",
                            "<tr><td>61568</td><td>27161.00</td></tr>",
                            "<tr><td>17103</td><td>26787.00</td></tr>",
                            "<tr><td>17181</td><td>26645.00</td></tr>",
                            "<tr><td>38260</td><td>25893.00</td></tr>",
                            "<tr><td>37820</td><td>25586.00</td></tr>",
                            "<tr><td>32293</td><td>25487.00</td></tr>",
                            "<tr><td>45279</td><td>25145.00</td></tr>",
                            "<tr><td>51078</td><td>24892.50</td></tr>",
                            "</table>"
                        ]
                    }
                }
            ],
            "execution_count": 1
        },
        {
            "cell_type": "code",
            "source": [
                "\n",
                "-- 2: Customers who placed at least one order (EXISTS, correlated)\n",
                "-- presence test with EXISTS (short-circuits)\n",
                "SELECT c.CustomerID, c.CustomerName\n",
                "FROM Sales.Customers AS c\n",
                "WHERE EXISTS (\n",
                "  SELECT 1\n",
                "  FROM Sales.Orders AS o\n",
                "  WHERE o.CustomerID = c.CustomerID\n",
                ")\n",
                "ORDER BY c.CustomerID;\n",
                ""
            ],
            "metadata": {
                "language": "sql",
                "azdata_cell_guid": "63959071-1b92-4a3f-9a12-f8f3d0f68595"
            },
            "outputs": [
                {
                    "output_type": "display_data",
                    "data": {
                        "text/html": "(663 rows affected)"
                    },
                    "metadata": {}
                },
                {
                    "output_type": "display_data",
                    "data": {
                        "text/html": "Total execution time: 00:00:00.085"
                    },
                    "metadata": {}
                },
                {
                    "output_type": "execute_result",
                    "execution_count": 2,
                    "data": {
                        "application/vnd.dataresource+json": {
                            "schema": {
                                "fields": [
                                    {
                                        "name": "CustomerID"
                                    },
                                    {
                                        "name": "CustomerName"
                                    }
                                ]
                            },
                            "data": [
                                {
                                    "CustomerID": "1",
                                    "CustomerName": "Tailspin Toys (Head Office)"
                                },
                                {
                                    "CustomerID": "2",
                                    "CustomerName": "Tailspin Toys (Sylvanite, MT)"
                                },
                                {
                                    "CustomerID": "3",
                                    "CustomerName": "Tailspin Toys (Peeples Valley, AZ)"
                                },
                                {
                                    "CustomerID": "4",
                                    "CustomerName": "Tailspin Toys (Medicine Lodge, KS)"
                                },
                                {
                                    "CustomerID": "5",
                                    "CustomerName": "Tailspin Toys (Gasport, NY)"
                                },
                                {
                                    "CustomerID": "6",
                                    "CustomerName": "Tailspin Toys (Jessie, ND)"
                                },
                                {
                                    "CustomerID": "7",
                                    "CustomerName": "Tailspin Toys (Frankewing, TN)"
                                },
                                {
                                    "CustomerID": "8",
                                    "CustomerName": "Tailspin Toys (Bow Mar, CO)"
                                },
                                {
                                    "CustomerID": "9",
                                    "CustomerName": "Tailspin Toys (Netcong, NJ)"
                                },
                                {
                                    "CustomerID": "10",
                                    "CustomerName": "Tailspin Toys (Wimbledon, ND)"
                                },
                                {
                                    "CustomerID": "11",
                                    "CustomerName": "Tailspin Toys (Devault, PA)"
                                },
                                {
                                    "CustomerID": "12",
                                    "CustomerName": "Tailspin Toys (Biscay, MN)"
                                },
                                {
                                    "CustomerID": "13",
                                    "CustomerName": "Tailspin Toys (Stonefort, IL)"
                                },
                                {
                                    "CustomerID": "14",
                                    "CustomerName": "Tailspin Toys (Long Meadow, MD)"
                                },
                                {
                                    "CustomerID": "15",
                                    "CustomerName": "Tailspin Toys (Batson, TX)"
                                },
                                {
                                    "CustomerID": "16",
                                    "CustomerName": "Tailspin Toys (Coney Island, MO)"
                                },
                                {
                                    "CustomerID": "17",
                                    "CustomerName": "Tailspin Toys (East Fultonham, OH)"
                                },
                                {
                                    "CustomerID": "18",
                                    "CustomerName": "Tailspin Toys (Goffstown, NH)"
                                },
                                {
                                    "CustomerID": "19",
                                    "CustomerName": "Tailspin Toys (Lemeta, AK)"
                                },
                                {
                                    "CustomerID": "20",
                                    "CustomerName": "Tailspin Toys (College Place, WA)"
                                },
                                {
                                    "CustomerID": "21",
                                    "CustomerName": "Tailspin Toys (Tresckow, PA)"
                                },
                                {
                                    "CustomerID": "22",
                                    "CustomerName": "Tailspin Toys (Ward Ridge, FL)"
                                },
                                {
                                    "CustomerID": "23",
                                    "CustomerName": "Tailspin Toys (Ikatan, AK)"
                                },
                                {
                                    "CustomerID": "24",
                                    "CustomerName": "Tailspin Toys (Dundarrach, NC)"
                                },
                                {
                                    "CustomerID": "25",
                                    "CustomerName": "Tailspin Toys (Avenal, CA)"
                                },
                                {
                                    "CustomerID": "26",
                                    "CustomerName": "Tailspin Toys (Hedrick, IA)"
                                },
                                {
                                    "CustomerID": "27",
                                    "CustomerName": "Tailspin Toys (Bowlus, MN)"
                                },
                                {
                                    "CustomerID": "28",
                                    "CustomerName": "Tailspin Toys (North Ridge, NY)"
                                },
                                {
                                    "CustomerID": "29",
                                    "CustomerName": "Tailspin Toys (Eulaton, AL)"
                                },
                                {
                                    "CustomerID": "30",
                                    "CustomerName": "Tailspin Toys (Koontzville, WA)"
                                },
                                {
                                    "CustomerID": "31",
                                    "CustomerName": "Tailspin Toys (Lake Stevens, WA)"
                                },
                                {
                                    "CustomerID": "32",
                                    "CustomerName": "Tailspin Toys (Maypearl, TX)"
                                },
                                {
                                    "CustomerID": "33",
                                    "CustomerName": "Tailspin Toys (Boyden Arbor, SC)"
                                },
                                {
                                    "CustomerID": "34",
                                    "CustomerName": "Tailspin Toys (Dallardsville, TX)"
                                },
                                {
                                    "CustomerID": "35",
                                    "CustomerName": "Tailspin Toys (Slanesville, WV)"
                                },
                                {
                                    "CustomerID": "36",
                                    "CustomerName": "Tailspin Toys (Ekron, KY)"
                                },
                                {
                                    "CustomerID": "37",
                                    "CustomerName": "Tailspin Toys (Kerby, OR)"
                                },
                                {
                                    "CustomerID": "38",
                                    "CustomerName": "Tailspin Toys (Airport Drive, MO)"
                                },
                                {
                                    "CustomerID": "39",
                                    "CustomerName": "Tailspin Toys (Diablock, KY)"
                                },
                                {
                                    "CustomerID": "40",
                                    "CustomerName": "Tailspin Toys (Impact, TX)"
                                },
                                {
                                    "CustomerID": "41",
                                    "CustomerName": "Tailspin Toys (Olivette, MO)"
                                },
                                {
                                    "CustomerID": "42",
                                    "CustomerName": "Tailspin Toys (Arietta, NY)"
                                },
                                {
                                    "CustomerID": "43",
                                    "CustomerName": "Tailspin Toys (Upper Preston, WA)"
                                },
                                {
                                    "CustomerID": "44",
                                    "CustomerName": "Tailspin Toys (Amanda Park, WA)"
                                },
                                {
                                    "CustomerID": "45",
                                    "CustomerName": "Tailspin Toys (Severna Park, MD)"
                                },
                                {
                                    "CustomerID": "46",
                                    "CustomerName": "Tailspin Toys (Jemison, AL)"
                                },
                                {
                                    "CustomerID": "47",
                                    "CustomerName": "Tailspin Toys (Lake Hughes, CA)"
                                },
                                {
                                    "CustomerID": "48",
                                    "CustomerName": "Tailspin Toys (Trentwood, WA)"
                                },
                                {
                                    "CustomerID": "49",
                                    "CustomerName": "Tailspin Toys (Muir, MI)"
                                },
                                {
                                    "CustomerID": "50",
                                    "CustomerName": "Tailspin Toys (Hambleton, WV)"
                                },
                                {
                                    "CustomerID": "51",
                                    "CustomerName": "Tailspin Toys (Imlaystown, NJ)"
                                },
                                {
                                    "CustomerID": "52",
                                    "CustomerName": "Tailspin Toys (Idria, CA)"
                                },
                                {
                                    "CustomerID": "53",
                                    "CustomerName": "Tailspin Toys (Nanafalia, AL)"
                                },
                                {
                                    "CustomerID": "54",
                                    "CustomerName": "Tailspin Toys (Railroad, PA)"
                                },
                                {
                                    "CustomerID": "55",
                                    "CustomerName": "Tailspin Toys (Gum Branch, GA)"
                                },
                                {
                                    "CustomerID": "56",
                                    "CustomerName": "Tailspin Toys (Royal City, WA)"
                                },
                                {
                                    "CustomerID": "57",
                                    "CustomerName": "Tailspin Toys (Lakemore, OH)"
                                },
                                {
                                    "CustomerID": "58",
                                    "CustomerName": "Tailspin Toys (Mappsburg, VA)"
                                },
                                {
                                    "CustomerID": "59",
                                    "CustomerName": "Tailspin Toys (Edgartown, MA)"
                                },
                                {
                                    "CustomerID": "60",
                                    "CustomerName": "Tailspin Toys (East Dailey, WV)"
                                },
                                {
                                    "CustomerID": "61",
                                    "CustomerName": "Tailspin Toys (Fairfield Glade, TN)"
                                },
                                {
                                    "CustomerID": "62",
                                    "CustomerName": "Tailspin Toys (Great Neck Estates, NY)"
                                },
                                {
                                    "CustomerID": "63",
                                    "CustomerName": "Tailspin Toys (Stallion Springs, CA)"
                                },
                                {
                                    "CustomerID": "64",
                                    "CustomerName": "Tailspin Toys (Hodgdon, ME)"
                                },
                                {
                                    "CustomerID": "65",
                                    "CustomerName": "Tailspin Toys (North Cowden, TX)"
                                },
                                {
                                    "CustomerID": "66",
                                    "CustomerName": "Tailspin Toys (Madaket, MA)"
                                },
                                {
                                    "CustomerID": "67",
                                    "CustomerName": "Tailspin Toys (Sentinel Butte, ND)"
                                },
                                {
                                    "CustomerID": "68",
                                    "CustomerName": "Tailspin Toys (Gardere, LA)"
                                },
                                {
                                    "CustomerID": "69",
                                    "CustomerName": "Tailspin Toys (Lytle Creek, CA)"
                                },
                                {
                                    "CustomerID": "70",
                                    "CustomerName": "Tailspin Toys (New Baden, IL)"
                                },
                                {
                                    "CustomerID": "71",
                                    "CustomerName": "Tailspin Toys (Good Hart, MI)"
                                },
                                {
                                    "CustomerID": "72",
                                    "CustomerName": "Tailspin Toys (Cortaro, AZ)"
                                },
                                {
                                    "CustomerID": "73",
                                    "CustomerName": "Tailspin Toys (Cokato, MN)"
                                },
                                {
                                    "CustomerID": "74",
                                    "CustomerName": "Tailspin Toys (Indios, PR)"
                                },
                                {
                                    "CustomerID": "75",
                                    "CustomerName": "Tailspin Toys (Windsor Locks, CT)"
                                },
                                {
                                    "CustomerID": "76",
                                    "CustomerName": "Tailspin Toys (Yewed, OK)"
                                },
                                {
                                    "CustomerID": "77",
                                    "CustomerName": "Tailspin Toys (Hahira, GA)"
                                },
                                {
                                    "CustomerID": "78",
                                    "CustomerName": "Tailspin Toys (Sekiu, WA)"
                                },
                                {
                                    "CustomerID": "79",
                                    "CustomerName": "Tailspin Toys (Page City, KS)"
                                },
                                {
                                    "CustomerID": "80",
                                    "CustomerName": "Tailspin Toys (Valdese, NC)"
                                },
                                {
                                    "CustomerID": "81",
                                    "CustomerName": "Tailspin Toys (Big Moose, NY)"
                                },
                                {
                                    "CustomerID": "82",
                                    "CustomerName": "Tailspin Toys (La Cueva, NM)"
                                },
                                {
                                    "CustomerID": "83",
                                    "CustomerName": "Tailspin Toys (Absecon, NJ)"
                                },
                                {
                                    "CustomerID": "84",
                                    "CustomerName": "Tailspin Toys (Aceitunas, PR)"
                                },
                                {
                                    "CustomerID": "85",
                                    "CustomerName": "Tailspin Toys (Andrix, CO)"
                                },
                                {
                                    "CustomerID": "86",
                                    "CustomerName": "Tailspin Toys (New Lexington, OH)"
                                },
                                {
                                    "CustomerID": "87",
                                    "CustomerName": "Tailspin Toys (Sauquoit, NY)"
                                },
                                {
                                    "CustomerID": "88",
                                    "CustomerName": "Tailspin Toys (Dracut, MA)"
                                },
                                {
                                    "CustomerID": "89",
                                    "CustomerName": "Tailspin Toys (Victory Gardens, NJ)"
                                },
                                {
                                    "CustomerID": "90",
                                    "CustomerName": "Tailspin Toys (Tolna, ND)"
                                },
                                {
                                    "CustomerID": "91",
                                    "CustomerName": "Tailspin Toys (Alstead, NH)"
                                },
                                {
                                    "CustomerID": "92",
                                    "CustomerName": "Tailspin Toys (Sans Souci, SC)"
                                },
                                {
                                    "CustomerID": "93",
                                    "CustomerName": "Tailspin Toys (Clewiston, FL)"
                                },
                                {
                                    "CustomerID": "94",
                                    "CustomerName": "Tailspin Toys (Cheyenne Wells, CO)"
                                },
                                {
                                    "CustomerID": "95",
                                    "CustomerName": "Tailspin Toys (Lavon, TX)"
                                },
                                {
                                    "CustomerID": "96",
                                    "CustomerName": "Tailspin Toys (South La Paloma, TX)"
                                },
                                {
                                    "CustomerID": "97",
                                    "CustomerName": "Tailspin Toys (Manchester Center, VT)"
                                },
                                {
                                    "CustomerID": "98",
                                    "CustomerName": "Tailspin Toys (El Centro, CA)"
                                },
                                {
                                    "CustomerID": "99",
                                    "CustomerName": "Tailspin Toys (Guin, AL)"
                                },
                                {
                                    "CustomerID": "100",
                                    "CustomerName": "Tailspin Toys (Tunnelhill, PA)"
                                },
                                {
                                    "CustomerID": "101",
                                    "CustomerName": "Tailspin Toys (Cundiyo, NM)"
                                },
                                {
                                    "CustomerID": "102",
                                    "CustomerName": "Tailspin Toys (Fieldbrook, CA)"
                                },
                                {
                                    "CustomerID": "103",
                                    "CustomerName": "Tailspin Toys (Kalvesta, KS)"
                                },
                                {
                                    "CustomerID": "104",
                                    "CustomerName": "Tailspin Toys (Wallagrass, ME)"
                                },
                                {
                                    "CustomerID": "105",
                                    "CustomerName": "Tailspin Toys (Tomnolen, MS)"
                                },
                                {
                                    "CustomerID": "106",
                                    "CustomerName": "Tailspin Toys (Tumacacori, AZ)"
                                },
                                {
                                    "CustomerID": "107",
                                    "CustomerName": "Tailspin Toys (Glen Avon, CA)"
                                },
                                {
                                    "CustomerID": "108",
                                    "CustomerName": "Tailspin Toys (Bernie, MO)"
                                },
                                {
                                    "CustomerID": "109",
                                    "CustomerName": "Tailspin Toys (South Laguna, CA)"
                                },
                                {
                                    "CustomerID": "110",
                                    "CustomerName": "Tailspin Toys (North Crows Nest, IN)"
                                },
                                {
                                    "CustomerID": "111",
                                    "CustomerName": "Tailspin Toys (Oriole Beach, FL)"
                                },
                                {
                                    "CustomerID": "112",
                                    "CustomerName": "Tailspin Toys (Sallyards, KS)"
                                },
                                {
                                    "CustomerID": "113",
                                    "CustomerName": "Tailspin Toys (Dahlia, NM)"
                                },
                                {
                                    "CustomerID": "114",
                                    "CustomerName": "Tailspin Toys (Cherry Grove Beach, SC)"
                                },
                                {
                                    "CustomerID": "115",
                                    "CustomerName": "Tailspin Toys (Bethania, NC)"
                                },
                                {
                                    "CustomerID": "116",
                                    "CustomerName": "Tailspin Toys (Rafael Capó, PR)"
                                },
                                {
                                    "CustomerID": "117",
                                    "CustomerName": "Tailspin Toys (Scofield, UT)"
                                },
                                {
                                    "CustomerID": "118",
                                    "CustomerName": "Tailspin Toys (Vassalboro, ME)"
                                },
                                {
                                    "CustomerID": "119",
                                    "CustomerName": "Tailspin Toys (Statenville, GA)"
                                },
                                {
                                    "CustomerID": "120",
                                    "CustomerName": "Tailspin Toys (Bratenahl, OH)"
                                },
                                {
                                    "CustomerID": "121",
                                    "CustomerName": "Tailspin Toys (Elrosa, MN)"
                                },
                                {
                                    "CustomerID": "122",
                                    "CustomerName": "Tailspin Toys (McClave, CO)"
                                },
                                {
                                    "CustomerID": "123",
                                    "CustomerName": "Tailspin Toys (Roe Park, NY)"
                                },
                                {
                                    "CustomerID": "124",
                                    "CustomerName": "Tailspin Toys (Hanoverton, OH)"
                                },
                                {
                                    "CustomerID": "125",
                                    "CustomerName": "Tailspin Toys (Annamoriah, WV)"
                                },
                                {
                                    "CustomerID": "126",
                                    "CustomerName": "Tailspin Toys (Francis Mills, NJ)"
                                },
                                {
                                    "CustomerID": "127",
                                    "CustomerName": "Tailspin Toys (Point Roberts, WA)"
                                },
                                {
                                    "CustomerID": "128",
                                    "CustomerName": "Tailspin Toys (East Portal, CO)"
                                },
                                {
                                    "CustomerID": "129",
                                    "CustomerName": "Tailspin Toys (Mineral Hills, MI)"
                                },
                                {
                                    "CustomerID": "130",
                                    "CustomerName": "Tailspin Toys (Maple Shade, NJ)"
                                },
                                {
                                    "CustomerID": "131",
                                    "CustomerName": "Tailspin Toys (Kwethluk, AK)"
                                },
                                {
                                    "CustomerID": "132",
                                    "CustomerName": "Tailspin Toys (Minidoka, ID)"
                                },
                                {
                                    "CustomerID": "133",
                                    "CustomerName": "Tailspin Toys (Lake Erie Beach, NY)"
                                },
                                {
                                    "CustomerID": "134",
                                    "CustomerName": "Tailspin Toys (Tavares, FL)"
                                },
                                {
                                    "CustomerID": "135",
                                    "CustomerName": "Tailspin Toys (Terre du Lac, MO)"
                                },
                                {
                                    "CustomerID": "136",
                                    "CustomerName": "Tailspin Toys (Mount Montgomery, NV)"
                                },
                                {
                                    "CustomerID": "137",
                                    "CustomerName": "Tailspin Toys (Carbonville, UT)"
                                },
                                {
                                    "CustomerID": "138",
                                    "CustomerName": "Tailspin Toys (Navassa, NC)"
                                },
                                {
                                    "CustomerID": "139",
                                    "CustomerName": "Tailspin Toys (Hardeeville, SC)"
                                },
                                {
                                    "CustomerID": "140",
                                    "CustomerName": "Tailspin Toys (Furley, KS)"
                                },
                                {
                                    "CustomerID": "141",
                                    "CustomerName": "Tailspin Toys (Arrow Rock, MO)"
                                },
                                {
                                    "CustomerID": "142",
                                    "CustomerName": "Tailspin Toys (King Cove, AK)"
                                },
                                {
                                    "CustomerID": "143",
                                    "CustomerName": "Tailspin Toys (Ashtabula, OH)"
                                },
                                {
                                    "CustomerID": "144",
                                    "CustomerName": "Tailspin Toys (Larose, LA)"
                                },
                                {
                                    "CustomerID": "145",
                                    "CustomerName": "Tailspin Toys (Manahawkin, NJ)"
                                },
                                {
                                    "CustomerID": "146",
                                    "CustomerName": "Tailspin Toys (Belgreen, AL)"
                                },
                                {
                                    "CustomerID": "147",
                                    "CustomerName": "Tailspin Toys (Fishtail, MT)"
                                },
                                {
                                    "CustomerID": "148",
                                    "CustomerName": "Tailspin Toys (Baraboo, WI)"
                                },
                                {
                                    "CustomerID": "149",
                                    "CustomerName": "Tailspin Toys (Inguadona, MN)"
                                },
                                {
                                    "CustomerID": "150",
                                    "CustomerName": "Tailspin Toys (Corfu, NY)"
                                },
                                {
                                    "CustomerID": "151",
                                    "CustomerName": "Tailspin Toys (Antares, AZ)"
                                },
                                {
                                    "CustomerID": "152",
                                    "CustomerName": "Tailspin Toys (Sun River, MT)"
                                },
                                {
                                    "CustomerID": "153",
                                    "CustomerName": "Tailspin Toys (Marcell, MN)"
                                },
                                {
                                    "CustomerID": "154",
                                    "CustomerName": "Tailspin Toys (Eden Valley, MN)"
                                },
                                {
                                    "CustomerID": "155",
                                    "CustomerName": "Tailspin Toys (Arbor Vitae, WI)"
                                },
                                {
                                    "CustomerID": "156",
                                    "CustomerName": "Tailspin Toys (Hollywood Park, TX)"
                                },
                                {
                                    "CustomerID": "157",
                                    "CustomerName": "Tailspin Toys (Saks, AL)"
                                },
                                {
                                    "CustomerID": "158",
                                    "CustomerName": "Tailspin Toys (Donner, LA)"
                                },
                                {
                                    "CustomerID": "159",
                                    "CustomerName": "Tailspin Toys (Saint Louis Park, MN)"
                                },
                                {
                                    "CustomerID": "160",
                                    "CustomerName": "Tailspin Toys (Crary, ND)"
                                },
                                {
                                    "CustomerID": "161",
                                    "CustomerName": "Tailspin Toys (Aspen Park, CO)"
                                },
                                {
                                    "CustomerID": "162",
                                    "CustomerName": "Tailspin Toys (Glen Park, NY)"
                                },
                                {
                                    "CustomerID": "163",
                                    "CustomerName": "Tailspin Toys (Panaca, NV)"
                                },
                                {
                                    "CustomerID": "164",
                                    "CustomerName": "Tailspin Toys (Rothsville, PA)"
                                },
                                {
                                    "CustomerID": "165",
                                    "CustomerName": "Tailspin Toys (Topstone, CT)"
                                },
                                {
                                    "CustomerID": "166",
                                    "CustomerName": "Tailspin Toys (McCamey, TX)"
                                },
                                {
                                    "CustomerID": "167",
                                    "CustomerName": "Tailspin Toys (Rockwall, TX)"
                                },
                                {
                                    "CustomerID": "168",
                                    "CustomerName": "Tailspin Toys (Seagraves, TX)"
                                },
                                {
                                    "CustomerID": "169",
                                    "CustomerName": "Tailspin Toys (Sinclair, WY)"
                                },
                                {
                                    "CustomerID": "170",
                                    "CustomerName": "Tailspin Toys (Eastchester, NY)"
                                },
                                {
                                    "CustomerID": "171",
                                    "CustomerName": "Tailspin Toys (Ortley Beach, NJ)"
                                },
                                {
                                    "CustomerID": "172",
                                    "CustomerName": "Tailspin Toys (Madrone, NM)"
                                },
                                {
                                    "CustomerID": "173",
                                    "CustomerName": "Tailspin Toys (Wappingers Falls, NY)"
                                },
                                {
                                    "CustomerID": "174",
                                    "CustomerName": "Tailspin Toys (Astor Park, FL)"
                                },
                                {
                                    "CustomerID": "175",
                                    "CustomerName": "Tailspin Toys (San Acacia, NM)"
                                },
                                {
                                    "CustomerID": "176",
                                    "CustomerName": "Tailspin Toys (Malott, WA)"
                                },
                                {
                                    "CustomerID": "177",
                                    "CustomerName": "Tailspin Toys (Orrtanna, PA)"
                                },
                                {
                                    "CustomerID": "178",
                                    "CustomerName": "Tailspin Toys (Armstrong Creek, WI)"
                                },
                                {
                                    "CustomerID": "179",
                                    "CustomerName": "Tailspin Toys (Hiteman, IA)"
                                },
                                {
                                    "CustomerID": "180",
                                    "CustomerName": "Tailspin Toys (Caselton, NV)"
                                },
                                {
                                    "CustomerID": "181",
                                    "CustomerName": "Tailspin Toys (Heilwood, PA)"
                                },
                                {
                                    "CustomerID": "182",
                                    "CustomerName": "Tailspin Toys (Hayes Center, NE)"
                                },
                                {
                                    "CustomerID": "183",
                                    "CustomerName": "Tailspin Toys (Tierra Verde, FL)"
                                },
                                {
                                    "CustomerID": "184",
                                    "CustomerName": "Tailspin Toys (South Euclid, OH)"
                                },
                                {
                                    "CustomerID": "185",
                                    "CustomerName": "Tailspin Toys (Vidrine, LA)"
                                },
                                {
                                    "CustomerID": "186",
                                    "CustomerName": "Tailspin Toys (Placer, OR)"
                                },
                                {
                                    "CustomerID": "187",
                                    "CustomerName": "Tailspin Toys (Brown City, MI)"
                                },
                                {
                                    "CustomerID": "188",
                                    "CustomerName": "Tailspin Toys (Premont, TX)"
                                },
                                {
                                    "CustomerID": "189",
                                    "CustomerName": "Tailspin Toys (Wilkes-Barre, PA)"
                                },
                                {
                                    "CustomerID": "190",
                                    "CustomerName": "Tailspin Toys (Teutopolis, IL)"
                                },
                                {
                                    "CustomerID": "191",
                                    "CustomerName": "Tailspin Toys (Orchard Hill, GA)"
                                },
                                {
                                    "CustomerID": "192",
                                    "CustomerName": "Tailspin Toys (Optimo, NM)"
                                },
                                {
                                    "CustomerID": "193",
                                    "CustomerName": "Tailspin Toys (Knifley, KY)"
                                },
                                {
                                    "CustomerID": "194",
                                    "CustomerName": "Tailspin Toys (Naples Park, FL)"
                                },
                                {
                                    "CustomerID": "195",
                                    "CustomerName": "Tailspin Toys (Lesslie, SC)"
                                },
                                {
                                    "CustomerID": "196",
                                    "CustomerName": "Tailspin Toys (Howells, NE)"
                                },
                                {
                                    "CustomerID": "197",
                                    "CustomerName": "Tailspin Toys (Magalia, CA)"
                                },
                                {
                                    "CustomerID": "198",
                                    "CustomerName": "Tailspin Toys (Buell, MO)"
                                },
                                {
                                    "CustomerID": "199",
                                    "CustomerName": "Tailspin Toys (Antonito, CO)"
                                },
                                {
                                    "CustomerID": "200",
                                    "CustomerName": "Tailspin Toys (Tooele, UT)"
                                },
                                {
                                    "CustomerID": "201",
                                    "CustomerName": "Tailspin Toys (Skyway, WA)"
                                },
                                {
                                    "CustomerID": "401",
                                    "CustomerName": "Wingtip Toys (Head Office)"
                                },
                                {
                                    "CustomerID": "402",
                                    "CustomerName": "Wingtip Toys (Black Lick, PA)"
                                },
                                {
                                    "CustomerID": "403",
                                    "CustomerName": "Wingtip Toys (Queen Valley, AZ)"
                                },
                                {
                                    "CustomerID": "404",
                                    "CustomerName": "Wingtip Toys (Penns Creek, PA)"
                                },
                                {
                                    "CustomerID": "405",
                                    "CustomerName": "Wingtip Toys (Bourbonnais, IL)"
                                },
                                {
                                    "CustomerID": "406",
                                    "CustomerName": "Wingtip Toys (Tuscaloosa, AL)"
                                },
                                {
                                    "CustomerID": "407",
                                    "CustomerName": "Wingtip Toys (Mooringsport, LA)"
                                },
                                {
                                    "CustomerID": "408",
                                    "CustomerName": "Wingtip Toys (Rockwall, TX)"
                                },
                                {
                                    "CustomerID": "409",
                                    "CustomerName": "Wingtip Toys (Orick, CA)"
                                },
                                {
                                    "CustomerID": "410",
                                    "CustomerName": "Wingtip Toys (Bernstein, TX)"
                                },
                                {
                                    "CustomerID": "411",
                                    "CustomerName": "Wingtip Toys (Edmund, WI)"
                                },
                                {
                                    "CustomerID": "412",
                                    "CustomerName": "Wingtip Toys (Bozeman Hot Springs, MT)"
                                },
                                {
                                    "CustomerID": "413",
                                    "CustomerName": "Wingtip Toys (Truscott, TX)"
                                },
                                {
                                    "CustomerID": "414",
                                    "CustomerName": "Wingtip Toys (Rose Tree, PA)"
                                },
                                {
                                    "CustomerID": "415",
                                    "CustomerName": "Wingtip Toys (Leathersville, GA)"
                                },
                                {
                                    "CustomerID": "416",
                                    "CustomerName": "Wingtip Toys (Necedah, WI)"
                                },
                                {
                                    "CustomerID": "417",
                                    "CustomerName": "Wingtip Toys (Chetek, WI)"
                                },
                                {
                                    "CustomerID": "418",
                                    "CustomerName": "Wingtip Toys (Yaak, MT)"
                                },
                                {
                                    "CustomerID": "419",
                                    "CustomerName": "Wingtip Toys (Compass Lake, FL)"
                                },
                                {
                                    "CustomerID": "420",
                                    "CustomerName": "Wingtip Toys (Herlong, CA)"
                                },
                                {
                                    "CustomerID": "421",
                                    "CustomerName": "Wingtip Toys (Highland Home, AL)"
                                },
                                {
                                    "CustomerID": "422",
                                    "CustomerName": "Wingtip Toys (Naches, WA)"
                                },
                                {
                                    "CustomerID": "423",
                                    "CustomerName": "Wingtip Toys (Baldwin City, KS)"
                                },
                                {
                                    "CustomerID": "424",
                                    "CustomerName": "Wingtip Toys (Heartwell, NE)"
                                },
                                {
                                    "CustomerID": "425",
                                    "CustomerName": "Wingtip Toys (Bethel Acres, OK)"
                                },
                                {
                                    "CustomerID": "426",
                                    "CustomerName": "Wingtip Toys (Willow Valley, AZ)"
                                },
                                {
                                    "CustomerID": "427",
                                    "CustomerName": "Wingtip Toys (Athol Springs, NY)"
                                },
                                {
                                    "CustomerID": "428",
                                    "CustomerName": "Wingtip Toys (Paw Paw Lake, MI)"
                                },
                                {
                                    "CustomerID": "429",
                                    "CustomerName": "Wingtip Toys (Lilbourn, MO)"
                                },
                                {
                                    "CustomerID": "430",
                                    "CustomerName": "Wingtip Toys (Lost River, ID)"
                                },
                                {
                                    "CustomerID": "431",
                                    "CustomerName": "Wingtip Toys (Rosa Sánchez, PR)"
                                },
                                {
                                    "CustomerID": "432",
                                    "CustomerName": "Wingtip Toys (Vamo, FL)"
                                },
                                {
                                    "CustomerID": "433",
                                    "CustomerName": "Wingtip Toys (Balko, OK)"
                                },
                                {
                                    "CustomerID": "434",
                                    "CustomerName": "Wingtip Toys (Lime Lake, NY)"
                                },
                                {
                                    "CustomerID": "435",
                                    "CustomerName": "Wingtip Toys (Teutopolis, IL)"
                                },
                                {
                                    "CustomerID": "436",
                                    "CustomerName": "Wingtip Toys (Gargatha, VA)"
                                },
                                {
                                    "CustomerID": "437",
                                    "CustomerName": "Wingtip Toys (Cadogan, PA)"
                                },
                                {
                                    "CustomerID": "438",
                                    "CustomerName": "Wingtip Toys (Lucasville, OH)"
                                },
                                {
                                    "CustomerID": "439",
                                    "CustomerName": "Wingtip Toys (Cylon, WI)"
                                },
                                {
                                    "CustomerID": "440",
                                    "CustomerName": "Wingtip Toys (Asher, OK)"
                                },
                                {
                                    "CustomerID": "441",
                                    "CustomerName": "Wingtip Toys (Keosauqua, IA)"
                                },
                                {
                                    "CustomerID": "442",
                                    "CustomerName": "Wingtip Toys (Homer City, PA)"
                                },
                                {
                                    "CustomerID": "443",
                                    "CustomerName": "Wingtip Toys (Berville, MI)"
                                },
                                {
                                    "CustomerID": "444",
                                    "CustomerName": "Wingtip Toys (Tea, SD)"
                                },
                                {
                                    "CustomerID": "445",
                                    "CustomerName": "Wingtip Toys (Dacono, CO)"
                                },
                                {
                                    "CustomerID": "446",
                                    "CustomerName": "Wingtip Toys (Saint Landry, LA)"
                                },
                                {
                                    "CustomerID": "447",
                                    "CustomerName": "Wingtip Toys (Coin, IA)"
                                },
                                {
                                    "CustomerID": "448",
                                    "CustomerName": "Wingtip Toys (Salt Wells, NV)"
                                },
                                {
                                    "CustomerID": "449",
                                    "CustomerName": "Wingtip Toys (Delray, WV)"
                                },
                                {
                                    "CustomerID": "450",
                                    "CustomerName": "Wingtip Toys (Mount Summit, IN)"
                                },
                                {
                                    "CustomerID": "451",
                                    "CustomerName": "Wingtip Toys (Smoot, WY)"
                                },
                                {
                                    "CustomerID": "452",
                                    "CustomerName": "Wingtip Toys (Lake Davis, CA)"
                                },
                                {
                                    "CustomerID": "453",
                                    "CustomerName": "Wingtip Toys (Stanardsville, VA)"
                                },
                                {
                                    "CustomerID": "454",
                                    "CustomerName": "Wingtip Toys (Corcovado, PR)"
                                },
                                {
                                    "CustomerID": "455",
                                    "CustomerName": "Wingtip Toys (Taft Heights, CA)"
                                },
                                {
                                    "CustomerID": "456",
                                    "CustomerName": "Wingtip Toys (West Hempstead, NY)"
                                },
                                {
                                    "CustomerID": "457",
                                    "CustomerName": "Wingtip Toys (Portales, NM)"
                                },
                                {
                                    "CustomerID": "458",
                                    "CustomerName": "Wingtip Toys (Coker, AL)"
                                },
                                {
                                    "CustomerID": "459",
                                    "CustomerName": "Wingtip Toys (Haydenville, OH)"
                                },
                                {
                                    "CustomerID": "460",
                                    "CustomerName": "Wingtip Toys (Mayhill, NM)"
                                },
                                {
                                    "CustomerID": "461",
                                    "CustomerName": "Wingtip Toys (Vair, TX)"
                                },
                                {
                                    "CustomerID": "462",
                                    "CustomerName": "Wingtip Toys (Crossroads, NM)"
                                },
                                {
                                    "CustomerID": "463",
                                    "CustomerName": "Wingtip Toys (Cowlington, OK)"
                                },
                                {
                                    "CustomerID": "464",
                                    "CustomerName": "Wingtip Toys (Glen Ullin, ND)"
                                },
                                {
                                    "CustomerID": "465",
                                    "CustomerName": "Wingtip Toys (Oologah, OK)"
                                },
                                {
                                    "CustomerID": "466",
                                    "CustomerName": "Wingtip Toys (Lytle, TX)"
                                },
                                {
                                    "CustomerID": "467",
                                    "CustomerName": "Wingtip Toys (Mahaffey, PA)"
                                },
                                {
                                    "CustomerID": "468",
                                    "CustomerName": "Wingtip Toys (Sunburg, MN)"
                                },
                                {
                                    "CustomerID": "469",
                                    "CustomerName": "Wingtip Toys (Johnetta, KY)"
                                },
                                {
                                    "CustomerID": "470",
                                    "CustomerName": "Wingtip Toys (Universal City, TX)"
                                },
                                {
                                    "CustomerID": "471",
                                    "CustomerName": "Wingtip Toys (Ridgemark, CA)"
                                },
                                {
                                    "CustomerID": "472",
                                    "CustomerName": "Wingtip Toys (San Jacinto, CA)"
                                },
                                {
                                    "CustomerID": "473",
                                    "CustomerName": "Wingtip Toys (Floriston, CA)"
                                },
                                {
                                    "CustomerID": "474",
                                    "CustomerName": "Wingtip Toys (Bokeelia, FL)"
                                },
                                {
                                    "CustomerID": "475",
                                    "CustomerName": "Wingtip Toys (Cale, AR)"
                                },
                                {
                                    "CustomerID": "476",
                                    "CustomerName": "Wingtip Toys (Karthaus, PA)"
                                },
                                {
                                    "CustomerID": "477",
                                    "CustomerName": "Wingtip Toys (Glancy, MS)"
                                },
                                {
                                    "CustomerID": "478",
                                    "CustomerName": "Wingtip Toys (Stoneboro, PA)"
                                },
                                {
                                    "CustomerID": "479",
                                    "CustomerName": "Wingtip Toys (Mier, IN)"
                                },
                                {
                                    "CustomerID": "480",
                                    "CustomerName": "Wingtip Toys (Wapinitia, OR)"
                                },
                                {
                                    "CustomerID": "481",
                                    "CustomerName": "Wingtip Toys (White Church, MO)"
                                },
                                {
                                    "CustomerID": "482",
                                    "CustomerName": "Wingtip Toys (Caton, NY)"
                                },
                                {
                                    "CustomerID": "483",
                                    "CustomerName": "Wingtip Toys (Plum Branch, SC)"
                                },
                                {
                                    "CustomerID": "484",
                                    "CustomerName": "Wingtip Toys (Mauldin, SC)"
                                },
                                {
                                    "CustomerID": "485",
                                    "CustomerName": "Wingtip Toys (Bonner Springs, KS)"
                                },
                                {
                                    "CustomerID": "486",
                                    "CustomerName": "Wingtip Toys (Lowellville, OH)"
                                },
                                {
                                    "CustomerID": "487",
                                    "CustomerName": "Wingtip Toys (Elverson, PA)"
                                },
                                {
                                    "CustomerID": "488",
                                    "CustomerName": "Wingtip Toys (Isabela, PR)"
                                },
                                {
                                    "CustomerID": "489",
                                    "CustomerName": "Wingtip Toys (Sayner, WI)"
                                },
                                {
                                    "CustomerID": "490",
                                    "CustomerName": "Wingtip Toys (Beals, ME)"
                                },
                                {
                                    "CustomerID": "491",
                                    "CustomerName": "Wingtip Toys (Morton Grove, IL)"
                                },
                                {
                                    "CustomerID": "492",
                                    "CustomerName": "Wingtip Toys (Birds, IL)"
                                },
                                {
                                    "CustomerID": "493",
                                    "CustomerName": "Wingtip Toys (Federalsburg, MD)"
                                },
                                {
                                    "CustomerID": "494",
                                    "CustomerName": "Wingtip Toys (Pikeview, CO)"
                                },
                                {
                                    "CustomerID": "495",
                                    "CustomerName": "Wingtip Toys (Boalsburg, PA)"
                                },
                                {
                                    "CustomerID": "496",
                                    "CustomerName": "Wingtip Toys (Port Hueneme, CA)"
                                },
                                {
                                    "CustomerID": "497",
                                    "CustomerName": "Wingtip Toys (Verdery, SC)"
                                },
                                {
                                    "CustomerID": "498",
                                    "CustomerName": "Wingtip Toys (Obetz, OH)"
                                },
                                {
                                    "CustomerID": "499",
                                    "CustomerName": "Wingtip Toys (East Fultonham, OH)"
                                },
                                {
                                    "CustomerID": "500",
                                    "CustomerName": "Wingtip Toys (Obion, TN)"
                                },
                                {
                                    "CustomerID": "501",
                                    "CustomerName": "Wingtip Toys (Cavendish, VT)"
                                },
                                {
                                    "CustomerID": "502",
                                    "CustomerName": "Wingtip Toys (Miesville, MN)"
                                },
                                {
                                    "CustomerID": "503",
                                    "CustomerName": "Wingtip Toys (Valhalla, NC)"
                                },
                                {
                                    "CustomerID": "504",
                                    "CustomerName": "Wingtip Toys (Cape Neddick, ME)"
                                },
                                {
                                    "CustomerID": "505",
                                    "CustomerName": "Wingtip Toys (Silver Plume, CO)"
                                },
                                {
                                    "CustomerID": "506",
                                    "CustomerName": "Wingtip Toys (North Beach Haven, NJ)"
                                },
                                {
                                    "CustomerID": "507",
                                    "CustomerName": "Wingtip Toys (Downingtown, PA)"
                                },
                                {
                                    "CustomerID": "508",
                                    "CustomerName": "Wingtip Toys (Branson West, MO)"
                                },
                                {
                                    "CustomerID": "509",
                                    "CustomerName": "Wingtip Toys (Bergen Park, CO)"
                                },
                                {
                                    "CustomerID": "510",
                                    "CustomerName": "Wingtip Toys (Grabill, IN)"
                                },
                                {
                                    "CustomerID": "511",
                                    "CustomerName": "Wingtip Toys (North Manitou, MI)"
                                },
                                {
                                    "CustomerID": "512",
                                    "CustomerName": "Wingtip Toys (Philip, SD)"
                                },
                                {
                                    "CustomerID": "513",
                                    "CustomerName": "Wingtip Toys (Straughn, IN)"
                                },
                                {
                                    "CustomerID": "514",
                                    "CustomerName": "Wingtip Toys (Gilford, NH)"
                                },
                                {
                                    "CustomerID": "515",
                                    "CustomerName": "Wingtip Toys (Del Valle, TX)"
                                },
                                {
                                    "CustomerID": "516",
                                    "CustomerName": "Wingtip Toys (Harkers Island, NC)"
                                },
                                {
                                    "CustomerID": "517",
                                    "CustomerName": "Wingtip Toys (Licking, MO)"
                                },
                                {
                                    "CustomerID": "518",
                                    "CustomerName": "Wingtip Toys (Raton, NM)"
                                },
                                {
                                    "CustomerID": "519",
                                    "CustomerName": "Wingtip Toys (Boynton, OK)"
                                },
                                {
                                    "CustomerID": "520",
                                    "CustomerName": "Wingtip Toys (Frenchburg, KY)"
                                },
                                {
                                    "CustomerID": "521",
                                    "CustomerName": "Wingtip Toys (Robertsdale, AL)"
                                },
                                {
                                    "CustomerID": "522",
                                    "CustomerName": "Wingtip Toys (Dickerson, MD)"
                                },
                                {
                                    "CustomerID": "523",
                                    "CustomerName": "Wingtip Toys (Bruceton Mills, WV)"
                                },
                                {
                                    "CustomerID": "524",
                                    "CustomerName": "Wingtip Toys (Cloquet, MN)"
                                },
                                {
                                    "CustomerID": "525",
                                    "CustomerName": "Wingtip Toys (Claycomo, MO)"
                                },
                                {
                                    "CustomerID": "526",
                                    "CustomerName": "Wingtip Toys (Beekmantown, NY)"
                                },
                                {
                                    "CustomerID": "527",
                                    "CustomerName": "Wingtip Toys (Islip Terrace, NY)"
                                },
                                {
                                    "CustomerID": "528",
                                    "CustomerName": "Wingtip Toys (Rich Creek, VA)"
                                },
                                {
                                    "CustomerID": "529",
                                    "CustomerName": "Wingtip Toys (Griswoldville, GA)"
                                },
                                {
                                    "CustomerID": "530",
                                    "CustomerName": "Wingtip Toys (East Mountain, TX)"
                                },
                                {
                                    "CustomerID": "531",
                                    "CustomerName": "Wingtip Toys (Omer, MI)"
                                },
                                {
                                    "CustomerID": "532",
                                    "CustomerName": "Wingtip Toys (Waycross, GA)"
                                },
                                {
                                    "CustomerID": "533",
                                    "CustomerName": "Wingtip Toys (Nichols Hills, OK)"
                                },
                                {
                                    "CustomerID": "534",
                                    "CustomerName": "Wingtip Toys (Plaquemine, LA)"
                                },
                                {
                                    "CustomerID": "535",
                                    "CustomerName": "Wingtip Toys (Triadelphia, WV)"
                                },
                                {
                                    "CustomerID": "536",
                                    "CustomerName": "Wingtip Toys (Ferney, SD)"
                                },
                                {
                                    "CustomerID": "537",
                                    "CustomerName": "Wingtip Toys (Akhiok, AK)"
                                },
                                {
                                    "CustomerID": "538",
                                    "CustomerName": "Wingtip Toys (Deeson, MS)"
                                },
                                {
                                    "CustomerID": "539",
                                    "CustomerName": "Wingtip Toys (Nuangola, PA)"
                                },
                                {
                                    "CustomerID": "540",
                                    "CustomerName": "Wingtip Toys (Weld, ME)"
                                },
                                {
                                    "CustomerID": "541",
                                    "CustomerName": "Wingtip Toys (Mickleton, NJ)"
                                },
                                {
                                    "CustomerID": "542",
                                    "CustomerName": "Wingtip Toys (Schererville, IN)"
                                },
                                {
                                    "CustomerID": "543",
                                    "CustomerName": "Wingtip Toys (Lexington Heights, MI)"
                                },
                                {
                                    "CustomerID": "544",
                                    "CustomerName": "Wingtip Toys (Broomtown, AL)"
                                },
                                {
                                    "CustomerID": "545",
                                    "CustomerName": "Wingtip Toys (Jamison, IA)"
                                },
                                {
                                    "CustomerID": "546",
                                    "CustomerName": "Wingtip Toys (Key Biscayne, FL)"
                                },
                                {
                                    "CustomerID": "547",
                                    "CustomerName": "Wingtip Toys (Chaseley, ND)"
                                },
                                {
                                    "CustomerID": "548",
                                    "CustomerName": "Wingtip Toys (Indian Creek, IL)"
                                },
                                {
                                    "CustomerID": "549",
                                    "CustomerName": "Wingtip Toys (Lake Ronkonkoma, NY)"
                                },
                                {
                                    "CustomerID": "550",
                                    "CustomerName": "Wingtip Toys (Morrison Bluff, AR)"
                                },
                                {
                                    "CustomerID": "551",
                                    "CustomerName": "Wingtip Toys (Huntingburg, IN)"
                                },
                                {
                                    "CustomerID": "552",
                                    "CustomerName": "Wingtip Toys (Shay, PA)"
                                },
                                {
                                    "CustomerID": "553",
                                    "CustomerName": "Wingtip Toys (Helotes, TX)"
                                },
                                {
                                    "CustomerID": "554",
                                    "CustomerName": "Wingtip Toys (Hollandsburg, IN)"
                                },
                                {
                                    "CustomerID": "555",
                                    "CustomerName": "Wingtip Toys (Liberty Grove, MD)"
                                },
                                {
                                    "CustomerID": "556",
                                    "CustomerName": "Wingtip Toys (Morita, TX)"
                                },
                                {
                                    "CustomerID": "557",
                                    "CustomerName": "Wingtip Toys (New Laguna, NM)"
                                },
                                {
                                    "CustomerID": "558",
                                    "CustomerName": "Wingtip Toys (Bourneville, OH)"
                                },
                                {
                                    "CustomerID": "559",
                                    "CustomerName": "Wingtip Toys (Mendoza, TX)"
                                },
                                {
                                    "CustomerID": "560",
                                    "CustomerName": "Wingtip Toys (Palmas del Mar, PR)"
                                },
                                {
                                    "CustomerID": "561",
                                    "CustomerName": "Wingtip Toys (Marion Junction, AL)"
                                },
                                {
                                    "CustomerID": "562",
                                    "CustomerName": "Wingtip Toys (Ware Shoals, SC)"
                                },
                                {
                                    "CustomerID": "563",
                                    "CustomerName": "Wingtip Toys (Lostine, OR)"
                                },
                                {
                                    "CustomerID": "564",
                                    "CustomerName": "Wingtip Toys (Tilleda, WI)"
                                },
                                {
                                    "CustomerID": "565",
                                    "CustomerName": "Wingtip Toys (Wapiti, WY)"
                                },
                                {
                                    "CustomerID": "566",
                                    "CustomerName": "Wingtip Toys (Amado, AZ)"
                                },
                                {
                                    "CustomerID": "567",
                                    "CustomerName": "Wingtip Toys (Jeromesville, OH)"
                                },
                                {
                                    "CustomerID": "568",
                                    "CustomerName": "Wingtip Toys (Ovilla, TX)"
                                },
                                {
                                    "CustomerID": "569",
                                    "CustomerName": "Wingtip Toys (West Frostproof, FL)"
                                },
                                {
                                    "CustomerID": "570",
                                    "CustomerName": "Wingtip Toys (Flomaton, AL)"
                                },
                                {
                                    "CustomerID": "571",
                                    "CustomerName": "Wingtip Toys (Pawlet, VT)"
                                },
                                {
                                    "CustomerID": "572",
                                    "CustomerName": "Wingtip Toys (Trout Run, PA)"
                                },
                                {
                                    "CustomerID": "573",
                                    "CustomerName": "Wingtip Toys (Marin City, CA)"
                                },
                                {
                                    "CustomerID": "574",
                                    "CustomerName": "Wingtip Toys (Molalla, OR)"
                                },
                                {
                                    "CustomerID": "575",
                                    "CustomerName": "Wingtip Toys (Trumansburg, NY)"
                                },
                                {
                                    "CustomerID": "576",
                                    "CustomerName": "Wingtip Toys (Goodings Grove, IL)"
                                },
                                {
                                    "CustomerID": "577",
                                    "CustomerName": "Wingtip Toys (Cherryplain, NY)"
                                },
                                {
                                    "CustomerID": "578",
                                    "CustomerName": "Wingtip Toys (Bell Acres, PA)"
                                },
                                {
                                    "CustomerID": "579",
                                    "CustomerName": "Wingtip Toys (Connoquenessing, PA)"
                                },
                                {
                                    "CustomerID": "580",
                                    "CustomerName": "Wingtip Toys (Sarversville, PA)"
                                },
                                {
                                    "CustomerID": "581",
                                    "CustomerName": "Wingtip Toys (Munich, ND)"
                                },
                                {
                                    "CustomerID": "582",
                                    "CustomerName": "Wingtip Toys (Montoya, NM)"
                                },
                                {
                                    "CustomerID": "583",
                                    "CustomerName": "Wingtip Toys (Knights Landing, CA)"
                                },
                                {
                                    "CustomerID": "584",
                                    "CustomerName": "Wingtip Toys (Cache, OK)"
                                },
                                {
                                    "CustomerID": "585",
                                    "CustomerName": "Wingtip Toys (Towaco, NJ)"
                                },
                                {
                                    "CustomerID": "586",
                                    "CustomerName": "Wingtip Toys (Lynne, FL)"
                                },
                                {
                                    "CustomerID": "587",
                                    "CustomerName": "Wingtip Toys (Plata, TX)"
                                },
                                {
                                    "CustomerID": "588",
                                    "CustomerName": "Wingtip Toys (Oak Point, TX)"
                                },
                                {
                                    "CustomerID": "589",
                                    "CustomerName": "Wingtip Toys (Alcester, SD)"
                                },
                                {
                                    "CustomerID": "590",
                                    "CustomerName": "Wingtip Toys (McAdenville, NC)"
                                },
                                {
                                    "CustomerID": "591",
                                    "CustomerName": "Wingtip Toys (Idaho City, ID)"
                                },
                                {
                                    "CustomerID": "592",
                                    "CustomerName": "Wingtip Toys (Dunkerton, IA)"
                                },
                                {
                                    "CustomerID": "593",
                                    "CustomerName": "Wingtip Toys (Cuyamungue, NM)"
                                },
                                {
                                    "CustomerID": "594",
                                    "CustomerName": "Wingtip Toys (Marfa, TX)"
                                },
                                {
                                    "CustomerID": "595",
                                    "CustomerName": "Wingtip Toys (Accomac, VA)"
                                },
                                {
                                    "CustomerID": "596",
                                    "CustomerName": "Wingtip Toys (Cos Cob, CT)"
                                },
                                {
                                    "CustomerID": "597",
                                    "CustomerName": "Wingtip Toys (Haycock, AK)"
                                },
                                {
                                    "CustomerID": "598",
                                    "CustomerName": "Wingtip Toys (Kapa'a, HI)"
                                },
                                {
                                    "CustomerID": "599",
                                    "CustomerName": "Wingtip Toys (Dickworsham, TX)"
                                },
                                {
                                    "CustomerID": "600",
                                    "CustomerName": "Wingtip Toys (Caro, MI)"
                                },
                                {
                                    "CustomerID": "601",
                                    "CustomerName": "Wingtip Toys (Ruthsburg, MD)"
                                },
                                {
                                    "CustomerID": "801",
                                    "CustomerName": "Eric Torres"
                                },
                                {
                                    "CustomerID": "802",
                                    "CustomerName": "Cosmina Vlad"
                                },
                                {
                                    "CustomerID": "803",
                                    "CustomerName": "Bala Dixit"
                                },
                                {
                                    "CustomerID": "804",
                                    "CustomerName": "Aleksandrs Riekstins"
                                },
                                {
                                    "CustomerID": "805",
                                    "CustomerName": "Ratan Poddar"
                                },
                                {
                                    "CustomerID": "806",
                                    "CustomerName": "Shi Tu"
                                },
                                {
                                    "CustomerID": "807",
                                    "CustomerName": "Gunnar Lohmus"
                                },
                                {
                                    "CustomerID": "808",
                                    "CustomerName": "Jackson Kolios"
                                },
                                {
                                    "CustomerID": "809",
                                    "CustomerName": "Madhu Dwivedi"
                                },
                                {
                                    "CustomerID": "810",
                                    "CustomerName": "Alena Kellnerova"
                                },
                                {
                                    "CustomerID": "811",
                                    "CustomerName": "Surendra Sahu"
                                },
                                {
                                    "CustomerID": "812",
                                    "CustomerName": "Celica Barajas"
                                },
                                {
                                    "CustomerID": "813",
                                    "CustomerName": "Shyam Poddar"
                                },
                                {
                                    "CustomerID": "814",
                                    "CustomerName": "Johanna Hoornstra"
                                },
                                {
                                    "CustomerID": "815",
                                    "CustomerName": "Libuse Valentova"
                                },
                                {
                                    "CustomerID": "816",
                                    "CustomerName": "Harsha Huq"
                                },
                                {
                                    "CustomerID": "817",
                                    "CustomerName": "Agrita Kanepa"
                                },
                                {
                                    "CustomerID": "818",
                                    "CustomerName": "Liia Orav"
                                },
                                {
                                    "CustomerID": "819",
                                    "CustomerName": "Santiago Vera"
                                },
                                {
                                    "CustomerID": "820",
                                    "CustomerName": "Knut Svensson"
                                },
                                {
                                    "CustomerID": "821",
                                    "CustomerName": "Kwanjai Saowaluk"
                                },
                                {
                                    "CustomerID": "822",
                                    "CustomerName": "Suparna Bhattacharya"
                                },
                                {
                                    "CustomerID": "823",
                                    "CustomerName": "Francisca Laureano"
                                },
                                {
                                    "CustomerID": "824",
                                    "CustomerName": "Risto Valbe"
                                },
                                {
                                    "CustomerID": "825",
                                    "CustomerName": "Jayanta Thakur"
                                },
                                {
                                    "CustomerID": "826",
                                    "CustomerName": "Leila Carvalho"
                                },
                                {
                                    "CustomerID": "827",
                                    "CustomerName": "Crina Grasu"
                                },
                                {
                                    "CustomerID": "828",
                                    "CustomerName": "Sercan Celik"
                                },
                                {
                                    "CustomerID": "829",
                                    "CustomerName": "Jack Walker"
                                },
                                {
                                    "CustomerID": "830",
                                    "CustomerName": "Jana Fialova"
                                },
                                {
                                    "CustomerID": "831",
                                    "CustomerName": "Bhaavan Rai"
                                },
                                {
                                    "CustomerID": "832",
                                    "CustomerName": "Aakriti Byrraju"
                                },
                                {
                                    "CustomerID": "833",
                                    "CustomerName": "Devraj Rao"
                                },
                                {
                                    "CustomerID": "834",
                                    "CustomerName": "Cong Hoa"
                                },
                                {
                                    "CustomerID": "835",
                                    "CustomerName": "Dominic Davignon"
                                },
                                {
                                    "CustomerID": "836",
                                    "CustomerName": "Abel Spirlea"
                                },
                                {
                                    "CustomerID": "837",
                                    "CustomerName": "Anil Sarkar"
                                },
                                {
                                    "CustomerID": "838",
                                    "CustomerName": "Pavel Bogdanov"
                                },
                                {
                                    "CustomerID": "839",
                                    "CustomerName": "Juan Morse"
                                },
                                {
                                    "CustomerID": "840",
                                    "CustomerName": "Rodrigo Figueiredo"
                                },
                                {
                                    "CustomerID": "841",
                                    "CustomerName": "Camille Authier"
                                },
                                {
                                    "CustomerID": "842",
                                    "CustomerName": "Biju Deb"
                                },
                                {
                                    "CustomerID": "843",
                                    "CustomerName": "Marija Justina Pasek"
                                },
                                {
                                    "CustomerID": "844",
                                    "CustomerName": "Durdanah Abbasi"
                                },
                                {
                                    "CustomerID": "845",
                                    "CustomerName": "Emilie Hrdlickova"
                                },
                                {
                                    "CustomerID": "846",
                                    "CustomerName": "Malorie Bousquet"
                                },
                                {
                                    "CustomerID": "847",
                                    "CustomerName": "Kristiina Ivanov"
                                },
                                {
                                    "CustomerID": "848",
                                    "CustomerName": "Alvin Bollinger"
                                },
                                {
                                    "CustomerID": "849",
                                    "CustomerName": "Sabine Zalite"
                                },
                                {
                                    "CustomerID": "850",
                                    "CustomerName": "Daakshaayaani Sankaramanchi"
                                },
                                {
                                    "CustomerID": "851",
                                    "CustomerName": "Ebru Erdogan"
                                },
                                {
                                    "CustomerID": "852",
                                    "CustomerName": "Bhagavaan Atluri"
                                },
                                {
                                    "CustomerID": "853",
                                    "CustomerName": "Caterina Pinto"
                                },
                                {
                                    "CustomerID": "854",
                                    "CustomerName": "Daakshaayaani Kommineni"
                                },
                                {
                                    "CustomerID": "855",
                                    "CustomerName": "Anna Mazzanti"
                                },
                                {
                                    "CustomerID": "856",
                                    "CustomerName": "Satish Mittal"
                                },
                                {
                                    "CustomerID": "857",
                                    "CustomerName": "Clarissa Manfrin"
                                },
                                {
                                    "CustomerID": "858",
                                    "CustomerName": "Bimla PrabhupÄda"
                                },
                                {
                                    "CustomerID": "859",
                                    "CustomerName": "Shah Alizadeh"
                                },
                                {
                                    "CustomerID": "860",
                                    "CustomerName": "Marcela Lucescu"
                                },
                                {
                                    "CustomerID": "861",
                                    "CustomerName": "Amarasimha Vinjamuri"
                                },
                                {
                                    "CustomerID": "862",
                                    "CustomerName": "Lana Goransson"
                                },
                                {
                                    "CustomerID": "863",
                                    "CustomerName": "Jakub Lukes"
                                },
                                {
                                    "CustomerID": "864",
                                    "CustomerName": "Mikhail Degtyarev"
                                },
                                {
                                    "CustomerID": "865",
                                    "CustomerName": "Bijoya Thakur"
                                },
                                {
                                    "CustomerID": "866",
                                    "CustomerName": "Jay Bhuiyan"
                                },
                                {
                                    "CustomerID": "867",
                                    "CustomerName": "Jasna Cerkez"
                                },
                                {
                                    "CustomerID": "868",
                                    "CustomerName": "Laura Sykorova"
                                },
                                {
                                    "CustomerID": "869",
                                    "CustomerName": "Abel Tatarescu"
                                },
                                {
                                    "CustomerID": "870",
                                    "CustomerName": "In-Su Bae"
                                },
                                {
                                    "CustomerID": "871",
                                    "CustomerName": "Darshana Madhunapantula"
                                },
                                {
                                    "CustomerID": "872",
                                    "CustomerName": "Katerina Hadrabova"
                                },
                                {
                                    "CustomerID": "873",
                                    "CustomerName": "Hana Hlouskova"
                                },
                                {
                                    "CustomerID": "874",
                                    "CustomerName": "Daniel Martensson"
                                },
                                {
                                    "CustomerID": "875",
                                    "CustomerName": "Philip Walker"
                                },
                                {
                                    "CustomerID": "876",
                                    "CustomerName": "Marie LeBatelier"
                                },
                                {
                                    "CustomerID": "877",
                                    "CustomerName": "Leyla Siavashi"
                                },
                                {
                                    "CustomerID": "878",
                                    "CustomerName": "Miriam House"
                                },
                                {
                                    "CustomerID": "879",
                                    "CustomerName": "Jitka Necesana"
                                },
                                {
                                    "CustomerID": "880",
                                    "CustomerName": "Edmee Glissen"
                                },
                                {
                                    "CustomerID": "881",
                                    "CustomerName": "Magdalena Michnova"
                                },
                                {
                                    "CustomerID": "882",
                                    "CustomerName": "Maryann Huddleston"
                                },
                                {
                                    "CustomerID": "883",
                                    "CustomerName": "Radha Barua"
                                },
                                {
                                    "CustomerID": "884",
                                    "CustomerName": "Anindya Ghatak"
                                },
                                {
                                    "CustomerID": "885",
                                    "CustomerName": "Chandrashekhar Dasgupta"
                                },
                                {
                                    "CustomerID": "886",
                                    "CustomerName": "Debbie Molina"
                                },
                                {
                                    "CustomerID": "887",
                                    "CustomerName": "Baran Jonsson"
                                },
                                {
                                    "CustomerID": "888",
                                    "CustomerName": "Jai Lamble"
                                },
                                {
                                    "CustomerID": "889",
                                    "CustomerName": "Sointu Savonheimo"
                                },
                                {
                                    "CustomerID": "890",
                                    "CustomerName": "Olya Izmaylov"
                                },
                                {
                                    "CustomerID": "891",
                                    "CustomerName": "Taneli Riutta"
                                },
                                {
                                    "CustomerID": "892",
                                    "CustomerName": "Bahaar Asef zade"
                                },
                                {
                                    "CustomerID": "893",
                                    "CustomerName": "Leyla Asef zade"
                                },
                                {
                                    "CustomerID": "894",
                                    "CustomerName": "Gabriela Hernandes"
                                },
                                {
                                    "CustomerID": "895",
                                    "CustomerName": "Geza Roman"
                                },
                                {
                                    "CustomerID": "896",
                                    "CustomerName": "Leonardo Folliero"
                                },
                                {
                                    "CustomerID": "897",
                                    "CustomerName": "Allan Mannik"
                                },
                                {
                                    "CustomerID": "898",
                                    "CustomerName": "Gopalgobinda Sikdar"
                                },
                                {
                                    "CustomerID": "899",
                                    "CustomerName": "Chin-Sun Chang"
                                },
                                {
                                    "CustomerID": "900",
                                    "CustomerName": "Lilli Sokk"
                                },
                                {
                                    "CustomerID": "901",
                                    "CustomerName": "Adrian Andreasson"
                                },
                                {
                                    "CustomerID": "902",
                                    "CustomerName": "Kamila Michnova"
                                },
                                {
                                    "CustomerID": "903",
                                    "CustomerName": "Bing Han"
                                },
                                {
                                    "CustomerID": "904",
                                    "CustomerName": "Olafs Rozitis"
                                },
                                {
                                    "CustomerID": "905",
                                    "CustomerName": "Sara Huiting"
                                },
                                {
                                    "CustomerID": "906",
                                    "CustomerName": "Ajitaab Pakalapati"
                                },
                                {
                                    "CustomerID": "907",
                                    "CustomerName": "Eugen Agafitei"
                                },
                                {
                                    "CustomerID": "908",
                                    "CustomerName": "Sumati Bhat"
                                },
                                {
                                    "CustomerID": "909",
                                    "CustomerName": "Dena Glissen"
                                },
                                {
                                    "CustomerID": "910",
                                    "CustomerName": "Elina Kaleja"
                                },
                                {
                                    "CustomerID": "911",
                                    "CustomerName": "Liidia Lepp"
                                },
                                {
                                    "CustomerID": "912",
                                    "CustomerName": "Volkan senturk"
                                },
                                {
                                    "CustomerID": "913",
                                    "CustomerName": "Violetta KlanCisar"
                                },
                                {
                                    "CustomerID": "914",
                                    "CustomerName": "Chandana Shasthri"
                                },
                                {
                                    "CustomerID": "915",
                                    "CustomerName": "Ana Florea"
                                },
                                {
                                    "CustomerID": "916",
                                    "CustomerName": "Pinja Jantunen"
                                },
                                {
                                    "CustomerID": "917",
                                    "CustomerName": "Pari Hosseini"
                                },
                                {
                                    "CustomerID": "918",
                                    "CustomerName": "Isidora Morales"
                                },
                                {
                                    "CustomerID": "919",
                                    "CustomerName": "Kertu Sokk"
                                },
                                {
                                    "CustomerID": "920",
                                    "CustomerName": "Gayatri Gajula"
                                },
                                {
                                    "CustomerID": "921",
                                    "CustomerName": "Victoria Lacusta"
                                },
                                {
                                    "CustomerID": "922",
                                    "CustomerName": "Sumati Chatterjee"
                                },
                                {
                                    "CustomerID": "923",
                                    "CustomerName": "Tai Bach"
                                },
                                {
                                    "CustomerID": "924",
                                    "CustomerName": "Eva Schulteisz"
                                },
                                {
                                    "CustomerID": "925",
                                    "CustomerName": "Can ozcan"
                                },
                                {
                                    "CustomerID": "926",
                                    "CustomerName": "Richard Friar"
                                },
                                {
                                    "CustomerID": "927",
                                    "CustomerName": "Matyas Sedlar"
                                },
                                {
                                    "CustomerID": "928",
                                    "CustomerName": "Arijit Bhuiyan"
                                },
                                {
                                    "CustomerID": "929",
                                    "CustomerName": "Vladimir Henzl"
                                },
                                {
                                    "CustomerID": "930",
                                    "CustomerName": "Shantanu Huq"
                                },
                                {
                                    "CustomerID": "931",
                                    "CustomerName": "Nada Jovanovic"
                                },
                                {
                                    "CustomerID": "932",
                                    "CustomerName": "Nicolo Cattaneo"
                                },
                                {
                                    "CustomerID": "933",
                                    "CustomerName": "Joel Carrillo"
                                },
                                {
                                    "CustomerID": "934",
                                    "CustomerName": "Ivan Sepulveda"
                                },
                                {
                                    "CustomerID": "935",
                                    "CustomerName": "Daevasree Samavedam"
                                },
                                {
                                    "CustomerID": "936",
                                    "CustomerName": "Ludmila Smidova"
                                },
                                {
                                    "CustomerID": "937",
                                    "CustomerName": "Manca Hrastovsek"
                                },
                                {
                                    "CustomerID": "938",
                                    "CustomerName": "Anna Gyarmathi"
                                },
                                {
                                    "CustomerID": "939",
                                    "CustomerName": "Ioana Florea"
                                },
                                {
                                    "CustomerID": "940",
                                    "CustomerName": "Lorin Astrom"
                                },
                                {
                                    "CustomerID": "941",
                                    "CustomerName": "Bishwa Chatterjee"
                                },
                                {
                                    "CustomerID": "942",
                                    "CustomerName": "Chaayaadaevi Sonti"
                                },
                                {
                                    "CustomerID": "943",
                                    "CustomerName": "Drazenka Jelic"
                                },
                                {
                                    "CustomerID": "944",
                                    "CustomerName": "Ida Celma"
                                },
                                {
                                    "CustomerID": "945",
                                    "CustomerName": "Hoc Tran"
                                },
                                {
                                    "CustomerID": "946",
                                    "CustomerName": "David safranek"
                                },
                                {
                                    "CustomerID": "947",
                                    "CustomerName": "Svetlana Todorovic"
                                },
                                {
                                    "CustomerID": "948",
                                    "CustomerName": "Richard Zahradnicek"
                                },
                                {
                                    "CustomerID": "949",
                                    "CustomerName": "Seo-yun Paik"
                                },
                                {
                                    "CustomerID": "950",
                                    "CustomerName": "Emily Whittle"
                                },
                                {
                                    "CustomerID": "951",
                                    "CustomerName": "Eliza Persson"
                                },
                                {
                                    "CustomerID": "952",
                                    "CustomerName": "Chuan Wattanasin"
                                },
                                {
                                    "CustomerID": "953",
                                    "CustomerName": "Linh Dao"
                                },
                                {
                                    "CustomerID": "954",
                                    "CustomerName": "Nasrin Omidzadeh"
                                },
                                {
                                    "CustomerID": "955",
                                    "CustomerName": "Raghu Sandhu"
                                },
                                {
                                    "CustomerID": "956",
                                    "CustomerName": "Nhung Thach"
                                },
                                {
                                    "CustomerID": "957",
                                    "CustomerName": "Hee-Young Suh"
                                },
                                {
                                    "CustomerID": "958",
                                    "CustomerName": "Valentin Tirlea"
                                },
                                {
                                    "CustomerID": "959",
                                    "CustomerName": "Dhaatri Chavva"
                                },
                                {
                                    "CustomerID": "960",
                                    "CustomerName": "Edgar Jogi"
                                },
                                {
                                    "CustomerID": "961",
                                    "CustomerName": "Rani Ganguly"
                                },
                                {
                                    "CustomerID": "962",
                                    "CustomerName": "Bhagavati Vinjamuri"
                                },
                                {
                                    "CustomerID": "963",
                                    "CustomerName": "Be Trang"
                                },
                                {
                                    "CustomerID": "964",
                                    "CustomerName": "Ingrida Zeltina"
                                },
                                {
                                    "CustomerID": "965",
                                    "CustomerName": "Phoung Cu"
                                },
                                {
                                    "CustomerID": "966",
                                    "CustomerName": "Sara Walkky"
                                },
                                {
                                    "CustomerID": "967",
                                    "CustomerName": "Meera Patel"
                                },
                                {
                                    "CustomerID": "968",
                                    "CustomerName": "Anca Gogean"
                                },
                                {
                                    "CustomerID": "969",
                                    "CustomerName": "Staffan Persson"
                                },
                                {
                                    "CustomerID": "970",
                                    "CustomerName": "Isidora Urias"
                                },
                                {
                                    "CustomerID": "971",
                                    "CustomerName": "Dhanishta Mokkapati"
                                },
                                {
                                    "CustomerID": "972",
                                    "CustomerName": "Lakshmi Benipal"
                                },
                                {
                                    "CustomerID": "973",
                                    "CustomerName": "Kumar Kamei"
                                },
                                {
                                    "CustomerID": "974",
                                    "CustomerName": "Emil Roman"
                                },
                                {
                                    "CustomerID": "975",
                                    "CustomerName": "Prabodh Nair"
                                },
                                {
                                    "CustomerID": "976",
                                    "CustomerName": "Alinne Matos"
                                },
                                {
                                    "CustomerID": "977",
                                    "CustomerName": "Mauno Laurila"
                                },
                                {
                                    "CustomerID": "978",
                                    "CustomerName": "Baalaamjali Devulapalli"
                                },
                                {
                                    "CustomerID": "979",
                                    "CustomerName": "Melani Ravlen"
                                },
                                {
                                    "CustomerID": "980",
                                    "CustomerName": "Om Yadav"
                                },
                                {
                                    "CustomerID": "981",
                                    "CustomerName": "Mahmut ozbek"
                                },
                                {
                                    "CustomerID": "982",
                                    "CustomerName": "Yves Belisle"
                                },
                                {
                                    "CustomerID": "983",
                                    "CustomerName": "Sabine Alksne"
                                },
                                {
                                    "CustomerID": "984",
                                    "CustomerName": "Kamala Nishad"
                                },
                                {
                                    "CustomerID": "985",
                                    "CustomerName": "Roko Ilic"
                                },
                                {
                                    "CustomerID": "986",
                                    "CustomerName": "Neil Farrelly"
                                },
                                {
                                    "CustomerID": "987",
                                    "CustomerName": "Akhil Nadar"
                                },
                                {
                                    "CustomerID": "988",
                                    "CustomerName": "Maksims Krastins"
                                },
                                {
                                    "CustomerID": "989",
                                    "CustomerName": "Milinka Zujovic"
                                },
                                {
                                    "CustomerID": "990",
                                    "CustomerName": "Andris Saulitis"
                                },
                                {
                                    "CustomerID": "991",
                                    "CustomerName": "Valter Viiding"
                                },
                                {
                                    "CustomerID": "992",
                                    "CustomerName": "Amarakumaar Gadiyaram"
                                },
                                {
                                    "CustomerID": "993",
                                    "CustomerName": "Gasper Havzija"
                                },
                                {
                                    "CustomerID": "994",
                                    "CustomerName": "Libuse Kuchtova"
                                },
                                {
                                    "CustomerID": "995",
                                    "CustomerName": "Kumar Naicker"
                                },
                                {
                                    "CustomerID": "996",
                                    "CustomerName": "Laszlo Gardenier"
                                },
                                {
                                    "CustomerID": "997",
                                    "CustomerName": "Nada Ana Slosar"
                                },
                                {
                                    "CustomerID": "998",
                                    "CustomerName": "Mahavir Sonkar"
                                },
                                {
                                    "CustomerID": "999",
                                    "CustomerName": "Kristi Part"
                                },
                                {
                                    "CustomerID": "1000",
                                    "CustomerName": "Krishnam Allu"
                                },
                                {
                                    "CustomerID": "1001",
                                    "CustomerName": "Dinh Mai"
                                },
                                {
                                    "CustomerID": "1002",
                                    "CustomerName": "Stefan Selezeanu"
                                },
                                {
                                    "CustomerID": "1003",
                                    "CustomerName": "Hue Ton"
                                },
                                {
                                    "CustomerID": "1004",
                                    "CustomerName": "Drishti Bose"
                                },
                                {
                                    "CustomerID": "1005",
                                    "CustomerName": "Bhadram Kamasamudram"
                                },
                                {
                                    "CustomerID": "1006",
                                    "CustomerName": "Taj Syme"
                                },
                                {
                                    "CustomerID": "1007",
                                    "CustomerName": "Irma Berzina"
                                },
                                {
                                    "CustomerID": "1008",
                                    "CustomerName": "Vedrana Kovacevic"
                                },
                                {
                                    "CustomerID": "1009",
                                    "CustomerName": "Bhagavateeprasaad Malladi"
                                },
                                {
                                    "CustomerID": "1010",
                                    "CustomerName": "Serdar ozCelik"
                                },
                                {
                                    "CustomerID": "1011",
                                    "CustomerName": "Rajeev Sandhu"
                                },
                                {
                                    "CustomerID": "1012",
                                    "CustomerName": "Urve Kasesalu"
                                },
                                {
                                    "CustomerID": "1013",
                                    "CustomerName": "Annette  Hetu"
                                },
                                {
                                    "CustomerID": "1014",
                                    "CustomerName": "Narendra Tickoo"
                                },
                                {
                                    "CustomerID": "1015",
                                    "CustomerName": "Isa Hulsegge"
                                },
                                {
                                    "CustomerID": "1016",
                                    "CustomerName": "Aive Petrov"
                                },
                                {
                                    "CustomerID": "1017",
                                    "CustomerName": "David Novacek "
                                },
                                {
                                    "CustomerID": "1018",
                                    "CustomerName": "Nils Kaulins"
                                },
                                {
                                    "CustomerID": "1019",
                                    "CustomerName": "Dhanishta Pullela"
                                },
                                {
                                    "CustomerID": "1020",
                                    "CustomerName": "Hai Banh"
                                },
                                {
                                    "CustomerID": "1021",
                                    "CustomerName": "Fabrice Cloutier"
                                },
                                {
                                    "CustomerID": "1022",
                                    "CustomerName": "Nadir Seddigh"
                                },
                                {
                                    "CustomerID": "1023",
                                    "CustomerName": "Farzana Habibi"
                                },
                                {
                                    "CustomerID": "1024",
                                    "CustomerName": "Arka Chatterjee"
                                },
                                {
                                    "CustomerID": "1025",
                                    "CustomerName": "Tuulikki Linna"
                                },
                                {
                                    "CustomerID": "1026",
                                    "CustomerName": "Daniella Cavalcante"
                                },
                                {
                                    "CustomerID": "1027",
                                    "CustomerName": "Serdar ozden"
                                },
                                {
                                    "CustomerID": "1028",
                                    "CustomerName": "Emma Van Zant"
                                },
                                {
                                    "CustomerID": "1029",
                                    "CustomerName": "Veronika Necesana"
                                },
                                {
                                    "CustomerID": "1030",
                                    "CustomerName": "Chompoo Atitarn"
                                },
                                {
                                    "CustomerID": "1031",
                                    "CustomerName": "Dipti Shah"
                                },
                                {
                                    "CustomerID": "1032",
                                    "CustomerName": "Som Mukherjee"
                                },
                                {
                                    "CustomerID": "1033",
                                    "CustomerName": "Cuneyt Arslan"
                                },
                                {
                                    "CustomerID": "1034",
                                    "CustomerName": "Aishwarya Dantuluri"
                                },
                                {
                                    "CustomerID": "1035",
                                    "CustomerName": "Manjunatha Karnik"
                                },
                                {
                                    "CustomerID": "1036",
                                    "CustomerName": "Erik Malk"
                                },
                                {
                                    "CustomerID": "1037",
                                    "CustomerName": "David Jaramillo"
                                },
                                {
                                    "CustomerID": "1038",
                                    "CustomerName": "Damodara Trivedi"
                                },
                                {
                                    "CustomerID": "1039",
                                    "CustomerName": "Bhaamini Palagummi"
                                },
                                {
                                    "CustomerID": "1040",
                                    "CustomerName": "Damodar Shenoy"
                                },
                                {
                                    "CustomerID": "1041",
                                    "CustomerName": "Tomo Vidovic"
                                },
                                {
                                    "CustomerID": "1042",
                                    "CustomerName": "Nguyen Banh"
                                },
                                {
                                    "CustomerID": "1043",
                                    "CustomerName": "Raj Verma"
                                },
                                {
                                    "CustomerID": "1044",
                                    "CustomerName": "Hanita Nookala"
                                },
                                {
                                    "CustomerID": "1045",
                                    "CustomerName": "Matteo Cattaneo"
                                },
                                {
                                    "CustomerID": "1046",
                                    "CustomerName": "Christian Couet"
                                },
                                {
                                    "CustomerID": "1047",
                                    "CustomerName": "Ivana Hadrabova"
                                },
                                {
                                    "CustomerID": "1048",
                                    "CustomerName": "Abhra Ganguly"
                                },
                                {
                                    "CustomerID": "1049",
                                    "CustomerName": "Amet Shergill"
                                },
                                {
                                    "CustomerID": "1050",
                                    "CustomerName": "Amrita Ganguly"
                                },
                                {
                                    "CustomerID": "1051",
                                    "CustomerName": "Sylvie Laramee"
                                },
                                {
                                    "CustomerID": "1052",
                                    "CustomerName": "Ian Olofsson"
                                },
                                {
                                    "CustomerID": "1053",
                                    "CustomerName": "Luis Saucedo"
                                },
                                {
                                    "CustomerID": "1054",
                                    "CustomerName": "Emma Salpa"
                                },
                                {
                                    "CustomerID": "1055",
                                    "CustomerName": "Adriana Pena"
                                },
                                {
                                    "CustomerID": "1056",
                                    "CustomerName": "Kalyani Benjaree"
                                },
                                {
                                    "CustomerID": "1057",
                                    "CustomerName": "Ganesh Majumdar"
                                },
                                {
                                    "CustomerID": "1058",
                                    "CustomerName": "Jaroslav Fisar"
                                },
                                {
                                    "CustomerID": "1059",
                                    "CustomerName": "Jibek Juniskyzy"
                                },
                                {
                                    "CustomerID": "1060",
                                    "CustomerName": "Anand Mudaliyar"
                                },
                                {
                                    "CustomerID": "1061",
                                    "CustomerName": "Agrita Abele"
                                }
                            ]
                        },
                        "text/html": "<table><tr><th>CustomerID</th><th>CustomerName</th></tr><tr><td>1</td><td>Tailspin Toys (Head Office)</td></tr><tr><td>2</td><td>Tailspin Toys (Sylvanite, MT)</td></tr><tr><td>3</td><td>Tailspin Toys (Peeples Valley, AZ)</td></tr><tr><td>4</td><td>Tailspin Toys (Medicine Lodge, KS)</td></tr><tr><td>5</td><td>Tailspin Toys (Gasport, NY)</td></tr><tr><td>6</td><td>Tailspin Toys (Jessie, ND)</td></tr><tr><td>7</td><td>Tailspin Toys (Frankewing, TN)</td></tr><tr><td>8</td><td>Tailspin Toys (Bow Mar, CO)</td></tr><tr><td>9</td><td>Tailspin Toys (Netcong, NJ)</td></tr><tr><td>10</td><td>Tailspin Toys (Wimbledon, ND)</td></tr><tr><td>11</td><td>Tailspin Toys (Devault, PA)</td></tr><tr><td>12</td><td>Tailspin Toys (Biscay, MN)</td></tr><tr><td>13</td><td>Tailspin Toys (Stonefort, IL)</td></tr><tr><td>14</td><td>Tailspin Toys (Long Meadow, MD)</td></tr><tr><td>15</td><td>Tailspin Toys (Batson, TX)</td></tr><tr><td>16</td><td>Tailspin Toys (Coney Island, MO)</td></tr><tr><td>17</td><td>Tailspin Toys (East Fultonham, OH)</td></tr><tr><td>18</td><td>Tailspin Toys (Goffstown, NH)</td></tr><tr><td>19</td><td>Tailspin Toys (Lemeta, AK)</td></tr><tr><td>20</td><td>Tailspin Toys (College Place, WA)</td></tr><tr><td>21</td><td>Tailspin Toys (Tresckow, PA)</td></tr><tr><td>22</td><td>Tailspin Toys (Ward Ridge, FL)</td></tr><tr><td>23</td><td>Tailspin Toys (Ikatan, AK)</td></tr><tr><td>24</td><td>Tailspin Toys (Dundarrach, NC)</td></tr><tr><td>25</td><td>Tailspin Toys (Avenal, CA)</td></tr><tr><td>26</td><td>Tailspin Toys (Hedrick, IA)</td></tr><tr><td>27</td><td>Tailspin Toys (Bowlus, MN)</td></tr><tr><td>28</td><td>Tailspin Toys (North Ridge, NY)</td></tr><tr><td>29</td><td>Tailspin Toys (Eulaton, AL)</td></tr><tr><td>30</td><td>Tailspin Toys (Koontzville, WA)</td></tr><tr><td>31</td><td>Tailspin Toys (Lake Stevens, WA)</td></tr><tr><td>32</td><td>Tailspin Toys (Maypearl, TX)</td></tr><tr><td>33</td><td>Tailspin Toys (Boyden Arbor, SC)</td></tr><tr><td>34</td><td>Tailspin Toys (Dallardsville, TX)</td></tr><tr><td>35</td><td>Tailspin Toys (Slanesville, WV)</td></tr><tr><td>36</td><td>Tailspin Toys (Ekron, KY)</td></tr><tr><td>37</td><td>Tailspin Toys (Kerby, OR)</td></tr><tr><td>38</td><td>Tailspin Toys (Airport Drive, MO)</td></tr><tr><td>39</td><td>Tailspin Toys (Diablock, KY)</td></tr><tr><td>40</td><td>Tailspin Toys (Impact, TX)</td></tr><tr><td>41</td><td>Tailspin Toys (Olivette, MO)</td></tr><tr><td>42</td><td>Tailspin Toys (Arietta, NY)</td></tr><tr><td>43</td><td>Tailspin Toys (Upper Preston, WA)</td></tr><tr><td>44</td><td>Tailspin Toys (Amanda Park, WA)</td></tr><tr><td>45</td><td>Tailspin Toys (Severna Park, MD)</td></tr><tr><td>46</td><td>Tailspin Toys (Jemison, AL)</td></tr><tr><td>47</td><td>Tailspin Toys (Lake Hughes, CA)</td></tr><tr><td>48</td><td>Tailspin Toys (Trentwood, WA)</td></tr><tr><td>49</td><td>Tailspin Toys (Muir, MI)</td></tr><tr><td>50</td><td>Tailspin Toys (Hambleton, WV)</td></tr><tr><td>51</td><td>Tailspin Toys (Imlaystown, NJ)</td></tr><tr><td>52</td><td>Tailspin Toys (Idria, CA)</td></tr><tr><td>53</td><td>Tailspin Toys (Nanafalia, AL)</td></tr><tr><td>54</td><td>Tailspin Toys (Railroad, PA)</td></tr><tr><td>55</td><td>Tailspin Toys (Gum Branch, GA)</td></tr><tr><td>56</td><td>Tailspin Toys (Royal City, WA)</td></tr><tr><td>57</td><td>Tailspin Toys (Lakemore, OH)</td></tr><tr><td>58</td><td>Tailspin Toys (Mappsburg, VA)</td></tr><tr><td>59</td><td>Tailspin Toys (Edgartown, MA)</td></tr><tr><td>60</td><td>Tailspin Toys (East Dailey, WV)</td></tr><tr><td>61</td><td>Tailspin Toys (Fairfield Glade, TN)</td></tr><tr><td>62</td><td>Tailspin Toys (Great Neck Estates, NY)</td></tr><tr><td>63</td><td>Tailspin Toys (Stallion Springs, CA)</td></tr><tr><td>64</td><td>Tailspin Toys (Hodgdon, ME)</td></tr><tr><td>65</td><td>Tailspin Toys (North Cowden, TX)</td></tr><tr><td>66</td><td>Tailspin Toys (Madaket, MA)</td></tr><tr><td>67</td><td>Tailspin Toys (Sentinel Butte, ND)</td></tr><tr><td>68</td><td>Tailspin Toys (Gardere, LA)</td></tr><tr><td>69</td><td>Tailspin Toys (Lytle Creek, CA)</td></tr><tr><td>70</td><td>Tailspin Toys (New Baden, IL)</td></tr><tr><td>71</td><td>Tailspin Toys (Good Hart, MI)</td></tr><tr><td>72</td><td>Tailspin Toys (Cortaro, AZ)</td></tr><tr><td>73</td><td>Tailspin Toys (Cokato, MN)</td></tr><tr><td>74</td><td>Tailspin Toys (Indios, PR)</td></tr><tr><td>75</td><td>Tailspin Toys (Windsor Locks, CT)</td></tr><tr><td>76</td><td>Tailspin Toys (Yewed, OK)</td></tr><tr><td>77</td><td>Tailspin Toys (Hahira, GA)</td></tr><tr><td>78</td><td>Tailspin Toys (Sekiu, WA)</td></tr><tr><td>79</td><td>Tailspin Toys (Page City, KS)</td></tr><tr><td>80</td><td>Tailspin Toys (Valdese, NC)</td></tr><tr><td>81</td><td>Tailspin Toys (Big Moose, NY)</td></tr><tr><td>82</td><td>Tailspin Toys (La Cueva, NM)</td></tr><tr><td>83</td><td>Tailspin Toys (Absecon, NJ)</td></tr><tr><td>84</td><td>Tailspin Toys (Aceitunas, PR)</td></tr><tr><td>85</td><td>Tailspin Toys (Andrix, CO)</td></tr><tr><td>86</td><td>Tailspin Toys (New Lexington, OH)</td></tr><tr><td>87</td><td>Tailspin Toys (Sauquoit, NY)</td></tr><tr><td>88</td><td>Tailspin Toys (Dracut, MA)</td></tr><tr><td>89</td><td>Tailspin Toys (Victory Gardens, NJ)</td></tr><tr><td>90</td><td>Tailspin Toys (Tolna, ND)</td></tr><tr><td>91</td><td>Tailspin Toys (Alstead, NH)</td></tr><tr><td>92</td><td>Tailspin Toys (Sans Souci, SC)</td></tr><tr><td>93</td><td>Tailspin Toys (Clewiston, FL)</td></tr><tr><td>94</td><td>Tailspin Toys (Cheyenne Wells, CO)</td></tr><tr><td>95</td><td>Tailspin Toys (Lavon, TX)</td></tr><tr><td>96</td><td>Tailspin Toys (South La Paloma, TX)</td></tr><tr><td>97</td><td>Tailspin Toys (Manchester Center, VT)</td></tr><tr><td>98</td><td>Tailspin Toys (El Centro, CA)</td></tr><tr><td>99</td><td>Tailspin Toys (Guin, AL)</td></tr><tr><td>100</td><td>Tailspin Toys (Tunnelhill, PA)</td></tr><tr><td>101</td><td>Tailspin Toys (Cundiyo, NM)</td></tr><tr><td>102</td><td>Tailspin Toys (Fieldbrook, CA)</td></tr><tr><td>103</td><td>Tailspin Toys (Kalvesta, KS)</td></tr><tr><td>104</td><td>Tailspin Toys (Wallagrass, ME)</td></tr><tr><td>105</td><td>Tailspin Toys (Tomnolen, MS)</td></tr><tr><td>106</td><td>Tailspin Toys (Tumacacori, AZ)</td></tr><tr><td>107</td><td>Tailspin Toys (Glen Avon, CA)</td></tr><tr><td>108</td><td>Tailspin Toys (Bernie, MO)</td></tr><tr><td>109</td><td>Tailspin Toys (South Laguna, CA)</td></tr><tr><td>110</td><td>Tailspin Toys (North Crows Nest, IN)</td></tr><tr><td>111</td><td>Tailspin Toys (Oriole Beach, FL)</td></tr><tr><td>112</td><td>Tailspin Toys (Sallyards, KS)</td></tr><tr><td>113</td><td>Tailspin Toys (Dahlia, NM)</td></tr><tr><td>114</td><td>Tailspin Toys (Cherry Grove Beach, SC)</td></tr><tr><td>115</td><td>Tailspin Toys (Bethania, NC)</td></tr><tr><td>116</td><td>Tailspin Toys (Rafael Capó, PR)</td></tr><tr><td>117</td><td>Tailspin Toys (Scofield, UT)</td></tr><tr><td>118</td><td>Tailspin Toys (Vassalboro, ME)</td></tr><tr><td>119</td><td>Tailspin Toys (Statenville, GA)</td></tr><tr><td>120</td><td>Tailspin Toys (Bratenahl, OH)</td></tr><tr><td>121</td><td>Tailspin Toys (Elrosa, MN)</td></tr><tr><td>122</td><td>Tailspin Toys (McClave, CO)</td></tr><tr><td>123</td><td>Tailspin Toys (Roe Park, NY)</td></tr><tr><td>124</td><td>Tailspin Toys (Hanoverton, OH)</td></tr><tr><td>125</td><td>Tailspin Toys (Annamoriah, WV)</td></tr><tr><td>126</td><td>Tailspin Toys (Francis Mills, NJ)</td></tr><tr><td>127</td><td>Tailspin Toys (Point Roberts, WA)</td></tr><tr><td>128</td><td>Tailspin Toys (East Portal, CO)</td></tr><tr><td>129</td><td>Tailspin Toys (Mineral Hills, MI)</td></tr><tr><td>130</td><td>Tailspin Toys (Maple Shade, NJ)</td></tr><tr><td>131</td><td>Tailspin Toys (Kwethluk, AK)</td></tr><tr><td>132</td><td>Tailspin Toys (Minidoka, ID)</td></tr><tr><td>133</td><td>Tailspin Toys (Lake Erie Beach, NY)</td></tr><tr><td>134</td><td>Tailspin Toys (Tavares, FL)</td></tr><tr><td>135</td><td>Tailspin Toys (Terre du Lac, MO)</td></tr><tr><td>136</td><td>Tailspin Toys (Mount Montgomery, NV)</td></tr><tr><td>137</td><td>Tailspin Toys (Carbonville, UT)</td></tr><tr><td>138</td><td>Tailspin Toys (Navassa, NC)</td></tr><tr><td>139</td><td>Tailspin Toys (Hardeeville, SC)</td></tr><tr><td>140</td><td>Tailspin Toys (Furley, KS)</td></tr><tr><td>141</td><td>Tailspin Toys (Arrow Rock, MO)</td></tr><tr><td>142</td><td>Tailspin Toys (King Cove, AK)</td></tr><tr><td>143</td><td>Tailspin Toys (Ashtabula, OH)</td></tr><tr><td>144</td><td>Tailspin Toys (Larose, LA)</td></tr><tr><td>145</td><td>Tailspin Toys (Manahawkin, NJ)</td></tr><tr><td>146</td><td>Tailspin Toys (Belgreen, AL)</td></tr><tr><td>147</td><td>Tailspin Toys (Fishtail, MT)</td></tr><tr><td>148</td><td>Tailspin Toys (Baraboo, WI)</td></tr><tr><td>149</td><td>Tailspin Toys (Inguadona, MN)</td></tr><tr><td>150</td><td>Tailspin Toys (Corfu, NY)</td></tr><tr><td>151</td><td>Tailspin Toys (Antares, AZ)</td></tr><tr><td>152</td><td>Tailspin Toys (Sun River, MT)</td></tr><tr><td>153</td><td>Tailspin Toys (Marcell, MN)</td></tr><tr><td>154</td><td>Tailspin Toys (Eden Valley, MN)</td></tr><tr><td>155</td><td>Tailspin Toys (Arbor Vitae, WI)</td></tr><tr><td>156</td><td>Tailspin Toys (Hollywood Park, TX)</td></tr><tr><td>157</td><td>Tailspin Toys (Saks, AL)</td></tr><tr><td>158</td><td>Tailspin Toys (Donner, LA)</td></tr><tr><td>159</td><td>Tailspin Toys (Saint Louis Park, MN)</td></tr><tr><td>160</td><td>Tailspin Toys (Crary, ND)</td></tr><tr><td>161</td><td>Tailspin Toys (Aspen Park, CO)</td></tr><tr><td>162</td><td>Tailspin Toys (Glen Park, NY)</td></tr><tr><td>163</td><td>Tailspin Toys (Panaca, NV)</td></tr><tr><td>164</td><td>Tailspin Toys (Rothsville, PA)</td></tr><tr><td>165</td><td>Tailspin Toys (Topstone, CT)</td></tr><tr><td>166</td><td>Tailspin Toys (McCamey, TX)</td></tr><tr><td>167</td><td>Tailspin Toys (Rockwall, TX)</td></tr><tr><td>168</td><td>Tailspin Toys (Seagraves, TX)</td></tr><tr><td>169</td><td>Tailspin Toys (Sinclair, WY)</td></tr><tr><td>170</td><td>Tailspin Toys (Eastchester, NY)</td></tr><tr><td>171</td><td>Tailspin Toys (Ortley Beach, NJ)</td></tr><tr><td>172</td><td>Tailspin Toys (Madrone, NM)</td></tr><tr><td>173</td><td>Tailspin Toys (Wappingers Falls, NY)</td></tr><tr><td>174</td><td>Tailspin Toys (Astor Park, FL)</td></tr><tr><td>175</td><td>Tailspin Toys (San Acacia, NM)</td></tr><tr><td>176</td><td>Tailspin Toys (Malott, WA)</td></tr><tr><td>177</td><td>Tailspin Toys (Orrtanna, PA)</td></tr><tr><td>178</td><td>Tailspin Toys (Armstrong Creek, WI)</td></tr><tr><td>179</td><td>Tailspin Toys (Hiteman, IA)</td></tr><tr><td>180</td><td>Tailspin Toys (Caselton, NV)</td></tr><tr><td>181</td><td>Tailspin Toys (Heilwood, PA)</td></tr><tr><td>182</td><td>Tailspin Toys (Hayes Center, NE)</td></tr><tr><td>183</td><td>Tailspin Toys (Tierra Verde, FL)</td></tr><tr><td>184</td><td>Tailspin Toys (South Euclid, OH)</td></tr><tr><td>185</td><td>Tailspin Toys (Vidrine, LA)</td></tr><tr><td>186</td><td>Tailspin Toys (Placer, OR)</td></tr><tr><td>187</td><td>Tailspin Toys (Brown City, MI)</td></tr><tr><td>188</td><td>Tailspin Toys (Premont, TX)</td></tr><tr><td>189</td><td>Tailspin Toys (Wilkes-Barre, PA)</td></tr><tr><td>190</td><td>Tailspin Toys (Teutopolis, IL)</td></tr><tr><td>191</td><td>Tailspin Toys (Orchard Hill, GA)</td></tr><tr><td>192</td><td>Tailspin Toys (Optimo, NM)</td></tr><tr><td>193</td><td>Tailspin Toys (Knifley, KY)</td></tr><tr><td>194</td><td>Tailspin Toys (Naples Park, FL)</td></tr><tr><td>195</td><td>Tailspin Toys (Lesslie, SC)</td></tr><tr><td>196</td><td>Tailspin Toys (Howells, NE)</td></tr><tr><td>197</td><td>Tailspin Toys (Magalia, CA)</td></tr><tr><td>198</td><td>Tailspin Toys (Buell, MO)</td></tr><tr><td>199</td><td>Tailspin Toys (Antonito, CO)</td></tr><tr><td>200</td><td>Tailspin Toys (Tooele, UT)</td></tr><tr><td>201</td><td>Tailspin Toys (Skyway, WA)</td></tr><tr><td>401</td><td>Wingtip Toys (Head Office)</td></tr><tr><td>402</td><td>Wingtip Toys (Black Lick, PA)</td></tr><tr><td>403</td><td>Wingtip Toys (Queen Valley, AZ)</td></tr><tr><td>404</td><td>Wingtip Toys (Penns Creek, PA)</td></tr><tr><td>405</td><td>Wingtip Toys (Bourbonnais, IL)</td></tr><tr><td>406</td><td>Wingtip Toys (Tuscaloosa, AL)</td></tr><tr><td>407</td><td>Wingtip Toys (Mooringsport, LA)</td></tr><tr><td>408</td><td>Wingtip Toys (Rockwall, TX)</td></tr><tr><td>409</td><td>Wingtip Toys (Orick, CA)</td></tr><tr><td>410</td><td>Wingtip Toys (Bernstein, TX)</td></tr><tr><td>411</td><td>Wingtip Toys (Edmund, WI)</td></tr><tr><td>412</td><td>Wingtip Toys (Bozeman Hot Springs, MT)</td></tr><tr><td>413</td><td>Wingtip Toys (Truscott, TX)</td></tr><tr><td>414</td><td>Wingtip Toys (Rose Tree, PA)</td></tr><tr><td>415</td><td>Wingtip Toys (Leathersville, GA)</td></tr><tr><td>416</td><td>Wingtip Toys (Necedah, WI)</td></tr><tr><td>417</td><td>Wingtip Toys (Chetek, WI)</td></tr><tr><td>418</td><td>Wingtip Toys (Yaak, MT)</td></tr><tr><td>419</td><td>Wingtip Toys (Compass Lake, FL)</td></tr><tr><td>420</td><td>Wingtip Toys (Herlong, CA)</td></tr><tr><td>421</td><td>Wingtip Toys (Highland Home, AL)</td></tr><tr><td>422</td><td>Wingtip Toys (Naches, WA)</td></tr><tr><td>423</td><td>Wingtip Toys (Baldwin City, KS)</td></tr><tr><td>424</td><td>Wingtip Toys (Heartwell, NE)</td></tr><tr><td>425</td><td>Wingtip Toys (Bethel Acres, OK)</td></tr><tr><td>426</td><td>Wingtip Toys (Willow Valley, AZ)</td></tr><tr><td>427</td><td>Wingtip Toys (Athol Springs, NY)</td></tr><tr><td>428</td><td>Wingtip Toys (Paw Paw Lake, MI)</td></tr><tr><td>429</td><td>Wingtip Toys (Lilbourn, MO)</td></tr><tr><td>430</td><td>Wingtip Toys (Lost River, ID)</td></tr><tr><td>431</td><td>Wingtip Toys (Rosa Sánchez, PR)</td></tr><tr><td>432</td><td>Wingtip Toys (Vamo, FL)</td></tr><tr><td>433</td><td>Wingtip Toys (Balko, OK)</td></tr><tr><td>434</td><td>Wingtip Toys (Lime Lake, NY)</td></tr><tr><td>435</td><td>Wingtip Toys (Teutopolis, IL)</td></tr><tr><td>436</td><td>Wingtip Toys (Gargatha, VA)</td></tr><tr><td>437</td><td>Wingtip Toys (Cadogan, PA)</td></tr><tr><td>438</td><td>Wingtip Toys (Lucasville, OH)</td></tr><tr><td>439</td><td>Wingtip Toys (Cylon, WI)</td></tr><tr><td>440</td><td>Wingtip Toys (Asher, OK)</td></tr><tr><td>441</td><td>Wingtip Toys (Keosauqua, IA)</td></tr><tr><td>442</td><td>Wingtip Toys (Homer City, PA)</td></tr><tr><td>443</td><td>Wingtip Toys (Berville, MI)</td></tr><tr><td>444</td><td>Wingtip Toys (Tea, SD)</td></tr><tr><td>445</td><td>Wingtip Toys (Dacono, CO)</td></tr><tr><td>446</td><td>Wingtip Toys (Saint Landry, LA)</td></tr><tr><td>447</td><td>Wingtip Toys (Coin, IA)</td></tr><tr><td>448</td><td>Wingtip Toys (Salt Wells, NV)</td></tr><tr><td>449</td><td>Wingtip Toys (Delray, WV)</td></tr><tr><td>450</td><td>Wingtip Toys (Mount Summit, IN)</td></tr><tr><td>451</td><td>Wingtip Toys (Smoot, WY)</td></tr><tr><td>452</td><td>Wingtip Toys (Lake Davis, CA)</td></tr><tr><td>453</td><td>Wingtip Toys (Stanardsville, VA)</td></tr><tr><td>454</td><td>Wingtip Toys (Corcovado, PR)</td></tr><tr><td>455</td><td>Wingtip Toys (Taft Heights, CA)</td></tr><tr><td>456</td><td>Wingtip Toys (West Hempstead, NY)</td></tr><tr><td>457</td><td>Wingtip Toys (Portales, NM)</td></tr><tr><td>458</td><td>Wingtip Toys (Coker, AL)</td></tr><tr><td>459</td><td>Wingtip Toys (Haydenville, OH)</td></tr><tr><td>460</td><td>Wingtip Toys (Mayhill, NM)</td></tr><tr><td>461</td><td>Wingtip Toys (Vair, TX)</td></tr><tr><td>462</td><td>Wingtip Toys (Crossroads, NM)</td></tr><tr><td>463</td><td>Wingtip Toys (Cowlington, OK)</td></tr><tr><td>464</td><td>Wingtip Toys (Glen Ullin, ND)</td></tr><tr><td>465</td><td>Wingtip Toys (Oologah, OK)</td></tr><tr><td>466</td><td>Wingtip Toys (Lytle, TX)</td></tr><tr><td>467</td><td>Wingtip Toys (Mahaffey, PA)</td></tr><tr><td>468</td><td>Wingtip Toys (Sunburg, MN)</td></tr><tr><td>469</td><td>Wingtip Toys (Johnetta, KY)</td></tr><tr><td>470</td><td>Wingtip Toys (Universal City, TX)</td></tr><tr><td>471</td><td>Wingtip Toys (Ridgemark, CA)</td></tr><tr><td>472</td><td>Wingtip Toys (San Jacinto, CA)</td></tr><tr><td>473</td><td>Wingtip Toys (Floriston, CA)</td></tr><tr><td>474</td><td>Wingtip Toys (Bokeelia, FL)</td></tr><tr><td>475</td><td>Wingtip Toys (Cale, AR)</td></tr><tr><td>476</td><td>Wingtip Toys (Karthaus, PA)</td></tr><tr><td>477</td><td>Wingtip Toys (Glancy, MS)</td></tr><tr><td>478</td><td>Wingtip Toys (Stoneboro, PA)</td></tr><tr><td>479</td><td>Wingtip Toys (Mier, IN)</td></tr><tr><td>480</td><td>Wingtip Toys (Wapinitia, OR)</td></tr><tr><td>481</td><td>Wingtip Toys (White Church, MO)</td></tr><tr><td>482</td><td>Wingtip Toys (Caton, NY)</td></tr><tr><td>483</td><td>Wingtip Toys (Plum Branch, SC)</td></tr><tr><td>484</td><td>Wingtip Toys (Mauldin, SC)</td></tr><tr><td>485</td><td>Wingtip Toys (Bonner Springs, KS)</td></tr><tr><td>486</td><td>Wingtip Toys (Lowellville, OH)</td></tr><tr><td>487</td><td>Wingtip Toys (Elverson, PA)</td></tr><tr><td>488</td><td>Wingtip Toys (Isabela, PR)</td></tr><tr><td>489</td><td>Wingtip Toys (Sayner, WI)</td></tr><tr><td>490</td><td>Wingtip Toys (Beals, ME)</td></tr><tr><td>491</td><td>Wingtip Toys (Morton Grove, IL)</td></tr><tr><td>492</td><td>Wingtip Toys (Birds, IL)</td></tr><tr><td>493</td><td>Wingtip Toys (Federalsburg, MD)</td></tr><tr><td>494</td><td>Wingtip Toys (Pikeview, CO)</td></tr><tr><td>495</td><td>Wingtip Toys (Boalsburg, PA)</td></tr><tr><td>496</td><td>Wingtip Toys (Port Hueneme, CA)</td></tr><tr><td>497</td><td>Wingtip Toys (Verdery, SC)</td></tr><tr><td>498</td><td>Wingtip Toys (Obetz, OH)</td></tr><tr><td>499</td><td>Wingtip Toys (East Fultonham, OH)</td></tr><tr><td>500</td><td>Wingtip Toys (Obion, TN)</td></tr><tr><td>501</td><td>Wingtip Toys (Cavendish, VT)</td></tr><tr><td>502</td><td>Wingtip Toys (Miesville, MN)</td></tr><tr><td>503</td><td>Wingtip Toys (Valhalla, NC)</td></tr><tr><td>504</td><td>Wingtip Toys (Cape Neddick, ME)</td></tr><tr><td>505</td><td>Wingtip Toys (Silver Plume, CO)</td></tr><tr><td>506</td><td>Wingtip Toys (North Beach Haven, NJ)</td></tr><tr><td>507</td><td>Wingtip Toys (Downingtown, PA)</td></tr><tr><td>508</td><td>Wingtip Toys (Branson West, MO)</td></tr><tr><td>509</td><td>Wingtip Toys (Bergen Park, CO)</td></tr><tr><td>510</td><td>Wingtip Toys (Grabill, IN)</td></tr><tr><td>511</td><td>Wingtip Toys (North Manitou, MI)</td></tr><tr><td>512</td><td>Wingtip Toys (Philip, SD)</td></tr><tr><td>513</td><td>Wingtip Toys (Straughn, IN)</td></tr><tr><td>514</td><td>Wingtip Toys (Gilford, NH)</td></tr><tr><td>515</td><td>Wingtip Toys (Del Valle, TX)</td></tr><tr><td>516</td><td>Wingtip Toys (Harkers Island, NC)</td></tr><tr><td>517</td><td>Wingtip Toys (Licking, MO)</td></tr><tr><td>518</td><td>Wingtip Toys (Raton, NM)</td></tr><tr><td>519</td><td>Wingtip Toys (Boynton, OK)</td></tr><tr><td>520</td><td>Wingtip Toys (Frenchburg, KY)</td></tr><tr><td>521</td><td>Wingtip Toys (Robertsdale, AL)</td></tr><tr><td>522</td><td>Wingtip Toys (Dickerson, MD)</td></tr><tr><td>523</td><td>Wingtip Toys (Bruceton Mills, WV)</td></tr><tr><td>524</td><td>Wingtip Toys (Cloquet, MN)</td></tr><tr><td>525</td><td>Wingtip Toys (Claycomo, MO)</td></tr><tr><td>526</td><td>Wingtip Toys (Beekmantown, NY)</td></tr><tr><td>527</td><td>Wingtip Toys (Islip Terrace, NY)</td></tr><tr><td>528</td><td>Wingtip Toys (Rich Creek, VA)</td></tr><tr><td>529</td><td>Wingtip Toys (Griswoldville, GA)</td></tr><tr><td>530</td><td>Wingtip Toys (East Mountain, TX)</td></tr><tr><td>531</td><td>Wingtip Toys (Omer, MI)</td></tr><tr><td>532</td><td>Wingtip Toys (Waycross, GA)</td></tr><tr><td>533</td><td>Wingtip Toys (Nichols Hills, OK)</td></tr><tr><td>534</td><td>Wingtip Toys (Plaquemine, LA)</td></tr><tr><td>535</td><td>Wingtip Toys (Triadelphia, WV)</td></tr><tr><td>536</td><td>Wingtip Toys (Ferney, SD)</td></tr><tr><td>537</td><td>Wingtip Toys (Akhiok, AK)</td></tr><tr><td>538</td><td>Wingtip Toys (Deeson, MS)</td></tr><tr><td>539</td><td>Wingtip Toys (Nuangola, PA)</td></tr><tr><td>540</td><td>Wingtip Toys (Weld, ME)</td></tr><tr><td>541</td><td>Wingtip Toys (Mickleton, NJ)</td></tr><tr><td>542</td><td>Wingtip Toys (Schererville, IN)</td></tr><tr><td>543</td><td>Wingtip Toys (Lexington Heights, MI)</td></tr><tr><td>544</td><td>Wingtip Toys (Broomtown, AL)</td></tr><tr><td>545</td><td>Wingtip Toys (Jamison, IA)</td></tr><tr><td>546</td><td>Wingtip Toys (Key Biscayne, FL)</td></tr><tr><td>547</td><td>Wingtip Toys (Chaseley, ND)</td></tr><tr><td>548</td><td>Wingtip Toys (Indian Creek, IL)</td></tr><tr><td>549</td><td>Wingtip Toys (Lake Ronkonkoma, NY)</td></tr><tr><td>550</td><td>Wingtip Toys (Morrison Bluff, AR)</td></tr><tr><td>551</td><td>Wingtip Toys (Huntingburg, IN)</td></tr><tr><td>552</td><td>Wingtip Toys (Shay, PA)</td></tr><tr><td>553</td><td>Wingtip Toys (Helotes, TX)</td></tr><tr><td>554</td><td>Wingtip Toys (Hollandsburg, IN)</td></tr><tr><td>555</td><td>Wingtip Toys (Liberty Grove, MD)</td></tr><tr><td>556</td><td>Wingtip Toys (Morita, TX)</td></tr><tr><td>557</td><td>Wingtip Toys (New Laguna, NM)</td></tr><tr><td>558</td><td>Wingtip Toys (Bourneville, OH)</td></tr><tr><td>559</td><td>Wingtip Toys (Mendoza, TX)</td></tr><tr><td>560</td><td>Wingtip Toys (Palmas del Mar, PR)</td></tr><tr><td>561</td><td>Wingtip Toys (Marion Junction, AL)</td></tr><tr><td>562</td><td>Wingtip Toys (Ware Shoals, SC)</td></tr><tr><td>563</td><td>Wingtip Toys (Lostine, OR)</td></tr><tr><td>564</td><td>Wingtip Toys (Tilleda, WI)</td></tr><tr><td>565</td><td>Wingtip Toys (Wapiti, WY)</td></tr><tr><td>566</td><td>Wingtip Toys (Amado, AZ)</td></tr><tr><td>567</td><td>Wingtip Toys (Jeromesville, OH)</td></tr><tr><td>568</td><td>Wingtip Toys (Ovilla, TX)</td></tr><tr><td>569</td><td>Wingtip Toys (West Frostproof, FL)</td></tr><tr><td>570</td><td>Wingtip Toys (Flomaton, AL)</td></tr><tr><td>571</td><td>Wingtip Toys (Pawlet, VT)</td></tr><tr><td>572</td><td>Wingtip Toys (Trout Run, PA)</td></tr><tr><td>573</td><td>Wingtip Toys (Marin City, CA)</td></tr><tr><td>574</td><td>Wingtip Toys (Molalla, OR)</td></tr><tr><td>575</td><td>Wingtip Toys (Trumansburg, NY)</td></tr><tr><td>576</td><td>Wingtip Toys (Goodings Grove, IL)</td></tr><tr><td>577</td><td>Wingtip Toys (Cherryplain, NY)</td></tr><tr><td>578</td><td>Wingtip Toys (Bell Acres, PA)</td></tr><tr><td>579</td><td>Wingtip Toys (Connoquenessing, PA)</td></tr><tr><td>580</td><td>Wingtip Toys (Sarversville, PA)</td></tr><tr><td>581</td><td>Wingtip Toys (Munich, ND)</td></tr><tr><td>582</td><td>Wingtip Toys (Montoya, NM)</td></tr><tr><td>583</td><td>Wingtip Toys (Knights Landing, CA)</td></tr><tr><td>584</td><td>Wingtip Toys (Cache, OK)</td></tr><tr><td>585</td><td>Wingtip Toys (Towaco, NJ)</td></tr><tr><td>586</td><td>Wingtip Toys (Lynne, FL)</td></tr><tr><td>587</td><td>Wingtip Toys (Plata, TX)</td></tr><tr><td>588</td><td>Wingtip Toys (Oak Point, TX)</td></tr><tr><td>589</td><td>Wingtip Toys (Alcester, SD)</td></tr><tr><td>590</td><td>Wingtip Toys (McAdenville, NC)</td></tr><tr><td>591</td><td>Wingtip Toys (Idaho City, ID)</td></tr><tr><td>592</td><td>Wingtip Toys (Dunkerton, IA)</td></tr><tr><td>593</td><td>Wingtip Toys (Cuyamungue, NM)</td></tr><tr><td>594</td><td>Wingtip Toys (Marfa, TX)</td></tr><tr><td>595</td><td>Wingtip Toys (Accomac, VA)</td></tr><tr><td>596</td><td>Wingtip Toys (Cos Cob, CT)</td></tr><tr><td>597</td><td>Wingtip Toys (Haycock, AK)</td></tr><tr><td>598</td><td>Wingtip Toys (Kapa&#39;a, HI)</td></tr><tr><td>599</td><td>Wingtip Toys (Dickworsham, TX)</td></tr><tr><td>600</td><td>Wingtip Toys (Caro, MI)</td></tr><tr><td>601</td><td>Wingtip Toys (Ruthsburg, MD)</td></tr><tr><td>801</td><td>Eric Torres</td></tr><tr><td>802</td><td>Cosmina Vlad</td></tr><tr><td>803</td><td>Bala Dixit</td></tr><tr><td>804</td><td>Aleksandrs Riekstins</td></tr><tr><td>805</td><td>Ratan Poddar</td></tr><tr><td>806</td><td>Shi Tu</td></tr><tr><td>807</td><td>Gunnar Lohmus</td></tr><tr><td>808</td><td>Jackson Kolios</td></tr><tr><td>809</td><td>Madhu Dwivedi</td></tr><tr><td>810</td><td>Alena Kellnerova</td></tr><tr><td>811</td><td>Surendra Sahu</td></tr><tr><td>812</td><td>Celica Barajas</td></tr><tr><td>813</td><td>Shyam Poddar</td></tr><tr><td>814</td><td>Johanna Hoornstra</td></tr><tr><td>815</td><td>Libuse Valentova</td></tr><tr><td>816</td><td>Harsha Huq</td></tr><tr><td>817</td><td>Agrita Kanepa</td></tr><tr><td>818</td><td>Liia Orav</td></tr><tr><td>819</td><td>Santiago Vera</td></tr><tr><td>820</td><td>Knut Svensson</td></tr><tr><td>821</td><td>Kwanjai Saowaluk</td></tr><tr><td>822</td><td>Suparna Bhattacharya</td></tr><tr><td>823</td><td>Francisca Laureano</td></tr><tr><td>824</td><td>Risto Valbe</td></tr><tr><td>825</td><td>Jayanta Thakur</td></tr><tr><td>826</td><td>Leila Carvalho</td></tr><tr><td>827</td><td>Crina Grasu</td></tr><tr><td>828</td><td>Sercan Celik</td></tr><tr><td>829</td><td>Jack Walker</td></tr><tr><td>830</td><td>Jana Fialova</td></tr><tr><td>831</td><td>Bhaavan Rai</td></tr><tr><td>832</td><td>Aakriti Byrraju</td></tr><tr><td>833</td><td>Devraj Rao</td></tr><tr><td>834</td><td>Cong Hoa</td></tr><tr><td>835</td><td>Dominic Davignon</td></tr><tr><td>836</td><td>Abel Spirlea</td></tr><tr><td>837</td><td>Anil Sarkar</td></tr><tr><td>838</td><td>Pavel Bogdanov</td></tr><tr><td>839</td><td>Juan Morse</td></tr><tr><td>840</td><td>Rodrigo Figueiredo</td></tr><tr><td>841</td><td>Camille Authier</td></tr><tr><td>842</td><td>Biju Deb</td></tr><tr><td>843</td><td>Marija Justina Pasek</td></tr><tr><td>844</td><td>Durdanah Abbasi</td></tr><tr><td>845</td><td>Emilie Hrdlickova</td></tr><tr><td>846</td><td>Malorie Bousquet</td></tr><tr><td>847</td><td>Kristiina Ivanov</td></tr><tr><td>848</td><td>Alvin Bollinger</td></tr><tr><td>849</td><td>Sabine Zalite</td></tr><tr><td>850</td><td>Daakshaayaani Sankaramanchi</td></tr><tr><td>851</td><td>Ebru Erdogan</td></tr><tr><td>852</td><td>Bhagavaan Atluri</td></tr><tr><td>853</td><td>Caterina Pinto</td></tr><tr><td>854</td><td>Daakshaayaani Kommineni</td></tr><tr><td>855</td><td>Anna Mazzanti</td></tr><tr><td>856</td><td>Satish Mittal</td></tr><tr><td>857</td><td>Clarissa Manfrin</td></tr><tr><td>858</td><td>Bimla PrabhupÄda</td></tr><tr><td>859</td><td>Shah Alizadeh</td></tr><tr><td>860</td><td>Marcela Lucescu</td></tr><tr><td>861</td><td>Amarasimha Vinjamuri</td></tr><tr><td>862</td><td>Lana Goransson</td></tr><tr><td>863</td><td>Jakub Lukes</td></tr><tr><td>864</td><td>Mikhail Degtyarev</td></tr><tr><td>865</td><td>Bijoya Thakur</td></tr><tr><td>866</td><td>Jay Bhuiyan</td></tr><tr><td>867</td><td>Jasna Cerkez</td></tr><tr><td>868</td><td>Laura Sykorova</td></tr><tr><td>869</td><td>Abel Tatarescu</td></tr><tr><td>870</td><td>In-Su Bae</td></tr><tr><td>871</td><td>Darshana Madhunapantula</td></tr><tr><td>872</td><td>Katerina Hadrabova</td></tr><tr><td>873</td><td>Hana Hlouskova</td></tr><tr><td>874</td><td>Daniel Martensson</td></tr><tr><td>875</td><td>Philip Walker</td></tr><tr><td>876</td><td>Marie LeBatelier</td></tr><tr><td>877</td><td>Leyla Siavashi</td></tr><tr><td>878</td><td>Miriam House</td></tr><tr><td>879</td><td>Jitka Necesana</td></tr><tr><td>880</td><td>Edmee Glissen</td></tr><tr><td>881</td><td>Magdalena Michnova</td></tr><tr><td>882</td><td>Maryann Huddleston</td></tr><tr><td>883</td><td>Radha Barua</td></tr><tr><td>884</td><td>Anindya Ghatak</td></tr><tr><td>885</td><td>Chandrashekhar Dasgupta</td></tr><tr><td>886</td><td>Debbie Molina</td></tr><tr><td>887</td><td>Baran Jonsson</td></tr><tr><td>888</td><td>Jai Lamble</td></tr><tr><td>889</td><td>Sointu Savonheimo</td></tr><tr><td>890</td><td>Olya Izmaylov</td></tr><tr><td>891</td><td>Taneli Riutta</td></tr><tr><td>892</td><td>Bahaar Asef zade</td></tr><tr><td>893</td><td>Leyla Asef zade</td></tr><tr><td>894</td><td>Gabriela Hernandes</td></tr><tr><td>895</td><td>Geza Roman</td></tr><tr><td>896</td><td>Leonardo Folliero</td></tr><tr><td>897</td><td>Allan Mannik</td></tr><tr><td>898</td><td>Gopalgobinda Sikdar</td></tr><tr><td>899</td><td>Chin-Sun Chang</td></tr><tr><td>900</td><td>Lilli Sokk</td></tr><tr><td>901</td><td>Adrian Andreasson</td></tr><tr><td>902</td><td>Kamila Michnova</td></tr><tr><td>903</td><td>Bing Han</td></tr><tr><td>904</td><td>Olafs Rozitis</td></tr><tr><td>905</td><td>Sara Huiting</td></tr><tr><td>906</td><td>Ajitaab Pakalapati</td></tr><tr><td>907</td><td>Eugen Agafitei</td></tr><tr><td>908</td><td>Sumati Bhat</td></tr><tr><td>909</td><td>Dena Glissen</td></tr><tr><td>910</td><td>Elina Kaleja</td></tr><tr><td>911</td><td>Liidia Lepp</td></tr><tr><td>912</td><td>Volkan senturk</td></tr><tr><td>913</td><td>Violetta KlanCisar</td></tr><tr><td>914</td><td>Chandana Shasthri</td></tr><tr><td>915</td><td>Ana Florea</td></tr><tr><td>916</td><td>Pinja Jantunen</td></tr><tr><td>917</td><td>Pari Hosseini</td></tr><tr><td>918</td><td>Isidora Morales</td></tr><tr><td>919</td><td>Kertu Sokk</td></tr><tr><td>920</td><td>Gayatri Gajula</td></tr><tr><td>921</td><td>Victoria Lacusta</td></tr><tr><td>922</td><td>Sumati Chatterjee</td></tr><tr><td>923</td><td>Tai Bach</td></tr><tr><td>924</td><td>Eva Schulteisz</td></tr><tr><td>925</td><td>Can ozcan</td></tr><tr><td>926</td><td>Richard Friar</td></tr><tr><td>927</td><td>Matyas Sedlar</td></tr><tr><td>928</td><td>Arijit Bhuiyan</td></tr><tr><td>929</td><td>Vladimir Henzl</td></tr><tr><td>930</td><td>Shantanu Huq</td></tr><tr><td>931</td><td>Nada Jovanovic</td></tr><tr><td>932</td><td>Nicolo Cattaneo</td></tr><tr><td>933</td><td>Joel Carrillo</td></tr><tr><td>934</td><td>Ivan Sepulveda</td></tr><tr><td>935</td><td>Daevasree Samavedam</td></tr><tr><td>936</td><td>Ludmila Smidova</td></tr><tr><td>937</td><td>Manca Hrastovsek</td></tr><tr><td>938</td><td>Anna Gyarmathi</td></tr><tr><td>939</td><td>Ioana Florea</td></tr><tr><td>940</td><td>Lorin Astrom</td></tr><tr><td>941</td><td>Bishwa Chatterjee</td></tr><tr><td>942</td><td>Chaayaadaevi Sonti</td></tr><tr><td>943</td><td>Drazenka Jelic</td></tr><tr><td>944</td><td>Ida Celma</td></tr><tr><td>945</td><td>Hoc Tran</td></tr><tr><td>946</td><td>David safranek</td></tr><tr><td>947</td><td>Svetlana Todorovic</td></tr><tr><td>948</td><td>Richard Zahradnicek</td></tr><tr><td>949</td><td>Seo-yun Paik</td></tr><tr><td>950</td><td>Emily Whittle</td></tr><tr><td>951</td><td>Eliza Persson</td></tr><tr><td>952</td><td>Chuan Wattanasin</td></tr><tr><td>953</td><td>Linh Dao</td></tr><tr><td>954</td><td>Nasrin Omidzadeh</td></tr><tr><td>955</td><td>Raghu Sandhu</td></tr><tr><td>956</td><td>Nhung Thach</td></tr><tr><td>957</td><td>Hee-Young Suh</td></tr><tr><td>958</td><td>Valentin Tirlea</td></tr><tr><td>959</td><td>Dhaatri Chavva</td></tr><tr><td>960</td><td>Edgar Jogi</td></tr><tr><td>961</td><td>Rani Ganguly</td></tr><tr><td>962</td><td>Bhagavati Vinjamuri</td></tr><tr><td>963</td><td>Be Trang</td></tr><tr><td>964</td><td>Ingrida Zeltina</td></tr><tr><td>965</td><td>Phoung Cu</td></tr><tr><td>966</td><td>Sara Walkky</td></tr><tr><td>967</td><td>Meera Patel</td></tr><tr><td>968</td><td>Anca Gogean</td></tr><tr><td>969</td><td>Staffan Persson</td></tr><tr><td>970</td><td>Isidora Urias</td></tr><tr><td>971</td><td>Dhanishta Mokkapati</td></tr><tr><td>972</td><td>Lakshmi Benipal</td></tr><tr><td>973</td><td>Kumar Kamei</td></tr><tr><td>974</td><td>Emil Roman</td></tr><tr><td>975</td><td>Prabodh Nair</td></tr><tr><td>976</td><td>Alinne Matos</td></tr><tr><td>977</td><td>Mauno Laurila</td></tr><tr><td>978</td><td>Baalaamjali Devulapalli</td></tr><tr><td>979</td><td>Melani Ravlen</td></tr><tr><td>980</td><td>Om Yadav</td></tr><tr><td>981</td><td>Mahmut ozbek</td></tr><tr><td>982</td><td>Yves Belisle</td></tr><tr><td>983</td><td>Sabine Alksne</td></tr><tr><td>984</td><td>Kamala Nishad</td></tr><tr><td>985</td><td>Roko Ilic</td></tr><tr><td>986</td><td>Neil Farrelly</td></tr><tr><td>987</td><td>Akhil Nadar</td></tr><tr><td>988</td><td>Maksims Krastins</td></tr><tr><td>989</td><td>Milinka Zujovic</td></tr><tr><td>990</td><td>Andris Saulitis</td></tr><tr><td>991</td><td>Valter Viiding</td></tr><tr><td>992</td><td>Amarakumaar Gadiyaram</td></tr><tr><td>993</td><td>Gasper Havzija</td></tr><tr><td>994</td><td>Libuse Kuchtova</td></tr><tr><td>995</td><td>Kumar Naicker</td></tr><tr><td>996</td><td>Laszlo Gardenier</td></tr><tr><td>997</td><td>Nada Ana Slosar</td></tr><tr><td>998</td><td>Mahavir Sonkar</td></tr><tr><td>999</td><td>Kristi Part</td></tr><tr><td>1000</td><td>Krishnam Allu</td></tr><tr><td>1001</td><td>Dinh Mai</td></tr><tr><td>1002</td><td>Stefan Selezeanu</td></tr><tr><td>1003</td><td>Hue Ton</td></tr><tr><td>1004</td><td>Drishti Bose</td></tr><tr><td>1005</td><td>Bhadram Kamasamudram</td></tr><tr><td>1006</td><td>Taj Syme</td></tr><tr><td>1007</td><td>Irma Berzina</td></tr><tr><td>1008</td><td>Vedrana Kovacevic</td></tr><tr><td>1009</td><td>Bhagavateeprasaad Malladi</td></tr><tr><td>1010</td><td>Serdar ozCelik</td></tr><tr><td>1011</td><td>Rajeev Sandhu</td></tr><tr><td>1012</td><td>Urve Kasesalu</td></tr><tr><td>1013</td><td>Annette  Hetu</td></tr><tr><td>1014</td><td>Narendra Tickoo</td></tr><tr><td>1015</td><td>Isa Hulsegge</td></tr><tr><td>1016</td><td>Aive Petrov</td></tr><tr><td>1017</td><td>David Novacek </td></tr><tr><td>1018</td><td>Nils Kaulins</td></tr><tr><td>1019</td><td>Dhanishta Pullela</td></tr><tr><td>1020</td><td>Hai Banh</td></tr><tr><td>1021</td><td>Fabrice Cloutier</td></tr><tr><td>1022</td><td>Nadir Seddigh</td></tr><tr><td>1023</td><td>Farzana Habibi</td></tr><tr><td>1024</td><td>Arka Chatterjee</td></tr><tr><td>1025</td><td>Tuulikki Linna</td></tr><tr><td>1026</td><td>Daniella Cavalcante</td></tr><tr><td>1027</td><td>Serdar ozden</td></tr><tr><td>1028</td><td>Emma Van Zant</td></tr><tr><td>1029</td><td>Veronika Necesana</td></tr><tr><td>1030</td><td>Chompoo Atitarn</td></tr><tr><td>1031</td><td>Dipti Shah</td></tr><tr><td>1032</td><td>Som Mukherjee</td></tr><tr><td>1033</td><td>Cuneyt Arslan</td></tr><tr><td>1034</td><td>Aishwarya Dantuluri</td></tr><tr><td>1035</td><td>Manjunatha Karnik</td></tr><tr><td>1036</td><td>Erik Malk</td></tr><tr><td>1037</td><td>David Jaramillo</td></tr><tr><td>1038</td><td>Damodara Trivedi</td></tr><tr><td>1039</td><td>Bhaamini Palagummi</td></tr><tr><td>1040</td><td>Damodar Shenoy</td></tr><tr><td>1041</td><td>Tomo Vidovic</td></tr><tr><td>1042</td><td>Nguyen Banh</td></tr><tr><td>1043</td><td>Raj Verma</td></tr><tr><td>1044</td><td>Hanita Nookala</td></tr><tr><td>1045</td><td>Matteo Cattaneo</td></tr><tr><td>1046</td><td>Christian Couet</td></tr><tr><td>1047</td><td>Ivana Hadrabova</td></tr><tr><td>1048</td><td>Abhra Ganguly</td></tr><tr><td>1049</td><td>Amet Shergill</td></tr><tr><td>1050</td><td>Amrita Ganguly</td></tr><tr><td>1051</td><td>Sylvie Laramee</td></tr><tr><td>1052</td><td>Ian Olofsson</td></tr><tr><td>1053</td><td>Luis Saucedo</td></tr><tr><td>1054</td><td>Emma Salpa</td></tr><tr><td>1055</td><td>Adriana Pena</td></tr><tr><td>1056</td><td>Kalyani Benjaree</td></tr><tr><td>1057</td><td>Ganesh Majumdar</td></tr><tr><td>1058</td><td>Jaroslav Fisar</td></tr><tr><td>1059</td><td>Jibek Juniskyzy</td></tr><tr><td>1060</td><td>Anand Mudaliyar</td></tr><tr><td>1061</td><td>Agrita Abele</td></tr></table>"
                    },
                    "metadata": {}
                }
            ],
            "execution_count": 2
        },
        {
            "cell_type": "code",
            "source": [
                "--3: Orders from customers in a given country (multivalued IN)\n",
                "-- filter Orders by a set of customer IDs from a subquery\n",
                "DECLARE @Country NVARCHAR(60) = N'United States';\n",
                "\n",
                "SELECT TOP (15)\n",
                "       o.OrderID, o.OrderDate, o.CustomerID\n",
                "FROM Sales.Orders AS o\n",
                "WHERE EXISTS (\n",
                "  SELECT 1\n",
                "  FROM Sales.Customers AS c\n",
                "  JOIN Application.Cities          AS ci ON ci.CityID = c.DeliveryCityID\n",
                "  JOIN Application.StateProvinces  AS sp ON sp.StateProvinceID = ci.StateProvinceID\n",
                "  JOIN Application.Countries       AS co ON co.CountryID = sp.CountryID\n",
                "  WHERE c.CustomerID = o.CustomerID\n",
                "    AND co.CountryName = @Country\n",
                ")\n",
                "ORDER BY o.OrderDate;\n",
                ""
            ],
            "metadata": {
                "language": "sql",
                "azdata_cell_guid": "d8255ab5-a1f6-497b-9a6c-a707c693a516"
            },
            "outputs": [
                {
                    "output_type": "display_data",
                    "data": {
                        "text/html": "(15 rows affected)"
                    },
                    "metadata": {}
                },
                {
                    "output_type": "display_data",
                    "data": {
                        "text/html": "Total execution time: 00:00:00.079"
                    },
                    "metadata": {}
                },
                {
                    "output_type": "execute_result",
                    "execution_count": 7,
                    "data": {
                        "application/vnd.dataresource+json": {
                            "schema": {
                                "fields": [
                                    {
                                        "name": "OrderID"
                                    },
                                    {
                                        "name": "OrderDate"
                                    },
                                    {
                                        "name": "CustomerID"
                                    }
                                ]
                            },
                            "data": [
                                {
                                    "OrderID": "1",
                                    "OrderDate": "2013-01-01",
                                    "CustomerID": "832"
                                },
                                {
                                    "OrderID": "2",
                                    "OrderDate": "2013-01-01",
                                    "CustomerID": "803"
                                },
                                {
                                    "OrderID": "3",
                                    "OrderDate": "2013-01-01",
                                    "CustomerID": "105"
                                },
                                {
                                    "OrderID": "4",
                                    "OrderDate": "2013-01-01",
                                    "CustomerID": "57"
                                },
                                {
                                    "OrderID": "5",
                                    "OrderDate": "2013-01-01",
                                    "CustomerID": "905"
                                },
                                {
                                    "OrderID": "6",
                                    "OrderDate": "2013-01-01",
                                    "CustomerID": "976"
                                },
                                {
                                    "OrderID": "7",
                                    "OrderDate": "2013-01-01",
                                    "CustomerID": "575"
                                },
                                {
                                    "OrderID": "8",
                                    "OrderDate": "2013-01-01",
                                    "CustomerID": "964"
                                },
                                {
                                    "OrderID": "9",
                                    "OrderDate": "2013-01-01",
                                    "CustomerID": "77"
                                },
                                {
                                    "OrderID": "10",
                                    "OrderDate": "2013-01-01",
                                    "CustomerID": "191"
                                },
                                {
                                    "OrderID": "11",
                                    "OrderDate": "2013-01-01",
                                    "CustomerID": "586"
                                },
                                {
                                    "OrderID": "12",
                                    "OrderDate": "2013-01-01",
                                    "CustomerID": "529"
                                },
                                {
                                    "OrderID": "13",
                                    "OrderDate": "2013-01-01",
                                    "CustomerID": "473"
                                },
                                {
                                    "OrderID": "14",
                                    "OrderDate": "2013-01-01",
                                    "CustomerID": "870"
                                },
                                {
                                    "OrderID": "15",
                                    "OrderDate": "2013-01-01",
                                    "CustomerID": "991"
                                }
                            ]
                        },
                        "text/html": "<table><tr><th>OrderID</th><th>OrderDate</th><th>CustomerID</th></tr><tr><td>1</td><td>2013-01-01</td><td>832</td></tr><tr><td>2</td><td>2013-01-01</td><td>803</td></tr><tr><td>3</td><td>2013-01-01</td><td>105</td></tr><tr><td>4</td><td>2013-01-01</td><td>57</td></tr><tr><td>5</td><td>2013-01-01</td><td>905</td></tr><tr><td>6</td><td>2013-01-01</td><td>976</td></tr><tr><td>7</td><td>2013-01-01</td><td>575</td></tr><tr><td>8</td><td>2013-01-01</td><td>964</td></tr><tr><td>9</td><td>2013-01-01</td><td>77</td></tr><tr><td>10</td><td>2013-01-01</td><td>191</td></tr><tr><td>11</td><td>2013-01-01</td><td>586</td></tr><tr><td>12</td><td>2013-01-01</td><td>529</td></tr><tr><td>13</td><td>2013-01-01</td><td>473</td></tr><tr><td>14</td><td>2013-01-01</td><td>870</td></tr><tr><td>15</td><td>2013-01-01</td><td>991</td></tr></table>"
                    },
                    "metadata": {}
                }
            ],
            "execution_count": 7
        },
        {
            "cell_type": "code",
            "source": [
                "--4: This is a correlated subquery in the SELECT clause\n",
                "-- Each order’s total amount and what percent that order makes of the customer’s total purchases.\n",
                "SELECT TOP (15)\n",
                "       o.OrderID,\n",
                "       o.CustomerID,\n",
                "       CAST(SUM(ol.Quantity * ol.UnitPrice) AS decimal(12,2)) AS order_total,\n",
                "       CAST(\n",
                "            100.0 * SUM(ol.Quantity * ol.UnitPrice) /\n",
                "            (SELECT SUM(ol2.Quantity * ol2.UnitPrice)\n",
                "             FROM Sales.Orders AS o2\n",
                "             JOIN Sales.OrderLines AS ol2 ON ol2.OrderID = o2.OrderID\n",
                "             WHERE o2.CustomerID = o.CustomerID)\n",
                "            AS decimal(6,2)\n",
                "       ) AS pct_of_customer_total\n",
                "FROM Sales.Orders AS o\n",
                "JOIN Sales.OrderLines AS ol ON ol.OrderID = o.OrderID\n",
                "GROUP BY o.OrderID, o.CustomerID\n",
                "ORDER BY o.CustomerID, o.OrderID;\n",
                "\n",
                "\n",
                ""
            ],
            "metadata": {
                "language": "sql",
                "azdata_cell_guid": "ea84a07a-e121-44c2-b223-a685900d1d40"
            },
            "outputs": [
                {
                    "output_type": "display_data",
                    "data": {
                        "text/html": "(15 rows affected)"
                    },
                    "metadata": {}
                },
                {
                    "output_type": "display_data",
                    "data": {
                        "text/html": "Total execution time: 00:00:00.490"
                    },
                    "metadata": {}
                },
                {
                    "output_type": "execute_result",
                    "execution_count": 11,
                    "data": {
                        "application/vnd.dataresource+json": {
                            "schema": {
                                "fields": [
                                    {
                                        "name": "OrderID"
                                    },
                                    {
                                        "name": "CustomerID"
                                    },
                                    {
                                        "name": "order_total"
                                    },
                                    {
                                        "name": "pct_of_customer_total"
                                    }
                                ]
                            },
                            "data": [
                                {
                                    "OrderID": "2934",
                                    "CustomerID": "1",
                                    "order_total": "690.00",
                                    "pct_of_customer_total": "0.22"
                                },
                                {
                                    "OrderID": "3482",
                                    "CustomerID": "1",
                                    "order_total": "3066.00",
                                    "pct_of_customer_total": "0.97"
                                },
                                {
                                    "OrderID": "3651",
                                    "CustomerID": "1",
                                    "order_total": "253.00",
                                    "pct_of_customer_total": "0.08"
                                },
                                {
                                    "OrderID": "4064",
                                    "CustomerID": "1",
                                    "order_total": "2614.75",
                                    "pct_of_customer_total": "0.83"
                                },
                                {
                                    "OrderID": "4217",
                                    "CustomerID": "1",
                                    "order_total": "1490.00",
                                    "pct_of_customer_total": "0.47"
                                },
                                {
                                    "OrderID": "4297",
                                    "CustomerID": "1",
                                    "order_total": "2225.00",
                                    "pct_of_customer_total": "0.71"
                                },
                                {
                                    "OrderID": "4581",
                                    "CustomerID": "1",
                                    "order_total": "2316.00",
                                    "pct_of_customer_total": "0.73"
                                },
                                {
                                    "OrderID": "4732",
                                    "CustomerID": "1",
                                    "order_total": "2604.00",
                                    "pct_of_customer_total": "0.83"
                                },
                                {
                                    "OrderID": "5062",
                                    "CustomerID": "1",
                                    "order_total": "810.00",
                                    "pct_of_customer_total": "0.26"
                                },
                                {
                                    "OrderID": "5063",
                                    "CustomerID": "1",
                                    "order_total": "252.75",
                                    "pct_of_customer_total": "0.08"
                                },
                                {
                                    "OrderID": "5264",
                                    "CustomerID": "1",
                                    "order_total": "10765.20",
                                    "pct_of_customer_total": "3.41"
                                },
                                {
                                    "OrderID": "7431",
                                    "CustomerID": "1",
                                    "order_total": "139.00",
                                    "pct_of_customer_total": "0.04"
                                },
                                {
                                    "OrderID": "7487",
                                    "CustomerID": "1",
                                    "order_total": "1193.00",
                                    "pct_of_customer_total": "0.38"
                                },
                                {
                                    "OrderID": "7522",
                                    "CustomerID": "1",
                                    "order_total": "1728.00",
                                    "pct_of_customer_total": "0.55"
                                },
                                {
                                    "OrderID": "8258",
                                    "CustomerID": "1",
                                    "order_total": "2850.00",
                                    "pct_of_customer_total": "0.90"
                                }
                            ]
                        },
                        "text/html": "<table><tr><th>OrderID</th><th>CustomerID</th><th>order_total</th><th>pct_of_customer_total</th></tr><tr><td>2934</td><td>1</td><td>690.00</td><td>0.22</td></tr><tr><td>3482</td><td>1</td><td>3066.00</td><td>0.97</td></tr><tr><td>3651</td><td>1</td><td>253.00</td><td>0.08</td></tr><tr><td>4064</td><td>1</td><td>2614.75</td><td>0.83</td></tr><tr><td>4217</td><td>1</td><td>1490.00</td><td>0.47</td></tr><tr><td>4297</td><td>1</td><td>2225.00</td><td>0.71</td></tr><tr><td>4581</td><td>1</td><td>2316.00</td><td>0.73</td></tr><tr><td>4732</td><td>1</td><td>2604.00</td><td>0.83</td></tr><tr><td>5062</td><td>1</td><td>810.00</td><td>0.26</td></tr><tr><td>5063</td><td>1</td><td>252.75</td><td>0.08</td></tr><tr><td>5264</td><td>1</td><td>10765.20</td><td>3.41</td></tr><tr><td>7431</td><td>1</td><td>139.00</td><td>0.04</td></tr><tr><td>7487</td><td>1</td><td>1193.00</td><td>0.38</td></tr><tr><td>7522</td><td>1</td><td>1728.00</td><td>0.55</td></tr><tr><td>8258</td><td>1</td><td>2850.00</td><td>0.90</td></tr></table>"
                    },
                    "metadata": {}
                }
            ],
            "execution_count": 11
        },
        {
            "cell_type": "code",
            "source": [
                "\n",
                "--5: Latest order per customer (correlated greatest-per-group)\n",
                "-- keep only the order(s) with max OrderDate per customer\n",
                "SELECT o1.CustomerID, o1.OrderID, o1.OrderDate\n",
                "FROM Sales.Orders AS o1\n",
                "WHERE o1.OrderDate = (\n",
                "  SELECT MAX(o2.OrderDate)\n",
                "  FROM Sales.Orders AS o2\n",
                "  WHERE o2.CustomerID = o1.CustomerID\n",
                ")\n",
                "ORDER BY o1.CustomerID, o1.OrderID;\n",
                ""
            ],
            "metadata": {
                "language": "sql",
                "azdata_cell_guid": "055ce06a-928a-4d32-8f8f-b9ac88076053",
                "tags": [
                    "hide_input"
                ]
            },
            "outputs": [
                {
                    "output_type": "display_data",
                    "data": {
                        "text/html": "(785 rows affected)"
                    },
                    "metadata": {}
                },
                {
                    "output_type": "display_data",
                    "data": {
                        "text/html": "Total execution time: 00:00:00.119"
                    },
                    "metadata": {}
                },
                {
                    "output_type": "execute_result",
                    "execution_count": 9,
                    "data": {
                        "application/vnd.dataresource+json": {
                            "schema": {
                                "fields": [
                                    {
                                        "name": "CustomerID"
                                    },
                                    {
                                        "name": "OrderID"
                                    },
                                    {
                                        "name": "OrderDate"
                                    }
                                ]
                            },
                            "data": [
                                {
                                    "CustomerID": "1",
                                    "OrderID": "73290",
                                    "OrderDate": "2016-05-27"
                                },
                                {
                                    "CustomerID": "2",
                                    "OrderID": "72475",
                                    "OrderDate": "2016-05-14"
                                },
                                {
                                    "CustomerID": "3",
                                    "OrderID": "73465",
                                    "OrderDate": "2016-05-30"
                                },
                                {
                                    "CustomerID": "4",
                                    "OrderID": "71366",
                                    "OrderDate": "2016-04-28"
                                },
                                {
                                    "CustomerID": "5",
                                    "OrderID": "73407",
                                    "OrderDate": "2016-05-28"
                                },
                                {
                                    "CustomerID": "6",
                                    "OrderID": "73547",
                                    "OrderDate": "2016-05-31"
                                },
                                {
                                    "CustomerID": "7",
                                    "OrderID": "73365",
                                    "OrderDate": "2016-05-27"
                                },
                                {
                                    "CustomerID": "7",
                                    "OrderID": "73393",
                                    "OrderDate": "2016-05-27"
                                },
                                {
                                    "CustomerID": "8",
                                    "OrderID": "72847",
                                    "OrderDate": "2016-05-20"
                                },
                                {
                                    "CustomerID": "9",
                                    "OrderID": "73059",
                                    "OrderDate": "2016-05-24"
                                },
                                {
                                    "CustomerID": "10",
                                    "OrderID": "73045",
                                    "OrderDate": "2016-05-24"
                                },
                                {
                                    "CustomerID": "11",
                                    "OrderID": "73573",
                                    "OrderDate": "2016-05-31"
                                },
                                {
                                    "CustomerID": "11",
                                    "OrderID": "73595",
                                    "OrderDate": "2016-05-31"
                                },
                                {
                                    "CustomerID": "12",
                                    "OrderID": "73308",
                                    "OrderDate": "2016-05-27"
                                },
                                {
                                    "CustomerID": "13",
                                    "OrderID": "73213",
                                    "OrderDate": "2016-05-26"
                                },
                                {
                                    "CustomerID": "13",
                                    "OrderID": "73257",
                                    "OrderDate": "2016-05-26"
                                },
                                {
                                    "CustomerID": "14",
                                    "OrderID": "73486",
                                    "OrderDate": "2016-05-30"
                                },
                                {
                                    "CustomerID": "14",
                                    "OrderID": "73505",
                                    "OrderDate": "2016-05-30"
                                },
                                {
                                    "CustomerID": "15",
                                    "OrderID": "70298",
                                    "OrderDate": "2016-04-13"
                                },
                                {
                                    "CustomerID": "15",
                                    "OrderID": "70300",
                                    "OrderDate": "2016-04-13"
                                },
                                {
                                    "CustomerID": "16",
                                    "OrderID": "73287",
                                    "OrderDate": "2016-05-27"
                                },
                                {
                                    "CustomerID": "16",
                                    "OrderID": "73378",
                                    "OrderDate": "2016-05-27"
                                },
                                {
                                    "CustomerID": "17",
                                    "OrderID": "72661",
                                    "OrderDate": "2016-05-18"
                                },
                                {
                                    "CustomerID": "18",
                                    "OrderID": "73073",
                                    "OrderDate": "2016-05-24"
                                },
                                {
                                    "CustomerID": "19",
                                    "OrderID": "72054",
                                    "OrderDate": "2016-05-09"
                                },
                                {
                                    "CustomerID": "20",
                                    "OrderID": "72914",
                                    "OrderDate": "2016-05-20"
                                },
                                {
                                    "CustomerID": "21",
                                    "OrderID": "73354",
                                    "OrderDate": "2016-05-27"
                                },
                                {
                                    "CustomerID": "22",
                                    "OrderID": "73163",
                                    "OrderDate": "2016-05-25"
                                },
                                {
                                    "CustomerID": "23",
                                    "OrderID": "73370",
                                    "OrderDate": "2016-05-27"
                                },
                                {
                                    "CustomerID": "24",
                                    "OrderID": "73074",
                                    "OrderDate": "2016-05-24"
                                },
                                {
                                    "CustomerID": "25",
                                    "OrderID": "72079",
                                    "OrderDate": "2016-05-09"
                                },
                                {
                                    "CustomerID": "26",
                                    "OrderID": "71717",
                                    "OrderDate": "2016-05-04"
                                },
                                {
                                    "CustomerID": "26",
                                    "OrderID": "71721",
                                    "OrderDate": "2016-05-04"
                                },
                                {
                                    "CustomerID": "26",
                                    "OrderID": "71726",
                                    "OrderDate": "2016-05-04"
                                },
                                {
                                    "CustomerID": "26",
                                    "OrderID": "71784",
                                    "OrderDate": "2016-05-04"
                                },
                                {
                                    "CustomerID": "27",
                                    "OrderID": "73129",
                                    "OrderDate": "2016-05-25"
                                },
                                {
                                    "CustomerID": "27",
                                    "OrderID": "73170",
                                    "OrderDate": "2016-05-25"
                                },
                                {
                                    "CustomerID": "28",
                                    "OrderID": "73519",
                                    "OrderDate": "2016-05-31"
                                },
                                {
                                    "CustomerID": "28",
                                    "OrderID": "73575",
                                    "OrderDate": "2016-05-31"
                                },
                                {
                                    "CustomerID": "29",
                                    "OrderID": "73557",
                                    "OrderDate": "2016-05-31"
                                },
                                {
                                    "CustomerID": "30",
                                    "OrderID": "71472",
                                    "OrderDate": "2016-04-29"
                                },
                                {
                                    "CustomerID": "31",
                                    "OrderID": "73269",
                                    "OrderDate": "2016-05-26"
                                },
                                {
                                    "CustomerID": "32",
                                    "OrderID": "73084",
                                    "OrderDate": "2016-05-24"
                                },
                                {
                                    "CustomerID": "33",
                                    "OrderID": "73341",
                                    "OrderDate": "2016-05-27"
                                },
                                {
                                    "CustomerID": "34",
                                    "OrderID": "72791",
                                    "OrderDate": "2016-05-19"
                                },
                                {
                                    "CustomerID": "35",
                                    "OrderID": "73507",
                                    "OrderDate": "2016-05-31"
                                },
                                {
                                    "CustomerID": "35",
                                    "OrderID": "73564",
                                    "OrderDate": "2016-05-31"
                                },
                                {
                                    "CustomerID": "36",
                                    "OrderID": "72863",
                                    "OrderDate": "2016-05-20"
                                },
                                {
                                    "CustomerID": "37",
                                    "OrderID": "72769",
                                    "OrderDate": "2016-05-19"
                                },
                                {
                                    "CustomerID": "38",
                                    "OrderID": "72675",
                                    "OrderDate": "2016-05-18"
                                },
                                {
                                    "CustomerID": "39",
                                    "OrderID": "72909",
                                    "OrderDate": "2016-05-20"
                                },
                                {
                                    "CustomerID": "40",
                                    "OrderID": "73207",
                                    "OrderDate": "2016-05-26"
                                },
                                {
                                    "CustomerID": "41",
                                    "OrderID": "72253",
                                    "OrderDate": "2016-05-11"
                                },
                                {
                                    "CustomerID": "42",
                                    "OrderID": "73434",
                                    "OrderDate": "2016-05-30"
                                },
                                {
                                    "CustomerID": "43",
                                    "OrderID": "72378",
                                    "OrderDate": "2016-05-13"
                                },
                                {
                                    "CustomerID": "44",
                                    "OrderID": "73429",
                                    "OrderDate": "2016-05-30"
                                },
                                {
                                    "CustomerID": "45",
                                    "OrderID": "73151",
                                    "OrderDate": "2016-05-25"
                                },
                                {
                                    "CustomerID": "46",
                                    "OrderID": "73363",
                                    "OrderDate": "2016-05-27"
                                },
                                {
                                    "CustomerID": "47",
                                    "OrderID": "73469",
                                    "OrderDate": "2016-05-30"
                                },
                                {
                                    "CustomerID": "48",
                                    "OrderID": "73125",
                                    "OrderDate": "2016-05-25"
                                },
                                {
                                    "CustomerID": "49",
                                    "OrderID": "72929",
                                    "OrderDate": "2016-05-20"
                                },
                                {
                                    "CustomerID": "50",
                                    "OrderID": "73056",
                                    "OrderDate": "2016-05-24"
                                },
                                {
                                    "CustomerID": "51",
                                    "OrderID": "73447",
                                    "OrderDate": "2016-05-30"
                                },
                                {
                                    "CustomerID": "52",
                                    "OrderID": "72607",
                                    "OrderDate": "2016-05-17"
                                },
                                {
                                    "CustomerID": "53",
                                    "OrderID": "73132",
                                    "OrderDate": "2016-05-25"
                                },
                                {
                                    "CustomerID": "54",
                                    "OrderID": "73454",
                                    "OrderDate": "2016-05-30"
                                },
                                {
                                    "CustomerID": "55",
                                    "OrderID": "72925",
                                    "OrderDate": "2016-05-20"
                                },
                                {
                                    "CustomerID": "56",
                                    "OrderID": "72745",
                                    "OrderDate": "2016-05-19"
                                },
                                {
                                    "CustomerID": "57",
                                    "OrderID": "73185",
                                    "OrderDate": "2016-05-26"
                                },
                                {
                                    "CustomerID": "58",
                                    "OrderID": "73226",
                                    "OrderDate": "2016-05-26"
                                },
                                {
                                    "CustomerID": "59",
                                    "OrderID": "73358",
                                    "OrderDate": "2016-05-27"
                                },
                                {
                                    "CustomerID": "60",
                                    "OrderID": "72208",
                                    "OrderDate": "2016-05-11"
                                },
                                {
                                    "CustomerID": "61",
                                    "OrderID": "73002",
                                    "OrderDate": "2016-05-23"
                                },
                                {
                                    "CustomerID": "62",
                                    "OrderID": "73470",
                                    "OrderDate": "2016-05-30"
                                },
                                {
                                    "CustomerID": "63",
                                    "OrderID": "72498",
                                    "OrderDate": "2016-05-14"
                                },
                                {
                                    "CustomerID": "64",
                                    "OrderID": "73561",
                                    "OrderDate": "2016-05-31"
                                },
                                {
                                    "CustomerID": "65",
                                    "OrderID": "73302",
                                    "OrderDate": "2016-05-27"
                                },
                                {
                                    "CustomerID": "66",
                                    "OrderID": "70159",
                                    "OrderDate": "2016-04-11"
                                },
                                {
                                    "CustomerID": "67",
                                    "OrderID": "72978",
                                    "OrderDate": "2016-05-23"
                                },
                                {
                                    "CustomerID": "68",
                                    "OrderID": "73480",
                                    "OrderDate": "2016-05-30"
                                },
                                {
                                    "CustomerID": "68",
                                    "OrderID": "73502",
                                    "OrderDate": "2016-05-30"
                                },
                                {
                                    "CustomerID": "69",
                                    "OrderID": "73083",
                                    "OrderDate": "2016-05-24"
                                },
                                {
                                    "CustomerID": "70",
                                    "OrderID": "72704",
                                    "OrderDate": "2016-05-18"
                                },
                                {
                                    "CustomerID": "71",
                                    "OrderID": "73457",
                                    "OrderDate": "2016-05-30"
                                },
                                {
                                    "CustomerID": "72",
                                    "OrderID": "73320",
                                    "OrderDate": "2016-05-27"
                                },
                                {
                                    "CustomerID": "73",
                                    "OrderID": "73051",
                                    "OrderDate": "2016-05-24"
                                },
                                {
                                    "CustomerID": "74",
                                    "OrderID": "72392",
                                    "OrderDate": "2016-05-13"
                                },
                                {
                                    "CustomerID": "75",
                                    "OrderID": "71922",
                                    "OrderDate": "2016-05-06"
                                },
                                {
                                    "CustomerID": "75",
                                    "OrderID": "71987",
                                    "OrderDate": "2016-05-06"
                                },
                                {
                                    "CustomerID": "76",
                                    "OrderID": "73513",
                                    "OrderDate": "2016-05-31"
                                },
                                {
                                    "CustomerID": "77",
                                    "OrderID": "71834",
                                    "OrderDate": "2016-05-05"
                                },
                                {
                                    "CustomerID": "77",
                                    "OrderID": "71869",
                                    "OrderDate": "2016-05-05"
                                },
                                {
                                    "CustomerID": "78",
                                    "OrderID": "72573",
                                    "OrderDate": "2016-05-16"
                                },
                                {
                                    "CustomerID": "79",
                                    "OrderID": "72338",
                                    "OrderDate": "2016-05-12"
                                },
                                {
                                    "CustomerID": "80",
                                    "OrderID": "72636",
                                    "OrderDate": "2016-05-18"
                                },
                                {
                                    "CustomerID": "81",
                                    "OrderID": "73292",
                                    "OrderDate": "2016-05-27"
                                },
                                {
                                    "CustomerID": "82",
                                    "OrderID": "73538",
                                    "OrderDate": "2016-05-31"
                                },
                                {
                                    "CustomerID": "83",
                                    "OrderID": "72415",
                                    "OrderDate": "2016-05-13"
                                },
                                {
                                    "CustomerID": "83",
                                    "OrderID": "72440",
                                    "OrderDate": "2016-05-13"
                                },
                                {
                                    "CustomerID": "83",
                                    "OrderID": "72462",
                                    "OrderDate": "2016-05-13"
                                },
                                {
                                    "CustomerID": "84",
                                    "OrderID": "73058",
                                    "OrderDate": "2016-05-24"
                                },
                                {
                                    "CustomerID": "85",
                                    "OrderID": "72921",
                                    "OrderDate": "2016-05-20"
                                },
                                {
                                    "CustomerID": "86",
                                    "OrderID": "73304",
                                    "OrderDate": "2016-05-27"
                                },
                                {
                                    "CustomerID": "87",
                                    "OrderID": "73522",
                                    "OrderDate": "2016-05-31"
                                },
                                {
                                    "CustomerID": "88",
                                    "OrderID": "73485",
                                    "OrderDate": "2016-05-30"
                                },
                                {
                                    "CustomerID": "89",
                                    "OrderID": "73432",
                                    "OrderDate": "2016-05-30"
                                },
                                {
                                    "CustomerID": "90",
                                    "OrderID": "73565",
                                    "OrderDate": "2016-05-31"
                                },
                                {
                                    "CustomerID": "91",
                                    "OrderID": "72806",
                                    "OrderDate": "2016-05-19"
                                },
                                {
                                    "CustomerID": "92",
                                    "OrderID": "72361",
                                    "OrderDate": "2016-05-13"
                                },
                                {
                                    "CustomerID": "93",
                                    "OrderID": "71235",
                                    "OrderDate": "2016-04-27"
                                },
                                {
                                    "CustomerID": "94",
                                    "OrderID": "72843",
                                    "OrderDate": "2016-05-20"
                                },
                                {
                                    "CustomerID": "95",
                                    "OrderID": "72616",
                                    "OrderDate": "2016-05-17"
                                },
                                {
                                    "CustomerID": "96",
                                    "OrderID": "72647",
                                    "OrderDate": "2016-05-18"
                                },
                                {
                                    "CustomerID": "97",
                                    "OrderID": "70439",
                                    "OrderDate": "2016-04-14"
                                },
                                {
                                    "CustomerID": "97",
                                    "OrderID": "70459",
                                    "OrderDate": "2016-04-14"
                                },
                                {
                                    "CustomerID": "98",
                                    "OrderID": "72864",
                                    "OrderDate": "2016-05-20"
                                },
                                {
                                    "CustomerID": "99",
                                    "OrderID": "72259",
                                    "OrderDate": "2016-05-11"
                                },
                                {
                                    "CustomerID": "100",
                                    "OrderID": "72572",
                                    "OrderDate": "2016-05-16"
                                },
                                {
                                    "CustomerID": "101",
                                    "OrderID": "72131",
                                    "OrderDate": "2016-05-10"
                                },
                                {
                                    "CustomerID": "102",
                                    "OrderID": "73398",
                                    "OrderDate": "2016-05-28"
                                },
                                {
                                    "CustomerID": "103",
                                    "OrderID": "72902",
                                    "OrderDate": "2016-05-20"
                                },
                                {
                                    "CustomerID": "104",
                                    "OrderID": "72955",
                                    "OrderDate": "2016-05-21"
                                },
                                {
                                    "CustomerID": "104",
                                    "OrderID": "72964",
                                    "OrderDate": "2016-05-21"
                                },
                                {
                                    "CustomerID": "105",
                                    "OrderID": "72855",
                                    "OrderDate": "2016-05-20"
                                },
                                {
                                    "CustomerID": "105",
                                    "OrderID": "72932",
                                    "OrderDate": "2016-05-20"
                                },
                                {
                                    "CustomerID": "106",
                                    "OrderID": "73140",
                                    "OrderDate": "2016-05-25"
                                },
                                {
                                    "CustomerID": "107",
                                    "OrderID": "73268",
                                    "OrderDate": "2016-05-26"
                                },
                                {
                                    "CustomerID": "108",
                                    "OrderID": "72320",
                                    "OrderDate": "2016-05-12"
                                },
                                {
                                    "CustomerID": "109",
                                    "OrderID": "73530",
                                    "OrderDate": "2016-05-31"
                                },
                                {
                                    "CustomerID": "110",
                                    "OrderID": "72739",
                                    "OrderDate": "2016-05-19"
                                },
                                {
                                    "CustomerID": "111",
                                    "OrderID": "71234",
                                    "OrderDate": "2016-04-27"
                                },
                                {
                                    "CustomerID": "112",
                                    "OrderID": "73010",
                                    "OrderDate": "2016-05-23"
                                },
                                {
                                    "CustomerID": "113",
                                    "OrderID": "72760",
                                    "OrderDate": "2016-05-19"
                                },
                                {
                                    "CustomerID": "114",
                                    "OrderID": "72689",
                                    "OrderDate": "2016-05-18"
                                },
                                {
                                    "CustomerID": "115",
                                    "OrderID": "72890",
                                    "OrderDate": "2016-05-20"
                                },
                                {
                                    "CustomerID": "116",
                                    "OrderID": "72904",
                                    "OrderDate": "2016-05-20"
                                },
                                {
                                    "CustomerID": "116",
                                    "OrderID": "72939",
                                    "OrderDate": "2016-05-20"
                                },
                                {
                                    "CustomerID": "117",
                                    "OrderID": "73297",
                                    "OrderDate": "2016-05-27"
                                },
                                {
                                    "CustomerID": "118",
                                    "OrderID": "72468",
                                    "OrderDate": "2016-05-14"
                                },
                                {
                                    "CustomerID": "119",
                                    "OrderID": "73542",
                                    "OrderDate": "2016-05-31"
                                },
                                {
                                    "CustomerID": "120",
                                    "OrderID": "72632",
                                    "OrderDate": "2016-05-18"
                                },
                                {
                                    "CustomerID": "121",
                                    "OrderID": "73069",
                                    "OrderDate": "2016-05-24"
                                },
                                {
                                    "CustomerID": "122",
                                    "OrderID": "73455",
                                    "OrderDate": "2016-05-30"
                                },
                                {
                                    "CustomerID": "123",
                                    "OrderID": "73041",
                                    "OrderDate": "2016-05-24"
                                },
                                {
                                    "CustomerID": "124",
                                    "OrderID": "73249",
                                    "OrderDate": "2016-05-26"
                                },
                                {
                                    "CustomerID": "125",
                                    "OrderID": "72865",
                                    "OrderDate": "2016-05-20"
                                },
                                {
                                    "CustomerID": "126",
                                    "OrderID": "73483",
                                    "OrderDate": "2016-05-30"
                                },
                                {
                                    "CustomerID": "126",
                                    "OrderID": "73504",
                                    "OrderDate": "2016-05-30"
                                },
                                {
                                    "CustomerID": "127",
                                    "OrderID": "71796",
                                    "OrderDate": "2016-05-05"
                                },
                                {
                                    "CustomerID": "127",
                                    "OrderID": "71891",
                                    "OrderDate": "2016-05-05"
                                },
                                {
                                    "CustomerID": "128",
                                    "OrderID": "70223",
                                    "OrderDate": "2016-04-12"
                                },
                                {
                                    "CustomerID": "128",
                                    "OrderID": "70240",
                                    "OrderDate": "2016-04-12"
                                },
                                {
                                    "CustomerID": "129",
                                    "OrderID": "73014",
                                    "OrderDate": "2016-05-23"
                                },
                                {
                                    "CustomerID": "130",
                                    "OrderID": "70330",
                                    "OrderDate": "2016-04-13"
                                },
                                {
                                    "CustomerID": "131",
                                    "OrderID": "70324",
                                    "OrderDate": "2016-04-13"
                                },
                                {
                                    "CustomerID": "131",
                                    "OrderID": "70352",
                                    "OrderDate": "2016-04-13"
                                },
                                {
                                    "CustomerID": "132",
                                    "OrderID": "73203",
                                    "OrderDate": "2016-05-26"
                                },
                                {
                                    "CustomerID": "133",
                                    "OrderID": "72612",
                                    "OrderDate": "2016-05-17"
                                },
                                {
                                    "CustomerID": "134",
                                    "OrderID": "72113",
                                    "OrderDate": "2016-05-09"
                                },
                                {
                                    "CustomerID": "135",
                                    "OrderID": "72525",
                                    "OrderDate": "2016-05-16"
                                },
                                {
                                    "CustomerID": "136",
                                    "OrderID": "73239",
                                    "OrderDate": "2016-05-26"
                                },
                                {
                                    "CustomerID": "137",
                                    "OrderID": "72961",
                                    "OrderDate": "2016-05-21"
                                },
                                {
                                    "CustomerID": "137",
                                    "OrderID": "72965",
                                    "OrderDate": "2016-05-21"
                                },
                                {
                                    "CustomerID": "138",
                                    "OrderID": "72764",
                                    "OrderDate": "2016-05-19"
                                },
                                {
                                    "CustomerID": "139",
                                    "OrderID": "72922",
                                    "OrderDate": "2016-05-20"
                                },
                                {
                                    "CustomerID": "140",
                                    "OrderID": "73255",
                                    "OrderDate": "2016-05-26"
                                },
                                {
                                    "CustomerID": "140",
                                    "OrderID": "73281",
                                    "OrderDate": "2016-05-26"
                                },
                                {
                                    "CustomerID": "141",
                                    "OrderID": "72797",
                                    "OrderDate": "2016-05-19"
                                },
                                {
                                    "CustomerID": "142",
                                    "OrderID": "72888",
                                    "OrderDate": "2016-05-20"
                                },
                                {
                                    "CustomerID": "143",
                                    "OrderID": "73452",
                                    "OrderDate": "2016-05-30"
                                },
                                {
                                    "CustomerID": "144",
                                    "OrderID": "73305",
                                    "OrderDate": "2016-05-27"
                                },
                                {
                                    "CustomerID": "145",
                                    "OrderID": "72551",
                                    "OrderDate": "2016-05-16"
                                },
                                {
                                    "CustomerID": "145",
                                    "OrderID": "72586",
                                    "OrderDate": "2016-05-16"
                                },
                                {
                                    "CustomerID": "146",
                                    "OrderID": "73210",
                                    "OrderDate": "2016-05-26"
                                },
                                {
                                    "CustomerID": "147",
                                    "OrderID": "72871",
                                    "OrderDate": "2016-05-20"
                                },
                                {
                                    "CustomerID": "147",
                                    "OrderID": "72934",
                                    "OrderDate": "2016-05-20"
                                },
                                {
                                    "CustomerID": "148",
                                    "OrderID": "72542",
                                    "OrderDate": "2016-05-16"
                                },
                                {
                                    "CustomerID": "148",
                                    "OrderID": "72583",
                                    "OrderDate": "2016-05-16"
                                },
                                {
                                    "CustomerID": "149",
                                    "OrderID": "73075",
                                    "OrderDate": "2016-05-24"
                                },
                                {
                                    "CustomerID": "150",
                                    "OrderID": "73543",
                                    "OrderDate": "2016-05-31"
                                },
                                {
                                    "CustomerID": "150",
                                    "OrderID": "73591",
                                    "OrderDate": "2016-05-31"
                                },
                                {
                                    "CustomerID": "151",
                                    "OrderID": "73585",
                                    "OrderDate": "2016-05-31"
                                },
                                {
                                    "CustomerID": "152",
                                    "OrderID": "72096",
                                    "OrderDate": "2016-05-09"
                                },
                                {
                                    "CustomerID": "153",
                                    "OrderID": "73466",
                                    "OrderDate": "2016-05-30"
                                },
                                {
                                    "CustomerID": "154",
                                    "OrderID": "73135",
                                    "OrderDate": "2016-05-25"
                                },
                                {
                                    "CustomerID": "155",
                                    "OrderID": "72284",
                                    "OrderDate": "2016-05-12"
                                },
                                {
                                    "CustomerID": "156",
                                    "OrderID": "73375",
                                    "OrderDate": "2016-05-27"
                                },
                                {
                                    "CustomerID": "157",
                                    "OrderID": "73443",
                                    "OrderDate": "2016-05-30"
                                },
                                {
                                    "CustomerID": "158",
                                    "OrderID": "73334",
                                    "OrderDate": "2016-05-27"
                                },
                                {
                                    "CustomerID": "159",
                                    "OrderID": "73229",
                                    "OrderDate": "2016-05-26"
                                },
                                {
                                    "CustomerID": "160",
                                    "OrderID": "71073",
                                    "OrderDate": "2016-04-25"
                                },
                                {
                                    "CustomerID": "161",
                                    "OrderID": "73202",
                                    "OrderDate": "2016-05-26"
                                },
                                {
                                    "CustomerID": "162",
                                    "OrderID": "73577",
                                    "OrderDate": "2016-05-31"
                                },
                                {
                                    "CustomerID": "163",
                                    "OrderID": "72679",
                                    "OrderDate": "2016-05-18"
                                },
                                {
                                    "CustomerID": "163",
                                    "OrderID": "72714",
                                    "OrderDate": "2016-05-18"
                                },
                                {
                                    "CustomerID": "164",
                                    "OrderID": "72366",
                                    "OrderDate": "2016-05-13"
                                },
                                {
                                    "CustomerID": "165",
                                    "OrderID": "72614",
                                    "OrderDate": "2016-05-17"
                                },
                                {
                                    "CustomerID": "166",
                                    "OrderID": "73516",
                                    "OrderDate": "2016-05-31"
                                },
                                {
                                    "CustomerID": "167",
                                    "OrderID": "73404",
                                    "OrderDate": "2016-05-28"
                                },
                                {
                                    "CustomerID": "168",
                                    "OrderID": "72076",
                                    "OrderDate": "2016-05-09"
                                },
                                {
                                    "CustomerID": "168",
                                    "OrderID": "72126",
                                    "OrderDate": "2016-05-09"
                                },
                                {
                                    "CustomerID": "169",
                                    "OrderID": "73515",
                                    "OrderDate": "2016-05-31"
                                },
                                {
                                    "CustomerID": "170",
                                    "OrderID": "73273",
                                    "OrderDate": "2016-05-26"
                                },
                                {
                                    "CustomerID": "170",
                                    "OrderID": "73284",
                                    "OrderDate": "2016-05-26"
                                },
                                {
                                    "CustomerID": "171",
                                    "OrderID": "73233",
                                    "OrderDate": "2016-05-26"
                                },
                                {
                                    "CustomerID": "172",
                                    "OrderID": "73214",
                                    "OrderDate": "2016-05-26"
                                },
                                {
                                    "CustomerID": "173",
                                    "OrderID": "72823",
                                    "OrderDate": "2016-05-19"
                                },
                                {
                                    "CustomerID": "174",
                                    "OrderID": "71460",
                                    "OrderDate": "2016-04-29"
                                },
                                {
                                    "CustomerID": "174",
                                    "OrderID": "71510",
                                    "OrderDate": "2016-04-29"
                                },
                                {
                                    "CustomerID": "175",
                                    "OrderID": "73030",
                                    "OrderDate": "2016-05-24"
                                },
                                {
                                    "CustomerID": "176",
                                    "OrderID": "72596",
                                    "OrderDate": "2016-05-17"
                                },
                                {
                                    "CustomerID": "177",
                                    "OrderID": "73476",
                                    "OrderDate": "2016-05-30"
                                },
                                {
                                    "CustomerID": "178",
                                    "OrderID": "71610",
                                    "OrderDate": "2016-05-03"
                                },
                                {
                                    "CustomerID": "179",
                                    "OrderID": "72789",
                                    "OrderDate": "2016-05-19"
                                },
                                {
                                    "CustomerID": "180",
                                    "OrderID": "71800",
                                    "OrderDate": "2016-05-05"
                                },
                                {
                                    "CustomerID": "180",
                                    "OrderID": "71812",
                                    "OrderDate": "2016-05-05"
                                },
                                {
                                    "CustomerID": "181",
                                    "OrderID": "71491",
                                    "OrderDate": "2016-04-29"
                                },
                                {
                                    "CustomerID": "181",
                                    "OrderID": "71512",
                                    "OrderDate": "2016-04-29"
                                },
                                {
                                    "CustomerID": "182",
                                    "OrderID": "73055",
                                    "OrderDate": "2016-05-24"
                                },
                                {
                                    "CustomerID": "183",
                                    "OrderID": "73372",
                                    "OrderDate": "2016-05-27"
                                },
                                {
                                    "CustomerID": "184",
                                    "OrderID": "72813",
                                    "OrderDate": "2016-05-19"
                                },
                                {
                                    "CustomerID": "185",
                                    "OrderID": "73437",
                                    "OrderDate": "2016-05-30"
                                },
                                {
                                    "CustomerID": "186",
                                    "OrderID": "73197",
                                    "OrderDate": "2016-05-26"
                                },
                                {
                                    "CustomerID": "187",
                                    "OrderID": "73420",
                                    "OrderDate": "2016-05-28"
                                },
                                {
                                    "CustomerID": "188",
                                    "OrderID": "73131",
                                    "OrderDate": "2016-05-25"
                                },
                                {
                                    "CustomerID": "189",
                                    "OrderID": "72802",
                                    "OrderDate": "2016-05-19"
                                },
                                {
                                    "CustomerID": "190",
                                    "OrderID": "71098",
                                    "OrderDate": "2016-04-25"
                                },
                                {
                                    "CustomerID": "191",
                                    "OrderID": "72782",
                                    "OrderDate": "2016-05-19"
                                },
                                {
                                    "CustomerID": "192",
                                    "OrderID": "72993",
                                    "OrderDate": "2016-05-23"
                                },
                                {
                                    "CustomerID": "193",
                                    "OrderID": "72578",
                                    "OrderDate": "2016-05-16"
                                },
                                {
                                    "CustomerID": "194",
                                    "OrderID": "72975",
                                    "OrderDate": "2016-05-23"
                                },
                                {
                                    "CustomerID": "195",
                                    "OrderID": "73406",
                                    "OrderDate": "2016-05-28"
                                },
                                {
                                    "CustomerID": "195",
                                    "OrderID": "73425",
                                    "OrderDate": "2016-05-28"
                                },
                                {
                                    "CustomerID": "196",
                                    "OrderID": "73288",
                                    "OrderDate": "2016-05-27"
                                },
                                {
                                    "CustomerID": "197",
                                    "OrderID": "73353",
                                    "OrderDate": "2016-05-27"
                                },
                                {
                                    "CustomerID": "198",
                                    "OrderID": "73535",
                                    "OrderDate": "2016-05-31"
                                },
                                {
                                    "CustomerID": "199",
                                    "OrderID": "73044",
                                    "OrderDate": "2016-05-24"
                                },
                                {
                                    "CustomerID": "200",
                                    "OrderID": "71638",
                                    "OrderDate": "2016-05-03"
                                },
                                {
                                    "CustomerID": "200",
                                    "OrderID": "71669",
                                    "OrderDate": "2016-05-03"
                                },
                                {
                                    "CustomerID": "201",
                                    "OrderID": "72290",
                                    "OrderDate": "2016-05-12"
                                },
                                {
                                    "CustomerID": "401",
                                    "OrderID": "73206",
                                    "OrderDate": "2016-05-26"
                                },
                                {
                                    "CustomerID": "402",
                                    "OrderID": "72945",
                                    "OrderDate": "2016-05-21"
                                },
                                {
                                    "CustomerID": "403",
                                    "OrderID": "72019",
                                    "OrderDate": "2016-05-07"
                                },
                                {
                                    "CustomerID": "404",
                                    "OrderID": "73586",
                                    "OrderDate": "2016-05-31"
                                },
                                {
                                    "CustomerID": "405",
                                    "OrderID": "72869",
                                    "OrderDate": "2016-05-20"
                                },
                                {
                                    "CustomerID": "406",
                                    "OrderID": "73531",
                                    "OrderDate": "2016-05-31"
                                },
                                {
                                    "CustomerID": "407",
                                    "OrderID": "73032",
                                    "OrderDate": "2016-05-24"
                                },
                                {
                                    "CustomerID": "408",
                                    "OrderID": "72698",
                                    "OrderDate": "2016-05-18"
                                },
                                {
                                    "CustomerID": "409",
                                    "OrderID": "72799",
                                    "OrderDate": "2016-05-19"
                                },
                                {
                                    "CustomerID": "409",
                                    "OrderID": "72835",
                                    "OrderDate": "2016-05-19"
                                },
                                {
                                    "CustomerID": "410",
                                    "OrderID": "73079",
                                    "OrderDate": "2016-05-24"
                                },
                                {
                                    "CustomerID": "411",
                                    "OrderID": "73236",
                                    "OrderDate": "2016-05-26"
                                },
                                {
                                    "CustomerID": "411",
                                    "OrderID": "73263",
                                    "OrderDate": "2016-05-26"
                                },
                                {
                                    "CustomerID": "412",
                                    "OrderID": "72983",
                                    "OrderDate": "2016-05-23"
                                },
                                {
                                    "CustomerID": "413",
                                    "OrderID": "73417",
                                    "OrderDate": "2016-05-28"
                                },
                                {
                                    "CustomerID": "414",
                                    "OrderID": "72772",
                                    "OrderDate": "2016-05-19"
                                },
                                {
                                    "CustomerID": "415",
                                    "OrderID": "73028",
                                    "OrderDate": "2016-05-24"
                                },
                                {
                                    "CustomerID": "415",
                                    "OrderID": "73100",
                                    "OrderDate": "2016-05-24"
                                },
                                {
                                    "CustomerID": "416",
                                    "OrderID": "73342",
                                    "OrderDate": "2016-05-27"
                                },
                                {
                                    "CustomerID": "417",
                                    "OrderID": "73568",
                                    "OrderDate": "2016-05-31"
                                },
                                {
                                    "CustomerID": "417",
                                    "OrderID": "73593",
                                    "OrderDate": "2016-05-31"
                                },
                                {
                                    "CustomerID": "418",
                                    "OrderID": "73343",
                                    "OrderDate": "2016-05-27"
                                },
                                {
                                    "CustomerID": "419",
                                    "OrderID": "72491",
                                    "OrderDate": "2016-05-14"
                                },
                                {
                                    "CustomerID": "420",
                                    "OrderID": "72553",
                                    "OrderDate": "2016-05-16"
                                },
                                {
                                    "CustomerID": "421",
                                    "OrderID": "71215",
                                    "OrderDate": "2016-04-27"
                                },
                                {
                                    "CustomerID": "422",
                                    "OrderID": "72790",
                                    "OrderDate": "2016-05-19"
                                },
                                {
                                    "CustomerID": "423",
                                    "OrderID": "73064",
                                    "OrderDate": "2016-05-24"
                                },
                                {
                                    "CustomerID": "423",
                                    "OrderID": "73101",
                                    "OrderDate": "2016-05-24"
                                },
                                {
                                    "CustomerID": "424",
                                    "OrderID": "73414",
                                    "OrderDate": "2016-05-28"
                                },
                                {
                                    "CustomerID": "425",
                                    "OrderID": "73271",
                                    "OrderDate": "2016-05-26"
                                },
                                {
                                    "CustomerID": "426",
                                    "OrderID": "72421",
                                    "OrderDate": "2016-05-13"
                                },
                                {
                                    "CustomerID": "427",
                                    "OrderID": "73345",
                                    "OrderDate": "2016-05-27"
                                },
                                {
                                    "CustomerID": "428",
                                    "OrderID": "73402",
                                    "OrderDate": "2016-05-28"
                                },
                                {
                                    "CustomerID": "428",
                                    "OrderID": "73424",
                                    "OrderDate": "2016-05-28"
                                },
                                {
                                    "CustomerID": "429",
                                    "OrderID": "72973",
                                    "OrderDate": "2016-05-23"
                                },
                                {
                                    "CustomerID": "430",
                                    "OrderID": "72875",
                                    "OrderDate": "2016-05-20"
                                },
                                {
                                    "CustomerID": "430",
                                    "OrderID": "72935",
                                    "OrderDate": "2016-05-20"
                                },
                                {
                                    "CustomerID": "431",
                                    "OrderID": "72453",
                                    "OrderDate": "2016-05-13"
                                },
                                {
                                    "CustomerID": "432",
                                    "OrderID": "73181",
                                    "OrderDate": "2016-05-26"
                                },
                                {
                                    "CustomerID": "433",
                                    "OrderID": "72730",
                                    "OrderDate": "2016-05-19"
                                },
                                {
                                    "CustomerID": "434",
                                    "OrderID": "72229",
                                    "OrderDate": "2016-05-11"
                                },
                                {
                                    "CustomerID": "435",
                                    "OrderID": "72223",
                                    "OrderDate": "2016-05-11"
                                },
                                {
                                    "CustomerID": "435",
                                    "OrderID": "72271",
                                    "OrderDate": "2016-05-11"
                                },
                                {
                                    "CustomerID": "436",
                                    "OrderID": "73192",
                                    "OrderDate": "2016-05-26"
                                },
                                {
                                    "CustomerID": "436",
                                    "OrderID": "73276",
                                    "OrderDate": "2016-05-26"
                                },
                                {
                                    "CustomerID": "437",
                                    "OrderID": "73534",
                                    "OrderDate": "2016-05-31"
                                },
                                {
                                    "CustomerID": "438",
                                    "OrderID": "73438",
                                    "OrderDate": "2016-05-30"
                                },
                                {
                                    "CustomerID": "439",
                                    "OrderID": "73330",
                                    "OrderDate": "2016-05-27"
                                },
                                {
                                    "CustomerID": "440",
                                    "OrderID": "73477",
                                    "OrderDate": "2016-05-30"
                                },
                                {
                                    "CustomerID": "441",
                                    "OrderID": "72727",
                                    "OrderDate": "2016-05-19"
                                },
                                {
                                    "CustomerID": "442",
                                    "OrderID": "73316",
                                    "OrderDate": "2016-05-27"
                                },
                                {
                                    "CustomerID": "443",
                                    "OrderID": "73431",
                                    "OrderDate": "2016-05-30"
                                },
                                {
                                    "CustomerID": "444",
                                    "OrderID": "73442",
                                    "OrderDate": "2016-05-30"
                                },
                                {
                                    "CustomerID": "445",
                                    "OrderID": "73246",
                                    "OrderDate": "2016-05-26"
                                },
                                {
                                    "CustomerID": "446",
                                    "OrderID": "73118",
                                    "OrderDate": "2016-05-25"
                                },
                                {
                                    "CustomerID": "447",
                                    "OrderID": "71909",
                                    "OrderDate": "2016-05-06"
                                },
                                {
                                    "CustomerID": "448",
                                    "OrderID": "72954",
                                    "OrderDate": "2016-05-21"
                                },
                                {
                                    "CustomerID": "448",
                                    "OrderID": "72963",
                                    "OrderDate": "2016-05-21"
                                },
                                {
                                    "CustomerID": "449",
                                    "OrderID": "72282",
                                    "OrderDate": "2016-05-12"
                                },
                                {
                                    "CustomerID": "450",
                                    "OrderID": "73172",
                                    "OrderDate": "2016-05-26"
                                },
                                {
                                    "CustomerID": "451",
                                    "OrderID": "73160",
                                    "OrderDate": "2016-05-25"
                                },
                                {
                                    "CustomerID": "452",
                                    "OrderID": "72579",
                                    "OrderDate": "2016-05-16"
                                },
                                {
                                    "CustomerID": "453",
                                    "OrderID": "72256",
                                    "OrderDate": "2016-05-11"
                                },
                                {
                                    "CustomerID": "454",
                                    "OrderID": "72908",
                                    "OrderDate": "2016-05-20"
                                },
                                {
                                    "CustomerID": "455",
                                    "OrderID": "72953",
                                    "OrderDate": "2016-05-21"
                                },
                                {
                                    "CustomerID": "456",
                                    "OrderID": "73262",
                                    "OrderDate": "2016-05-26"
                                },
                                {
                                    "CustomerID": "457",
                                    "OrderID": "73446",
                                    "OrderDate": "2016-05-30"
                                },
                                {
                                    "CustomerID": "458",
                                    "OrderID": "73114",
                                    "OrderDate": "2016-05-25"
                                },
                                {
                                    "CustomerID": "459",
                                    "OrderID": "72753",
                                    "OrderDate": "2016-05-19"
                                },
                                {
                                    "CustomerID": "459",
                                    "OrderID": "72795",
                                    "OrderDate": "2016-05-19"
                                },
                                {
                                    "CustomerID": "460",
                                    "OrderID": "72957",
                                    "OrderDate": "2016-05-21"
                                },
                                {
                                    "CustomerID": "461",
                                    "OrderID": "73088",
                                    "OrderDate": "2016-05-24"
                                },
                                {
                                    "CustomerID": "462",
                                    "OrderID": "73043",
                                    "OrderDate": "2016-05-24"
                                },
                                {
                                    "CustomerID": "463",
                                    "OrderID": "71836",
                                    "OrderDate": "2016-05-05"
                                },
                                {
                                    "CustomerID": "464",
                                    "OrderID": "72889",
                                    "OrderDate": "2016-05-20"
                                },
                                {
                                    "CustomerID": "465",
                                    "OrderID": "72917",
                                    "OrderDate": "2016-05-20"
                                },
                                {
                                    "CustomerID": "466",
                                    "OrderID": "73529",
                                    "OrderDate": "2016-05-31"
                                },
                                {
                                    "CustomerID": "466",
                                    "OrderID": "73589",
                                    "OrderDate": "2016-05-31"
                                },
                                {
                                    "CustomerID": "467",
                                    "OrderID": "70404",
                                    "OrderDate": "2016-04-14"
                                },
                                {
                                    "CustomerID": "468",
                                    "OrderID": "73528",
                                    "OrderDate": "2016-05-31"
                                },
                                {
                                    "CustomerID": "469",
                                    "OrderID": "73052",
                                    "OrderDate": "2016-05-24"
                                },
                                {
                                    "CustomerID": "470",
                                    "OrderID": "73241",
                                    "OrderDate": "2016-05-26"
                                },
                                {
                                    "CustomerID": "471",
                                    "OrderID": "72905",
                                    "OrderDate": "2016-05-20"
                                },
                                {
                                    "CustomerID": "472",
                                    "OrderID": "73091",
                                    "OrderDate": "2016-05-24"
                                },
                                {
                                    "CustomerID": "473",
                                    "OrderID": "73482",
                                    "OrderDate": "2016-05-30"
                                },
                                {
                                    "CustomerID": "473",
                                    "OrderID": "73503",
                                    "OrderDate": "2016-05-30"
                                },
                                {
                                    "CustomerID": "474",
                                    "OrderID": "73301",
                                    "OrderDate": "2016-05-27"
                                },
                                {
                                    "CustomerID": "475",
                                    "OrderID": "73158",
                                    "OrderDate": "2016-05-25"
                                },
                                {
                                    "CustomerID": "476",
                                    "OrderID": "72347",
                                    "OrderDate": "2016-05-12"
                                },
                                {
                                    "CustomerID": "477",
                                    "OrderID": "73179",
                                    "OrderDate": "2016-05-26"
                                },
                                {
                                    "CustomerID": "478",
                                    "OrderID": "72910",
                                    "OrderDate": "2016-05-20"
                                },
                                {
                                    "CustomerID": "479",
                                    "OrderID": "73481",
                                    "OrderDate": "2016-05-30"
                                },
                                {
                                    "CustomerID": "480",
                                    "OrderID": "72761",
                                    "OrderDate": "2016-05-19"
                                },
                                {
                                    "CustomerID": "481",
                                    "OrderID": "73285",
                                    "OrderDate": "2016-05-27"
                                },
                                {
                                    "CustomerID": "482",
                                    "OrderID": "71558",
                                    "OrderDate": "2016-05-02"
                                },
                                {
                                    "CustomerID": "483",
                                    "OrderID": "73108",
                                    "OrderDate": "2016-05-25"
                                },
                                {
                                    "CustomerID": "484",
                                    "OrderID": "70615",
                                    "OrderDate": "2016-04-18"
                                },
                                {
                                    "CustomerID": "485",
                                    "OrderID": "72768",
                                    "OrderDate": "2016-05-19"
                                },
                                {
                                    "CustomerID": "485",
                                    "OrderID": "72833",
                                    "OrderDate": "2016-05-19"
                                },
                                {
                                    "CustomerID": "486",
                                    "OrderID": "73126",
                                    "OrderDate": "2016-05-25"
                                },
                                {
                                    "CustomerID": "487",
                                    "OrderID": "72486",
                                    "OrderDate": "2016-05-14"
                                },
                                {
                                    "CustomerID": "488",
                                    "OrderID": "73558",
                                    "OrderDate": "2016-05-31"
                                },
                                {
                                    "CustomerID": "489",
                                    "OrderID": "73467",
                                    "OrderDate": "2016-05-30"
                                },
                                {
                                    "CustomerID": "490",
                                    "OrderID": "73512",
                                    "OrderDate": "2016-05-31"
                                },
                                {
                                    "CustomerID": "491",
                                    "OrderID": "73321",
                                    "OrderDate": "2016-05-27"
                                },
                                {
                                    "CustomerID": "492",
                                    "OrderID": "73521",
                                    "OrderDate": "2016-05-31"
                                },
                                {
                                    "CustomerID": "493",
                                    "OrderID": "73347",
                                    "OrderDate": "2016-05-27"
                                },
                                {
                                    "CustomerID": "493",
                                    "OrderID": "73389",
                                    "OrderDate": "2016-05-27"
                                },
                                {
                                    "CustomerID": "494",
                                    "OrderID": "73113",
                                    "OrderDate": "2016-05-25"
                                },
                                {
                                    "CustomerID": "495",
                                    "OrderID": "72976",
                                    "OrderDate": "2016-05-23"
                                },
                                {
                                    "CustomerID": "496",
                                    "OrderID": "73412",
                                    "OrderDate": "2016-05-28"
                                },
                                {
                                    "CustomerID": "497",
                                    "OrderID": "72887",
                                    "OrderDate": "2016-05-20"
                                },
                                {
                                    "CustomerID": "498",
                                    "OrderID": "73582",
                                    "OrderDate": "2016-05-31"
                                },
                                {
                                    "CustomerID": "499",
                                    "OrderID": "72512",
                                    "OrderDate": "2016-05-14"
                                },
                                {
                                    "CustomerID": "500",
                                    "OrderID": "73225",
                                    "OrderDate": "2016-05-26"
                                },
                                {
                                    "CustomerID": "501",
                                    "OrderID": "73409",
                                    "OrderDate": "2016-05-28"
                                },
                                {
                                    "CustomerID": "502",
                                    "OrderID": "73584",
                                    "OrderDate": "2016-05-31"
                                },
                                {
                                    "CustomerID": "503",
                                    "OrderID": "71329",
                                    "OrderDate": "2016-04-28"
                                },
                                {
                                    "CustomerID": "503",
                                    "OrderID": "71372",
                                    "OrderDate": "2016-04-28"
                                },
                                {
                                    "CustomerID": "503",
                                    "OrderID": "71397",
                                    "OrderDate": "2016-04-28"
                                },
                                {
                                    "CustomerID": "504",
                                    "OrderID": "73230",
                                    "OrderDate": "2016-05-26"
                                },
                                {
                                    "CustomerID": "505",
                                    "OrderID": "73142",
                                    "OrderDate": "2016-05-25"
                                },
                                {
                                    "CustomerID": "506",
                                    "OrderID": "73240",
                                    "OrderDate": "2016-05-26"
                                },
                                {
                                    "CustomerID": "506",
                                    "OrderID": "73254",
                                    "OrderDate": "2016-05-26"
                                },
                                {
                                    "CustomerID": "506",
                                    "OrderID": "73280",
                                    "OrderDate": "2016-05-26"
                                },
                                {
                                    "CustomerID": "507",
                                    "OrderID": "72912",
                                    "OrderDate": "2016-05-20"
                                },
                                {
                                    "CustomerID": "507",
                                    "OrderID": "72941",
                                    "OrderDate": "2016-05-20"
                                },
                                {
                                    "CustomerID": "508",
                                    "OrderID": "72744",
                                    "OrderDate": "2016-05-19"
                                },
                                {
                                    "CustomerID": "509",
                                    "OrderID": "73296",
                                    "OrderDate": "2016-05-27"
                                },
                                {
                                    "CustomerID": "510",
                                    "OrderID": "73428",
                                    "OrderDate": "2016-05-30"
                                },
                                {
                                    "CustomerID": "511",
                                    "OrderID": "73156",
                                    "OrderDate": "2016-05-25"
                                },
                                {
                                    "CustomerID": "512",
                                    "OrderID": "72201",
                                    "OrderDate": "2016-05-11"
                                },
                                {
                                    "CustomerID": "513",
                                    "OrderID": "72107",
                                    "OrderDate": "2016-05-09"
                                },
                                {
                                    "CustomerID": "514",
                                    "OrderID": "73396",
                                    "OrderDate": "2016-05-28"
                                },
                                {
                                    "CustomerID": "515",
                                    "OrderID": "72966",
                                    "OrderDate": "2016-05-23"
                                },
                                {
                                    "CustomerID": "516",
                                    "OrderID": "73174",
                                    "OrderDate": "2016-05-26"
                                },
                                {
                                    "CustomerID": "516",
                                    "OrderID": "73228",
                                    "OrderDate": "2016-05-26"
                                },
                                {
                                    "CustomerID": "517",
                                    "OrderID": "71185",
                                    "OrderDate": "2016-04-26"
                                },
                                {
                                    "CustomerID": "518",
                                    "OrderID": "72690",
                                    "OrderDate": "2016-05-18"
                                },
                                {
                                    "CustomerID": "518",
                                    "OrderID": "72715",
                                    "OrderDate": "2016-05-18"
                                },
                                {
                                    "CustomerID": "519",
                                    "OrderID": "72677",
                                    "OrderDate": "2016-05-18"
                                },
                                {
                                    "CustomerID": "520",
                                    "OrderID": "72947",
                                    "OrderDate": "2016-05-21"
                                },
                                {
                                    "CustomerID": "521",
                                    "OrderID": "72886",
                                    "OrderDate": "2016-05-20"
                                },
                                {
                                    "CustomerID": "522",
                                    "OrderID": "72233",
                                    "OrderDate": "2016-05-11"
                                },
                                {
                                    "CustomerID": "523",
                                    "OrderID": "72316",
                                    "OrderDate": "2016-05-12"
                                },
                                {
                                    "CustomerID": "524",
                                    "OrderID": "73162",
                                    "OrderDate": "2016-05-25"
                                },
                                {
                                    "CustomerID": "525",
                                    "OrderID": "72322",
                                    "OrderDate": "2016-05-12"
                                },
                                {
                                    "CustomerID": "526",
                                    "OrderID": "72136",
                                    "OrderDate": "2016-05-10"
                                },
                                {
                                    "CustomerID": "527",
                                    "OrderID": "72821",
                                    "OrderDate": "2016-05-19"
                                },
                                {
                                    "CustomerID": "528",
                                    "OrderID": "72393",
                                    "OrderDate": "2016-05-13"
                                },
                                {
                                    "CustomerID": "529",
                                    "OrderID": "73346",
                                    "OrderDate": "2016-05-27"
                                },
                                {
                                    "CustomerID": "530",
                                    "OrderID": "72997",
                                    "OrderDate": "2016-05-23"
                                },
                                {
                                    "CustomerID": "530",
                                    "OrderID": "73022",
                                    "OrderDate": "2016-05-23"
                                },
                                {
                                    "CustomerID": "531",
                                    "OrderID": "73496",
                                    "OrderDate": "2016-05-30"
                                },
                                {
                                    "CustomerID": "532",
                                    "OrderID": "73533",
                                    "OrderDate": "2016-05-31"
                                },
                                {
                                    "CustomerID": "532",
                                    "OrderID": "73590",
                                    "OrderDate": "2016-05-31"
                                },
                                {
                                    "CustomerID": "533",
                                    "OrderID": "72602",
                                    "OrderDate": "2016-05-17"
                                },
                                {
                                    "CustomerID": "534",
                                    "OrderID": "73178",
                                    "OrderDate": "2016-05-26"
                                },
                                {
                                    "CustomerID": "535",
                                    "OrderID": "72923",
                                    "OrderDate": "2016-05-20"
                                },
                                {
                                    "CustomerID": "536",
                                    "OrderID": "73313",
                                    "OrderDate": "2016-05-27"
                                },
                                {
                                    "CustomerID": "536",
                                    "OrderID": "73314",
                                    "OrderDate": "2016-05-27"
                                },
                                {
                                    "CustomerID": "537",
                                    "OrderID": "73141",
                                    "OrderDate": "2016-05-25"
                                },
                                {
                                    "CustomerID": "538",
                                    "OrderID": "73337",
                                    "OrderDate": "2016-05-27"
                                },
                                {
                                    "CustomerID": "539",
                                    "OrderID": "71983",
                                    "OrderDate": "2016-05-06"
                                },
                                {
                                    "CustomerID": "540",
                                    "OrderID": "73188",
                                    "OrderDate": "2016-05-26"
                                },
                                {
                                    "CustomerID": "541",
                                    "OrderID": "73147",
                                    "OrderDate": "2016-05-25"
                                },
                                {
                                    "CustomerID": "542",
                                    "OrderID": "72494",
                                    "OrderDate": "2016-05-14"
                                },
                                {
                                    "CustomerID": "543",
                                    "OrderID": "73211",
                                    "OrderDate": "2016-05-26"
                                },
                                {
                                    "CustomerID": "544",
                                    "OrderID": "73205",
                                    "OrderDate": "2016-05-26"
                                },
                                {
                                    "CustomerID": "545",
                                    "OrderID": "73327",
                                    "OrderDate": "2016-05-27"
                                },
                                {
                                    "CustomerID": "546",
                                    "OrderID": "73080",
                                    "OrderDate": "2016-05-24"
                                },
                                {
                                    "CustomerID": "546",
                                    "OrderID": "73104",
                                    "OrderDate": "2016-05-24"
                                },
                                {
                                    "CustomerID": "547",
                                    "OrderID": "72450",
                                    "OrderDate": "2016-05-13"
                                },
                                {
                                    "CustomerID": "548",
                                    "OrderID": "73444",
                                    "OrderDate": "2016-05-30"
                                },
                                {
                                    "CustomerID": "549",
                                    "OrderID": "73490",
                                    "OrderDate": "2016-05-30"
                                },
                                {
                                    "CustomerID": "550",
                                    "OrderID": "73067",
                                    "OrderDate": "2016-05-24"
                                },
                                {
                                    "CustomerID": "551",
                                    "OrderID": "73566",
                                    "OrderDate": "2016-05-31"
                                },
                                {
                                    "CustomerID": "552",
                                    "OrderID": "73572",
                                    "OrderDate": "2016-05-31"
                                },
                                {
                                    "CustomerID": "552",
                                    "OrderID": "73594",
                                    "OrderDate": "2016-05-31"
                                },
                                {
                                    "CustomerID": "553",
                                    "OrderID": "71885",
                                    "OrderDate": "2016-05-05"
                                },
                                {
                                    "CustomerID": "554",
                                    "OrderID": "73352",
                                    "OrderDate": "2016-05-27"
                                },
                                {
                                    "CustomerID": "555",
                                    "OrderID": "72926",
                                    "OrderDate": "2016-05-20"
                                },
                                {
                                    "CustomerID": "556",
                                    "OrderID": "72852",
                                    "OrderDate": "2016-05-20"
                                },
                                {
                                    "CustomerID": "557",
                                    "OrderID": "73186",
                                    "OrderDate": "2016-05-26"
                                },
                                {
                                    "CustomerID": "558",
                                    "OrderID": "73329",
                                    "OrderDate": "2016-05-27"
                                },
                                {
                                    "CustomerID": "559",
                                    "OrderID": "73200",
                                    "OrderDate": "2016-05-26"
                                },
                                {
                                    "CustomerID": "560",
                                    "OrderID": "73449",
                                    "OrderDate": "2016-05-30"
                                },
                                {
                                    "CustomerID": "561",
                                    "OrderID": "73177",
                                    "OrderDate": "2016-05-26"
                                },
                                {
                                    "CustomerID": "561",
                                    "OrderID": "73266",
                                    "OrderDate": "2016-05-26"
                                },
                                {
                                    "CustomerID": "562",
                                    "OrderID": "73373",
                                    "OrderDate": "2016-05-27"
                                },
                                {
                                    "CustomerID": "563",
                                    "OrderID": "72893",
                                    "OrderDate": "2016-05-20"
                                },
                                {
                                    "CustomerID": "563",
                                    "OrderID": "72938",
                                    "OrderDate": "2016-05-20"
                                },
                                {
                                    "CustomerID": "564",
                                    "OrderID": "72897",
                                    "OrderDate": "2016-05-20"
                                },
                                {
                                    "CustomerID": "565",
                                    "OrderID": "72718",
                                    "OrderDate": "2016-05-19"
                                },
                                {
                                    "CustomerID": "566",
                                    "OrderID": "72564",
                                    "OrderDate": "2016-05-16"
                                },
                                {
                                    "CustomerID": "567",
                                    "OrderID": "73427",
                                    "OrderDate": "2016-05-30"
                                },
                                {
                                    "CustomerID": "568",
                                    "OrderID": "73121",
                                    "OrderDate": "2016-05-25"
                                },
                                {
                                    "CustomerID": "569",
                                    "OrderID": "73317",
                                    "OrderDate": "2016-05-27"
                                },
                                {
                                    "CustomerID": "570",
                                    "OrderID": "73545",
                                    "OrderDate": "2016-05-31"
                                },
                                {
                                    "CustomerID": "570",
                                    "OrderID": "73559",
                                    "OrderDate": "2016-05-31"
                                },
                                {
                                    "CustomerID": "571",
                                    "OrderID": "71649",
                                    "OrderDate": "2016-05-03"
                                },
                                {
                                    "CustomerID": "572",
                                    "OrderID": "72876",
                                    "OrderDate": "2016-05-20"
                                },
                                {
                                    "CustomerID": "572",
                                    "OrderID": "72880",
                                    "OrderDate": "2016-05-20"
                                },
                                {
                                    "CustomerID": "572",
                                    "OrderID": "72936",
                                    "OrderDate": "2016-05-20"
                                },
                                {
                                    "CustomerID": "573",
                                    "OrderID": "71356",
                                    "OrderDate": "2016-04-28"
                                },
                                {
                                    "CustomerID": "574",
                                    "OrderID": "73567",
                                    "OrderDate": "2016-05-31"
                                },
                                {
                                    "CustomerID": "575",
                                    "OrderID": "71951",
                                    "OrderDate": "2016-05-06"
                                },
                                {
                                    "CustomerID": "576",
                                    "OrderID": "73459",
                                    "OrderDate": "2016-05-30"
                                },
                                {
                                    "CustomerID": "577",
                                    "OrderID": "73478",
                                    "OrderDate": "2016-05-30"
                                },
                                {
                                    "CustomerID": "578",
                                    "OrderID": "73245",
                                    "OrderDate": "2016-05-26"
                                },
                                {
                                    "CustomerID": "579",
                                    "OrderID": "73399",
                                    "OrderDate": "2016-05-28"
                                },
                                {
                                    "CustomerID": "580",
                                    "OrderID": "71982",
                                    "OrderDate": "2016-05-06"
                                },
                                {
                                    "CustomerID": "581",
                                    "OrderID": "73093",
                                    "OrderDate": "2016-05-24"
                                },
                                {
                                    "CustomerID": "582",
                                    "OrderID": "73523",
                                    "OrderDate": "2016-05-31"
                                },
                                {
                                    "CustomerID": "583",
                                    "OrderID": "72776",
                                    "OrderDate": "2016-05-19"
                                },
                                {
                                    "CustomerID": "584",
                                    "OrderID": "73569",
                                    "OrderDate": "2016-05-31"
                                },
                                {
                                    "CustomerID": "585",
                                    "OrderID": "72411",
                                    "OrderDate": "2016-05-13"
                                },
                                {
                                    "CustomerID": "586",
                                    "OrderID": "73525",
                                    "OrderDate": "2016-05-31"
                                },
                                {
                                    "CustomerID": "587",
                                    "OrderID": "73433",
                                    "OrderDate": "2016-05-30"
                                },
                                {
                                    "CustomerID": "588",
                                    "OrderID": "71765",
                                    "OrderDate": "2016-05-04"
                                },
                                {
                                    "CustomerID": "589",
                                    "OrderID": "71698",
                                    "OrderDate": "2016-05-04"
                                },
                                {
                                    "CustomerID": "590",
                                    "OrderID": "72644",
                                    "OrderDate": "2016-05-18"
                                },
                                {
                                    "CustomerID": "591",
                                    "OrderID": "73152",
                                    "OrderDate": "2016-05-25"
                                },
                                {
                                    "CustomerID": "592",
                                    "OrderID": "72883",
                                    "OrderDate": "2016-05-20"
                                },
                                {
                                    "CustomerID": "593",
                                    "OrderID": "73397",
                                    "OrderDate": "2016-05-28"
                                },
                                {
                                    "CustomerID": "594",
                                    "OrderID": "72898",
                                    "OrderDate": "2016-05-20"
                                },
                                {
                                    "CustomerID": "595",
                                    "OrderID": "73474",
                                    "OrderDate": "2016-05-30"
                                },
                                {
                                    "CustomerID": "596",
                                    "OrderID": "73506",
                                    "OrderDate": "2016-05-31"
                                },
                                {
                                    "CustomerID": "596",
                                    "OrderID": "73562",
                                    "OrderDate": "2016-05-31"
                                },
                                {
                                    "CustomerID": "597",
                                    "OrderID": "73180",
                                    "OrderDate": "2016-05-26"
                                },
                                {
                                    "CustomerID": "597",
                                    "OrderID": "73189",
                                    "OrderDate": "2016-05-26"
                                },
                                {
                                    "CustomerID": "598",
                                    "OrderID": "73173",
                                    "OrderDate": "2016-05-26"
                                },
                                {
                                    "CustomerID": "599",
                                    "OrderID": "71330",
                                    "OrderDate": "2016-04-28"
                                },
                                {
                                    "CustomerID": "600",
                                    "OrderID": "73054",
                                    "OrderDate": "2016-05-24"
                                },
                                {
                                    "CustomerID": "601",
                                    "OrderID": "72967",
                                    "OrderDate": "2016-05-23"
                                },
                                {
                                    "CustomerID": "801",
                                    "OrderID": "73451",
                                    "OrderDate": "2016-05-30"
                                },
                                {
                                    "CustomerID": "802",
                                    "OrderID": "73551",
                                    "OrderDate": "2016-05-31"
                                },
                                {
                                    "CustomerID": "803",
                                    "OrderID": "71924",
                                    "OrderDate": "2016-05-06"
                                },
                                {
                                    "CustomerID": "804",
                                    "OrderID": "73264",
                                    "OrderDate": "2016-05-26"
                                },
                                {
                                    "CustomerID": "804",
                                    "OrderID": "73283",
                                    "OrderDate": "2016-05-26"
                                },
                                {
                                    "CustomerID": "805",
                                    "OrderID": "72485",
                                    "OrderDate": "2016-05-14"
                                },
                                {
                                    "CustomerID": "806",
                                    "OrderID": "73164",
                                    "OrderDate": "2016-05-25"
                                },
                                {
                                    "CustomerID": "807",
                                    "OrderID": "72251",
                                    "OrderDate": "2016-05-11"
                                },
                                {
                                    "CustomerID": "808",
                                    "OrderID": "72522",
                                    "OrderDate": "2016-05-16"
                                },
                                {
                                    "CustomerID": "809",
                                    "OrderID": "71181",
                                    "OrderDate": "2016-04-26"
                                },
                                {
                                    "CustomerID": "810",
                                    "OrderID": "73546",
                                    "OrderDate": "2016-05-31"
                                },
                                {
                                    "CustomerID": "811",
                                    "OrderID": "70662",
                                    "OrderDate": "2016-04-18"
                                },
                                {
                                    "CustomerID": "812",
                                    "OrderID": "72562",
                                    "OrderDate": "2016-05-16"
                                },
                                {
                                    "CustomerID": "813",
                                    "OrderID": "73518",
                                    "OrderDate": "2016-05-31"
                                },
                                {
                                    "CustomerID": "814",
                                    "OrderID": "72818",
                                    "OrderDate": "2016-05-19"
                                },
                                {
                                    "CustomerID": "815",
                                    "OrderID": "71517",
                                    "OrderDate": "2016-04-30"
                                },
                                {
                                    "CustomerID": "816",
                                    "OrderID": "71423",
                                    "OrderDate": "2016-04-29"
                                },
                                {
                                    "CustomerID": "817",
                                    "OrderID": "73300",
                                    "OrderDate": "2016-05-27"
                                },
                                {
                                    "CustomerID": "818",
                                    "OrderID": "72982",
                                    "OrderDate": "2016-05-23"
                                },
                                {
                                    "CustomerID": "819",
                                    "OrderID": "71754",
                                    "OrderDate": "2016-05-04"
                                },
                                {
                                    "CustomerID": "820",
                                    "OrderID": "72651",
                                    "OrderDate": "2016-05-18"
                                },
                                {
                                    "CustomerID": "820",
                                    "OrderID": "72707",
                                    "OrderDate": "2016-05-18"
                                },
                                {
                                    "CustomerID": "821",
                                    "OrderID": "73359",
                                    "OrderDate": "2016-05-27"
                                },
                                {
                                    "CustomerID": "821",
                                    "OrderID": "73391",
                                    "OrderDate": "2016-05-27"
                                },
                                {
                                    "CustomerID": "822",
                                    "OrderID": "73541",
                                    "OrderDate": "2016-05-31"
                                },
                                {
                                    "CustomerID": "823",
                                    "OrderID": "73092",
                                    "OrderDate": "2016-05-24"
                                },
                                {
                                    "CustomerID": "824",
                                    "OrderID": "73338",
                                    "OrderDate": "2016-05-27"
                                },
                                {
                                    "CustomerID": "825",
                                    "OrderID": "72531",
                                    "OrderDate": "2016-05-16"
                                },
                                {
                                    "CustomerID": "826",
                                    "OrderID": "73489",
                                    "OrderDate": "2016-05-30"
                                },
                                {
                                    "CustomerID": "827",
                                    "OrderID": "73555",
                                    "OrderDate": "2016-05-31"
                                },
                                {
                                    "CustomerID": "828",
                                    "OrderID": "73319",
                                    "OrderDate": "2016-05-27"
                                },
                                {
                                    "CustomerID": "829",
                                    "OrderID": "73430",
                                    "OrderDate": "2016-05-30"
                                },
                                {
                                    "CustomerID": "829",
                                    "OrderID": "73498",
                                    "OrderDate": "2016-05-30"
                                },
                                {
                                    "CustomerID": "830",
                                    "OrderID": "72487",
                                    "OrderDate": "2016-05-14"
                                },
                                {
                                    "CustomerID": "831",
                                    "OrderID": "73036",
                                    "OrderDate": "2016-05-24"
                                },
                                {
                                    "CustomerID": "832",
                                    "OrderID": "73293",
                                    "OrderDate": "2016-05-27"
                                },
                                {
                                    "CustomerID": "832",
                                    "OrderID": "73379",
                                    "OrderDate": "2016-05-27"
                                },
                                {
                                    "CustomerID": "833",
                                    "OrderID": "71774",
                                    "OrderDate": "2016-05-04"
                                },
                                {
                                    "CustomerID": "834",
                                    "OrderID": "73491",
                                    "OrderDate": "2016-05-30"
                                },
                                {
                                    "CustomerID": "835",
                                    "OrderID": "73540",
                                    "OrderDate": "2016-05-31"
                                },
                                {
                                    "CustomerID": "836",
                                    "OrderID": "73243",
                                    "OrderDate": "2016-05-26"
                                },
                                {
                                    "CustomerID": "837",
                                    "OrderID": "73253",
                                    "OrderDate": "2016-05-26"
                                },
                                {
                                    "CustomerID": "838",
                                    "OrderID": "73574",
                                    "OrderDate": "2016-05-31"
                                },
                                {
                                    "CustomerID": "839",
                                    "OrderID": "71862",
                                    "OrderDate": "2016-05-05"
                                },
                                {
                                    "CustomerID": "840",
                                    "OrderID": "73548",
                                    "OrderDate": "2016-05-31"
                                },
                                {
                                    "CustomerID": "841",
                                    "OrderID": "72098",
                                    "OrderDate": "2016-05-09"
                                },
                                {
                                    "CustomerID": "842",
                                    "OrderID": "72907",
                                    "OrderDate": "2016-05-20"
                                },
                                {
                                    "CustomerID": "843",
                                    "OrderID": "72743",
                                    "OrderDate": "2016-05-19"
                                },
                                {
                                    "CustomerID": "844",
                                    "OrderID": "73046",
                                    "OrderDate": "2016-05-24"
                                },
                                {
                                    "CustomerID": "845",
                                    "OrderID": "72611",
                                    "OrderDate": "2016-05-17"
                                },
                                {
                                    "CustomerID": "845",
                                    "OrderID": "72617",
                                    "OrderDate": "2016-05-17"
                                },
                                {
                                    "CustomerID": "846",
                                    "OrderID": "72376",
                                    "OrderDate": "2016-05-13"
                                },
                                {
                                    "CustomerID": "847",
                                    "OrderID": "73445",
                                    "OrderDate": "2016-05-30"
                                },
                                {
                                    "CustomerID": "848",
                                    "OrderID": "73493",
                                    "OrderDate": "2016-05-30"
                                },
                                {
                                    "CustomerID": "849",
                                    "OrderID": "73357",
                                    "OrderDate": "2016-05-27"
                                },
                                {
                                    "CustomerID": "849",
                                    "OrderID": "73390",
                                    "OrderDate": "2016-05-27"
                                },
                                {
                                    "CustomerID": "850",
                                    "OrderID": "73224",
                                    "OrderDate": "2016-05-26"
                                },
                                {
                                    "CustomerID": "851",
                                    "OrderID": "73155",
                                    "OrderDate": "2016-05-25"
                                },
                                {
                                    "CustomerID": "852",
                                    "OrderID": "72523",
                                    "OrderDate": "2016-05-16"
                                },
                                {
                                    "CustomerID": "853",
                                    "OrderID": "73440",
                                    "OrderDate": "2016-05-30"
                                },
                                {
                                    "CustomerID": "854",
                                    "OrderID": "72733",
                                    "OrderDate": "2016-05-19"
                                },
                                {
                                    "CustomerID": "854",
                                    "OrderID": "72756",
                                    "OrderDate": "2016-05-19"
                                },
                                {
                                    "CustomerID": "854",
                                    "OrderID": "72820",
                                    "OrderDate": "2016-05-19"
                                },
                                {
                                    "CustomerID": "854",
                                    "OrderID": "72829",
                                    "OrderDate": "2016-05-19"
                                },
                                {
                                    "CustomerID": "855",
                                    "OrderID": "72036",
                                    "OrderDate": "2016-05-07"
                                },
                                {
                                    "CustomerID": "856",
                                    "OrderID": "73549",
                                    "OrderDate": "2016-05-31"
                                },
                                {
                                    "CustomerID": "857",
                                    "OrderID": "72985",
                                    "OrderDate": "2016-05-23"
                                },
                                {
                                    "CustomerID": "858",
                                    "OrderID": "72724",
                                    "OrderDate": "2016-05-19"
                                },
                                {
                                    "CustomerID": "859",
                                    "OrderID": "72687",
                                    "OrderDate": "2016-05-18"
                                },
                                {
                                    "CustomerID": "860",
                                    "OrderID": "73563",
                                    "OrderDate": "2016-05-31"
                                },
                                {
                                    "CustomerID": "861",
                                    "OrderID": "73038",
                                    "OrderDate": "2016-05-24"
                                },
                                {
                                    "CustomerID": "862",
                                    "OrderID": "73461",
                                    "OrderDate": "2016-05-30"
                                },
                                {
                                    "CustomerID": "863",
                                    "OrderID": "73122",
                                    "OrderDate": "2016-05-25"
                                },
                                {
                                    "CustomerID": "863",
                                    "OrderID": "73169",
                                    "OrderDate": "2016-05-25"
                                },
                                {
                                    "CustomerID": "864",
                                    "OrderID": "71551",
                                    "OrderDate": "2016-05-02"
                                },
                                {
                                    "CustomerID": "865",
                                    "OrderID": "72754",
                                    "OrderDate": "2016-05-19"
                                },
                                {
                                    "CustomerID": "865",
                                    "OrderID": "72832",
                                    "OrderDate": "2016-05-19"
                                },
                                {
                                    "CustomerID": "866",
                                    "OrderID": "73040",
                                    "OrderDate": "2016-05-24"
                                },
                                {
                                    "CustomerID": "867",
                                    "OrderID": "73418",
                                    "OrderDate": "2016-05-28"
                                },
                                {
                                    "CustomerID": "868",
                                    "OrderID": "73136",
                                    "OrderDate": "2016-05-25"
                                },
                                {
                                    "CustomerID": "869",
                                    "OrderID": "72420",
                                    "OrderDate": "2016-05-13"
                                },
                                {
                                    "CustomerID": "869",
                                    "OrderID": "72463",
                                    "OrderDate": "2016-05-13"
                                },
                                {
                                    "CustomerID": "870",
                                    "OrderID": "72339",
                                    "OrderDate": "2016-05-12"
                                },
                                {
                                    "CustomerID": "871",
                                    "OrderID": "72625",
                                    "OrderDate": "2016-05-17"
                                },
                                {
                                    "CustomerID": "872",
                                    "OrderID": "72809",
                                    "OrderDate": "2016-05-19"
                                },
                                {
                                    "CustomerID": "873",
                                    "OrderID": "73495",
                                    "OrderDate": "2016-05-30"
                                },
                                {
                                    "CustomerID": "874",
                                    "OrderID": "73468",
                                    "OrderDate": "2016-05-30"
                                },
                                {
                                    "CustomerID": "875",
                                    "OrderID": "73421",
                                    "OrderDate": "2016-05-28"
                                },
                                {
                                    "CustomerID": "876",
                                    "OrderID": "72984",
                                    "OrderDate": "2016-05-23"
                                },
                                {
                                    "CustomerID": "876",
                                    "OrderID": "73019",
                                    "OrderDate": "2016-05-23"
                                },
                                {
                                    "CustomerID": "877",
                                    "OrderID": "73068",
                                    "OrderDate": "2016-05-24"
                                },
                                {
                                    "CustomerID": "878",
                                    "OrderID": "72099",
                                    "OrderDate": "2016-05-09"
                                },
                                {
                                    "CustomerID": "879",
                                    "OrderID": "71944",
                                    "OrderDate": "2016-05-06"
                                },
                                {
                                    "CustomerID": "880",
                                    "OrderID": "72375",
                                    "OrderDate": "2016-05-13"
                                },
                                {
                                    "CustomerID": "881",
                                    "OrderID": "72597",
                                    "OrderDate": "2016-05-17"
                                },
                                {
                                    "CustomerID": "882",
                                    "OrderID": "73248",
                                    "OrderDate": "2016-05-26"
                                },
                                {
                                    "CustomerID": "883",
                                    "OrderID": "72995",
                                    "OrderDate": "2016-05-23"
                                },
                                {
                                    "CustomerID": "884",
                                    "OrderID": "73150",
                                    "OrderDate": "2016-05-25"
                                },
                                {
                                    "CustomerID": "885",
                                    "OrderID": "73371",
                                    "OrderDate": "2016-05-27"
                                },
                                {
                                    "CustomerID": "886",
                                    "OrderID": "72254",
                                    "OrderDate": "2016-05-11"
                                },
                                {
                                    "CustomerID": "887",
                                    "OrderID": "73116",
                                    "OrderDate": "2016-05-25"
                                },
                                {
                                    "CustomerID": "887",
                                    "OrderID": "73144",
                                    "OrderDate": "2016-05-25"
                                },
                                {
                                    "CustomerID": "888",
                                    "OrderID": "73071",
                                    "OrderDate": "2016-05-24"
                                },
                                {
                                    "CustomerID": "889",
                                    "OrderID": "72493",
                                    "OrderDate": "2016-05-14"
                                },
                                {
                                    "CustomerID": "890",
                                    "OrderID": "73311",
                                    "OrderDate": "2016-05-27"
                                },
                                {
                                    "CustomerID": "890",
                                    "OrderID": "73384",
                                    "OrderDate": "2016-05-27"
                                },
                                {
                                    "CustomerID": "891",
                                    "OrderID": "73581",
                                    "OrderDate": "2016-05-31"
                                },
                                {
                                    "CustomerID": "892",
                                    "OrderID": "71459",
                                    "OrderDate": "2016-04-29"
                                },
                                {
                                    "CustomerID": "892",
                                    "OrderID": "71509",
                                    "OrderDate": "2016-04-29"
                                },
                                {
                                    "CustomerID": "893",
                                    "OrderID": "71962",
                                    "OrderDate": "2016-05-06"
                                },
                                {
                                    "CustomerID": "894",
                                    "OrderID": "72968",
                                    "OrderDate": "2016-05-23"
                                },
                                {
                                    "CustomerID": "895",
                                    "OrderID": "73537",
                                    "OrderDate": "2016-05-31"
                                },
                                {
                                    "CustomerID": "896",
                                    "OrderID": "73120",
                                    "OrderDate": "2016-05-25"
                                },
                                {
                                    "CustomerID": "896",
                                    "OrderID": "73157",
                                    "OrderDate": "2016-05-25"
                                },
                                {
                                    "CustomerID": "897",
                                    "OrderID": "73325",
                                    "OrderDate": "2016-05-27"
                                },
                                {
                                    "CustomerID": "898",
                                    "OrderID": "71475",
                                    "OrderDate": "2016-04-29"
                                },
                                {
                                    "CustomerID": "899",
                                    "OrderID": "73366",
                                    "OrderDate": "2016-05-27"
                                },
                                {
                                    "CustomerID": "900",
                                    "OrderID": "73510",
                                    "OrderDate": "2016-05-31"
                                },
                                {
                                    "CustomerID": "900",
                                    "OrderID": "73527",
                                    "OrderDate": "2016-05-31"
                                },
                                {
                                    "CustomerID": "901",
                                    "OrderID": "73422",
                                    "OrderDate": "2016-05-28"
                                },
                                {
                                    "CustomerID": "902",
                                    "OrderID": "72992",
                                    "OrderDate": "2016-05-23"
                                },
                                {
                                    "CustomerID": "903",
                                    "OrderID": "72972",
                                    "OrderDate": "2016-05-23"
                                },
                                {
                                    "CustomerID": "904",
                                    "OrderID": "73235",
                                    "OrderDate": "2016-05-26"
                                },
                                {
                                    "CustomerID": "905",
                                    "OrderID": "69549",
                                    "OrderDate": "2016-03-31"
                                },
                                {
                                    "CustomerID": "905",
                                    "OrderID": "69588",
                                    "OrderDate": "2016-03-31"
                                },
                                {
                                    "CustomerID": "906",
                                    "OrderID": "73070",
                                    "OrderDate": "2016-05-24"
                                },
                                {
                                    "CustomerID": "907",
                                    "OrderID": "73463",
                                    "OrderDate": "2016-05-30"
                                },
                                {
                                    "CustomerID": "908",
                                    "OrderID": "72858",
                                    "OrderDate": "2016-05-20"
                                },
                                {
                                    "CustomerID": "909",
                                    "OrderID": "72615",
                                    "OrderDate": "2016-05-17"
                                },
                                {
                                    "CustomerID": "910",
                                    "OrderID": "73511",
                                    "OrderDate": "2016-05-31"
                                },
                                {
                                    "CustomerID": "911",
                                    "OrderID": "73583",
                                    "OrderDate": "2016-05-31"
                                },
                                {
                                    "CustomerID": "912",
                                    "OrderID": "73344",
                                    "OrderDate": "2016-05-27"
                                },
                                {
                                    "CustomerID": "913",
                                    "OrderID": "73076",
                                    "OrderDate": "2016-05-24"
                                },
                                {
                                    "CustomerID": "914",
                                    "OrderID": "72014",
                                    "OrderDate": "2016-05-07"
                                },
                                {
                                    "CustomerID": "915",
                                    "OrderID": "73520",
                                    "OrderDate": "2016-05-31"
                                },
                                {
                                    "CustomerID": "915",
                                    "OrderID": "73576",
                                    "OrderDate": "2016-05-31"
                                },
                                {
                                    "CustomerID": "915",
                                    "OrderID": "73588",
                                    "OrderDate": "2016-05-31"
                                },
                                {
                                    "CustomerID": "916",
                                    "OrderID": "72427",
                                    "OrderDate": "2016-05-13"
                                },
                                {
                                    "CustomerID": "917",
                                    "OrderID": "72593",
                                    "OrderDate": "2016-05-17"
                                },
                                {
                                    "CustomerID": "918",
                                    "OrderID": "72308",
                                    "OrderDate": "2016-05-12"
                                },
                                {
                                    "CustomerID": "919",
                                    "OrderID": "73532",
                                    "OrderDate": "2016-05-31"
                                },
                                {
                                    "CustomerID": "920",
                                    "OrderID": "72848",
                                    "OrderDate": "2016-05-20"
                                },
                                {
                                    "CustomerID": "921",
                                    "OrderID": "72503",
                                    "OrderDate": "2016-05-14"
                                },
                                {
                                    "CustomerID": "922",
                                    "OrderID": "72239",
                                    "OrderDate": "2016-05-11"
                                },
                                {
                                    "CustomerID": "923",
                                    "OrderID": "72449",
                                    "OrderDate": "2016-05-13"
                                },
                                {
                                    "CustomerID": "924",
                                    "OrderID": "71430",
                                    "OrderDate": "2016-04-29"
                                },
                                {
                                    "CustomerID": "925",
                                    "OrderID": "73508",
                                    "OrderDate": "2016-05-31"
                                },
                                {
                                    "CustomerID": "926",
                                    "OrderID": "72530",
                                    "OrderDate": "2016-05-16"
                                },
                                {
                                    "CustomerID": "927",
                                    "OrderID": "73492",
                                    "OrderDate": "2016-05-30"
                                },
                                {
                                    "CustomerID": "928",
                                    "OrderID": "72255",
                                    "OrderDate": "2016-05-11"
                                },
                                {
                                    "CustomerID": "929",
                                    "OrderID": "73475",
                                    "OrderDate": "2016-05-30"
                                },
                                {
                                    "CustomerID": "930",
                                    "OrderID": "73403",
                                    "OrderDate": "2016-05-28"
                                },
                                {
                                    "CustomerID": "931",
                                    "OrderID": "73258",
                                    "OrderDate": "2016-05-26"
                                },
                                {
                                    "CustomerID": "932",
                                    "OrderID": "71150",
                                    "OrderDate": "2016-04-26"
                                },
                                {
                                    "CustomerID": "933",
                                    "OrderID": "73514",
                                    "OrderDate": "2016-05-31"
                                },
                                {
                                    "CustomerID": "934",
                                    "OrderID": "72600",
                                    "OrderDate": "2016-05-17"
                                },
                                {
                                    "CustomerID": "935",
                                    "OrderID": "73244",
                                    "OrderDate": "2016-05-26"
                                },
                                {
                                    "CustomerID": "935",
                                    "OrderID": "73279",
                                    "OrderDate": "2016-05-26"
                                },
                                {
                                    "CustomerID": "936",
                                    "OrderID": "70650",
                                    "OrderDate": "2016-04-18"
                                },
                                {
                                    "CustomerID": "937",
                                    "OrderID": "73509",
                                    "OrderDate": "2016-05-31"
                                },
                                {
                                    "CustomerID": "938",
                                    "OrderID": "72520",
                                    "OrderDate": "2016-05-16"
                                },
                                {
                                    "CustomerID": "939",
                                    "OrderID": "73328",
                                    "OrderDate": "2016-05-27"
                                },
                                {
                                    "CustomerID": "940",
                                    "OrderID": "73460",
                                    "OrderDate": "2016-05-30"
                                },
                                {
                                    "CustomerID": "941",
                                    "OrderID": "72766",
                                    "OrderDate": "2016-05-19"
                                },
                                {
                                    "CustomerID": "942",
                                    "OrderID": "72364",
                                    "OrderDate": "2016-05-13"
                                },
                                {
                                    "CustomerID": "943",
                                    "OrderID": "71692",
                                    "OrderDate": "2016-05-04"
                                },
                                {
                                    "CustomerID": "944",
                                    "OrderID": "72664",
                                    "OrderDate": "2016-05-18"
                                },
                                {
                                    "CustomerID": "945",
                                    "OrderID": "73436",
                                    "OrderDate": "2016-05-30"
                                },
                                {
                                    "CustomerID": "946",
                                    "OrderID": "70739",
                                    "OrderDate": "2016-04-19"
                                },
                                {
                                    "CustomerID": "947",
                                    "OrderID": "72557",
                                    "OrderDate": "2016-05-16"
                                },
                                {
                                    "CustomerID": "948",
                                    "OrderID": "73143",
                                    "OrderDate": "2016-05-25"
                                },
                                {
                                    "CustomerID": "949",
                                    "OrderID": "73176",
                                    "OrderDate": "2016-05-26"
                                },
                                {
                                    "CustomerID": "950",
                                    "OrderID": "73221",
                                    "OrderDate": "2016-05-26"
                                },
                                {
                                    "CustomerID": "950",
                                    "OrderID": "73278",
                                    "OrderDate": "2016-05-26"
                                },
                                {
                                    "CustomerID": "951",
                                    "OrderID": "73060",
                                    "OrderDate": "2016-05-24"
                                },
                                {
                                    "CustomerID": "952",
                                    "OrderID": "72570",
                                    "OrderDate": "2016-05-16"
                                },
                                {
                                    "CustomerID": "953",
                                    "OrderID": "73580",
                                    "OrderDate": "2016-05-31"
                                },
                                {
                                    "CustomerID": "954",
                                    "OrderID": "72801",
                                    "OrderDate": "2016-05-19"
                                },
                                {
                                    "CustomerID": "955",
                                    "OrderID": "72850",
                                    "OrderDate": "2016-05-20"
                                },
                                {
                                    "CustomerID": "956",
                                    "OrderID": "73484",
                                    "OrderDate": "2016-05-30"
                                },
                                {
                                    "CustomerID": "957",
                                    "OrderID": "70796",
                                    "OrderDate": "2016-04-19"
                                },
                                {
                                    "CustomerID": "958",
                                    "OrderID": "71853",
                                    "OrderDate": "2016-05-05"
                                },
                                {
                                    "CustomerID": "959",
                                    "OrderID": "73450",
                                    "OrderDate": "2016-05-30"
                                },
                                {
                                    "CustomerID": "960",
                                    "OrderID": "71571",
                                    "OrderDate": "2016-05-02"
                                },
                                {
                                    "CustomerID": "961",
                                    "OrderID": "73456",
                                    "OrderDate": "2016-05-30"
                                },
                                {
                                    "CustomerID": "962",
                                    "OrderID": "72567",
                                    "OrderDate": "2016-05-16"
                                },
                                {
                                    "CustomerID": "963",
                                    "OrderID": "73448",
                                    "OrderDate": "2016-05-30"
                                },
                                {
                                    "CustomerID": "963",
                                    "OrderID": "73500",
                                    "OrderDate": "2016-05-30"
                                },
                                {
                                    "CustomerID": "964",
                                    "OrderID": "72998",
                                    "OrderDate": "2016-05-23"
                                },
                                {
                                    "CustomerID": "965",
                                    "OrderID": "73307",
                                    "OrderDate": "2016-05-27"
                                },
                                {
                                    "CustomerID": "966",
                                    "OrderID": "73497",
                                    "OrderDate": "2016-05-30"
                                },
                                {
                                    "CustomerID": "967",
                                    "OrderID": "73550",
                                    "OrderDate": "2016-05-31"
                                },
                                {
                                    "CustomerID": "967",
                                    "OrderID": "73570",
                                    "OrderDate": "2016-05-31"
                                },
                                {
                                    "CustomerID": "968",
                                    "OrderID": "72824",
                                    "OrderDate": "2016-05-19"
                                },
                                {
                                    "CustomerID": "969",
                                    "OrderID": "71119",
                                    "OrderDate": "2016-04-26"
                                },
                                {
                                    "CustomerID": "970",
                                    "OrderID": "72433",
                                    "OrderDate": "2016-05-13"
                                },
                                {
                                    "CustomerID": "971",
                                    "OrderID": "73066",
                                    "OrderDate": "2016-05-24"
                                },
                                {
                                    "CustomerID": "972",
                                    "OrderID": "73571",
                                    "OrderDate": "2016-05-31"
                                },
                                {
                                    "CustomerID": "973",
                                    "OrderID": "70792",
                                    "OrderDate": "2016-04-19"
                                },
                                {
                                    "CustomerID": "974",
                                    "OrderID": "73303",
                                    "OrderDate": "2016-05-27"
                                },
                                {
                                    "CustomerID": "974",
                                    "OrderID": "73381",
                                    "OrderDate": "2016-05-27"
                                },
                                {
                                    "CustomerID": "975",
                                    "OrderID": "73539",
                                    "OrderDate": "2016-05-31"
                                },
                                {
                                    "CustomerID": "976",
                                    "OrderID": "72951",
                                    "OrderDate": "2016-05-21"
                                },
                                {
                                    "CustomerID": "977",
                                    "OrderID": "73348",
                                    "OrderDate": "2016-05-27"
                                },
                                {
                                    "CustomerID": "978",
                                    "OrderID": "73526",
                                    "OrderDate": "2016-05-31"
                                },
                                {
                                    "CustomerID": "979",
                                    "OrderID": "71447",
                                    "OrderDate": "2016-04-29"
                                },
                                {
                                    "CustomerID": "980",
                                    "OrderID": "72906",
                                    "OrderDate": "2016-05-20"
                                },
                                {
                                    "CustomerID": "981",
                                    "OrderID": "72779",
                                    "OrderDate": "2016-05-19"
                                },
                                {
                                    "CustomerID": "982",
                                    "OrderID": "72840",
                                    "OrderDate": "2016-05-20"
                                },
                                {
                                    "CustomerID": "982",
                                    "OrderID": "72845",
                                    "OrderDate": "2016-05-20"
                                },
                                {
                                    "CustomerID": "983",
                                    "OrderID": "73579",
                                    "OrderDate": "2016-05-31"
                                },
                                {
                                    "CustomerID": "984",
                                    "OrderID": "72639",
                                    "OrderDate": "2016-05-18"
                                },
                                {
                                    "CustomerID": "985",
                                    "OrderID": "73324",
                                    "OrderDate": "2016-05-27"
                                },
                                {
                                    "CustomerID": "986",
                                    "OrderID": "73553",
                                    "OrderDate": "2016-05-31"
                                },
                                {
                                    "CustomerID": "987",
                                    "OrderID": "73488",
                                    "OrderDate": "2016-05-30"
                                },
                                {
                                    "CustomerID": "988",
                                    "OrderID": "73259",
                                    "OrderDate": "2016-05-26"
                                },
                                {
                                    "CustomerID": "989",
                                    "OrderID": "73524",
                                    "OrderDate": "2016-05-31"
                                },
                                {
                                    "CustomerID": "990",
                                    "OrderID": "73153",
                                    "OrderDate": "2016-05-25"
                                },
                                {
                                    "CustomerID": "991",
                                    "OrderID": "73193",
                                    "OrderDate": "2016-05-26"
                                },
                                {
                                    "CustomerID": "992",
                                    "OrderID": "72771",
                                    "OrderDate": "2016-05-19"
                                },
                                {
                                    "CustomerID": "993",
                                    "OrderID": "73439",
                                    "OrderDate": "2016-05-30"
                                },
                                {
                                    "CustomerID": "994",
                                    "OrderID": "73190",
                                    "OrderDate": "2016-05-26"
                                },
                                {
                                    "CustomerID": "995",
                                    "OrderID": "73560",
                                    "OrderDate": "2016-05-31"
                                },
                                {
                                    "CustomerID": "996",
                                    "OrderID": "73294",
                                    "OrderDate": "2016-05-27"
                                },
                                {
                                    "CustomerID": "997",
                                    "OrderID": "72777",
                                    "OrderDate": "2016-05-19"
                                },
                                {
                                    "CustomerID": "998",
                                    "OrderID": "70840",
                                    "OrderDate": "2016-04-20"
                                },
                                {
                                    "CustomerID": "999",
                                    "OrderID": "72345",
                                    "OrderDate": "2016-05-12"
                                },
                                {
                                    "CustomerID": "1000",
                                    "OrderID": "73419",
                                    "OrderDate": "2016-05-28"
                                },
                                {
                                    "CustomerID": "1001",
                                    "OrderID": "73212",
                                    "OrderDate": "2016-05-26"
                                },
                                {
                                    "CustomerID": "1001",
                                    "OrderID": "73256",
                                    "OrderDate": "2016-05-26"
                                },
                                {
                                    "CustomerID": "1001",
                                    "OrderID": "73282",
                                    "OrderDate": "2016-05-26"
                                },
                                {
                                    "CustomerID": "1002",
                                    "OrderID": "73339",
                                    "OrderDate": "2016-05-27"
                                },
                                {
                                    "CustomerID": "1003",
                                    "OrderID": "72662",
                                    "OrderDate": "2016-05-18"
                                },
                                {
                                    "CustomerID": "1004",
                                    "OrderID": "73464",
                                    "OrderDate": "2016-05-30"
                                },
                                {
                                    "CustomerID": "1005",
                                    "OrderID": "72446",
                                    "OrderDate": "2016-05-13"
                                },
                                {
                                    "CustomerID": "1006",
                                    "OrderID": "72179",
                                    "OrderDate": "2016-05-11"
                                },
                                {
                                    "CustomerID": "1006",
                                    "OrderID": "72206",
                                    "OrderDate": "2016-05-11"
                                },
                                {
                                    "CustomerID": "1006",
                                    "OrderID": "72265",
                                    "OrderDate": "2016-05-11"
                                },
                                {
                                    "CustomerID": "1006",
                                    "OrderID": "72277",
                                    "OrderDate": "2016-05-11"
                                },
                                {
                                    "CustomerID": "1007",
                                    "OrderID": "73355",
                                    "OrderDate": "2016-05-27"
                                },
                                {
                                    "CustomerID": "1008",
                                    "OrderID": "72109",
                                    "OrderDate": "2016-05-09"
                                },
                                {
                                    "CustomerID": "1009",
                                    "OrderID": "71908",
                                    "OrderDate": "2016-05-06"
                                },
                                {
                                    "CustomerID": "1009",
                                    "OrderID": "71972",
                                    "OrderDate": "2016-05-06"
                                },
                                {
                                    "CustomerID": "1010",
                                    "OrderID": "73458",
                                    "OrderDate": "2016-05-30"
                                },
                                {
                                    "CustomerID": "1011",
                                    "OrderID": "72870",
                                    "OrderDate": "2016-05-20"
                                },
                                {
                                    "CustomerID": "1012",
                                    "OrderID": "73377",
                                    "OrderDate": "2016-05-27"
                                },
                                {
                                    "CustomerID": "1013",
                                    "OrderID": "73130",
                                    "OrderDate": "2016-05-25"
                                },
                                {
                                    "CustomerID": "1014",
                                    "OrderID": "73552",
                                    "OrderDate": "2016-05-31"
                                },
                                {
                                    "CustomerID": "1015",
                                    "OrderID": "73554",
                                    "OrderDate": "2016-05-31"
                                },
                                {
                                    "CustomerID": "1016",
                                    "OrderID": "73310",
                                    "OrderDate": "2016-05-27"
                                },
                                {
                                    "CustomerID": "1016",
                                    "OrderID": "73383",
                                    "OrderDate": "2016-05-27"
                                },
                                {
                                    "CustomerID": "1017",
                                    "OrderID": "71534",
                                    "OrderDate": "2016-04-30"
                                },
                                {
                                    "CustomerID": "1018",
                                    "OrderID": "73517",
                                    "OrderDate": "2016-05-31"
                                },
                                {
                                    "CustomerID": "1018",
                                    "OrderID": "73578",
                                    "OrderDate": "2016-05-31"
                                },
                                {
                                    "CustomerID": "1018",
                                    "OrderID": "73587",
                                    "OrderDate": "2016-05-31"
                                },
                                {
                                    "CustomerID": "1019",
                                    "OrderID": "73184",
                                    "OrderDate": "2016-05-26"
                                },
                                {
                                    "CustomerID": "1020",
                                    "OrderID": "72097",
                                    "OrderDate": "2016-05-09"
                                },
                                {
                                    "CustomerID": "1021",
                                    "OrderID": "73216",
                                    "OrderDate": "2016-05-26"
                                },
                                {
                                    "CustomerID": "1022",
                                    "OrderID": "72374",
                                    "OrderDate": "2016-05-13"
                                },
                                {
                                    "CustomerID": "1022",
                                    "OrderID": "72402",
                                    "OrderDate": "2016-05-13"
                                },
                                {
                                    "CustomerID": "1023",
                                    "OrderID": "72638",
                                    "OrderDate": "2016-05-18"
                                },
                                {
                                    "CustomerID": "1024",
                                    "OrderID": "73198",
                                    "OrderDate": "2016-05-26"
                                },
                                {
                                    "CustomerID": "1025",
                                    "OrderID": "73536",
                                    "OrderDate": "2016-05-31"
                                },
                                {
                                    "CustomerID": "1026",
                                    "OrderID": "72892",
                                    "OrderDate": "2016-05-20"
                                },
                                {
                                    "CustomerID": "1027",
                                    "OrderID": "72373",
                                    "OrderDate": "2016-05-13"
                                },
                                {
                                    "CustomerID": "1028",
                                    "OrderID": "73544",
                                    "OrderDate": "2016-05-31"
                                },
                                {
                                    "CustomerID": "1028",
                                    "OrderID": "73592",
                                    "OrderDate": "2016-05-31"
                                },
                                {
                                    "CustomerID": "1029",
                                    "OrderID": "73057",
                                    "OrderDate": "2016-05-24"
                                },
                                {
                                    "CustomerID": "1030",
                                    "OrderID": "70875",
                                    "OrderDate": "2016-04-21"
                                },
                                {
                                    "CustomerID": "1031",
                                    "OrderID": "73291",
                                    "OrderDate": "2016-05-27"
                                },
                                {
                                    "CustomerID": "1032",
                                    "OrderID": "71544",
                                    "OrderDate": "2016-05-02"
                                },
                                {
                                    "CustomerID": "1032",
                                    "OrderID": "71584",
                                    "OrderDate": "2016-05-02"
                                },
                                {
                                    "CustomerID": "1033",
                                    "OrderID": "73194",
                                    "OrderDate": "2016-05-26"
                                },
                                {
                                    "CustomerID": "1033",
                                    "OrderID": "73277",
                                    "OrderDate": "2016-05-26"
                                },
                                {
                                    "CustomerID": "1034",
                                    "OrderID": "73175",
                                    "OrderDate": "2016-05-26"
                                },
                                {
                                    "CustomerID": "1034",
                                    "OrderID": "73274",
                                    "OrderDate": "2016-05-26"
                                },
                                {
                                    "CustomerID": "1035",
                                    "OrderID": "73049",
                                    "OrderDate": "2016-05-24"
                                },
                                {
                                    "CustomerID": "1036",
                                    "OrderID": "73400",
                                    "OrderDate": "2016-05-28"
                                },
                                {
                                    "CustomerID": "1037",
                                    "OrderID": "72981",
                                    "OrderDate": "2016-05-23"
                                },
                                {
                                    "CustomerID": "1038",
                                    "OrderID": "73349",
                                    "OrderDate": "2016-05-27"
                                },
                                {
                                    "CustomerID": "1039",
                                    "OrderID": "73196",
                                    "OrderDate": "2016-05-26"
                                },
                                {
                                    "CustomerID": "1040",
                                    "OrderID": "73471",
                                    "OrderDate": "2016-05-30"
                                },
                                {
                                    "CustomerID": "1041",
                                    "OrderID": "73133",
                                    "OrderDate": "2016-05-25"
                                },
                                {
                                    "CustomerID": "1042",
                                    "OrderID": "72084",
                                    "OrderDate": "2016-05-09"
                                },
                                {
                                    "CustomerID": "1043",
                                    "OrderID": "73003",
                                    "OrderDate": "2016-05-23"
                                },
                                {
                                    "CustomerID": "1044",
                                    "OrderID": "72506",
                                    "OrderDate": "2016-05-14"
                                },
                                {
                                    "CustomerID": "1044",
                                    "OrderID": "72517",
                                    "OrderDate": "2016-05-14"
                                },
                                {
                                    "CustomerID": "1045",
                                    "OrderID": "72618",
                                    "OrderDate": "2016-05-17"
                                },
                                {
                                    "CustomerID": "1046",
                                    "OrderID": "73362",
                                    "OrderDate": "2016-05-27"
                                },
                                {
                                    "CustomerID": "1047",
                                    "OrderID": "73111",
                                    "OrderDate": "2016-05-25"
                                },
                                {
                                    "CustomerID": "1048",
                                    "OrderID": "73312",
                                    "OrderDate": "2016-05-27"
                                },
                                {
                                    "CustomerID": "1049",
                                    "OrderID": "72260",
                                    "OrderDate": "2016-05-11"
                                },
                                {
                                    "CustomerID": "1050",
                                    "OrderID": "72492",
                                    "OrderDate": "2016-05-14"
                                },
                                {
                                    "CustomerID": "1050",
                                    "OrderID": "72516",
                                    "OrderDate": "2016-05-14"
                                },
                                {
                                    "CustomerID": "1051",
                                    "OrderID": "73401",
                                    "OrderDate": "2016-05-28"
                                },
                                {
                                    "CustomerID": "1052",
                                    "OrderID": "73351",
                                    "OrderDate": "2016-05-27"
                                },
                                {
                                    "CustomerID": "1053",
                                    "OrderID": "73556",
                                    "OrderDate": "2016-05-31"
                                },
                                {
                                    "CustomerID": "1054",
                                    "OrderID": "73462",
                                    "OrderDate": "2016-05-30"
                                },
                                {
                                    "CustomerID": "1055",
                                    "OrderID": "73318",
                                    "OrderDate": "2016-05-27"
                                },
                                {
                                    "CustomerID": "1055",
                                    "OrderID": "73336",
                                    "OrderDate": "2016-05-27"
                                },
                                {
                                    "CustomerID": "1055",
                                    "OrderID": "73386",
                                    "OrderDate": "2016-05-27"
                                },
                                {
                                    "CustomerID": "1056",
                                    "OrderID": "72694",
                                    "OrderDate": "2016-05-18"
                                },
                                {
                                    "CustomerID": "1057",
                                    "OrderID": "73368",
                                    "OrderDate": "2016-05-27"
                                },
                                {
                                    "CustomerID": "1057",
                                    "OrderID": "73394",
                                    "OrderDate": "2016-05-27"
                                },
                                {
                                    "CustomerID": "1058",
                                    "OrderID": "73222",
                                    "OrderDate": "2016-05-26"
                                },
                                {
                                    "CustomerID": "1059",
                                    "OrderID": "73453",
                                    "OrderDate": "2016-05-30"
                                },
                                {
                                    "CustomerID": "1060",
                                    "OrderID": "73081",
                                    "OrderDate": "2016-05-24"
                                },
                                {
                                    "CustomerID": "1061",
                                    "OrderID": "73340",
                                    "OrderDate": "2016-05-27"
                                },
                                {
                                    "CustomerID": "1061",
                                    "OrderID": "73350",
                                    "OrderDate": "2016-05-27"
                                },
                                {
                                    "CustomerID": "1061",
                                    "OrderID": "73356",
                                    "OrderDate": "2016-05-27"
                                }
                            ]
                        },
                        "text/html": "<table><tr><th>CustomerID</th><th>OrderID</th><th>OrderDate</th></tr><tr><td>1</td><td>73290</td><td>2016-05-27</td></tr><tr><td>2</td><td>72475</td><td>2016-05-14</td></tr><tr><td>3</td><td>73465</td><td>2016-05-30</td></tr><tr><td>4</td><td>71366</td><td>2016-04-28</td></tr><tr><td>5</td><td>73407</td><td>2016-05-28</td></tr><tr><td>6</td><td>73547</td><td>2016-05-31</td></tr><tr><td>7</td><td>73365</td><td>2016-05-27</td></tr><tr><td>7</td><td>73393</td><td>2016-05-27</td></tr><tr><td>8</td><td>72847</td><td>2016-05-20</td></tr><tr><td>9</td><td>73059</td><td>2016-05-24</td></tr><tr><td>10</td><td>73045</td><td>2016-05-24</td></tr><tr><td>11</td><td>73573</td><td>2016-05-31</td></tr><tr><td>11</td><td>73595</td><td>2016-05-31</td></tr><tr><td>12</td><td>73308</td><td>2016-05-27</td></tr><tr><td>13</td><td>73213</td><td>2016-05-26</td></tr><tr><td>13</td><td>73257</td><td>2016-05-26</td></tr><tr><td>14</td><td>73486</td><td>2016-05-30</td></tr><tr><td>14</td><td>73505</td><td>2016-05-30</td></tr><tr><td>15</td><td>70298</td><td>2016-04-13</td></tr><tr><td>15</td><td>70300</td><td>2016-04-13</td></tr><tr><td>16</td><td>73287</td><td>2016-05-27</td></tr><tr><td>16</td><td>73378</td><td>2016-05-27</td></tr><tr><td>17</td><td>72661</td><td>2016-05-18</td></tr><tr><td>18</td><td>73073</td><td>2016-05-24</td></tr><tr><td>19</td><td>72054</td><td>2016-05-09</td></tr><tr><td>20</td><td>72914</td><td>2016-05-20</td></tr><tr><td>21</td><td>73354</td><td>2016-05-27</td></tr><tr><td>22</td><td>73163</td><td>2016-05-25</td></tr><tr><td>23</td><td>73370</td><td>2016-05-27</td></tr><tr><td>24</td><td>73074</td><td>2016-05-24</td></tr><tr><td>25</td><td>72079</td><td>2016-05-09</td></tr><tr><td>26</td><td>71717</td><td>2016-05-04</td></tr><tr><td>26</td><td>71721</td><td>2016-05-04</td></tr><tr><td>26</td><td>71726</td><td>2016-05-04</td></tr><tr><td>26</td><td>71784</td><td>2016-05-04</td></tr><tr><td>27</td><td>73129</td><td>2016-05-25</td></tr><tr><td>27</td><td>73170</td><td>2016-05-25</td></tr><tr><td>28</td><td>73519</td><td>2016-05-31</td></tr><tr><td>28</td><td>73575</td><td>2016-05-31</td></tr><tr><td>29</td><td>73557</td><td>2016-05-31</td></tr><tr><td>30</td><td>71472</td><td>2016-04-29</td></tr><tr><td>31</td><td>73269</td><td>2016-05-26</td></tr><tr><td>32</td><td>73084</td><td>2016-05-24</td></tr><tr><td>33</td><td>73341</td><td>2016-05-27</td></tr><tr><td>34</td><td>72791</td><td>2016-05-19</td></tr><tr><td>35</td><td>73507</td><td>2016-05-31</td></tr><tr><td>35</td><td>73564</td><td>2016-05-31</td></tr><tr><td>36</td><td>72863</td><td>2016-05-20</td></tr><tr><td>37</td><td>72769</td><td>2016-05-19</td></tr><tr><td>38</td><td>72675</td><td>2016-05-18</td></tr><tr><td>39</td><td>72909</td><td>2016-05-20</td></tr><tr><td>40</td><td>73207</td><td>2016-05-26</td></tr><tr><td>41</td><td>72253</td><td>2016-05-11</td></tr><tr><td>42</td><td>73434</td><td>2016-05-30</td></tr><tr><td>43</td><td>72378</td><td>2016-05-13</td></tr><tr><td>44</td><td>73429</td><td>2016-05-30</td></tr><tr><td>45</td><td>73151</td><td>2016-05-25</td></tr><tr><td>46</td><td>73363</td><td>2016-05-27</td></tr><tr><td>47</td><td>73469</td><td>2016-05-30</td></tr><tr><td>48</td><td>73125</td><td>2016-05-25</td></tr><tr><td>49</td><td>72929</td><td>2016-05-20</td></tr><tr><td>50</td><td>73056</td><td>2016-05-24</td></tr><tr><td>51</td><td>73447</td><td>2016-05-30</td></tr><tr><td>52</td><td>72607</td><td>2016-05-17</td></tr><tr><td>53</td><td>73132</td><td>2016-05-25</td></tr><tr><td>54</td><td>73454</td><td>2016-05-30</td></tr><tr><td>55</td><td>72925</td><td>2016-05-20</td></tr><tr><td>56</td><td>72745</td><td>2016-05-19</td></tr><tr><td>57</td><td>73185</td><td>2016-05-26</td></tr><tr><td>58</td><td>73226</td><td>2016-05-26</td></tr><tr><td>59</td><td>73358</td><td>2016-05-27</td></tr><tr><td>60</td><td>72208</td><td>2016-05-11</td></tr><tr><td>61</td><td>73002</td><td>2016-05-23</td></tr><tr><td>62</td><td>73470</td><td>2016-05-30</td></tr><tr><td>63</td><td>72498</td><td>2016-05-14</td></tr><tr><td>64</td><td>73561</td><td>2016-05-31</td></tr><tr><td>65</td><td>73302</td><td>2016-05-27</td></tr><tr><td>66</td><td>70159</td><td>2016-04-11</td></tr><tr><td>67</td><td>72978</td><td>2016-05-23</td></tr><tr><td>68</td><td>73480</td><td>2016-05-30</td></tr><tr><td>68</td><td>73502</td><td>2016-05-30</td></tr><tr><td>69</td><td>73083</td><td>2016-05-24</td></tr><tr><td>70</td><td>72704</td><td>2016-05-18</td></tr><tr><td>71</td><td>73457</td><td>2016-05-30</td></tr><tr><td>72</td><td>73320</td><td>2016-05-27</td></tr><tr><td>73</td><td>73051</td><td>2016-05-24</td></tr><tr><td>74</td><td>72392</td><td>2016-05-13</td></tr><tr><td>75</td><td>71922</td><td>2016-05-06</td></tr><tr><td>75</td><td>71987</td><td>2016-05-06</td></tr><tr><td>76</td><td>73513</td><td>2016-05-31</td></tr><tr><td>77</td><td>71834</td><td>2016-05-05</td></tr><tr><td>77</td><td>71869</td><td>2016-05-05</td></tr><tr><td>78</td><td>72573</td><td>2016-05-16</td></tr><tr><td>79</td><td>72338</td><td>2016-05-12</td></tr><tr><td>80</td><td>72636</td><td>2016-05-18</td></tr><tr><td>81</td><td>73292</td><td>2016-05-27</td></tr><tr><td>82</td><td>73538</td><td>2016-05-31</td></tr><tr><td>83</td><td>72415</td><td>2016-05-13</td></tr><tr><td>83</td><td>72440</td><td>2016-05-13</td></tr><tr><td>83</td><td>72462</td><td>2016-05-13</td></tr><tr><td>84</td><td>73058</td><td>2016-05-24</td></tr><tr><td>85</td><td>72921</td><td>2016-05-20</td></tr><tr><td>86</td><td>73304</td><td>2016-05-27</td></tr><tr><td>87</td><td>73522</td><td>2016-05-31</td></tr><tr><td>88</td><td>73485</td><td>2016-05-30</td></tr><tr><td>89</td><td>73432</td><td>2016-05-30</td></tr><tr><td>90</td><td>73565</td><td>2016-05-31</td></tr><tr><td>91</td><td>72806</td><td>2016-05-19</td></tr><tr><td>92</td><td>72361</td><td>2016-05-13</td></tr><tr><td>93</td><td>71235</td><td>2016-04-27</td></tr><tr><td>94</td><td>72843</td><td>2016-05-20</td></tr><tr><td>95</td><td>72616</td><td>2016-05-17</td></tr><tr><td>96</td><td>72647</td><td>2016-05-18</td></tr><tr><td>97</td><td>70439</td><td>2016-04-14</td></tr><tr><td>97</td><td>70459</td><td>2016-04-14</td></tr><tr><td>98</td><td>72864</td><td>2016-05-20</td></tr><tr><td>99</td><td>72259</td><td>2016-05-11</td></tr><tr><td>100</td><td>72572</td><td>2016-05-16</td></tr><tr><td>101</td><td>72131</td><td>2016-05-10</td></tr><tr><td>102</td><td>73398</td><td>2016-05-28</td></tr><tr><td>103</td><td>72902</td><td>2016-05-20</td></tr><tr><td>104</td><td>72955</td><td>2016-05-21</td></tr><tr><td>104</td><td>72964</td><td>2016-05-21</td></tr><tr><td>105</td><td>72855</td><td>2016-05-20</td></tr><tr><td>105</td><td>72932</td><td>2016-05-20</td></tr><tr><td>106</td><td>73140</td><td>2016-05-25</td></tr><tr><td>107</td><td>73268</td><td>2016-05-26</td></tr><tr><td>108</td><td>72320</td><td>2016-05-12</td></tr><tr><td>109</td><td>73530</td><td>2016-05-31</td></tr><tr><td>110</td><td>72739</td><td>2016-05-19</td></tr><tr><td>111</td><td>71234</td><td>2016-04-27</td></tr><tr><td>112</td><td>73010</td><td>2016-05-23</td></tr><tr><td>113</td><td>72760</td><td>2016-05-19</td></tr><tr><td>114</td><td>72689</td><td>2016-05-18</td></tr><tr><td>115</td><td>72890</td><td>2016-05-20</td></tr><tr><td>116</td><td>72904</td><td>2016-05-20</td></tr><tr><td>116</td><td>72939</td><td>2016-05-20</td></tr><tr><td>117</td><td>73297</td><td>2016-05-27</td></tr><tr><td>118</td><td>72468</td><td>2016-05-14</td></tr><tr><td>119</td><td>73542</td><td>2016-05-31</td></tr><tr><td>120</td><td>72632</td><td>2016-05-18</td></tr><tr><td>121</td><td>73069</td><td>2016-05-24</td></tr><tr><td>122</td><td>73455</td><td>2016-05-30</td></tr><tr><td>123</td><td>73041</td><td>2016-05-24</td></tr><tr><td>124</td><td>73249</td><td>2016-05-26</td></tr><tr><td>125</td><td>72865</td><td>2016-05-20</td></tr><tr><td>126</td><td>73483</td><td>2016-05-30</td></tr><tr><td>126</td><td>73504</td><td>2016-05-30</td></tr><tr><td>127</td><td>71796</td><td>2016-05-05</td></tr><tr><td>127</td><td>71891</td><td>2016-05-05</td></tr><tr><td>128</td><td>70223</td><td>2016-04-12</td></tr><tr><td>128</td><td>70240</td><td>2016-04-12</td></tr><tr><td>129</td><td>73014</td><td>2016-05-23</td></tr><tr><td>130</td><td>70330</td><td>2016-04-13</td></tr><tr><td>131</td><td>70324</td><td>2016-04-13</td></tr><tr><td>131</td><td>70352</td><td>2016-04-13</td></tr><tr><td>132</td><td>73203</td><td>2016-05-26</td></tr><tr><td>133</td><td>72612</td><td>2016-05-17</td></tr><tr><td>134</td><td>72113</td><td>2016-05-09</td></tr><tr><td>135</td><td>72525</td><td>2016-05-16</td></tr><tr><td>136</td><td>73239</td><td>2016-05-26</td></tr><tr><td>137</td><td>72961</td><td>2016-05-21</td></tr><tr><td>137</td><td>72965</td><td>2016-05-21</td></tr><tr><td>138</td><td>72764</td><td>2016-05-19</td></tr><tr><td>139</td><td>72922</td><td>2016-05-20</td></tr><tr><td>140</td><td>73255</td><td>2016-05-26</td></tr><tr><td>140</td><td>73281</td><td>2016-05-26</td></tr><tr><td>141</td><td>72797</td><td>2016-05-19</td></tr><tr><td>142</td><td>72888</td><td>2016-05-20</td></tr><tr><td>143</td><td>73452</td><td>2016-05-30</td></tr><tr><td>144</td><td>73305</td><td>2016-05-27</td></tr><tr><td>145</td><td>72551</td><td>2016-05-16</td></tr><tr><td>145</td><td>72586</td><td>2016-05-16</td></tr><tr><td>146</td><td>73210</td><td>2016-05-26</td></tr><tr><td>147</td><td>72871</td><td>2016-05-20</td></tr><tr><td>147</td><td>72934</td><td>2016-05-20</td></tr><tr><td>148</td><td>72542</td><td>2016-05-16</td></tr><tr><td>148</td><td>72583</td><td>2016-05-16</td></tr><tr><td>149</td><td>73075</td><td>2016-05-24</td></tr><tr><td>150</td><td>73543</td><td>2016-05-31</td></tr><tr><td>150</td><td>73591</td><td>2016-05-31</td></tr><tr><td>151</td><td>73585</td><td>2016-05-31</td></tr><tr><td>152</td><td>72096</td><td>2016-05-09</td></tr><tr><td>153</td><td>73466</td><td>2016-05-30</td></tr><tr><td>154</td><td>73135</td><td>2016-05-25</td></tr><tr><td>155</td><td>72284</td><td>2016-05-12</td></tr><tr><td>156</td><td>73375</td><td>2016-05-27</td></tr><tr><td>157</td><td>73443</td><td>2016-05-30</td></tr><tr><td>158</td><td>73334</td><td>2016-05-27</td></tr><tr><td>159</td><td>73229</td><td>2016-05-26</td></tr><tr><td>160</td><td>71073</td><td>2016-04-25</td></tr><tr><td>161</td><td>73202</td><td>2016-05-26</td></tr><tr><td>162</td><td>73577</td><td>2016-05-31</td></tr><tr><td>163</td><td>72679</td><td>2016-05-18</td></tr><tr><td>163</td><td>72714</td><td>2016-05-18</td></tr><tr><td>164</td><td>72366</td><td>2016-05-13</td></tr><tr><td>165</td><td>72614</td><td>2016-05-17</td></tr><tr><td>166</td><td>73516</td><td>2016-05-31</td></tr><tr><td>167</td><td>73404</td><td>2016-05-28</td></tr><tr><td>168</td><td>72076</td><td>2016-05-09</td></tr><tr><td>168</td><td>72126</td><td>2016-05-09</td></tr><tr><td>169</td><td>73515</td><td>2016-05-31</td></tr><tr><td>170</td><td>73273</td><td>2016-05-26</td></tr><tr><td>170</td><td>73284</td><td>2016-05-26</td></tr><tr><td>171</td><td>73233</td><td>2016-05-26</td></tr><tr><td>172</td><td>73214</td><td>2016-05-26</td></tr><tr><td>173</td><td>72823</td><td>2016-05-19</td></tr><tr><td>174</td><td>71460</td><td>2016-04-29</td></tr><tr><td>174</td><td>71510</td><td>2016-04-29</td></tr><tr><td>175</td><td>73030</td><td>2016-05-24</td></tr><tr><td>176</td><td>72596</td><td>2016-05-17</td></tr><tr><td>177</td><td>73476</td><td>2016-05-30</td></tr><tr><td>178</td><td>71610</td><td>2016-05-03</td></tr><tr><td>179</td><td>72789</td><td>2016-05-19</td></tr><tr><td>180</td><td>71800</td><td>2016-05-05</td></tr><tr><td>180</td><td>71812</td><td>2016-05-05</td></tr><tr><td>181</td><td>71491</td><td>2016-04-29</td></tr><tr><td>181</td><td>71512</td><td>2016-04-29</td></tr><tr><td>182</td><td>73055</td><td>2016-05-24</td></tr><tr><td>183</td><td>73372</td><td>2016-05-27</td></tr><tr><td>184</td><td>72813</td><td>2016-05-19</td></tr><tr><td>185</td><td>73437</td><td>2016-05-30</td></tr><tr><td>186</td><td>73197</td><td>2016-05-26</td></tr><tr><td>187</td><td>73420</td><td>2016-05-28</td></tr><tr><td>188</td><td>73131</td><td>2016-05-25</td></tr><tr><td>189</td><td>72802</td><td>2016-05-19</td></tr><tr><td>190</td><td>71098</td><td>2016-04-25</td></tr><tr><td>191</td><td>72782</td><td>2016-05-19</td></tr><tr><td>192</td><td>72993</td><td>2016-05-23</td></tr><tr><td>193</td><td>72578</td><td>2016-05-16</td></tr><tr><td>194</td><td>72975</td><td>2016-05-23</td></tr><tr><td>195</td><td>73406</td><td>2016-05-28</td></tr><tr><td>195</td><td>73425</td><td>2016-05-28</td></tr><tr><td>196</td><td>73288</td><td>2016-05-27</td></tr><tr><td>197</td><td>73353</td><td>2016-05-27</td></tr><tr><td>198</td><td>73535</td><td>2016-05-31</td></tr><tr><td>199</td><td>73044</td><td>2016-05-24</td></tr><tr><td>200</td><td>71638</td><td>2016-05-03</td></tr><tr><td>200</td><td>71669</td><td>2016-05-03</td></tr><tr><td>201</td><td>72290</td><td>2016-05-12</td></tr><tr><td>401</td><td>73206</td><td>2016-05-26</td></tr><tr><td>402</td><td>72945</td><td>2016-05-21</td></tr><tr><td>403</td><td>72019</td><td>2016-05-07</td></tr><tr><td>404</td><td>73586</td><td>2016-05-31</td></tr><tr><td>405</td><td>72869</td><td>2016-05-20</td></tr><tr><td>406</td><td>73531</td><td>2016-05-31</td></tr><tr><td>407</td><td>73032</td><td>2016-05-24</td></tr><tr><td>408</td><td>72698</td><td>2016-05-18</td></tr><tr><td>409</td><td>72799</td><td>2016-05-19</td></tr><tr><td>409</td><td>72835</td><td>2016-05-19</td></tr><tr><td>410</td><td>73079</td><td>2016-05-24</td></tr><tr><td>411</td><td>73236</td><td>2016-05-26</td></tr><tr><td>411</td><td>73263</td><td>2016-05-26</td></tr><tr><td>412</td><td>72983</td><td>2016-05-23</td></tr><tr><td>413</td><td>73417</td><td>2016-05-28</td></tr><tr><td>414</td><td>72772</td><td>2016-05-19</td></tr><tr><td>415</td><td>73028</td><td>2016-05-24</td></tr><tr><td>415</td><td>73100</td><td>2016-05-24</td></tr><tr><td>416</td><td>73342</td><td>2016-05-27</td></tr><tr><td>417</td><td>73568</td><td>2016-05-31</td></tr><tr><td>417</td><td>73593</td><td>2016-05-31</td></tr><tr><td>418</td><td>73343</td><td>2016-05-27</td></tr><tr><td>419</td><td>72491</td><td>2016-05-14</td></tr><tr><td>420</td><td>72553</td><td>2016-05-16</td></tr><tr><td>421</td><td>71215</td><td>2016-04-27</td></tr><tr><td>422</td><td>72790</td><td>2016-05-19</td></tr><tr><td>423</td><td>73064</td><td>2016-05-24</td></tr><tr><td>423</td><td>73101</td><td>2016-05-24</td></tr><tr><td>424</td><td>73414</td><td>2016-05-28</td></tr><tr><td>425</td><td>73271</td><td>2016-05-26</td></tr><tr><td>426</td><td>72421</td><td>2016-05-13</td></tr><tr><td>427</td><td>73345</td><td>2016-05-27</td></tr><tr><td>428</td><td>73402</td><td>2016-05-28</td></tr><tr><td>428</td><td>73424</td><td>2016-05-28</td></tr><tr><td>429</td><td>72973</td><td>2016-05-23</td></tr><tr><td>430</td><td>72875</td><td>2016-05-20</td></tr><tr><td>430</td><td>72935</td><td>2016-05-20</td></tr><tr><td>431</td><td>72453</td><td>2016-05-13</td></tr><tr><td>432</td><td>73181</td><td>2016-05-26</td></tr><tr><td>433</td><td>72730</td><td>2016-05-19</td></tr><tr><td>434</td><td>72229</td><td>2016-05-11</td></tr><tr><td>435</td><td>72223</td><td>2016-05-11</td></tr><tr><td>435</td><td>72271</td><td>2016-05-11</td></tr><tr><td>436</td><td>73192</td><td>2016-05-26</td></tr><tr><td>436</td><td>73276</td><td>2016-05-26</td></tr><tr><td>437</td><td>73534</td><td>2016-05-31</td></tr><tr><td>438</td><td>73438</td><td>2016-05-30</td></tr><tr><td>439</td><td>73330</td><td>2016-05-27</td></tr><tr><td>440</td><td>73477</td><td>2016-05-30</td></tr><tr><td>441</td><td>72727</td><td>2016-05-19</td></tr><tr><td>442</td><td>73316</td><td>2016-05-27</td></tr><tr><td>443</td><td>73431</td><td>2016-05-30</td></tr><tr><td>444</td><td>73442</td><td>2016-05-30</td></tr><tr><td>445</td><td>73246</td><td>2016-05-26</td></tr><tr><td>446</td><td>73118</td><td>2016-05-25</td></tr><tr><td>447</td><td>71909</td><td>2016-05-06</td></tr><tr><td>448</td><td>72954</td><td>2016-05-21</td></tr><tr><td>448</td><td>72963</td><td>2016-05-21</td></tr><tr><td>449</td><td>72282</td><td>2016-05-12</td></tr><tr><td>450</td><td>73172</td><td>2016-05-26</td></tr><tr><td>451</td><td>73160</td><td>2016-05-25</td></tr><tr><td>452</td><td>72579</td><td>2016-05-16</td></tr><tr><td>453</td><td>72256</td><td>2016-05-11</td></tr><tr><td>454</td><td>72908</td><td>2016-05-20</td></tr><tr><td>455</td><td>72953</td><td>2016-05-21</td></tr><tr><td>456</td><td>73262</td><td>2016-05-26</td></tr><tr><td>457</td><td>73446</td><td>2016-05-30</td></tr><tr><td>458</td><td>73114</td><td>2016-05-25</td></tr><tr><td>459</td><td>72753</td><td>2016-05-19</td></tr><tr><td>459</td><td>72795</td><td>2016-05-19</td></tr><tr><td>460</td><td>72957</td><td>2016-05-21</td></tr><tr><td>461</td><td>73088</td><td>2016-05-24</td></tr><tr><td>462</td><td>73043</td><td>2016-05-24</td></tr><tr><td>463</td><td>71836</td><td>2016-05-05</td></tr><tr><td>464</td><td>72889</td><td>2016-05-20</td></tr><tr><td>465</td><td>72917</td><td>2016-05-20</td></tr><tr><td>466</td><td>73529</td><td>2016-05-31</td></tr><tr><td>466</td><td>73589</td><td>2016-05-31</td></tr><tr><td>467</td><td>70404</td><td>2016-04-14</td></tr><tr><td>468</td><td>73528</td><td>2016-05-31</td></tr><tr><td>469</td><td>73052</td><td>2016-05-24</td></tr><tr><td>470</td><td>73241</td><td>2016-05-26</td></tr><tr><td>471</td><td>72905</td><td>2016-05-20</td></tr><tr><td>472</td><td>73091</td><td>2016-05-24</td></tr><tr><td>473</td><td>73482</td><td>2016-05-30</td></tr><tr><td>473</td><td>73503</td><td>2016-05-30</td></tr><tr><td>474</td><td>73301</td><td>2016-05-27</td></tr><tr><td>475</td><td>73158</td><td>2016-05-25</td></tr><tr><td>476</td><td>72347</td><td>2016-05-12</td></tr><tr><td>477</td><td>73179</td><td>2016-05-26</td></tr><tr><td>478</td><td>72910</td><td>2016-05-20</td></tr><tr><td>479</td><td>73481</td><td>2016-05-30</td></tr><tr><td>480</td><td>72761</td><td>2016-05-19</td></tr><tr><td>481</td><td>73285</td><td>2016-05-27</td></tr><tr><td>482</td><td>71558</td><td>2016-05-02</td></tr><tr><td>483</td><td>73108</td><td>2016-05-25</td></tr><tr><td>484</td><td>70615</td><td>2016-04-18</td></tr><tr><td>485</td><td>72768</td><td>2016-05-19</td></tr><tr><td>485</td><td>72833</td><td>2016-05-19</td></tr><tr><td>486</td><td>73126</td><td>2016-05-25</td></tr><tr><td>487</td><td>72486</td><td>2016-05-14</td></tr><tr><td>488</td><td>73558</td><td>2016-05-31</td></tr><tr><td>489</td><td>73467</td><td>2016-05-30</td></tr><tr><td>490</td><td>73512</td><td>2016-05-31</td></tr><tr><td>491</td><td>73321</td><td>2016-05-27</td></tr><tr><td>492</td><td>73521</td><td>2016-05-31</td></tr><tr><td>493</td><td>73347</td><td>2016-05-27</td></tr><tr><td>493</td><td>73389</td><td>2016-05-27</td></tr><tr><td>494</td><td>73113</td><td>2016-05-25</td></tr><tr><td>495</td><td>72976</td><td>2016-05-23</td></tr><tr><td>496</td><td>73412</td><td>2016-05-28</td></tr><tr><td>497</td><td>72887</td><td>2016-05-20</td></tr><tr><td>498</td><td>73582</td><td>2016-05-31</td></tr><tr><td>499</td><td>72512</td><td>2016-05-14</td></tr><tr><td>500</td><td>73225</td><td>2016-05-26</td></tr><tr><td>501</td><td>73409</td><td>2016-05-28</td></tr><tr><td>502</td><td>73584</td><td>2016-05-31</td></tr><tr><td>503</td><td>71329</td><td>2016-04-28</td></tr><tr><td>503</td><td>71372</td><td>2016-04-28</td></tr><tr><td>503</td><td>71397</td><td>2016-04-28</td></tr><tr><td>504</td><td>73230</td><td>2016-05-26</td></tr><tr><td>505</td><td>73142</td><td>2016-05-25</td></tr><tr><td>506</td><td>73240</td><td>2016-05-26</td></tr><tr><td>506</td><td>73254</td><td>2016-05-26</td></tr><tr><td>506</td><td>73280</td><td>2016-05-26</td></tr><tr><td>507</td><td>72912</td><td>2016-05-20</td></tr><tr><td>507</td><td>72941</td><td>2016-05-20</td></tr><tr><td>508</td><td>72744</td><td>2016-05-19</td></tr><tr><td>509</td><td>73296</td><td>2016-05-27</td></tr><tr><td>510</td><td>73428</td><td>2016-05-30</td></tr><tr><td>511</td><td>73156</td><td>2016-05-25</td></tr><tr><td>512</td><td>72201</td><td>2016-05-11</td></tr><tr><td>513</td><td>72107</td><td>2016-05-09</td></tr><tr><td>514</td><td>73396</td><td>2016-05-28</td></tr><tr><td>515</td><td>72966</td><td>2016-05-23</td></tr><tr><td>516</td><td>73174</td><td>2016-05-26</td></tr><tr><td>516</td><td>73228</td><td>2016-05-26</td></tr><tr><td>517</td><td>71185</td><td>2016-04-26</td></tr><tr><td>518</td><td>72690</td><td>2016-05-18</td></tr><tr><td>518</td><td>72715</td><td>2016-05-18</td></tr><tr><td>519</td><td>72677</td><td>2016-05-18</td></tr><tr><td>520</td><td>72947</td><td>2016-05-21</td></tr><tr><td>521</td><td>72886</td><td>2016-05-20</td></tr><tr><td>522</td><td>72233</td><td>2016-05-11</td></tr><tr><td>523</td><td>72316</td><td>2016-05-12</td></tr><tr><td>524</td><td>73162</td><td>2016-05-25</td></tr><tr><td>525</td><td>72322</td><td>2016-05-12</td></tr><tr><td>526</td><td>72136</td><td>2016-05-10</td></tr><tr><td>527</td><td>72821</td><td>2016-05-19</td></tr><tr><td>528</td><td>72393</td><td>2016-05-13</td></tr><tr><td>529</td><td>73346</td><td>2016-05-27</td></tr><tr><td>530</td><td>72997</td><td>2016-05-23</td></tr><tr><td>530</td><td>73022</td><td>2016-05-23</td></tr><tr><td>531</td><td>73496</td><td>2016-05-30</td></tr><tr><td>532</td><td>73533</td><td>2016-05-31</td></tr><tr><td>532</td><td>73590</td><td>2016-05-31</td></tr><tr><td>533</td><td>72602</td><td>2016-05-17</td></tr><tr><td>534</td><td>73178</td><td>2016-05-26</td></tr><tr><td>535</td><td>72923</td><td>2016-05-20</td></tr><tr><td>536</td><td>73313</td><td>2016-05-27</td></tr><tr><td>536</td><td>73314</td><td>2016-05-27</td></tr><tr><td>537</td><td>73141</td><td>2016-05-25</td></tr><tr><td>538</td><td>73337</td><td>2016-05-27</td></tr><tr><td>539</td><td>71983</td><td>2016-05-06</td></tr><tr><td>540</td><td>73188</td><td>2016-05-26</td></tr><tr><td>541</td><td>73147</td><td>2016-05-25</td></tr><tr><td>542</td><td>72494</td><td>2016-05-14</td></tr><tr><td>543</td><td>73211</td><td>2016-05-26</td></tr><tr><td>544</td><td>73205</td><td>2016-05-26</td></tr><tr><td>545</td><td>73327</td><td>2016-05-27</td></tr><tr><td>546</td><td>73080</td><td>2016-05-24</td></tr><tr><td>546</td><td>73104</td><td>2016-05-24</td></tr><tr><td>547</td><td>72450</td><td>2016-05-13</td></tr><tr><td>548</td><td>73444</td><td>2016-05-30</td></tr><tr><td>549</td><td>73490</td><td>2016-05-30</td></tr><tr><td>550</td><td>73067</td><td>2016-05-24</td></tr><tr><td>551</td><td>73566</td><td>2016-05-31</td></tr><tr><td>552</td><td>73572</td><td>2016-05-31</td></tr><tr><td>552</td><td>73594</td><td>2016-05-31</td></tr><tr><td>553</td><td>71885</td><td>2016-05-05</td></tr><tr><td>554</td><td>73352</td><td>2016-05-27</td></tr><tr><td>555</td><td>72926</td><td>2016-05-20</td></tr><tr><td>556</td><td>72852</td><td>2016-05-20</td></tr><tr><td>557</td><td>73186</td><td>2016-05-26</td></tr><tr><td>558</td><td>73329</td><td>2016-05-27</td></tr><tr><td>559</td><td>73200</td><td>2016-05-26</td></tr><tr><td>560</td><td>73449</td><td>2016-05-30</td></tr><tr><td>561</td><td>73177</td><td>2016-05-26</td></tr><tr><td>561</td><td>73266</td><td>2016-05-26</td></tr><tr><td>562</td><td>73373</td><td>2016-05-27</td></tr><tr><td>563</td><td>72893</td><td>2016-05-20</td></tr><tr><td>563</td><td>72938</td><td>2016-05-20</td></tr><tr><td>564</td><td>72897</td><td>2016-05-20</td></tr><tr><td>565</td><td>72718</td><td>2016-05-19</td></tr><tr><td>566</td><td>72564</td><td>2016-05-16</td></tr><tr><td>567</td><td>73427</td><td>2016-05-30</td></tr><tr><td>568</td><td>73121</td><td>2016-05-25</td></tr><tr><td>569</td><td>73317</td><td>2016-05-27</td></tr><tr><td>570</td><td>73545</td><td>2016-05-31</td></tr><tr><td>570</td><td>73559</td><td>2016-05-31</td></tr><tr><td>571</td><td>71649</td><td>2016-05-03</td></tr><tr><td>572</td><td>72876</td><td>2016-05-20</td></tr><tr><td>572</td><td>72880</td><td>2016-05-20</td></tr><tr><td>572</td><td>72936</td><td>2016-05-20</td></tr><tr><td>573</td><td>71356</td><td>2016-04-28</td></tr><tr><td>574</td><td>73567</td><td>2016-05-31</td></tr><tr><td>575</td><td>71951</td><td>2016-05-06</td></tr><tr><td>576</td><td>73459</td><td>2016-05-30</td></tr><tr><td>577</td><td>73478</td><td>2016-05-30</td></tr><tr><td>578</td><td>73245</td><td>2016-05-26</td></tr><tr><td>579</td><td>73399</td><td>2016-05-28</td></tr><tr><td>580</td><td>71982</td><td>2016-05-06</td></tr><tr><td>581</td><td>73093</td><td>2016-05-24</td></tr><tr><td>582</td><td>73523</td><td>2016-05-31</td></tr><tr><td>583</td><td>72776</td><td>2016-05-19</td></tr><tr><td>584</td><td>73569</td><td>2016-05-31</td></tr><tr><td>585</td><td>72411</td><td>2016-05-13</td></tr><tr><td>586</td><td>73525</td><td>2016-05-31</td></tr><tr><td>587</td><td>73433</td><td>2016-05-30</td></tr><tr><td>588</td><td>71765</td><td>2016-05-04</td></tr><tr><td>589</td><td>71698</td><td>2016-05-04</td></tr><tr><td>590</td><td>72644</td><td>2016-05-18</td></tr><tr><td>591</td><td>73152</td><td>2016-05-25</td></tr><tr><td>592</td><td>72883</td><td>2016-05-20</td></tr><tr><td>593</td><td>73397</td><td>2016-05-28</td></tr><tr><td>594</td><td>72898</td><td>2016-05-20</td></tr><tr><td>595</td><td>73474</td><td>2016-05-30</td></tr><tr><td>596</td><td>73506</td><td>2016-05-31</td></tr><tr><td>596</td><td>73562</td><td>2016-05-31</td></tr><tr><td>597</td><td>73180</td><td>2016-05-26</td></tr><tr><td>597</td><td>73189</td><td>2016-05-26</td></tr><tr><td>598</td><td>73173</td><td>2016-05-26</td></tr><tr><td>599</td><td>71330</td><td>2016-04-28</td></tr><tr><td>600</td><td>73054</td><td>2016-05-24</td></tr><tr><td>601</td><td>72967</td><td>2016-05-23</td></tr><tr><td>801</td><td>73451</td><td>2016-05-30</td></tr><tr><td>802</td><td>73551</td><td>2016-05-31</td></tr><tr><td>803</td><td>71924</td><td>2016-05-06</td></tr><tr><td>804</td><td>73264</td><td>2016-05-26</td></tr><tr><td>804</td><td>73283</td><td>2016-05-26</td></tr><tr><td>805</td><td>72485</td><td>2016-05-14</td></tr><tr><td>806</td><td>73164</td><td>2016-05-25</td></tr><tr><td>807</td><td>72251</td><td>2016-05-11</td></tr><tr><td>808</td><td>72522</td><td>2016-05-16</td></tr><tr><td>809</td><td>71181</td><td>2016-04-26</td></tr><tr><td>810</td><td>73546</td><td>2016-05-31</td></tr><tr><td>811</td><td>70662</td><td>2016-04-18</td></tr><tr><td>812</td><td>72562</td><td>2016-05-16</td></tr><tr><td>813</td><td>73518</td><td>2016-05-31</td></tr><tr><td>814</td><td>72818</td><td>2016-05-19</td></tr><tr><td>815</td><td>71517</td><td>2016-04-30</td></tr><tr><td>816</td><td>71423</td><td>2016-04-29</td></tr><tr><td>817</td><td>73300</td><td>2016-05-27</td></tr><tr><td>818</td><td>72982</td><td>2016-05-23</td></tr><tr><td>819</td><td>71754</td><td>2016-05-04</td></tr><tr><td>820</td><td>72651</td><td>2016-05-18</td></tr><tr><td>820</td><td>72707</td><td>2016-05-18</td></tr><tr><td>821</td><td>73359</td><td>2016-05-27</td></tr><tr><td>821</td><td>73391</td><td>2016-05-27</td></tr><tr><td>822</td><td>73541</td><td>2016-05-31</td></tr><tr><td>823</td><td>73092</td><td>2016-05-24</td></tr><tr><td>824</td><td>73338</td><td>2016-05-27</td></tr><tr><td>825</td><td>72531</td><td>2016-05-16</td></tr><tr><td>826</td><td>73489</td><td>2016-05-30</td></tr><tr><td>827</td><td>73555</td><td>2016-05-31</td></tr><tr><td>828</td><td>73319</td><td>2016-05-27</td></tr><tr><td>829</td><td>73430</td><td>2016-05-30</td></tr><tr><td>829</td><td>73498</td><td>2016-05-30</td></tr><tr><td>830</td><td>72487</td><td>2016-05-14</td></tr><tr><td>831</td><td>73036</td><td>2016-05-24</td></tr><tr><td>832</td><td>73293</td><td>2016-05-27</td></tr><tr><td>832</td><td>73379</td><td>2016-05-27</td></tr><tr><td>833</td><td>71774</td><td>2016-05-04</td></tr><tr><td>834</td><td>73491</td><td>2016-05-30</td></tr><tr><td>835</td><td>73540</td><td>2016-05-31</td></tr><tr><td>836</td><td>73243</td><td>2016-05-26</td></tr><tr><td>837</td><td>73253</td><td>2016-05-26</td></tr><tr><td>838</td><td>73574</td><td>2016-05-31</td></tr><tr><td>839</td><td>71862</td><td>2016-05-05</td></tr><tr><td>840</td><td>73548</td><td>2016-05-31</td></tr><tr><td>841</td><td>72098</td><td>2016-05-09</td></tr><tr><td>842</td><td>72907</td><td>2016-05-20</td></tr><tr><td>843</td><td>72743</td><td>2016-05-19</td></tr><tr><td>844</td><td>73046</td><td>2016-05-24</td></tr><tr><td>845</td><td>72611</td><td>2016-05-17</td></tr><tr><td>845</td><td>72617</td><td>2016-05-17</td></tr><tr><td>846</td><td>72376</td><td>2016-05-13</td></tr><tr><td>847</td><td>73445</td><td>2016-05-30</td></tr><tr><td>848</td><td>73493</td><td>2016-05-30</td></tr><tr><td>849</td><td>73357</td><td>2016-05-27</td></tr><tr><td>849</td><td>73390</td><td>2016-05-27</td></tr><tr><td>850</td><td>73224</td><td>2016-05-26</td></tr><tr><td>851</td><td>73155</td><td>2016-05-25</td></tr><tr><td>852</td><td>72523</td><td>2016-05-16</td></tr><tr><td>853</td><td>73440</td><td>2016-05-30</td></tr><tr><td>854</td><td>72733</td><td>2016-05-19</td></tr><tr><td>854</td><td>72756</td><td>2016-05-19</td></tr><tr><td>854</td><td>72820</td><td>2016-05-19</td></tr><tr><td>854</td><td>72829</td><td>2016-05-19</td></tr><tr><td>855</td><td>72036</td><td>2016-05-07</td></tr><tr><td>856</td><td>73549</td><td>2016-05-31</td></tr><tr><td>857</td><td>72985</td><td>2016-05-23</td></tr><tr><td>858</td><td>72724</td><td>2016-05-19</td></tr><tr><td>859</td><td>72687</td><td>2016-05-18</td></tr><tr><td>860</td><td>73563</td><td>2016-05-31</td></tr><tr><td>861</td><td>73038</td><td>2016-05-24</td></tr><tr><td>862</td><td>73461</td><td>2016-05-30</td></tr><tr><td>863</td><td>73122</td><td>2016-05-25</td></tr><tr><td>863</td><td>73169</td><td>2016-05-25</td></tr><tr><td>864</td><td>71551</td><td>2016-05-02</td></tr><tr><td>865</td><td>72754</td><td>2016-05-19</td></tr><tr><td>865</td><td>72832</td><td>2016-05-19</td></tr><tr><td>866</td><td>73040</td><td>2016-05-24</td></tr><tr><td>867</td><td>73418</td><td>2016-05-28</td></tr><tr><td>868</td><td>73136</td><td>2016-05-25</td></tr><tr><td>869</td><td>72420</td><td>2016-05-13</td></tr><tr><td>869</td><td>72463</td><td>2016-05-13</td></tr><tr><td>870</td><td>72339</td><td>2016-05-12</td></tr><tr><td>871</td><td>72625</td><td>2016-05-17</td></tr><tr><td>872</td><td>72809</td><td>2016-05-19</td></tr><tr><td>873</td><td>73495</td><td>2016-05-30</td></tr><tr><td>874</td><td>73468</td><td>2016-05-30</td></tr><tr><td>875</td><td>73421</td><td>2016-05-28</td></tr><tr><td>876</td><td>72984</td><td>2016-05-23</td></tr><tr><td>876</td><td>73019</td><td>2016-05-23</td></tr><tr><td>877</td><td>73068</td><td>2016-05-24</td></tr><tr><td>878</td><td>72099</td><td>2016-05-09</td></tr><tr><td>879</td><td>71944</td><td>2016-05-06</td></tr><tr><td>880</td><td>72375</td><td>2016-05-13</td></tr><tr><td>881</td><td>72597</td><td>2016-05-17</td></tr><tr><td>882</td><td>73248</td><td>2016-05-26</td></tr><tr><td>883</td><td>72995</td><td>2016-05-23</td></tr><tr><td>884</td><td>73150</td><td>2016-05-25</td></tr><tr><td>885</td><td>73371</td><td>2016-05-27</td></tr><tr><td>886</td><td>72254</td><td>2016-05-11</td></tr><tr><td>887</td><td>73116</td><td>2016-05-25</td></tr><tr><td>887</td><td>73144</td><td>2016-05-25</td></tr><tr><td>888</td><td>73071</td><td>2016-05-24</td></tr><tr><td>889</td><td>72493</td><td>2016-05-14</td></tr><tr><td>890</td><td>73311</td><td>2016-05-27</td></tr><tr><td>890</td><td>73384</td><td>2016-05-27</td></tr><tr><td>891</td><td>73581</td><td>2016-05-31</td></tr><tr><td>892</td><td>71459</td><td>2016-04-29</td></tr><tr><td>892</td><td>71509</td><td>2016-04-29</td></tr><tr><td>893</td><td>71962</td><td>2016-05-06</td></tr><tr><td>894</td><td>72968</td><td>2016-05-23</td></tr><tr><td>895</td><td>73537</td><td>2016-05-31</td></tr><tr><td>896</td><td>73120</td><td>2016-05-25</td></tr><tr><td>896</td><td>73157</td><td>2016-05-25</td></tr><tr><td>897</td><td>73325</td><td>2016-05-27</td></tr><tr><td>898</td><td>71475</td><td>2016-04-29</td></tr><tr><td>899</td><td>73366</td><td>2016-05-27</td></tr><tr><td>900</td><td>73510</td><td>2016-05-31</td></tr><tr><td>900</td><td>73527</td><td>2016-05-31</td></tr><tr><td>901</td><td>73422</td><td>2016-05-28</td></tr><tr><td>902</td><td>72992</td><td>2016-05-23</td></tr><tr><td>903</td><td>72972</td><td>2016-05-23</td></tr><tr><td>904</td><td>73235</td><td>2016-05-26</td></tr><tr><td>905</td><td>69549</td><td>2016-03-31</td></tr><tr><td>905</td><td>69588</td><td>2016-03-31</td></tr><tr><td>906</td><td>73070</td><td>2016-05-24</td></tr><tr><td>907</td><td>73463</td><td>2016-05-30</td></tr><tr><td>908</td><td>72858</td><td>2016-05-20</td></tr><tr><td>909</td><td>72615</td><td>2016-05-17</td></tr><tr><td>910</td><td>73511</td><td>2016-05-31</td></tr><tr><td>911</td><td>73583</td><td>2016-05-31</td></tr><tr><td>912</td><td>73344</td><td>2016-05-27</td></tr><tr><td>913</td><td>73076</td><td>2016-05-24</td></tr><tr><td>914</td><td>72014</td><td>2016-05-07</td></tr><tr><td>915</td><td>73520</td><td>2016-05-31</td></tr><tr><td>915</td><td>73576</td><td>2016-05-31</td></tr><tr><td>915</td><td>73588</td><td>2016-05-31</td></tr><tr><td>916</td><td>72427</td><td>2016-05-13</td></tr><tr><td>917</td><td>72593</td><td>2016-05-17</td></tr><tr><td>918</td><td>72308</td><td>2016-05-12</td></tr><tr><td>919</td><td>73532</td><td>2016-05-31</td></tr><tr><td>920</td><td>72848</td><td>2016-05-20</td></tr><tr><td>921</td><td>72503</td><td>2016-05-14</td></tr><tr><td>922</td><td>72239</td><td>2016-05-11</td></tr><tr><td>923</td><td>72449</td><td>2016-05-13</td></tr><tr><td>924</td><td>71430</td><td>2016-04-29</td></tr><tr><td>925</td><td>73508</td><td>2016-05-31</td></tr><tr><td>926</td><td>72530</td><td>2016-05-16</td></tr><tr><td>927</td><td>73492</td><td>2016-05-30</td></tr><tr><td>928</td><td>72255</td><td>2016-05-11</td></tr><tr><td>929</td><td>73475</td><td>2016-05-30</td></tr><tr><td>930</td><td>73403</td><td>2016-05-28</td></tr><tr><td>931</td><td>73258</td><td>2016-05-26</td></tr><tr><td>932</td><td>71150</td><td>2016-04-26</td></tr><tr><td>933</td><td>73514</td><td>2016-05-31</td></tr><tr><td>934</td><td>72600</td><td>2016-05-17</td></tr><tr><td>935</td><td>73244</td><td>2016-05-26</td></tr><tr><td>935</td><td>73279</td><td>2016-05-26</td></tr><tr><td>936</td><td>70650</td><td>2016-04-18</td></tr><tr><td>937</td><td>73509</td><td>2016-05-31</td></tr><tr><td>938</td><td>72520</td><td>2016-05-16</td></tr><tr><td>939</td><td>73328</td><td>2016-05-27</td></tr><tr><td>940</td><td>73460</td><td>2016-05-30</td></tr><tr><td>941</td><td>72766</td><td>2016-05-19</td></tr><tr><td>942</td><td>72364</td><td>2016-05-13</td></tr><tr><td>943</td><td>71692</td><td>2016-05-04</td></tr><tr><td>944</td><td>72664</td><td>2016-05-18</td></tr><tr><td>945</td><td>73436</td><td>2016-05-30</td></tr><tr><td>946</td><td>70739</td><td>2016-04-19</td></tr><tr><td>947</td><td>72557</td><td>2016-05-16</td></tr><tr><td>948</td><td>73143</td><td>2016-05-25</td></tr><tr><td>949</td><td>73176</td><td>2016-05-26</td></tr><tr><td>950</td><td>73221</td><td>2016-05-26</td></tr><tr><td>950</td><td>73278</td><td>2016-05-26</td></tr><tr><td>951</td><td>73060</td><td>2016-05-24</td></tr><tr><td>952</td><td>72570</td><td>2016-05-16</td></tr><tr><td>953</td><td>73580</td><td>2016-05-31</td></tr><tr><td>954</td><td>72801</td><td>2016-05-19</td></tr><tr><td>955</td><td>72850</td><td>2016-05-20</td></tr><tr><td>956</td><td>73484</td><td>2016-05-30</td></tr><tr><td>957</td><td>70796</td><td>2016-04-19</td></tr><tr><td>958</td><td>71853</td><td>2016-05-05</td></tr><tr><td>959</td><td>73450</td><td>2016-05-30</td></tr><tr><td>960</td><td>71571</td><td>2016-05-02</td></tr><tr><td>961</td><td>73456</td><td>2016-05-30</td></tr><tr><td>962</td><td>72567</td><td>2016-05-16</td></tr><tr><td>963</td><td>73448</td><td>2016-05-30</td></tr><tr><td>963</td><td>73500</td><td>2016-05-30</td></tr><tr><td>964</td><td>72998</td><td>2016-05-23</td></tr><tr><td>965</td><td>73307</td><td>2016-05-27</td></tr><tr><td>966</td><td>73497</td><td>2016-05-30</td></tr><tr><td>967</td><td>73550</td><td>2016-05-31</td></tr><tr><td>967</td><td>73570</td><td>2016-05-31</td></tr><tr><td>968</td><td>72824</td><td>2016-05-19</td></tr><tr><td>969</td><td>71119</td><td>2016-04-26</td></tr><tr><td>970</td><td>72433</td><td>2016-05-13</td></tr><tr><td>971</td><td>73066</td><td>2016-05-24</td></tr><tr><td>972</td><td>73571</td><td>2016-05-31</td></tr><tr><td>973</td><td>70792</td><td>2016-04-19</td></tr><tr><td>974</td><td>73303</td><td>2016-05-27</td></tr><tr><td>974</td><td>73381</td><td>2016-05-27</td></tr><tr><td>975</td><td>73539</td><td>2016-05-31</td></tr><tr><td>976</td><td>72951</td><td>2016-05-21</td></tr><tr><td>977</td><td>73348</td><td>2016-05-27</td></tr><tr><td>978</td><td>73526</td><td>2016-05-31</td></tr><tr><td>979</td><td>71447</td><td>2016-04-29</td></tr><tr><td>980</td><td>72906</td><td>2016-05-20</td></tr><tr><td>981</td><td>72779</td><td>2016-05-19</td></tr><tr><td>982</td><td>72840</td><td>2016-05-20</td></tr><tr><td>982</td><td>72845</td><td>2016-05-20</td></tr><tr><td>983</td><td>73579</td><td>2016-05-31</td></tr><tr><td>984</td><td>72639</td><td>2016-05-18</td></tr><tr><td>985</td><td>73324</td><td>2016-05-27</td></tr><tr><td>986</td><td>73553</td><td>2016-05-31</td></tr><tr><td>987</td><td>73488</td><td>2016-05-30</td></tr><tr><td>988</td><td>73259</td><td>2016-05-26</td></tr><tr><td>989</td><td>73524</td><td>2016-05-31</td></tr><tr><td>990</td><td>73153</td><td>2016-05-25</td></tr><tr><td>991</td><td>73193</td><td>2016-05-26</td></tr><tr><td>992</td><td>72771</td><td>2016-05-19</td></tr><tr><td>993</td><td>73439</td><td>2016-05-30</td></tr><tr><td>994</td><td>73190</td><td>2016-05-26</td></tr><tr><td>995</td><td>73560</td><td>2016-05-31</td></tr><tr><td>996</td><td>73294</td><td>2016-05-27</td></tr><tr><td>997</td><td>72777</td><td>2016-05-19</td></tr><tr><td>998</td><td>70840</td><td>2016-04-20</td></tr><tr><td>999</td><td>72345</td><td>2016-05-12</td></tr><tr><td>1000</td><td>73419</td><td>2016-05-28</td></tr><tr><td>1001</td><td>73212</td><td>2016-05-26</td></tr><tr><td>1001</td><td>73256</td><td>2016-05-26</td></tr><tr><td>1001</td><td>73282</td><td>2016-05-26</td></tr><tr><td>1002</td><td>73339</td><td>2016-05-27</td></tr><tr><td>1003</td><td>72662</td><td>2016-05-18</td></tr><tr><td>1004</td><td>73464</td><td>2016-05-30</td></tr><tr><td>1005</td><td>72446</td><td>2016-05-13</td></tr><tr><td>1006</td><td>72179</td><td>2016-05-11</td></tr><tr><td>1006</td><td>72206</td><td>2016-05-11</td></tr><tr><td>1006</td><td>72265</td><td>2016-05-11</td></tr><tr><td>1006</td><td>72277</td><td>2016-05-11</td></tr><tr><td>1007</td><td>73355</td><td>2016-05-27</td></tr><tr><td>1008</td><td>72109</td><td>2016-05-09</td></tr><tr><td>1009</td><td>71908</td><td>2016-05-06</td></tr><tr><td>1009</td><td>71972</td><td>2016-05-06</td></tr><tr><td>1010</td><td>73458</td><td>2016-05-30</td></tr><tr><td>1011</td><td>72870</td><td>2016-05-20</td></tr><tr><td>1012</td><td>73377</td><td>2016-05-27</td></tr><tr><td>1013</td><td>73130</td><td>2016-05-25</td></tr><tr><td>1014</td><td>73552</td><td>2016-05-31</td></tr><tr><td>1015</td><td>73554</td><td>2016-05-31</td></tr><tr><td>1016</td><td>73310</td><td>2016-05-27</td></tr><tr><td>1016</td><td>73383</td><td>2016-05-27</td></tr><tr><td>1017</td><td>71534</td><td>2016-04-30</td></tr><tr><td>1018</td><td>73517</td><td>2016-05-31</td></tr><tr><td>1018</td><td>73578</td><td>2016-05-31</td></tr><tr><td>1018</td><td>73587</td><td>2016-05-31</td></tr><tr><td>1019</td><td>73184</td><td>2016-05-26</td></tr><tr><td>1020</td><td>72097</td><td>2016-05-09</td></tr><tr><td>1021</td><td>73216</td><td>2016-05-26</td></tr><tr><td>1022</td><td>72374</td><td>2016-05-13</td></tr><tr><td>1022</td><td>72402</td><td>2016-05-13</td></tr><tr><td>1023</td><td>72638</td><td>2016-05-18</td></tr><tr><td>1024</td><td>73198</td><td>2016-05-26</td></tr><tr><td>1025</td><td>73536</td><td>2016-05-31</td></tr><tr><td>1026</td><td>72892</td><td>2016-05-20</td></tr><tr><td>1027</td><td>72373</td><td>2016-05-13</td></tr><tr><td>1028</td><td>73544</td><td>2016-05-31</td></tr><tr><td>1028</td><td>73592</td><td>2016-05-31</td></tr><tr><td>1029</td><td>73057</td><td>2016-05-24</td></tr><tr><td>1030</td><td>70875</td><td>2016-04-21</td></tr><tr><td>1031</td><td>73291</td><td>2016-05-27</td></tr><tr><td>1032</td><td>71544</td><td>2016-05-02</td></tr><tr><td>1032</td><td>71584</td><td>2016-05-02</td></tr><tr><td>1033</td><td>73194</td><td>2016-05-26</td></tr><tr><td>1033</td><td>73277</td><td>2016-05-26</td></tr><tr><td>1034</td><td>73175</td><td>2016-05-26</td></tr><tr><td>1034</td><td>73274</td><td>2016-05-26</td></tr><tr><td>1035</td><td>73049</td><td>2016-05-24</td></tr><tr><td>1036</td><td>73400</td><td>2016-05-28</td></tr><tr><td>1037</td><td>72981</td><td>2016-05-23</td></tr><tr><td>1038</td><td>73349</td><td>2016-05-27</td></tr><tr><td>1039</td><td>73196</td><td>2016-05-26</td></tr><tr><td>1040</td><td>73471</td><td>2016-05-30</td></tr><tr><td>1041</td><td>73133</td><td>2016-05-25</td></tr><tr><td>1042</td><td>72084</td><td>2016-05-09</td></tr><tr><td>1043</td><td>73003</td><td>2016-05-23</td></tr><tr><td>1044</td><td>72506</td><td>2016-05-14</td></tr><tr><td>1044</td><td>72517</td><td>2016-05-14</td></tr><tr><td>1045</td><td>72618</td><td>2016-05-17</td></tr><tr><td>1046</td><td>73362</td><td>2016-05-27</td></tr><tr><td>1047</td><td>73111</td><td>2016-05-25</td></tr><tr><td>1048</td><td>73312</td><td>2016-05-27</td></tr><tr><td>1049</td><td>72260</td><td>2016-05-11</td></tr><tr><td>1050</td><td>72492</td><td>2016-05-14</td></tr><tr><td>1050</td><td>72516</td><td>2016-05-14</td></tr><tr><td>1051</td><td>73401</td><td>2016-05-28</td></tr><tr><td>1052</td><td>73351</td><td>2016-05-27</td></tr><tr><td>1053</td><td>73556</td><td>2016-05-31</td></tr><tr><td>1054</td><td>73462</td><td>2016-05-30</td></tr><tr><td>1055</td><td>73318</td><td>2016-05-27</td></tr><tr><td>1055</td><td>73336</td><td>2016-05-27</td></tr><tr><td>1055</td><td>73386</td><td>2016-05-27</td></tr><tr><td>1056</td><td>72694</td><td>2016-05-18</td></tr><tr><td>1057</td><td>73368</td><td>2016-05-27</td></tr><tr><td>1057</td><td>73394</td><td>2016-05-27</td></tr><tr><td>1058</td><td>73222</td><td>2016-05-26</td></tr><tr><td>1059</td><td>73453</td><td>2016-05-30</td></tr><tr><td>1060</td><td>73081</td><td>2016-05-24</td></tr><tr><td>1061</td><td>73340</td><td>2016-05-27</td></tr><tr><td>1061</td><td>73350</td><td>2016-05-27</td></tr><tr><td>1061</td><td>73356</td><td>2016-05-27</td></tr></table>"
                    },
                    "metadata": {}
                }
            ],
            "execution_count": 9
        },
        {
            "cell_type": "code",
            "source": [
                "\n",
                "--6: Find all order lines in which the unit price of a product is higher than its own historical average price, then display the first 10 records for review.\n",
                "\n",
                "SELECT TOP (10)\n",
                "       ol.OrderID,\n",
                "       ol.StockItemID,\n",
                "       ol.UnitPrice\n",
                "FROM Sales.OrderLines AS ol\n",
                "WHERE ol.UnitPrice >\n",
                "      (SELECT AVG(ol2.UnitPrice)\n",
                "       FROM Sales.OrderLines AS ol2\n",
                "       WHERE ol2.StockItemID = ol.StockItemID)\n",
                "ORDER BY ol.StockItemID, ol.OrderID; \n",
                "\n",
                "\n",
                ""
            ],
            "metadata": {
                "language": "sql",
                "azdata_cell_guid": "bf4faef0-1e3f-4e00-af41-60d6e1f59e0c"
            },
            "outputs": [
                {
                    "output_type": "display_data",
                    "data": {
                        "text/html": "(10 rows affected)"
                    },
                    "metadata": {}
                },
                {
                    "output_type": "display_data",
                    "data": {
                        "text/html": "Total execution time: 00:00:00.117"
                    },
                    "metadata": {}
                },
                {
                    "output_type": "execute_result",
                    "execution_count": 4,
                    "data": {
                        "application/vnd.dataresource+json": {
                            "schema": {
                                "fields": [
                                    {
                                        "name": "OrderID"
                                    },
                                    {
                                        "name": "StockItemID"
                                    },
                                    {
                                        "name": "UnitPrice"
                                    }
                                ]
                            },
                            "data": [
                                {
                                    "OrderID": "104",
                                    "StockItemID": "1",
                                    "UnitPrice": "25.00"
                                },
                                {
                                    "OrderID": "157",
                                    "StockItemID": "1",
                                    "UnitPrice": "25.00"
                                },
                                {
                                    "OrderID": "180",
                                    "StockItemID": "1",
                                    "UnitPrice": "25.00"
                                },
                                {
                                    "OrderID": "289",
                                    "StockItemID": "1",
                                    "UnitPrice": "25.00"
                                },
                                {
                                    "OrderID": "406",
                                    "StockItemID": "1",
                                    "UnitPrice": "25.00"
                                },
                                {
                                    "OrderID": "487",
                                    "StockItemID": "1",
                                    "UnitPrice": "25.00"
                                },
                                {
                                    "OrderID": "491",
                                    "StockItemID": "1",
                                    "UnitPrice": "25.00"
                                },
                                {
                                    "OrderID": "731",
                                    "StockItemID": "1",
                                    "UnitPrice": "25.00"
                                },
                                {
                                    "OrderID": "824",
                                    "StockItemID": "1",
                                    "UnitPrice": "25.00"
                                },
                                {
                                    "OrderID": "828",
                                    "StockItemID": "1",
                                    "UnitPrice": "25.00"
                                }
                            ]
                        },
                        "text/html": "<table><tr><th>OrderID</th><th>StockItemID</th><th>UnitPrice</th></tr><tr><td>104</td><td>1</td><td>25.00</td></tr><tr><td>157</td><td>1</td><td>25.00</td></tr><tr><td>180</td><td>1</td><td>25.00</td></tr><tr><td>289</td><td>1</td><td>25.00</td></tr><tr><td>406</td><td>1</td><td>25.00</td></tr><tr><td>487</td><td>1</td><td>25.00</td></tr><tr><td>491</td><td>1</td><td>25.00</td></tr><tr><td>731</td><td>1</td><td>25.00</td></tr><tr><td>824</td><td>1</td><td>25.00</td></tr><tr><td>828</td><td>1</td><td>25.00</td></tr></table>"
                    },
                    "metadata": {}
                }
            ],
            "execution_count": 4
        },
        {
            "cell_type": "code",
            "source": [
                "-- Q7: Customers with orders in 2014 but not in 2015 (EXISTS + NOT EXISTS)\n",
                "-- Year-in / Year-out comparison using subqueries\n",
                "\n",
                "\n",
                "\n",
                "SELECT TOP (15)\n",
                "       c.CustomerID,\n",
                "       c.CustomerName\n",
                "FROM Sales.Customers AS c\n",
                "WHERE EXISTS (\n",
                "    SELECT 1\n",
                "    FROM Sales.Orders AS o\n",
                "    WHERE o.CustomerID = c.CustomerID\n",
                "      AND o.OrderDate >= '20140101' AND o.OrderDate < '20150101'\n",
                ")\n",
                "AND NOT EXISTS (\n",
                "    SELECT 1\n",
                "    FROM Sales.Orders AS o\n",
                "    WHERE o.CustomerID = c.CustomerID\n",
                "      AND o.OrderDate >= '20150101' AND o.OrderDate < '20160101'\n",
                ")\n",
                "ORDER BY c.CustomerID;\n",
                ""
            ],
            "metadata": {
                "language": "sql",
                "azdata_cell_guid": "3f5edd5b-1760-49a7-8872-7634e874e98a",
                "tags": []
            },
            "outputs": [
                {
                    "output_type": "display_data",
                    "data": {
                        "text/html": "(0 rows affected)"
                    },
                    "metadata": {}
                },
                {
                    "output_type": "display_data",
                    "data": {
                        "text/html": "Total execution time: 00:00:00.102"
                    },
                    "metadata": {}
                },
                {
                    "output_type": "execute_result",
                    "metadata": {},
                    "execution_count": 3,
                    "data": {
                        "application/vnd.dataresource+json": {
                            "schema": {
                                "fields": [
                                    {
                                        "name": "CustomerID"
                                    },
                                    {
                                        "name": "CustomerName"
                                    }
                                ]
                            },
                            "data": []
                        },
                        "text/html": [
                            "<table>",
                            "<tr><th>CustomerID</th><th>CustomerName</th></tr>",
                            "</table>"
                        ]
                    }
                }
            ],
            "execution_count": 3
        },
        {
            "cell_type": "code",
            "source": [
                "--8: Derived table (inline aliasing) — distinct customers per year, keep busy years\n",
                "--Proposition: Count distinct customers per order year and keep only years with more than 70 unique customers.\n",
                "--Why table expression: lets us name orderyear once and reuse it in GROUP BY/SELECT.\n",
                "\n",
                "SELECT D.orderyear,\n",
                "COUNT(DISTINCT D.CustomerID) AS num_customers\n",
                "FROM (\n",
                "  SELECT YEAR(o.OrderDate) AS orderyear,\n",
                "  o.CustomerID\n",
                "  FROM Sales.Orders AS o\n",
                ") AS D\n",
                "GROUP BY D.orderyear\n",
                "HAVING COUNT(DISTINCT D.CustomerID) > 70\n",
                "ORDER BY D.orderyear;\n",
                ""
            ],
            "metadata": {
                "language": "sql",
                "azdata_cell_guid": "29339d5f-a40c-406e-af15-520b38b39f60"
            },
            "outputs": [
                {
                    "output_type": "display_data",
                    "data": {
                        "text/html": "(4 rows affected)"
                    },
                    "metadata": {}
                },
                {
                    "output_type": "display_data",
                    "data": {
                        "text/html": "Total execution time: 00:00:00.045"
                    },
                    "metadata": {}
                },
                {
                    "output_type": "execute_result",
                    "execution_count": 11,
                    "data": {
                        "application/vnd.dataresource+json": {
                            "schema": {
                                "fields": [
                                    {
                                        "name": "orderyear"
                                    },
                                    {
                                        "name": "num_customers"
                                    }
                                ]
                            },
                            "data": [
                                {
                                    "orderyear": "2013",
                                    "num_customers": "625"
                                },
                                {
                                    "orderyear": "2014",
                                    "num_customers": "640"
                                },
                                {
                                    "orderyear": "2015",
                                    "num_customers": "657"
                                },
                                {
                                    "orderyear": "2016",
                                    "num_customers": "663"
                                }
                            ]
                        },
                        "text/html": "<table><tr><th>orderyear</th><th>num_customers</th></tr><tr><td>2013</td><td>625</td></tr><tr><td>2014</td><td>640</td></tr><tr><td>2015</td><td>657</td></tr><tr><td>2016</td><td>663</td></tr></table>"
                    },
                    "metadata": {}
                }
            ],
            "execution_count": 11
        },
        {
            "cell_type": "code",
            "source": [
                "--9) CTE chain (multiple CTEs, cleaner than nested derived tables)\n",
                "\n",
                "--Proposition: Same as Q8, but with two CTEs—first extract (orderyear, CustomerID), then aggregate.\n",
                "--Why CTEs: modular, readable; you can chain CTEs with commas.\n",
                "\n",
                "\n",
                "WITH C1 AS (\n",
                "  SELECT YEAR(o.OrderDate) AS orderyear,\n",
                "  o.CustomerID\n",
                "  FROM Sales.Orders AS o\n",
                "),\n",
                "C2 AS (\n",
                "  SELECT orderyear,\n",
                "  COUNT(DISTINCT CustomerID) AS num_customers\n",
                "  FROM C1\n",
                "  GROUP BY orderyear\n",
                ")\n",
                "SELECT orderyear, num_customers\n",
                "FROM C2\n",
                "WHERE num_customers > 70\n",
                "ORDER BY orderyear;\n",
                "\n",
                "\n",
                ""
            ],
            "metadata": {
                "language": "sql",
                "azdata_cell_guid": "f3e62f43-1334-44b2-8cf0-1bace2a7019c",
                "tags": []
            },
            "outputs": [
                {
                    "output_type": "display_data",
                    "data": {
                        "text/html": "(4 rows affected)"
                    },
                    "metadata": {}
                },
                {
                    "output_type": "display_data",
                    "data": {
                        "text/html": "Total execution time: 00:00:00.050"
                    },
                    "metadata": {}
                },
                {
                    "output_type": "execute_result",
                    "execution_count": 10,
                    "data": {
                        "application/vnd.dataresource+json": {
                            "schema": {
                                "fields": [
                                    {
                                        "name": "orderyear"
                                    },
                                    {
                                        "name": "num_customers"
                                    }
                                ]
                            },
                            "data": [
                                {
                                    "orderyear": "2013",
                                    "num_customers": "625"
                                },
                                {
                                    "orderyear": "2014",
                                    "num_customers": "640"
                                },
                                {
                                    "orderyear": "2015",
                                    "num_customers": "657"
                                },
                                {
                                    "orderyear": "2016",
                                    "num_customers": "663"
                                }
                            ]
                        },
                        "text/html": "<table><tr><th>orderyear</th><th>num_customers</th></tr><tr><td>2013</td><td>625</td></tr><tr><td>2014</td><td>640</td></tr><tr><td>2015</td><td>657</td></tr><tr><td>2016</td><td>663</td></tr></table>"
                    },
                    "metadata": {}
                }
            ],
            "execution_count": 10
        },
        {
            "cell_type": "code",
            "source": [
                "-- 10: List all delivery methods defined in the system (Application.DeliveryMethods)\n",
                "--     that have never been used in any invoice (Sales.Invoices).\n",
                "USE WideWorldImporters;\n",
                "SELECT \n",
                "    dm.DeliveryMethodID,\n",
                "    dm.DeliveryMethodName\n",
                "FROM \n",
                "    Application.DeliveryMethods AS dm\n",
                "WHERE \n",
                "    NOT EXISTS (\n",
                "        SELECT 1\n",
                "        FROM Sales.Invoices AS i\n",
                "        WHERE i.DeliveryMethodID = dm.DeliveryMethodID\n",
                "    )\n",
                "ORDER BY \n",
                "    dm.DeliveryMethodID;\n",
                ""
            ],
            "metadata": {
                "azdata_cell_guid": "8993dd05-af5d-41b2-b0c3-64609a267e0d",
                "language": "sql"
            },
            "outputs": [
                {
                    "output_type": "display_data",
                    "data": {
                        "text/html": "(9 rows affected)"
                    },
                    "metadata": {}
                },
                {
                    "output_type": "display_data",
                    "data": {
                        "text/html": "Total execution time: 00:00:00.322"
                    },
                    "metadata": {}
                },
                {
                    "output_type": "execute_result",
                    "execution_count": 1,
                    "data": {
                        "application/vnd.dataresource+json": {
                            "schema": {
                                "fields": [
                                    {
                                        "name": "DeliveryMethodID"
                                    },
                                    {
                                        "name": "DeliveryMethodName"
                                    }
                                ]
                            },
                            "data": [
                                {
                                    "DeliveryMethodID": "1",
                                    "DeliveryMethodName": "Post"
                                },
                                {
                                    "DeliveryMethodID": "2",
                                    "DeliveryMethodName": "Courier"
                                },
                                {
                                    "DeliveryMethodID": "4",
                                    "DeliveryMethodName": "Customer Collect"
                                },
                                {
                                    "DeliveryMethodID": "5",
                                    "DeliveryMethodName": "Chilled Van"
                                },
                                {
                                    "DeliveryMethodID": "6",
                                    "DeliveryMethodName": "Customer Courier to Collect"
                                },
                                {
                                    "DeliveryMethodID": "7",
                                    "DeliveryMethodName": "Road Freight"
                                },
                                {
                                    "DeliveryMethodID": "8",
                                    "DeliveryMethodName": "Air Freight"
                                },
                                {
                                    "DeliveryMethodID": "9",
                                    "DeliveryMethodName": "Refrigerated Road Freight"
                                },
                                {
                                    "DeliveryMethodID": "10",
                                    "DeliveryMethodName": "Refrigerated Air Freight"
                                }
                            ]
                        },
                        "text/html": "<table><tr><th>DeliveryMethodID</th><th>DeliveryMethodName</th></tr><tr><td>1</td><td>Post</td></tr><tr><td>2</td><td>Courier</td></tr><tr><td>4</td><td>Customer Collect</td></tr><tr><td>5</td><td>Chilled Van</td></tr><tr><td>6</td><td>Customer Courier to Collect</td></tr><tr><td>7</td><td>Road Freight</td></tr><tr><td>8</td><td>Air Freight</td></tr><tr><td>9</td><td>Refrigerated Road Freight</td></tr><tr><td>10</td><td>Refrigerated Air Freight</td></tr></table>"
                    },
                    "metadata": {}
                }
            ],
            "execution_count": 1
        }
    ]
}
