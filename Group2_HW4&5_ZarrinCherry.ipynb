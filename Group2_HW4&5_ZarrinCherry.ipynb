{
 "cells": [
  {
   "cell_type": "markdown",
   "id": "3ee2ec59",
   "metadata": {},
   "source": [
    "# CSCI 331 — HW 4 & 5 (Subqueries & Table Expressions)\n",
    "\n",
    "**Database:** WideWorldImporters  \n",
    "**Student:** Zarrin Cherry | **Group:** 2  \n",
    "\n",
    "This notebook includes:\n",
    "- The exact SQL for 10 propositions\n",
    "- A brief observation about what I saw when executing in DBeaver\n",
    "- A screenshot of the **actual result** under each query for GitHub preview\n",
    "\n",
    "_Generated: 2025-10-10 20:56:03_\n"
   ]
  },
  {
   "cell_type": "markdown",
   "id": "32dc3499",
   "metadata": {},
   "source": [
    "## Proposition 1 — NOT EXISTS: customers with no orders in 2015\n",
    "\n",
    "**Observation:** Non-empty: I see ~6 customers — these had zero orders in 2015."
   ]
  },
  {
   "cell_type": "markdown",
   "id": "25c49507",
   "metadata": {},
   "source": [
    "```sql\n",
    "SELECT C.CustomerID, C.CustomerName\n",
    "FROM Sales.Customers AS C\n",
    "WHERE NOT EXISTS\n",
    "(\n",
    "    SELECT 1\n",
    "    FROM Sales.Orders AS O\n",
    "    WHERE O.CustomerID = C.CustomerID\n",
    "      AND O.OrderDate >= '20150101' AND O.OrderDate < '20160101'\n",
    ");\n",
    "```"
   ]
  },
  {
   "cell_type": "markdown",
   "id": "b39950d6",
   "metadata": {},
   "source": [
    "**Execution Result (screenshot):**\n",
    "\n",
    "![](/mnt/data/E9962937-B73D-4A6A-9B20-930107D721F5.jpeg)"
   ]
  },
  {
   "cell_type": "markdown",
   "id": "6d58a2e0",
   "metadata": {},
   "source": [
    "## Proposition 2 — Scalar subquery: orders above that customer’s average\n",
    "\n",
    "**Observation:** Non-empty: many orders exceeded the customer’s own average."
   ]
  },
  {
   "cell_type": "markdown",
   "id": "fff13bd1",
   "metadata": {},
   "source": [
    "```sql\n",
    "SELECT O.OrderID, O.CustomerID,\n",
    "       SUM(OL.UnitPrice * OL.Quantity) AS OrderTotal\n",
    "FROM Sales.Orders AS O\n",
    "JOIN Sales.OrderLines AS OL\n",
    "  ON OL.OrderID = O.OrderID\n",
    "GROUP BY O.OrderID, O.CustomerID\n",
    "HAVING SUM(OL.UnitPrice * OL.Quantity) >\n",
    "(\n",
    "    SELECT AVG(T.OrderTotal)\n",
    "    FROM (\n",
    "        SELECT O2.OrderID, SUM(OL2.UnitPrice * OL2.Quantity) AS OrderTotal\n",
    "        FROM Sales.Orders AS O2\n",
    "        JOIN Sales.OrderLines AS OL2 ON OL2.OrderID = O2.OrderID\n",
    "        WHERE O2.CustomerID = O.CustomerID\n",
    "        GROUP BY O2.OrderID\n",
    "    ) AS T\n",
    ");\n",
    "```"
   ]
  },
  {
   "cell_type": "markdown",
   "id": "2b67b014",
   "metadata": {},
   "source": [
    "**Execution Result (screenshot):**\n",
    "\n",
    "![](/mnt/data/E0B7CE21-ECFA-4A0D-8BFD-7912D70CC462.jpeg)"
   ]
  },
  {
   "cell_type": "markdown",
   "id": "947a845f",
   "metadata": {},
   "source": [
    "## Proposition 3 — Double NOT EXISTS (relational division): suppliers who supplied every color\n",
    "\n",
    "**Observation:** EMPTY: no supplier supplied every color."
   ]
  },
  {
   "cell_type": "markdown",
   "id": "e163b990",
   "metadata": {},
   "source": [
    "```sql\n",
    "SELECT S.SupplierID, S.SupplierName\n",
    "FROM Purchasing.Suppliers AS S\n",
    "WHERE NOT EXISTS\n",
    "(\n",
    "    SELECT DISTINCT SI.ColorID\n",
    "    FROM Warehouse.StockItems AS SI\n",
    "    WHERE SI.ColorID IS NOT NULL\n",
    "    AND NOT EXISTS\n",
    "    (\n",
    "        SELECT 1\n",
    "        FROM Purchasing.PurchaseOrderLines AS POL\n",
    "        JOIN Purchasing.PurchaseOrders AS PO\n",
    "          ON PO.PurchaseOrderID = POL.PurchaseOrderID\n",
    "        WHERE PO.SupplierID = S.SupplierID\n",
    "          AND POL.StockItemID IN (SELECT SI2.StockItemID FROM Warehouse.StockItems AS SI2 WHERE SI2.ColorID = SI.ColorID)\n",
    "    )\n",
    ");\n",
    "```"
   ]
  },
  {
   "cell_type": "markdown",
   "id": "23b5b8ff",
   "metadata": {},
   "source": [
    "**Execution Result (screenshot):**\n",
    "\n",
    "![](/mnt/data/6526FE91-EE54-4510-B472-A5945D3F2480.jpeg)"
   ]
  },
  {
   "cell_type": "markdown",
   "id": "75f23982",
   "metadata": {},
   "source": [
    "## Proposition 4 — Correlated subqueries: last order per customer\n",
    "\n",
    "**Observation:** Non-empty: one row per customer showing latest order."
   ]
  },
  {
   "cell_type": "markdown",
   "id": "bbe92ba9",
   "metadata": {},
   "source": [
    "```sql\n",
    "SELECT O.CustomerID, O.OrderID, O.OrderDate\n",
    "FROM Sales.Orders AS O\n",
    "WHERE O.OrderDate =\n",
    "(\n",
    "    SELECT TOP (1) O2.OrderDate\n",
    "    FROM Sales.Orders AS O2\n",
    "    WHERE O2.CustomerID = O.CustomerID\n",
    "    ORDER BY O2.OrderDate DESC, O2.OrderID DESC\n",
    ")\n",
    "AND O.OrderID =\n",
    "(\n",
    "    SELECT TOP (1) O3.OrderID\n",
    "    FROM Sales.Orders AS O3\n",
    "    WHERE O3.CustomerID = O.CustomerID\n",
    "    ORDER BY O3.OrderDate DESC, O3.OrderID DESC\n",
    ");\n",
    "```"
   ]
  },
  {
   "cell_type": "markdown",
   "id": "796e159f",
   "metadata": {},
   "source": [
    "**Execution Result (screenshot):**\n",
    "\n",
    "![](/mnt/data/2088A287-86CD-4F41-A9A4-0A2CDA5098E9.jpeg)"
   ]
  },
  {
   "cell_type": "markdown",
   "id": "3668f7c5",
   "metadata": {},
   "source": [
    "## Proposition 5 — CTEs: cities with more customers than suppliers\n",
    "\n",
    "**Observation:** Non-empty: cities where NumCustomers > NumSuppliers."
   ]
  },
  {
   "cell_type": "markdown",
   "id": "a8a66352",
   "metadata": {},
   "source": [
    "```sql\n",
    "WITH CustCounts AS\n",
    "(\n",
    "    SELECT DeliveryCityID AS CityID, COUNT(*) AS NumCustomers\n",
    "    FROM Sales.Customers\n",
    "    GROUP BY DeliveryCityID\n",
    "),\n",
    "SuppCounts AS\n",
    "(\n",
    "    SELECT DeliveryCityID AS CityID, COUNT(*) AS NumSuppliers\n",
    "    FROM Purchasing.Suppliers\n",
    "    GROUP BY DeliveryCityID\n",
    ")\n",
    "SELECT COALESCE(c.CityID, s.CityID) AS CityID,\n",
    "       COALESCE(c.NumCustomers, 0) AS NumCustomers,\n",
    "       COALESCE(s.NumSuppliers, 0) AS NumSuppliers\n",
    "FROM CustCounts AS c\n",
    "FULL JOIN SuppCounts AS s\n",
    "  ON s.CityID = c.CityID\n",
    "WHERE COALESCE(c.NumCustomers, 0) > COALESCE(s.NumSuppliers, 0);\n",
    "```"
   ]
  },
  {
   "cell_type": "markdown",
   "id": "d1c49f57",
   "metadata": {},
   "source": [
    "**Execution Result (screenshot):**\n",
    "\n",
    "![](/mnt/data/F1701899-E399-4154-AA15-4F8B6F808821.jpeg)"
   ]
  },
  {
   "cell_type": "markdown",
   "id": "92fd8e85",
   "metadata": {},
   "source": [
    "## Proposition 6 — CROSS APPLY: top 1 most expensive line per order\n",
    "\n",
    "**Observation:** Non-empty: exactly one most-expensive line per order."
   ]
  },
  {
   "cell_type": "markdown",
   "id": "36a4b367",
   "metadata": {},
   "source": [
    "```sql\n",
    "SELECT O.OrderID, A.StockItemID, A.UnitPrice, A.Quantity, A.LineProfit\n",
    "FROM Sales.Orders AS O\n",
    "CROSS APPLY\n",
    "(\n",
    "    SELECT TOP (1)\n",
    "           OL.StockItemID,\n",
    "           OL.UnitPrice,\n",
    "           OL.Quantity,\n",
    "           (OL.UnitPrice * OL.Quantity) AS LineProfit\n",
    "    FROM Sales.OrderLines AS OL\n",
    "    WHERE OL.OrderID = O.OrderID\n",
    "    ORDER BY (OL.UnitPrice * OL.Quantity) DESC, OL.OrderLineID DESC\n",
    ") AS A;\n",
    "```"
   ]
  },
  {
   "cell_type": "markdown",
   "id": "d9b0ce32",
   "metadata": {},
   "source": [
    "**Execution Result (screenshot):**\n",
    "\n",
    "![](/mnt/data/CA228888-52C8-4509-B9C5-97BEA5718E55.jpeg)"
   ]
  },
  {
   "cell_type": "markdown",
   "id": "e86fc66b",
   "metadata": {},
   "source": [
    "## Proposition 7 — OUTER APPLY: first invoice per customer (include customers with none)\n",
    "\n",
    "**Observation:** Non-empty overall; customers without invoices would show NULLs."
   ]
  },
  {
   "cell_type": "markdown",
   "id": "1b20ab5e",
   "metadata": {},
   "source": [
    "```sql\n",
    "SELECT C.CustomerID, C.CustomerName, A.InvoiceID, A.InvoiceDate\n",
    "FROM Sales.Customers AS C\n",
    "OUTER APPLY\n",
    "(\n",
    "    SELECT TOP (1) I.InvoiceID, I.InvoiceDate\n",
    "    FROM Sales.Invoices AS I\n",
    "    WHERE I.CustomerID = C.CustomerID\n",
    "    ORDER BY I.InvoiceDate ASC, I.InvoiceID ASC\n",
    ") AS A;\n",
    "```"
   ]
  },
  {
   "cell_type": "markdown",
   "id": "e1b13963",
   "metadata": {},
   "source": [
    "**Execution Result (screenshot):**\n",
    "\n",
    "![](/mnt/data/0F63FB03-1A6D-4D55-A555-CBF90B51A4F5.jpeg)"
   ]
  },
  {
   "cell_type": "markdown",
   "id": "fdf31d76",
   "metadata": {},
   "source": [
    "## Proposition 8 — EXISTS + NOT EXISTS: items with warehouse activity but never sold\n",
    "\n",
    "**Observation:** EMPTY: every item with warehouse activity was sold at least once."
   ]
  },
  {
   "cell_type": "markdown",
   "id": "440bb06c",
   "metadata": {},
   "source": [
    "```sql\n",
    "SELECT SI.StockItemID, SI.StockItemName\n",
    "FROM Warehouse.StockItems AS SI\n",
    "WHERE EXISTS\n",
    "(\n",
    "    SELECT 1\n",
    "    FROM Warehouse.StockItemTransactions AS T\n",
    "    WHERE T.StockItemID = SI.StockItemID\n",
    ")\n",
    "AND NOT EXISTS\n",
    "(\n",
    "    SELECT 1\n",
    "    FROM Sales.InvoiceLines AS IL\n",
    "    WHERE IL.StockItemID = SI.StockItemID\n",
    ");\n",
    "```"
   ]
  },
  {
   "cell_type": "markdown",
   "id": "2c6229d8",
   "metadata": {},
   "source": [
    "**Execution Result (screenshot):**\n",
    "\n",
    "![](/mnt/data/81E1C7A0-2D46-4C11-A12C-967B870A9D51.jpeg)"
   ]
  },
  {
   "cell_type": "markdown",
   "id": "e2465c6a",
   "metadata": {},
   "source": [
    "## Proposition 9 — Nested NOT EXISTS: countries where every customer placed ≥ 1 order\n",
    "\n",
    "**Observation:** Non-empty: list of countries where all customers have ≥ 1 order."
   ]
  },
  {
   "cell_type": "markdown",
   "id": "a3ffcc7d",
   "metadata": {},
   "source": [
    "```sql\n",
    "SELECT Ctry.CountryName\n",
    "FROM Application.Countries AS Ctry\n",
    "WHERE NOT EXISTS\n",
    "(\n",
    "    SELECT 1\n",
    "    FROM Sales.Customers AS C\n",
    "    JOIN Application.Cities AS Ci\n",
    "      ON Ci.CityID = C.DeliveryCityID\n",
    "    JOIN Application.StateProvinces AS SP\n",
    "      ON SP.StateProvinceID = Ci.StateProvinceID\n",
    "    WHERE SP.CountryID = Ctry.CountryID\n",
    "      AND NOT EXISTS (SELECT 1 FROM Sales.Orders AS O WHERE O.CustomerID = C.CustomerID)\n",
    ");\n",
    "```"
   ]
  },
  {
   "cell_type": "markdown",
   "id": "959bf536",
   "metadata": {},
   "source": [
    "**Execution Result (screenshot):**\n",
    "\n",
    "![](/mnt/data/76AE1C20-82CB-42C0-AB63-C4EFEBE69B02.jpeg)"
   ]
  },
  {
   "cell_type": "markdown",
   "id": "d56703e4",
   "metadata": {},
   "source": [
    "## Proposition 10 — Derived table + APPLY: 3 most recent orders per customer with totals\n",
    "\n",
    "**Observation:** Non-empty: up to three latest orders per customer with totals."
   ]
  },
  {
   "cell_type": "markdown",
   "id": "cedde104",
   "metadata": {},
   "source": [
    "```sql\n",
    "SELECT C.CustomerID, C.CustomerName, A.OrderID, A.OrderDate, A.OrderTotal\n",
    "FROM Sales.Customers AS C\n",
    "CROSS APPLY\n",
    "(\n",
    "    SELECT TOP (3) O.OrderID, O.OrderDate,\n",
    "           (\n",
    "               SELECT SUM(OL.UnitPrice * OL.Quantity)\n",
    "               FROM Sales.OrderLines AS OL\n",
    "               WHERE OL.OrderID = O.OrderID\n",
    "           ) AS OrderTotal\n",
    "    FROM Sales.Orders AS O\n",
    "    WHERE O.CustomerID = C.CustomerID\n",
    "    ORDER BY O.OrderDate DESC, O.OrderID DESC\n",
    ") AS A\n",
    "ORDER BY C.CustomerID, A.OrderDate DESC, A.OrderID DESC;\n",
    "```"
   ]
  },
  {
   "cell_type": "markdown",
   "id": "c7b7037c",
   "metadata": {},
   "source": [
    "**Execution Result (screenshot):**\n",
    "\n",
    "![](/mnt/data/109991DC-D07A-4B89-BDEA-34B82E9BFF8C.jpeg)"
   ]
  }
 ],
 "metadata": {},
 "nbformat": 4,
 "nbformat_minor": 5
}
